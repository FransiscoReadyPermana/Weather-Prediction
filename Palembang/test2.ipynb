{
 "cells": [
  {
   "cell_type": "code",
   "execution_count": 6,
   "metadata": {},
   "outputs": [],
   "source": [
    "import numpy as np\n",
    "import pandas as pd\n",
    "import matplotlib.pyplot as plt\n",
    "import seaborn as sns\n",
    "\n",
    "from sklearn.model_selection import train_test_split\n",
    "from sklearn.pipeline import Pipeline\n",
    "from sklearn.compose import ColumnTransformer\n",
    "\n",
    "from jcopml.pipeline import num_pipe, cat_pipe\n",
    "from jcopml.utils import save_model, load_model\n",
    "from jcopml.plot import plot_missing_value\n",
    "from jcopml.feature_importance import mean_score_decrease"
   ]
  },
  {
   "cell_type": "code",
   "execution_count": 7,
   "metadata": {},
   "outputs": [
    {
     "data": {
      "text/html": [
       "<div>\n",
       "<style scoped>\n",
       "    .dataframe tbody tr th:only-of-type {\n",
       "        vertical-align: middle;\n",
       "    }\n",
       "\n",
       "    .dataframe tbody tr th {\n",
       "        vertical-align: top;\n",
       "    }\n",
       "\n",
       "    .dataframe thead th {\n",
       "        text-align: right;\n",
       "    }\n",
       "</style>\n",
       "<table border=\"1\" class=\"dataframe\">\n",
       "  <thead>\n",
       "    <tr style=\"text-align: right;\">\n",
       "      <th></th>\n",
       "      <th>NamaStasiun</th>\n",
       "      <th>WMOID</th>\n",
       "      <th>Tanggal</th>\n",
       "      <th>SuhuMinimum(°C)</th>\n",
       "      <th>SuhuMaksimum(°C)</th>\n",
       "      <th>SuhuRata-rata(°C)</th>\n",
       "      <th>KelembabanRata-rata(%)</th>\n",
       "      <th>CurahHujan(mm)</th>\n",
       "      <th>LamaPenyinaran(jam)</th>\n",
       "      <th>Kecepata AnginRata-rata(knot)</th>\n",
       "      <th>ArahAnginTerbanyak(deg)</th>\n",
       "      <th>KecepatanAnginTerbesar(knot)</th>\n",
       "      <th>ArahAnginSaatKecepatanMaksimum(deg)</th>\n",
       "    </tr>\n",
       "  </thead>\n",
       "  <tbody>\n",
       "    <tr>\n",
       "      <th>0</th>\n",
       "      <td>Stasiun Meteorologi Sultan Mahmud Badaruddin II</td>\n",
       "      <td>96221</td>\n",
       "      <td>2014-01-01</td>\n",
       "      <td>24.2</td>\n",
       "      <td>28.4</td>\n",
       "      <td>26.3</td>\n",
       "      <td>89</td>\n",
       "      <td>1.3</td>\n",
       "      <td>0.6</td>\n",
       "      <td>8</td>\n",
       "      <td>NW</td>\n",
       "      <td>8</td>\n",
       "      <td>315</td>\n",
       "    </tr>\n",
       "    <tr>\n",
       "      <th>1</th>\n",
       "      <td>Stasiun Meteorologi Sultan Mahmud Badaruddin II</td>\n",
       "      <td>96221</td>\n",
       "      <td>2014-01-02</td>\n",
       "      <td>24.1</td>\n",
       "      <td>30.4</td>\n",
       "      <td>26.6</td>\n",
       "      <td>88</td>\n",
       "      <td>0.0</td>\n",
       "      <td>1.8</td>\n",
       "      <td>8</td>\n",
       "      <td>N</td>\n",
       "      <td>8</td>\n",
       "      <td>315</td>\n",
       "    </tr>\n",
       "    <tr>\n",
       "      <th>2</th>\n",
       "      <td>Stasiun Meteorologi Sultan Mahmud Badaruddin II</td>\n",
       "      <td>96221</td>\n",
       "      <td>2014-01-03</td>\n",
       "      <td>23.3</td>\n",
       "      <td>30.6</td>\n",
       "      <td>26.5</td>\n",
       "      <td>88</td>\n",
       "      <td>1.2</td>\n",
       "      <td>1.0</td>\n",
       "      <td>7</td>\n",
       "      <td>NW</td>\n",
       "      <td>7</td>\n",
       "      <td>315</td>\n",
       "    </tr>\n",
       "    <tr>\n",
       "      <th>3</th>\n",
       "      <td>Stasiun Meteorologi Sultan Mahmud Badaruddin II</td>\n",
       "      <td>96221</td>\n",
       "      <td>2014-01-04</td>\n",
       "      <td>23.0</td>\n",
       "      <td>31.4</td>\n",
       "      <td>26.9</td>\n",
       "      <td>85</td>\n",
       "      <td>1.8</td>\n",
       "      <td>0.0</td>\n",
       "      <td>8</td>\n",
       "      <td>NW</td>\n",
       "      <td>8</td>\n",
       "      <td>270</td>\n",
       "    </tr>\n",
       "    <tr>\n",
       "      <th>4</th>\n",
       "      <td>Stasiun Meteorologi Sultan Mahmud Badaruddin II</td>\n",
       "      <td>96221</td>\n",
       "      <td>2014-01-05</td>\n",
       "      <td>23.0</td>\n",
       "      <td>31.0</td>\n",
       "      <td>26.2</td>\n",
       "      <td>84</td>\n",
       "      <td>3.1</td>\n",
       "      <td>1.2</td>\n",
       "      <td>8</td>\n",
       "      <td>NW</td>\n",
       "      <td>8</td>\n",
       "      <td>315</td>\n",
       "    </tr>\n",
       "  </tbody>\n",
       "</table>\n",
       "</div>"
      ],
      "text/plain": [
       "                                      NamaStasiun   WMOID    Tanggal  \\\n",
       "0  Stasiun Meteorologi Sultan Mahmud Badaruddin II  96221 2014-01-01   \n",
       "1  Stasiun Meteorologi Sultan Mahmud Badaruddin II  96221 2014-01-02   \n",
       "2  Stasiun Meteorologi Sultan Mahmud Badaruddin II  96221 2014-01-03   \n",
       "3  Stasiun Meteorologi Sultan Mahmud Badaruddin II  96221 2014-01-04   \n",
       "4  Stasiun Meteorologi Sultan Mahmud Badaruddin II  96221 2014-01-05   \n",
       "\n",
       "   SuhuMinimum(°C)  SuhuMaksimum(°C)  SuhuRata-rata(°C)  \\\n",
       "0             24.2              28.4               26.3   \n",
       "1             24.1              30.4               26.6   \n",
       "2             23.3              30.6               26.5   \n",
       "3             23.0              31.4               26.9   \n",
       "4             23.0              31.0               26.2   \n",
       "\n",
       "   KelembabanRata-rata(%)  CurahHujan(mm)  LamaPenyinaran(jam)  \\\n",
       "0                      89             1.3                  0.6   \n",
       "1                      88             0.0                  1.8   \n",
       "2                      88             1.2                  1.0   \n",
       "3                      85             1.8                  0.0   \n",
       "4                      84             3.1                  1.2   \n",
       "\n",
       "   Kecepata AnginRata-rata(knot) ArahAnginTerbanyak(deg)  \\\n",
       "0                              8                      NW   \n",
       "1                              8                      N    \n",
       "2                              7                      NW   \n",
       "3                              8                      NW   \n",
       "4                              8                      NW   \n",
       "\n",
       "   KecepatanAnginTerbesar(knot)  ArahAnginSaatKecepatanMaksimum(deg)  \n",
       "0                             8                                  315  \n",
       "1                             8                                  315  \n",
       "2                             7                                  315  \n",
       "3                             8                                  270  \n",
       "4                             8                                  315  "
      ]
     },
     "execution_count": 7,
     "metadata": {},
     "output_type": "execute_result"
    }
   ],
   "source": [
    "df = pd.read_excel(\"data/laporan_iklim_harian.xlsx\", parse_dates=[\"Tanggal\"])\n",
    "df.head()"
   ]
  },
  {
   "cell_type": "code",
   "execution_count": 8,
   "metadata": {},
   "outputs": [],
   "source": [
    "df.drop(['NamaStasiun ', 'WMOID', 'SuhuMinimum(°C)', 'SuhuMaksimum(°C)', 'ArahAnginSaatKecepatanMaksimum(deg)'], axis=1, inplace=True)"
   ]
  },
  {
   "cell_type": "code",
   "execution_count": 9,
   "metadata": {},
   "outputs": [
    {
     "data": {
      "text/html": [
       "<div>\n",
       "<style scoped>\n",
       "    .dataframe tbody tr th:only-of-type {\n",
       "        vertical-align: middle;\n",
       "    }\n",
       "\n",
       "    .dataframe tbody tr th {\n",
       "        vertical-align: top;\n",
       "    }\n",
       "\n",
       "    .dataframe thead th {\n",
       "        text-align: right;\n",
       "    }\n",
       "</style>\n",
       "<table border=\"1\" class=\"dataframe\">\n",
       "  <thead>\n",
       "    <tr style=\"text-align: right;\">\n",
       "      <th></th>\n",
       "      <th>Tanggal</th>\n",
       "      <th>SuhuRata-rata(°C)</th>\n",
       "      <th>KelembabanRata-rata(%)</th>\n",
       "      <th>CurahHujan(mm)</th>\n",
       "      <th>LamaPenyinaran(jam)</th>\n",
       "      <th>Kecepata AnginRata-rata(knot)</th>\n",
       "      <th>ArahAnginTerbanyak(deg)</th>\n",
       "      <th>KecepatanAnginTerbesar(knot)</th>\n",
       "    </tr>\n",
       "  </thead>\n",
       "  <tbody>\n",
       "    <tr>\n",
       "      <th>0</th>\n",
       "      <td>2014-01-01</td>\n",
       "      <td>26.3</td>\n",
       "      <td>89</td>\n",
       "      <td>1.3</td>\n",
       "      <td>0.6</td>\n",
       "      <td>8</td>\n",
       "      <td>NW</td>\n",
       "      <td>8</td>\n",
       "    </tr>\n",
       "    <tr>\n",
       "      <th>1</th>\n",
       "      <td>2014-01-02</td>\n",
       "      <td>26.6</td>\n",
       "      <td>88</td>\n",
       "      <td>0.0</td>\n",
       "      <td>1.8</td>\n",
       "      <td>8</td>\n",
       "      <td>N</td>\n",
       "      <td>8</td>\n",
       "    </tr>\n",
       "    <tr>\n",
       "      <th>2</th>\n",
       "      <td>2014-01-03</td>\n",
       "      <td>26.5</td>\n",
       "      <td>88</td>\n",
       "      <td>1.2</td>\n",
       "      <td>1.0</td>\n",
       "      <td>7</td>\n",
       "      <td>NW</td>\n",
       "      <td>7</td>\n",
       "    </tr>\n",
       "    <tr>\n",
       "      <th>3</th>\n",
       "      <td>2014-01-04</td>\n",
       "      <td>26.9</td>\n",
       "      <td>85</td>\n",
       "      <td>1.8</td>\n",
       "      <td>0.0</td>\n",
       "      <td>8</td>\n",
       "      <td>NW</td>\n",
       "      <td>8</td>\n",
       "    </tr>\n",
       "    <tr>\n",
       "      <th>4</th>\n",
       "      <td>2014-01-05</td>\n",
       "      <td>26.2</td>\n",
       "      <td>84</td>\n",
       "      <td>3.1</td>\n",
       "      <td>1.2</td>\n",
       "      <td>8</td>\n",
       "      <td>NW</td>\n",
       "      <td>8</td>\n",
       "    </tr>\n",
       "  </tbody>\n",
       "</table>\n",
       "</div>"
      ],
      "text/plain": [
       "     Tanggal  SuhuRata-rata(°C)  KelembabanRata-rata(%)  CurahHujan(mm)  \\\n",
       "0 2014-01-01               26.3                      89             1.3   \n",
       "1 2014-01-02               26.6                      88             0.0   \n",
       "2 2014-01-03               26.5                      88             1.2   \n",
       "3 2014-01-04               26.9                      85             1.8   \n",
       "4 2014-01-05               26.2                      84             3.1   \n",
       "\n",
       "   LamaPenyinaran(jam)  Kecepata AnginRata-rata(knot) ArahAnginTerbanyak(deg)  \\\n",
       "0                  0.6                              8                      NW   \n",
       "1                  1.8                              8                      N    \n",
       "2                  1.0                              7                      NW   \n",
       "3                  0.0                              8                      NW   \n",
       "4                  1.2                              8                      NW   \n",
       "\n",
       "   KecepatanAnginTerbesar(knot)  \n",
       "0                             8  \n",
       "1                             8  \n",
       "2                             7  \n",
       "3                             8  \n",
       "4                             8  "
      ]
     },
     "execution_count": 9,
     "metadata": {},
     "output_type": "execute_result"
    }
   ],
   "source": [
    "df.head()"
   ]
  },
  {
   "cell_type": "code",
   "execution_count": 10,
   "metadata": {},
   "outputs": [],
   "source": [
    "tanggal = df.Tanggal.dt"
   ]
  },
  {
   "cell_type": "code",
   "execution_count": 11,
   "metadata": {},
   "outputs": [],
   "source": [
    "df[\"bulan\"] = tanggal.month"
   ]
  },
  {
   "cell_type": "code",
   "execution_count": 12,
   "metadata": {},
   "outputs": [
    {
     "data": {
      "text/html": [
       "<div>\n",
       "<style scoped>\n",
       "    .dataframe tbody tr th:only-of-type {\n",
       "        vertical-align: middle;\n",
       "    }\n",
       "\n",
       "    .dataframe tbody tr th {\n",
       "        vertical-align: top;\n",
       "    }\n",
       "\n",
       "    .dataframe thead th {\n",
       "        text-align: right;\n",
       "    }\n",
       "</style>\n",
       "<table border=\"1\" class=\"dataframe\">\n",
       "  <thead>\n",
       "    <tr style=\"text-align: right;\">\n",
       "      <th></th>\n",
       "      <th>Tanggal</th>\n",
       "      <th>SuhuRata-rata(°C)</th>\n",
       "      <th>KelembabanRata-rata(%)</th>\n",
       "      <th>CurahHujan(mm)</th>\n",
       "      <th>LamaPenyinaran(jam)</th>\n",
       "      <th>Kecepata AnginRata-rata(knot)</th>\n",
       "      <th>ArahAnginTerbanyak(deg)</th>\n",
       "      <th>KecepatanAnginTerbesar(knot)</th>\n",
       "      <th>bulan</th>\n",
       "    </tr>\n",
       "  </thead>\n",
       "  <tbody>\n",
       "    <tr>\n",
       "      <th>0</th>\n",
       "      <td>2014-01-01</td>\n",
       "      <td>26.3</td>\n",
       "      <td>89</td>\n",
       "      <td>1.3</td>\n",
       "      <td>0.6</td>\n",
       "      <td>8</td>\n",
       "      <td>NW</td>\n",
       "      <td>8</td>\n",
       "      <td>1</td>\n",
       "    </tr>\n",
       "    <tr>\n",
       "      <th>1</th>\n",
       "      <td>2014-01-02</td>\n",
       "      <td>26.6</td>\n",
       "      <td>88</td>\n",
       "      <td>0.0</td>\n",
       "      <td>1.8</td>\n",
       "      <td>8</td>\n",
       "      <td>N</td>\n",
       "      <td>8</td>\n",
       "      <td>1</td>\n",
       "    </tr>\n",
       "    <tr>\n",
       "      <th>2</th>\n",
       "      <td>2014-01-03</td>\n",
       "      <td>26.5</td>\n",
       "      <td>88</td>\n",
       "      <td>1.2</td>\n",
       "      <td>1.0</td>\n",
       "      <td>7</td>\n",
       "      <td>NW</td>\n",
       "      <td>7</td>\n",
       "      <td>1</td>\n",
       "    </tr>\n",
       "    <tr>\n",
       "      <th>3</th>\n",
       "      <td>2014-01-04</td>\n",
       "      <td>26.9</td>\n",
       "      <td>85</td>\n",
       "      <td>1.8</td>\n",
       "      <td>0.0</td>\n",
       "      <td>8</td>\n",
       "      <td>NW</td>\n",
       "      <td>8</td>\n",
       "      <td>1</td>\n",
       "    </tr>\n",
       "    <tr>\n",
       "      <th>4</th>\n",
       "      <td>2014-01-05</td>\n",
       "      <td>26.2</td>\n",
       "      <td>84</td>\n",
       "      <td>3.1</td>\n",
       "      <td>1.2</td>\n",
       "      <td>8</td>\n",
       "      <td>NW</td>\n",
       "      <td>8</td>\n",
       "      <td>1</td>\n",
       "    </tr>\n",
       "  </tbody>\n",
       "</table>\n",
       "</div>"
      ],
      "text/plain": [
       "     Tanggal  SuhuRata-rata(°C)  KelembabanRata-rata(%)  CurahHujan(mm)  \\\n",
       "0 2014-01-01               26.3                      89             1.3   \n",
       "1 2014-01-02               26.6                      88             0.0   \n",
       "2 2014-01-03               26.5                      88             1.2   \n",
       "3 2014-01-04               26.9                      85             1.8   \n",
       "4 2014-01-05               26.2                      84             3.1   \n",
       "\n",
       "   LamaPenyinaran(jam)  Kecepata AnginRata-rata(knot) ArahAnginTerbanyak(deg)  \\\n",
       "0                  0.6                              8                      NW   \n",
       "1                  1.8                              8                      N    \n",
       "2                  1.0                              7                      NW   \n",
       "3                  0.0                              8                      NW   \n",
       "4                  1.2                              8                      NW   \n",
       "\n",
       "   KecepatanAnginTerbesar(knot)  bulan  \n",
       "0                             8      1  \n",
       "1                             8      1  \n",
       "2                             7      1  \n",
       "3                             8      1  \n",
       "4                             8      1  "
      ]
     },
     "execution_count": 12,
     "metadata": {},
     "output_type": "execute_result"
    }
   ],
   "source": [
    "df.head()"
   ]
  },
  {
   "cell_type": "code",
   "execution_count": 13,
   "metadata": {},
   "outputs": [
    {
     "data": {
      "text/plain": [
       "5     132\n",
       "1     124\n",
       "3     124\n",
       "4     120\n",
       "2     113\n",
       "6     101\n",
       "7      93\n",
       "8      93\n",
       "10     93\n",
       "12     93\n",
       "9      90\n",
       "11     90\n",
       "Name: bulan, dtype: int64"
      ]
     },
     "execution_count": 13,
     "metadata": {},
     "output_type": "execute_result"
    }
   ],
   "source": [
    "df.bulan.value_counts()"
   ]
  },
  {
   "cell_type": "code",
   "execution_count": 14,
   "metadata": {},
   "outputs": [],
   "source": [
    "df.drop(['Tanggal'], axis=1, inplace=True)"
   ]
  },
  {
   "cell_type": "code",
   "execution_count": 15,
   "metadata": {},
   "outputs": [
    {
     "data": {
      "text/html": [
       "<div>\n",
       "<style scoped>\n",
       "    .dataframe tbody tr th:only-of-type {\n",
       "        vertical-align: middle;\n",
       "    }\n",
       "\n",
       "    .dataframe tbody tr th {\n",
       "        vertical-align: top;\n",
       "    }\n",
       "\n",
       "    .dataframe thead th {\n",
       "        text-align: right;\n",
       "    }\n",
       "</style>\n",
       "<table border=\"1\" class=\"dataframe\">\n",
       "  <thead>\n",
       "    <tr style=\"text-align: right;\">\n",
       "      <th></th>\n",
       "      <th>SuhuRata-rata(°C)</th>\n",
       "      <th>KelembabanRata-rata(%)</th>\n",
       "      <th>CurahHujan(mm)</th>\n",
       "      <th>LamaPenyinaran(jam)</th>\n",
       "      <th>Kecepata AnginRata-rata(knot)</th>\n",
       "      <th>ArahAnginTerbanyak(deg)</th>\n",
       "      <th>KecepatanAnginTerbesar(knot)</th>\n",
       "      <th>bulan</th>\n",
       "    </tr>\n",
       "  </thead>\n",
       "  <tbody>\n",
       "    <tr>\n",
       "      <th>0</th>\n",
       "      <td>26.3</td>\n",
       "      <td>89</td>\n",
       "      <td>1.3</td>\n",
       "      <td>0.6</td>\n",
       "      <td>8</td>\n",
       "      <td>NW</td>\n",
       "      <td>8</td>\n",
       "      <td>1</td>\n",
       "    </tr>\n",
       "    <tr>\n",
       "      <th>1</th>\n",
       "      <td>26.6</td>\n",
       "      <td>88</td>\n",
       "      <td>0.0</td>\n",
       "      <td>1.8</td>\n",
       "      <td>8</td>\n",
       "      <td>N</td>\n",
       "      <td>8</td>\n",
       "      <td>1</td>\n",
       "    </tr>\n",
       "    <tr>\n",
       "      <th>2</th>\n",
       "      <td>26.5</td>\n",
       "      <td>88</td>\n",
       "      <td>1.2</td>\n",
       "      <td>1.0</td>\n",
       "      <td>7</td>\n",
       "      <td>NW</td>\n",
       "      <td>7</td>\n",
       "      <td>1</td>\n",
       "    </tr>\n",
       "    <tr>\n",
       "      <th>3</th>\n",
       "      <td>26.9</td>\n",
       "      <td>85</td>\n",
       "      <td>1.8</td>\n",
       "      <td>0.0</td>\n",
       "      <td>8</td>\n",
       "      <td>NW</td>\n",
       "      <td>8</td>\n",
       "      <td>1</td>\n",
       "    </tr>\n",
       "    <tr>\n",
       "      <th>4</th>\n",
       "      <td>26.2</td>\n",
       "      <td>84</td>\n",
       "      <td>3.1</td>\n",
       "      <td>1.2</td>\n",
       "      <td>8</td>\n",
       "      <td>NW</td>\n",
       "      <td>8</td>\n",
       "      <td>1</td>\n",
       "    </tr>\n",
       "  </tbody>\n",
       "</table>\n",
       "</div>"
      ],
      "text/plain": [
       "   SuhuRata-rata(°C)  KelembabanRata-rata(%)  CurahHujan(mm)  \\\n",
       "0               26.3                      89             1.3   \n",
       "1               26.6                      88             0.0   \n",
       "2               26.5                      88             1.2   \n",
       "3               26.9                      85             1.8   \n",
       "4               26.2                      84             3.1   \n",
       "\n",
       "   LamaPenyinaran(jam)  Kecepata AnginRata-rata(knot) ArahAnginTerbanyak(deg)  \\\n",
       "0                  0.6                              8                      NW   \n",
       "1                  1.8                              8                      N    \n",
       "2                  1.0                              7                      NW   \n",
       "3                  0.0                              8                      NW   \n",
       "4                  1.2                              8                      NW   \n",
       "\n",
       "   KecepatanAnginTerbesar(knot)  bulan  \n",
       "0                             8      1  \n",
       "1                             8      1  \n",
       "2                             7      1  \n",
       "3                             8      1  \n",
       "4                             8      1  "
      ]
     },
     "execution_count": 15,
     "metadata": {},
     "output_type": "execute_result"
    }
   ],
   "source": [
    "df.head()"
   ]
  },
  {
   "cell_type": "code",
   "execution_count": 16,
   "metadata": {},
   "outputs": [
    {
     "data": {
      "text/plain": [
       "((1012, 7), (254, 7), (1012,), (254,))"
      ]
     },
     "execution_count": 16,
     "metadata": {},
     "output_type": "execute_result"
    }
   ],
   "source": [
    "X = df.drop(columns=[\"CurahHujan(mm)\"])\n",
    "y = df[\"CurahHujan(mm)\"]\n",
    "\n",
    "X_train, X_test, y_train, y_test = train_test_split(X, y, test_size=0.2, random_state=42)\n",
    "X_train.shape, X_test.shape, y_train.shape, y_test.shape"
   ]
  },
  {
   "cell_type": "code",
   "execution_count": 17,
   "metadata": {},
   "outputs": [
    {
     "data": {
      "text/plain": [
       "Index(['SuhuRata-rata(°C)', 'KelembabanRata-rata(%)', 'CurahHujan(mm)',\n",
       "       'LamaPenyinaran(jam)', 'Kecepata AnginRata-rata(knot)',\n",
       "       'ArahAnginTerbanyak(deg)', 'KecepatanAnginTerbesar(knot)', 'bulan'],\n",
       "      dtype='object')"
      ]
     },
     "execution_count": 17,
     "metadata": {},
     "output_type": "execute_result"
    }
   ],
   "source": [
    "df.columns"
   ]
  },
  {
   "cell_type": "code",
   "execution_count": 19,
   "metadata": {},
   "outputs": [
    {
     "name": "stdout",
     "output_type": "stream",
     "text": [
      "Fitting 3 folds for each of 2 candidates, totalling 6 fits\n",
      "{'algo__fit_intercept': True}\n",
      "0.0631066510872027 0.026495548085785286 0.03136517710862641\n"
     ]
    }
   ],
   "source": [
    "preprocessor = ColumnTransformer([\n",
    "    ('numeric', num_pipe(), ['SuhuRata-rata(°C)', 'KelembabanRata-rata(%)',\n",
    "      'LamaPenyinaran(jam)', 'Kecepata AnginRata-rata(knot)',\n",
    "      'KecepatanAnginTerbesar(knot)']),\n",
    "    ('categoric', cat_pipe(encoder='onehot'), ['ArahAnginTerbanyak(deg)', 'bulan']),\n",
    "])\n",
    "\n",
    "from sklearn.linear_model import LinearRegression\n",
    "pipeline = Pipeline([\n",
    "    ('prep', preprocessor),\n",
    "    ('algo', LinearRegression())\n",
    "])\n",
    "\n",
    "from sklearn.model_selection import GridSearchCV\n",
    "from jcopml.tuning import grid_search_params as gsp\n",
    "\n",
    "model = GridSearchCV(pipeline, gsp.linreg_params, cv=3, n_jobs=-1, verbose=1)\n",
    "model.fit(X_train, y_train)\n",
    "\n",
    "print(model.best_params_)\n",
    "print(model.score(X_train, y_train), model.best_score_, model.score(X_test, y_test))"
   ]
  },
  {
   "cell_type": "code",
   "execution_count": 20,
   "metadata": {},
   "outputs": [
    {
     "name": "stderr",
     "output_type": "stream",
     "text": [
      "C:\\Users\\Toko Ferdi\\AppData\\Local\\Programs\\Python\\Python310\\lib\\site-packages\\seaborn\\_decorators.py:36: FutureWarning: Pass the following variables as keyword args: x, y. From version 0.12, the only valid positional argument will be `data`, and passing other arguments without an explicit keyword will result in an error or misinterpretation.\n",
      "  warnings.warn(\n",
      "C:\\Users\\Toko Ferdi\\AppData\\Local\\Programs\\Python\\Python310\\lib\\site-packages\\seaborn\\_decorators.py:36: FutureWarning: Pass the following variables as keyword args: x, y. From version 0.12, the only valid positional argument will be `data`, and passing other arguments without an explicit keyword will result in an error or misinterpretation.\n",
      "  warnings.warn(\n"
     ]
    },
    {
     "data": {
      "image/png": "[encoded data removed]",
      "text/plain": [
       "<Figure size 1080x360 with 2 Axes>"
      ]
     },
     "metadata": {
      "needs_background": "light"
     },
     "output_type": "display_data"
    }
   ],
   "source": [
    "from jcopml.plot import plot_actual_vs_prediction, plot_residual\n",
    "plot_residual(X_train, y_train, X_test, y_test, model)"
   ]
  },
  {
   "cell_type": "code",
   "execution_count": 21,
   "metadata": {},
   "outputs": [
    {
     "data": {
      "image/png": "[encoded data removed]",
      "text/plain": [
       "<Figure size 792x360 with 2 Axes>"
      ]
     },
     "metadata": {
      "needs_background": "light"
     },
     "output_type": "display_data"
    }
   ],
   "source": [
    "plot_actual_vs_prediction(X_train, y_train, X_test, y_test, model)"
   ]
  },
  {
   "cell_type": "code",
   "execution_count": 28,
   "metadata": {},
   "outputs": [
    {
     "name": "stderr",
     "output_type": "stream",
     "text": [
      "C:\\Users\\Toko Ferdi\\AppData\\Local\\Programs\\Python\\Python310\\lib\\site-packages\\jcopml\\pipeline\\_pipeline.py:65: UserWarning: Transformer has default standardization, so the scaling argument is neglected\n",
      "  warn(\"Transformer has default standardization, so the scaling argument is neglected\")\n"
     ]
    },
    {
     "name": "stdout",
     "output_type": "stream",
     "text": [
      "Fitting 3 folds for each of 12 candidates, totalling 36 fits\n",
      "{'algo__fit_intercept': True, 'prep__numeric__poly__degree': 1, 'prep__numeric__poly__interaction_only': True}\n",
      "0.06765415293902255 0.02743461170397928 0.03982602426681214\n"
     ]
    },
    {
     "name": "stderr",
     "output_type": "stream",
     "text": [
      "C:\\Users\\Toko Ferdi\\AppData\\Local\\Programs\\Python\\Python310\\lib\\site-packages\\sklearn\\preprocessing\\_data.py:3253: RuntimeWarning: divide by zero encountered in log\n",
      "  loglike = -n_samples / 2 * np.log(x_trans.var())\n"
     ]
    }
   ],
   "source": [
    "preprocessor = ColumnTransformer([\n",
    "    ('numeric', num_pipe(poly=2, transform=\"yeo-johnson\", scaling=\"minmax\"), ['SuhuRata-rata(°C)', 'KelembabanRata-rata(%)',\n",
    "      'LamaPenyinaran(jam)', 'Kecepata AnginRata-rata(knot)',\n",
    "      'KecepatanAnginTerbesar(knot)']),\n",
    "    ('categoric', cat_pipe(encoder='onehot'), ['ArahAnginTerbanyak(deg)', 'bulan']),\n",
    "])\n",
    "\n",
    "from sklearn.linear_model import LinearRegression\n",
    "pipeline = Pipeline([\n",
    "    ('prep', preprocessor),\n",
    "    ('algo', LinearRegression())\n",
    "])\n",
    "\n",
    "from sklearn.model_selection import GridSearchCV\n",
    "from jcopml.tuning import grid_search_params as gsp\n",
    "\n",
    "model = GridSearchCV(pipeline, gsp.linreg_poly_params, cv=3, n_jobs=-1, verbose=1)\n",
    "model.fit(X_train, y_train)\n",
    "\n",
    "print(model.best_params_)\n",
    "print(model.score(X_train, y_train), model.best_score_, model.score(X_test, y_test))"
   ]
  },
  {
   "cell_type": "code",
   "execution_count": 29,
   "metadata": {},
   "outputs": [
    {
     "name": "stderr",
     "output_type": "stream",
     "text": [
      "C:\\Users\\Toko Ferdi\\AppData\\Local\\Programs\\Python\\Python310\\lib\\site-packages\\seaborn\\_decorators.py:36: FutureWarning: Pass the following variables as keyword args: x, y. From version 0.12, the only valid positional argument will be `data`, and passing other arguments without an explicit keyword will result in an error or misinterpretation.\n",
      "  warnings.warn(\n",
      "C:\\Users\\Toko Ferdi\\AppData\\Local\\Programs\\Python\\Python310\\lib\\site-packages\\seaborn\\_decorators.py:36: FutureWarning: Pass the following variables as keyword args: x, y. From version 0.12, the only valid positional argument will be `data`, and passing other arguments without an explicit keyword will result in an error or misinterpretation.\n",
      "  warnings.warn(\n"
     ]
    },
    {
     "data": {
      "image/png": "[encoded data removed]",
      "text/plain": [
       "<Figure size 1080x360 with 2 Axes>"
      ]
     },
     "metadata": {
      "needs_background": "light"
     },
     "output_type": "display_data"
    }
   ],
   "source": [
    "plot_residual(X_train, y_train, X_test, y_test, model)"
   ]
  },
  {
   "cell_type": "code",
   "execution_count": 30,
   "metadata": {},
   "outputs": [
    {
     "data": {
      "image/png": "[encoded data removed]",
      "text/plain": [
       "<Figure size 792x360 with 2 Axes>"
      ]
     },
     "metadata": {
      "needs_background": "light"
     },
     "output_type": "display_data"
    }
   ],
   "source": [
    "plot_actual_vs_prediction(X_train, y_train, X_test, y_test, model)"
   ]
  },
  {
   "cell_type": "code",
   "execution_count": 33,
   "metadata": {},
   "outputs": [
    {
     "data": {
      "text/plain": [
       "0.0     573\n",
       "1.0      23\n",
       "4.0      18\n",
       "1.8      17\n",
       "0.2      16\n",
       "       ... \n",
       "66.0      1\n",
       "7.7       1\n",
       "72.0      1\n",
       "13.0      1\n",
       "29.2      1\n",
       "Name: CurahHujan(mm), Length: 149, dtype: int64"
      ]
     },
     "execution_count": 33,
     "metadata": {},
     "output_type": "execute_result"
    }
   ],
   "source": [
    "df[\"CurahHujan(mm)\"].value_counts()"
   ]
  }
 ],
 "metadata": {
  "interpreter": {
   "hash": "fc9fcaf03c57127c7c797bfd5f1b8fc9daac73082f5fc5fb1d7e0fcc9583f3d8"
  },
  "kernelspec": {
   "display_name": "Python 3.10.1 64-bit",
   "language": "python",
   "name": "python3"
  },
  "language_info": {
   "codemirror_mode": {
    "name": "ipython",
    "version": 3
   },
   "file_extension": ".py",
   "mimetype": "text/x-python",
   "name": "python",
   "nbconvert_exporter": "python",
   "pygments_lexer": "ipython3",
   "version": "3.10.1"
  },
  "orig_nbformat": 4
 },
 "nbformat": 4,
 "nbformat_minor": 2
}
