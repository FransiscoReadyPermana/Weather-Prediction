{
 "cells": [
  {
   "cell_type": "code",
   "execution_count": 155,
   "metadata": {},
   "outputs": [],
   "source": [
    "import numpy as np\n",
    "import pandas as pd\n",
    "import matplotlib.pyplot as plt\n",
    "import seaborn as sns\n",
    "from sklearn.model_selection import train_test_split\n",
    "from sklearn.pipeline import Pipeline\n",
    "from sklearn.compose import ColumnTransformer\n",
    "\n",
    "from jcopml.pipeline import num_pipe, cat_pipe\n",
    "from jcopml.feature_importance import mean_score_decrease"
   ]
  },
  {
   "cell_type": "code",
   "execution_count": 156,
   "metadata": {},
   "outputs": [
    {
     "data": {
      "text/html": [
       "<div>\n",
       "<style scoped>\n",
       "    .dataframe tbody tr th:only-of-type {\n",
       "        vertical-align: middle;\n",
       "    }\n",
       "\n",
       "    .dataframe tbody tr th {\n",
       "        vertical-align: top;\n",
       "    }\n",
       "\n",
       "    .dataframe thead th {\n",
       "        text-align: right;\n",
       "    }\n",
       "</style>\n",
       "<table border=\"1\" class=\"dataframe\">\n",
       "  <thead>\n",
       "    <tr style=\"text-align: right;\">\n",
       "      <th></th>\n",
       "      <th>tanggal</th>\n",
       "      <th>wilayah</th>\n",
       "      <th>waktu</th>\n",
       "      <th>cuaca</th>\n",
       "      <th>kelembaban_persen</th>\n",
       "      <th>suhu_derajat_celcius</th>\n",
       "    </tr>\n",
       "  </thead>\n",
       "  <tbody>\n",
       "    <tr>\n",
       "      <th>0</th>\n",
       "      <td>2018-12-31</td>\n",
       "      <td>Kepulauan Seribu</td>\n",
       "      <td>Siang</td>\n",
       "      <td>Hujan Lokal</td>\n",
       "      <td>70 - 90</td>\n",
       "      <td>24 - 32</td>\n",
       "    </tr>\n",
       "    <tr>\n",
       "      <th>1</th>\n",
       "      <td>2018-12-31</td>\n",
       "      <td>Kepulauan Seribu</td>\n",
       "      <td>Pagi</td>\n",
       "      <td>Hujan Lokal</td>\n",
       "      <td>70 - 90</td>\n",
       "      <td>24 - 32</td>\n",
       "    </tr>\n",
       "    <tr>\n",
       "      <th>2</th>\n",
       "      <td>2018-12-31</td>\n",
       "      <td>Kepulauan Seribu</td>\n",
       "      <td>Malam</td>\n",
       "      <td>Hujan Lokal</td>\n",
       "      <td>70 - 90</td>\n",
       "      <td>24 - 32</td>\n",
       "    </tr>\n",
       "    <tr>\n",
       "      <th>3</th>\n",
       "      <td>2018-12-31</td>\n",
       "      <td>Kepulauan Seribu</td>\n",
       "      <td>Dini Hari</td>\n",
       "      <td>Hujan Ringan</td>\n",
       "      <td>70 - 90</td>\n",
       "      <td>24 - 32</td>\n",
       "    </tr>\n",
       "    <tr>\n",
       "      <th>4</th>\n",
       "      <td>2018-12-31</td>\n",
       "      <td>Jakarta Utara</td>\n",
       "      <td>Siang</td>\n",
       "      <td>Hujan Lokal</td>\n",
       "      <td>70 - 90</td>\n",
       "      <td>24 - 32</td>\n",
       "    </tr>\n",
       "  </tbody>\n",
       "</table>\n",
       "</div>"
      ],
      "text/plain": [
       "      tanggal           wilayah      waktu         cuaca kelembaban_persen  \\\n",
       "0  2018-12-31  Kepulauan Seribu      Siang   Hujan Lokal           70 - 90   \n",
       "1  2018-12-31  Kepulauan Seribu       Pagi   Hujan Lokal           70 - 90   \n",
       "2  2018-12-31  Kepulauan Seribu      Malam   Hujan Lokal           70 - 90   \n",
       "3  2018-12-31  Kepulauan Seribu  Dini Hari  Hujan Ringan           70 - 90   \n",
       "4  2018-12-31     Jakarta Utara      Siang   Hujan Lokal           70 - 90   \n",
       "\n",
       "  suhu_derajat_celcius  \n",
       "0              24 - 32  \n",
       "1              24 - 32  \n",
       "2              24 - 32  \n",
       "3              24 - 32  \n",
       "4              24 - 32  "
      ]
     },
     "execution_count": 156,
     "metadata": {},
     "output_type": "execute_result"
    }
   ],
   "source": [
    "df = pd.read_csv(\"dataset.csv\")\n",
    "df.head()"
   ]
  },
  {
   "cell_type": "code",
   "execution_count": 157,
   "metadata": {},
   "outputs": [
    {
     "data": {
      "text/plain": [
       "(8535, 6)"
      ]
     },
     "execution_count": 157,
     "metadata": {},
     "output_type": "execute_result"
    }
   ],
   "source": [
    "df.shape"
   ]
  },
  {
   "cell_type": "code",
   "execution_count": 158,
   "metadata": {},
   "outputs": [
    {
     "data": {
      "text/plain": [
       "tanggal                 135\n",
       "wilayah                 135\n",
       "waktu                   135\n",
       "cuaca                   135\n",
       "kelembaban_persen       135\n",
       "suhu_derajat_celcius    135\n",
       "dtype: int64"
      ]
     },
     "execution_count": 158,
     "metadata": {},
     "output_type": "execute_result"
    }
   ],
   "source": [
    "df.isnull().sum()"
   ]
  },
  {
   "cell_type": "code",
   "execution_count": 159,
   "metadata": {},
   "outputs": [
    {
     "data": {
      "text/plain": [
       "tanggal                 0\n",
       "wilayah                 0\n",
       "waktu                   0\n",
       "cuaca                   0\n",
       "kelembaban_persen       0\n",
       "suhu_derajat_celcius    0\n",
       "dtype: int64"
      ]
     },
     "execution_count": 159,
     "metadata": {},
     "output_type": "execute_result"
    }
   ],
   "source": [
    "df.dropna(inplace=True)\n",
    "df.isnull().sum()"
   ]
  },
  {
   "cell_type": "code",
   "execution_count": 160,
   "metadata": {},
   "outputs": [
    {
     "data": {
      "text/plain": [
       "(8400, 6)"
      ]
     },
     "execution_count": 160,
     "metadata": {},
     "output_type": "execute_result"
    }
   ],
   "source": [
    "df.shape"
   ]
  },
  {
   "cell_type": "code",
   "execution_count": 161,
   "metadata": {},
   "outputs": [
    {
     "data": {
      "text/plain": [
       "array(['Hujan Lokal', 'Hujan Ringan', 'Berawan', 'Cerah Berawan', 'Cerah',\n",
       "       'Berawan Tebal', 'Hujan Sedang', 'Cerah Berawn', 'Cerang Berawan',\n",
       "       'Beawan', 'Berawan ', 'Hujan Petir', 'Hujan Lokal ',\n",
       "       'Cerah Berawan ', 'Cerah ', 'Cerah Berawah', 'Cerah  ', ' Berawan',\n",
       "       'Hujan', 'Hujan Petir ', 'Hujan Sedang ', 'Cerah berawan',\n",
       "       'Hujan Ringanl', 'Berawa', 'Hujang Sedang', 'Hujan Loka',\n",
       "       'Hujan Ringan '], dtype=object)"
      ]
     },
     "execution_count": 161,
     "metadata": {},
     "output_type": "execute_result"
    }
   ],
   "source": [
    "df[\"cuaca\"].unique()"
   ]
  },
  {
   "cell_type": "code",
   "execution_count": 162,
   "metadata": {},
   "outputs": [
    {
     "data": {
      "text/plain": [
       "Cerah                    3796\n",
       "Berawan                  2896\n",
       "Hujan                    1706\n",
       "Tidak Teridentifikasi       2\n",
       "Name: cuaca, dtype: int64"
      ]
     },
     "execution_count": 162,
     "metadata": {},
     "output_type": "execute_result"
    }
   ],
   "source": [
    "import re\n",
    "\n",
    "def cuaca(x):\n",
    "  if (re.findall(\"Cerah\", x)):\n",
    "    return 'Cerah'\n",
    "  elif (re.findall(\"Hujan\", x)):\n",
    "    return 'Hujan'\n",
    "  elif (re.findall(\"Berawan\", x)):\n",
    "    return 'Berawan'\n",
    "  else:\n",
    "    return 'Tidak Teridentifikasi'\n",
    "\n",
    "df[\"cuaca\"] = df['cuaca'].apply(cuaca)\n",
    "df[\"cuaca\"].value_counts()"
   ]
  },
  {
   "cell_type": "code",
   "execution_count": 163,
   "metadata": {},
   "outputs": [
    {
     "data": {
      "text/plain": [
       "Siang        1758\n",
       "Pagi         1758\n",
       "Malam        1758\n",
       "Dini Hari    1758\n",
       "siang         342\n",
       "pagi          342\n",
       "malam         342\n",
       "dini hari     342\n",
       "Name: waktu, dtype: int64"
      ]
     },
     "execution_count": 163,
     "metadata": {},
     "output_type": "execute_result"
    }
   ],
   "source": [
    "df.waktu.value_counts()"
   ]
  },
  {
   "cell_type": "code",
   "execution_count": 164,
   "metadata": {},
   "outputs": [
    {
     "data": {
      "text/plain": [
       "Siang        2100\n",
       "Pagi         2100\n",
       "Malam        2100\n",
       "Dini Hari    2100\n",
       "Name: waktu, dtype: int64"
      ]
     },
     "execution_count": 164,
     "metadata": {},
     "output_type": "execute_result"
    }
   ],
   "source": [
    "import re\n",
    "\n",
    "def cuaca(x):\n",
    "  if (re.findall(\"dini hari\", x)):\n",
    "    return 'Dini Hari'\n",
    "  elif (re.findall(\"siang\", x)):\n",
    "    return 'Siang'\n",
    "  elif (re.findall(\"pagi\", x)):\n",
    "    return 'Pagi'\n",
    "  elif (re.findall(\"malam\", x)):\n",
    "    return 'Malam'\n",
    "  else:\n",
    "    return x\n",
    "\n",
    "df[\"waktu\"] = df['waktu'].apply(cuaca)\n",
    "df[\"waktu\"].value_counts()"
   ]
  },
  {
   "cell_type": "code",
   "execution_count": 165,
   "metadata": {},
   "outputs": [
    {
     "data": {
      "text/plain": [
       "Int64Index([358, 7011], dtype='int64')"
      ]
     },
     "execution_count": 165,
     "metadata": {},
     "output_type": "execute_result"
    }
   ],
   "source": [
    "df[df[\"cuaca\"] == \"Tidak Teridentifikasi\"].index"
   ]
  },
  {
   "cell_type": "code",
   "execution_count": 166,
   "metadata": {},
   "outputs": [
    {
     "data": {
      "text/plain": [
       "array(['Hujan', 'Berawan', 'Cerah'], dtype=object)"
      ]
     },
     "execution_count": 166,
     "metadata": {},
     "output_type": "execute_result"
    }
   ],
   "source": [
    "df.drop(df[df[\"cuaca\"] == \"Tidak Teridentifikasi\"].index, inplace=True)\n",
    "df[\"cuaca\"].unique()"
   ]
  },
  {
   "cell_type": "code",
   "execution_count": 167,
   "metadata": {},
   "outputs": [
    {
     "data": {
      "text/html": [
       "<div>\n",
       "<style scoped>\n",
       "    .dataframe tbody tr th:only-of-type {\n",
       "        vertical-align: middle;\n",
       "    }\n",
       "\n",
       "    .dataframe tbody tr th {\n",
       "        vertical-align: top;\n",
       "    }\n",
       "\n",
       "    .dataframe thead th {\n",
       "        text-align: right;\n",
       "    }\n",
       "</style>\n",
       "<table border=\"1\" class=\"dataframe\">\n",
       "  <thead>\n",
       "    <tr style=\"text-align: right;\">\n",
       "      <th></th>\n",
       "      <th>tanggal</th>\n",
       "      <th>wilayah</th>\n",
       "      <th>waktu</th>\n",
       "      <th>cuaca</th>\n",
       "      <th>kelembaban_persen</th>\n",
       "      <th>suhu_derajat_celcius</th>\n",
       "      <th>kelembapan_min</th>\n",
       "      <th>kelembapan_max</th>\n",
       "    </tr>\n",
       "  </thead>\n",
       "  <tbody>\n",
       "    <tr>\n",
       "      <th>0</th>\n",
       "      <td>2018-12-31</td>\n",
       "      <td>Kepulauan Seribu</td>\n",
       "      <td>Siang</td>\n",
       "      <td>Hujan</td>\n",
       "      <td>70 - 90</td>\n",
       "      <td>24 - 32</td>\n",
       "      <td>70</td>\n",
       "      <td>90</td>\n",
       "    </tr>\n",
       "    <tr>\n",
       "      <th>1</th>\n",
       "      <td>2018-12-31</td>\n",
       "      <td>Kepulauan Seribu</td>\n",
       "      <td>Pagi</td>\n",
       "      <td>Hujan</td>\n",
       "      <td>70 - 90</td>\n",
       "      <td>24 - 32</td>\n",
       "      <td>70</td>\n",
       "      <td>90</td>\n",
       "    </tr>\n",
       "    <tr>\n",
       "      <th>2</th>\n",
       "      <td>2018-12-31</td>\n",
       "      <td>Kepulauan Seribu</td>\n",
       "      <td>Malam</td>\n",
       "      <td>Hujan</td>\n",
       "      <td>70 - 90</td>\n",
       "      <td>24 - 32</td>\n",
       "      <td>70</td>\n",
       "      <td>90</td>\n",
       "    </tr>\n",
       "    <tr>\n",
       "      <th>3</th>\n",
       "      <td>2018-12-31</td>\n",
       "      <td>Kepulauan Seribu</td>\n",
       "      <td>Dini Hari</td>\n",
       "      <td>Hujan</td>\n",
       "      <td>70 - 90</td>\n",
       "      <td>24 - 32</td>\n",
       "      <td>70</td>\n",
       "      <td>90</td>\n",
       "    </tr>\n",
       "    <tr>\n",
       "      <th>4</th>\n",
       "      <td>2018-12-31</td>\n",
       "      <td>Jakarta Utara</td>\n",
       "      <td>Siang</td>\n",
       "      <td>Hujan</td>\n",
       "      <td>70 - 90</td>\n",
       "      <td>24 - 32</td>\n",
       "      <td>70</td>\n",
       "      <td>90</td>\n",
       "    </tr>\n",
       "  </tbody>\n",
       "</table>\n",
       "</div>"
      ],
      "text/plain": [
       "      tanggal           wilayah      waktu  cuaca kelembaban_persen  \\\n",
       "0  2018-12-31  Kepulauan Seribu      Siang  Hujan           70 - 90   \n",
       "1  2018-12-31  Kepulauan Seribu       Pagi  Hujan           70 - 90   \n",
       "2  2018-12-31  Kepulauan Seribu      Malam  Hujan           70 - 90   \n",
       "3  2018-12-31  Kepulauan Seribu  Dini Hari  Hujan           70 - 90   \n",
       "4  2018-12-31     Jakarta Utara      Siang  Hujan           70 - 90   \n",
       "\n",
       "  suhu_derajat_celcius kelembapan_min kelembapan_max  \n",
       "0              24 - 32             70             90  \n",
       "1              24 - 32             70             90  \n",
       "2              24 - 32             70             90  \n",
       "3              24 - 32             70             90  \n",
       "4              24 - 32             70             90  "
      ]
     },
     "execution_count": 167,
     "metadata": {},
     "output_type": "execute_result"
    }
   ],
   "source": [
    "df[\"kelembapan_min\"] = df['kelembaban_persen'].apply(lambda x: x.split(\"-\")[0])\n",
    "df[\"kelembapan_min\"] = [x.strip(' ') for x in df[\"kelembapan_min\"]]\n",
    "\n",
    "df[\"kelembapan_max\"] = df['kelembaban_persen'].apply(lambda x: x.split(\"-\")[1])\n",
    "df[\"kelembapan_max\"] = [x.strip(' ') for x in df[\"kelembapan_max\"]]\n",
    "\n",
    "df.head()"
   ]
  },
  {
   "cell_type": "code",
   "execution_count": 168,
   "metadata": {},
   "outputs": [
    {
     "data": {
      "text/html": [
       "<div>\n",
       "<style scoped>\n",
       "    .dataframe tbody tr th:only-of-type {\n",
       "        vertical-align: middle;\n",
       "    }\n",
       "\n",
       "    .dataframe tbody tr th {\n",
       "        vertical-align: top;\n",
       "    }\n",
       "\n",
       "    .dataframe thead th {\n",
       "        text-align: right;\n",
       "    }\n",
       "</style>\n",
       "<table border=\"1\" class=\"dataframe\">\n",
       "  <thead>\n",
       "    <tr style=\"text-align: right;\">\n",
       "      <th></th>\n",
       "      <th>tanggal</th>\n",
       "      <th>wilayah</th>\n",
       "      <th>waktu</th>\n",
       "      <th>cuaca</th>\n",
       "      <th>kelembaban_persen</th>\n",
       "      <th>suhu_derajat_celcius</th>\n",
       "      <th>kelembapan_min</th>\n",
       "      <th>kelembapan_max</th>\n",
       "      <th>suhu_min</th>\n",
       "      <th>suhu_max</th>\n",
       "    </tr>\n",
       "  </thead>\n",
       "  <tbody>\n",
       "    <tr>\n",
       "      <th>0</th>\n",
       "      <td>2018-12-31</td>\n",
       "      <td>Kepulauan Seribu</td>\n",
       "      <td>Siang</td>\n",
       "      <td>Hujan</td>\n",
       "      <td>70 - 90</td>\n",
       "      <td>24 - 32</td>\n",
       "      <td>70</td>\n",
       "      <td>90</td>\n",
       "      <td>24</td>\n",
       "      <td>32</td>\n",
       "    </tr>\n",
       "    <tr>\n",
       "      <th>1</th>\n",
       "      <td>2018-12-31</td>\n",
       "      <td>Kepulauan Seribu</td>\n",
       "      <td>Pagi</td>\n",
       "      <td>Hujan</td>\n",
       "      <td>70 - 90</td>\n",
       "      <td>24 - 32</td>\n",
       "      <td>70</td>\n",
       "      <td>90</td>\n",
       "      <td>24</td>\n",
       "      <td>32</td>\n",
       "    </tr>\n",
       "    <tr>\n",
       "      <th>2</th>\n",
       "      <td>2018-12-31</td>\n",
       "      <td>Kepulauan Seribu</td>\n",
       "      <td>Malam</td>\n",
       "      <td>Hujan</td>\n",
       "      <td>70 - 90</td>\n",
       "      <td>24 - 32</td>\n",
       "      <td>70</td>\n",
       "      <td>90</td>\n",
       "      <td>24</td>\n",
       "      <td>32</td>\n",
       "    </tr>\n",
       "    <tr>\n",
       "      <th>3</th>\n",
       "      <td>2018-12-31</td>\n",
       "      <td>Kepulauan Seribu</td>\n",
       "      <td>Dini Hari</td>\n",
       "      <td>Hujan</td>\n",
       "      <td>70 - 90</td>\n",
       "      <td>24 - 32</td>\n",
       "      <td>70</td>\n",
       "      <td>90</td>\n",
       "      <td>24</td>\n",
       "      <td>32</td>\n",
       "    </tr>\n",
       "    <tr>\n",
       "      <th>4</th>\n",
       "      <td>2018-12-31</td>\n",
       "      <td>Jakarta Utara</td>\n",
       "      <td>Siang</td>\n",
       "      <td>Hujan</td>\n",
       "      <td>70 - 90</td>\n",
       "      <td>24 - 32</td>\n",
       "      <td>70</td>\n",
       "      <td>90</td>\n",
       "      <td>24</td>\n",
       "      <td>32</td>\n",
       "    </tr>\n",
       "  </tbody>\n",
       "</table>\n",
       "</div>"
      ],
      "text/plain": [
       "      tanggal           wilayah      waktu  cuaca kelembaban_persen  \\\n",
       "0  2018-12-31  Kepulauan Seribu      Siang  Hujan           70 - 90   \n",
       "1  2018-12-31  Kepulauan Seribu       Pagi  Hujan           70 - 90   \n",
       "2  2018-12-31  Kepulauan Seribu      Malam  Hujan           70 - 90   \n",
       "3  2018-12-31  Kepulauan Seribu  Dini Hari  Hujan           70 - 90   \n",
       "4  2018-12-31     Jakarta Utara      Siang  Hujan           70 - 90   \n",
       "\n",
       "  suhu_derajat_celcius kelembapan_min kelembapan_max suhu_min suhu_max  \n",
       "0              24 - 32             70             90       24       32  \n",
       "1              24 - 32             70             90       24       32  \n",
       "2              24 - 32             70             90       24       32  \n",
       "3              24 - 32             70             90       24       32  \n",
       "4              24 - 32             70             90       24       32  "
      ]
     },
     "execution_count": 168,
     "metadata": {},
     "output_type": "execute_result"
    }
   ],
   "source": [
    "df[\"suhu_min\"] = df.suhu_derajat_celcius.apply(lambda x: x.split(\"-\")[0])\n",
    "df[\"suhu_min\"] = [x.strip(' ') for x in df[\"suhu_min\"]]\n",
    "\n",
    "df[\"suhu_max\"] = df.suhu_derajat_celcius.apply(lambda x: x.split(\"-\")[1])\n",
    "df[\"suhu_max\"] = [x.strip(' ') for x in df[\"suhu_max\"]]\n",
    "\n",
    "df.head()"
   ]
  },
  {
   "cell_type": "code",
   "execution_count": 169,
   "metadata": {},
   "outputs": [
    {
     "data": {
      "text/plain": [
       "24    4102\n",
       "23    3072\n",
       "25     576\n",
       "22     552\n",
       "21      48\n",
       "20      24\n",
       "26      24\n",
       "Name: suhu_min, dtype: int64"
      ]
     },
     "execution_count": 169,
     "metadata": {},
     "output_type": "execute_result"
    }
   ],
   "source": [
    "df['suhu_min'].value_counts()"
   ]
  },
  {
   "cell_type": "code",
   "execution_count": 170,
   "metadata": {},
   "outputs": [
    {
     "data": {
      "text/plain": [
       "33    3431\n",
       "32    1991\n",
       "34    1440\n",
       "31     696\n",
       "30     360\n",
       "35     288\n",
       "29     120\n",
       "28      72\n",
       "Name: suhu_max, dtype: int64"
      ]
     },
     "execution_count": 170,
     "metadata": {},
     "output_type": "execute_result"
    }
   ],
   "source": [
    "df['suhu_max'].value_counts()"
   ]
  },
  {
   "cell_type": "code",
   "execution_count": 171,
   "metadata": {},
   "outputs": [
    {
     "name": "stdout",
     "output_type": "stream",
     "text": [
      "Kelembapan Min\n",
      " 70    1727\n",
      "55    1296\n",
      "65    1272\n",
      "60    1224\n",
      "75     839\n",
      "45     624\n",
      "50     600\n",
      "80     480\n",
      "40     192\n",
      "35      96\n",
      "85      48\n",
      "Name: kelembapan_min, dtype: int64 \n",
      "\n",
      "\n",
      "Kelembapan Min\n",
      " 95     3264\n",
      "90     2375\n",
      "85     1128\n",
      "100    1031\n",
      "80      504\n",
      "75       96\n",
      "Name: kelembapan_max, dtype: int64 \n",
      "\n"
     ]
    }
   ],
   "source": [
    "print('Kelembapan Min\\n', df['kelembapan_min'].value_counts(), '\\n\\n')\n",
    "print('Kelembapan Min\\n', df['kelembapan_max'].value_counts(), '\\n')"
   ]
  },
  {
   "cell_type": "code",
   "execution_count": 172,
   "metadata": {},
   "outputs": [
    {
     "data": {
      "text/html": [
       "<div>\n",
       "<style scoped>\n",
       "    .dataframe tbody tr th:only-of-type {\n",
       "        vertical-align: middle;\n",
       "    }\n",
       "\n",
       "    .dataframe tbody tr th {\n",
       "        vertical-align: top;\n",
       "    }\n",
       "\n",
       "    .dataframe thead th {\n",
       "        text-align: right;\n",
       "    }\n",
       "</style>\n",
       "<table border=\"1\" class=\"dataframe\">\n",
       "  <thead>\n",
       "    <tr style=\"text-align: right;\">\n",
       "      <th></th>\n",
       "      <th>tanggal</th>\n",
       "      <th>wilayah</th>\n",
       "      <th>waktu</th>\n",
       "      <th>cuaca</th>\n",
       "      <th>kelembaban_persen</th>\n",
       "      <th>suhu_derajat_celcius</th>\n",
       "      <th>kelembapan_min</th>\n",
       "      <th>kelembapan_max</th>\n",
       "      <th>suhu_min</th>\n",
       "      <th>suhu_max</th>\n",
       "    </tr>\n",
       "  </thead>\n",
       "  <tbody>\n",
       "    <tr>\n",
       "      <th>0</th>\n",
       "      <td>2018-12-31</td>\n",
       "      <td>Kepulauan Seribu</td>\n",
       "      <td>Siang</td>\n",
       "      <td>Hujan</td>\n",
       "      <td>70 - 90</td>\n",
       "      <td>24 - 32</td>\n",
       "      <td>70</td>\n",
       "      <td>90</td>\n",
       "      <td>24</td>\n",
       "      <td>32</td>\n",
       "    </tr>\n",
       "    <tr>\n",
       "      <th>1</th>\n",
       "      <td>2018-12-31</td>\n",
       "      <td>Kepulauan Seribu</td>\n",
       "      <td>Pagi</td>\n",
       "      <td>Hujan</td>\n",
       "      <td>70 - 90</td>\n",
       "      <td>24 - 32</td>\n",
       "      <td>70</td>\n",
       "      <td>90</td>\n",
       "      <td>24</td>\n",
       "      <td>32</td>\n",
       "    </tr>\n",
       "    <tr>\n",
       "      <th>2</th>\n",
       "      <td>2018-12-31</td>\n",
       "      <td>Kepulauan Seribu</td>\n",
       "      <td>Malam</td>\n",
       "      <td>Hujan</td>\n",
       "      <td>70 - 90</td>\n",
       "      <td>24 - 32</td>\n",
       "      <td>70</td>\n",
       "      <td>90</td>\n",
       "      <td>24</td>\n",
       "      <td>32</td>\n",
       "    </tr>\n",
       "    <tr>\n",
       "      <th>3</th>\n",
       "      <td>2018-12-31</td>\n",
       "      <td>Kepulauan Seribu</td>\n",
       "      <td>Dini Hari</td>\n",
       "      <td>Hujan</td>\n",
       "      <td>70 - 90</td>\n",
       "      <td>24 - 32</td>\n",
       "      <td>70</td>\n",
       "      <td>90</td>\n",
       "      <td>24</td>\n",
       "      <td>32</td>\n",
       "    </tr>\n",
       "    <tr>\n",
       "      <th>4</th>\n",
       "      <td>2018-12-31</td>\n",
       "      <td>Jakarta Utara</td>\n",
       "      <td>Siang</td>\n",
       "      <td>Hujan</td>\n",
       "      <td>70 - 90</td>\n",
       "      <td>24 - 32</td>\n",
       "      <td>70</td>\n",
       "      <td>90</td>\n",
       "      <td>24</td>\n",
       "      <td>32</td>\n",
       "    </tr>\n",
       "  </tbody>\n",
       "</table>\n",
       "</div>"
      ],
      "text/plain": [
       "      tanggal           wilayah      waktu  cuaca kelembaban_persen  \\\n",
       "0  2018-12-31  Kepulauan Seribu      Siang  Hujan           70 - 90   \n",
       "1  2018-12-31  Kepulauan Seribu       Pagi  Hujan           70 - 90   \n",
       "2  2018-12-31  Kepulauan Seribu      Malam  Hujan           70 - 90   \n",
       "3  2018-12-31  Kepulauan Seribu  Dini Hari  Hujan           70 - 90   \n",
       "4  2018-12-31     Jakarta Utara      Siang  Hujan           70 - 90   \n",
       "\n",
       "  suhu_derajat_celcius kelembapan_min kelembapan_max suhu_min suhu_max  \n",
       "0              24 - 32             70             90       24       32  \n",
       "1              24 - 32             70             90       24       32  \n",
       "2              24 - 32             70             90       24       32  \n",
       "3              24 - 32             70             90       24       32  \n",
       "4              24 - 32             70             90       24       32  "
      ]
     },
     "execution_count": 172,
     "metadata": {},
     "output_type": "execute_result"
    }
   ],
   "source": [
    "df.head()"
   ]
  },
  {
   "cell_type": "code",
   "execution_count": 173,
   "metadata": {},
   "outputs": [],
   "source": [
    "df.drop(columns=[\"kelembaban_persen\", \"suhu_derajat_celcius\", \"tanggal\"], inplace=True)"
   ]
  },
  {
   "cell_type": "code",
   "execution_count": 174,
   "metadata": {},
   "outputs": [
    {
     "data": {
      "text/plain": [
       "Jakarta Utara       1400\n",
       "Jakarta Timur       1400\n",
       "Jakarta Selatan     1400\n",
       "Jakarta Pusat       1400\n",
       "Kepulauan Seribu    1399\n",
       "Jakarta Barat       1399\n",
       "Name: wilayah, dtype: int64"
      ]
     },
     "execution_count": 174,
     "metadata": {},
     "output_type": "execute_result"
    }
   ],
   "source": [
    "df.wilayah.value_counts()"
   ]
  },
  {
   "cell_type": "code",
   "execution_count": 175,
   "metadata": {},
   "outputs": [
    {
     "data": {
      "text/plain": [
       "wilayah           object\n",
       "waktu             object\n",
       "cuaca             object\n",
       "kelembapan_min    object\n",
       "kelembapan_max    object\n",
       "suhu_min          object\n",
       "suhu_max          object\n",
       "dtype: object"
      ]
     },
     "execution_count": 175,
     "metadata": {},
     "output_type": "execute_result"
    }
   ],
   "source": [
    "df.dtypes"
   ]
  },
  {
   "cell_type": "code",
   "execution_count": 176,
   "metadata": {},
   "outputs": [
    {
     "data": {
      "text/plain": [
       "wilayah           object\n",
       "waktu             object\n",
       "cuaca             object\n",
       "kelembapan_min     int32\n",
       "kelembapan_max     int32\n",
       "suhu_min           int32\n",
       "suhu_max           int32\n",
       "dtype: object"
      ]
     },
     "execution_count": 176,
     "metadata": {},
     "output_type": "execute_result"
    }
   ],
   "source": [
    "df[\"kelembapan_min\"] = df.kelembapan_min.astype(int)\n",
    "df[\"kelembapan_max\"] = df.kelembapan_max.astype(int)\n",
    "df[\"suhu_min\"] = df.suhu_min.astype(int)\n",
    "df[\"suhu_max\"] = df.suhu_max.astype(int)\n",
    "df.dtypes"
   ]
  },
  {
   "cell_type": "code",
   "execution_count": 177,
   "metadata": {},
   "outputs": [],
   "source": [
    "# sns.pairplot(df, hue=\"cuaca\", corner=True)"
   ]
  },
  {
   "cell_type": "code",
   "execution_count": 178,
   "metadata": {},
   "outputs": [],
   "source": [
    "replacement_mapping_dict = {\n",
    "    \"Cerah\": 0,\n",
    "    \"Berawan\": 1,\n",
    "    \"Hujan\": 2,\n",
    "}\n",
    "df[\"cuaca\"].replace(replacement_mapping_dict, inplace=True)"
   ]
  },
  {
   "cell_type": "code",
   "execution_count": 179,
   "metadata": {},
   "outputs": [
    {
     "data": {
      "text/html": [
       "<div>\n",
       "<style scoped>\n",
       "    .dataframe tbody tr th:only-of-type {\n",
       "        vertical-align: middle;\n",
       "    }\n",
       "\n",
       "    .dataframe tbody tr th {\n",
       "        vertical-align: top;\n",
       "    }\n",
       "\n",
       "    .dataframe thead th {\n",
       "        text-align: right;\n",
       "    }\n",
       "</style>\n",
       "<table border=\"1\" class=\"dataframe\">\n",
       "  <thead>\n",
       "    <tr style=\"text-align: right;\">\n",
       "      <th></th>\n",
       "      <th>wilayah</th>\n",
       "      <th>waktu</th>\n",
       "      <th>cuaca</th>\n",
       "      <th>kelembapan_min</th>\n",
       "      <th>kelembapan_max</th>\n",
       "      <th>suhu_min</th>\n",
       "      <th>suhu_max</th>\n",
       "    </tr>\n",
       "  </thead>\n",
       "  <tbody>\n",
       "    <tr>\n",
       "      <th>0</th>\n",
       "      <td>Kepulauan Seribu</td>\n",
       "      <td>Siang</td>\n",
       "      <td>2</td>\n",
       "      <td>70</td>\n",
       "      <td>90</td>\n",
       "      <td>24</td>\n",
       "      <td>32</td>\n",
       "    </tr>\n",
       "    <tr>\n",
       "      <th>1</th>\n",
       "      <td>Kepulauan Seribu</td>\n",
       "      <td>Pagi</td>\n",
       "      <td>2</td>\n",
       "      <td>70</td>\n",
       "      <td>90</td>\n",
       "      <td>24</td>\n",
       "      <td>32</td>\n",
       "    </tr>\n",
       "    <tr>\n",
       "      <th>2</th>\n",
       "      <td>Kepulauan Seribu</td>\n",
       "      <td>Malam</td>\n",
       "      <td>2</td>\n",
       "      <td>70</td>\n",
       "      <td>90</td>\n",
       "      <td>24</td>\n",
       "      <td>32</td>\n",
       "    </tr>\n",
       "    <tr>\n",
       "      <th>3</th>\n",
       "      <td>Kepulauan Seribu</td>\n",
       "      <td>Dini Hari</td>\n",
       "      <td>2</td>\n",
       "      <td>70</td>\n",
       "      <td>90</td>\n",
       "      <td>24</td>\n",
       "      <td>32</td>\n",
       "    </tr>\n",
       "    <tr>\n",
       "      <th>4</th>\n",
       "      <td>Jakarta Utara</td>\n",
       "      <td>Siang</td>\n",
       "      <td>2</td>\n",
       "      <td>70</td>\n",
       "      <td>90</td>\n",
       "      <td>24</td>\n",
       "      <td>32</td>\n",
       "    </tr>\n",
       "  </tbody>\n",
       "</table>\n",
       "</div>"
      ],
      "text/plain": [
       "            wilayah      waktu  cuaca  kelembapan_min  kelembapan_max  \\\n",
       "0  Kepulauan Seribu      Siang      2              70              90   \n",
       "1  Kepulauan Seribu       Pagi      2              70              90   \n",
       "2  Kepulauan Seribu      Malam      2              70              90   \n",
       "3  Kepulauan Seribu  Dini Hari      2              70              90   \n",
       "4     Jakarta Utara      Siang      2              70              90   \n",
       "\n",
       "   suhu_min  suhu_max  \n",
       "0        24        32  \n",
       "1        24        32  \n",
       "2        24        32  \n",
       "3        24        32  \n",
       "4        24        32  "
      ]
     },
     "execution_count": 179,
     "metadata": {},
     "output_type": "execute_result"
    }
   ],
   "source": [
    "df.head()"
   ]
  },
  {
   "cell_type": "code",
   "execution_count": 180,
   "metadata": {},
   "outputs": [
    {
     "data": {
      "text/plain": [
       "((6718, 6), (1680, 6), (6718,), (1680,))"
      ]
     },
     "execution_count": 180,
     "metadata": {},
     "output_type": "execute_result"
    }
   ],
   "source": [
    "X = df.drop(columns=[\"cuaca\"])\n",
    "y = df[\"cuaca\"]\n",
    "\n",
    "X_train, X_test, y_train, y_test = train_test_split(X, y, test_size=0.2, stratify=y, random_state=42)\n",
    "X_train.shape, X_test.shape, y_train.shape, y_test.shape"
   ]
  },
  {
   "cell_type": "code",
   "execution_count": 181,
   "metadata": {},
   "outputs": [
    {
     "data": {
      "text/html": [
       "<div>\n",
       "<style scoped>\n",
       "    .dataframe tbody tr th:only-of-type {\n",
       "        vertical-align: middle;\n",
       "    }\n",
       "\n",
       "    .dataframe tbody tr th {\n",
       "        vertical-align: top;\n",
       "    }\n",
       "\n",
       "    .dataframe thead th {\n",
       "        text-align: right;\n",
       "    }\n",
       "</style>\n",
       "<table border=\"1\" class=\"dataframe\">\n",
       "  <thead>\n",
       "    <tr style=\"text-align: right;\">\n",
       "      <th></th>\n",
       "      <th>wilayah</th>\n",
       "      <th>waktu</th>\n",
       "      <th>kelembapan_min</th>\n",
       "      <th>kelembapan_max</th>\n",
       "      <th>suhu_min</th>\n",
       "      <th>suhu_max</th>\n",
       "    </tr>\n",
       "  </thead>\n",
       "  <tbody>\n",
       "    <tr>\n",
       "      <th>1768</th>\n",
       "      <td>Jakarta Pusat</td>\n",
       "      <td>Siang</td>\n",
       "      <td>60</td>\n",
       "      <td>90</td>\n",
       "      <td>24</td>\n",
       "      <td>34</td>\n",
       "    </tr>\n",
       "    <tr>\n",
       "      <th>6034</th>\n",
       "      <td>Jakarta Timur</td>\n",
       "      <td>Malam</td>\n",
       "      <td>75</td>\n",
       "      <td>95</td>\n",
       "      <td>24</td>\n",
       "      <td>34</td>\n",
       "    </tr>\n",
       "    <tr>\n",
       "      <th>2491</th>\n",
       "      <td>Jakarta Pusat</td>\n",
       "      <td>Dini Hari</td>\n",
       "      <td>40</td>\n",
       "      <td>85</td>\n",
       "      <td>24</td>\n",
       "      <td>34</td>\n",
       "    </tr>\n",
       "    <tr>\n",
       "      <th>6349</th>\n",
       "      <td>Jakarta Selatan</td>\n",
       "      <td>Pagi</td>\n",
       "      <td>70</td>\n",
       "      <td>95</td>\n",
       "      <td>23</td>\n",
       "      <td>33</td>\n",
       "    </tr>\n",
       "    <tr>\n",
       "      <th>3486</th>\n",
       "      <td>Jakarta Utara</td>\n",
       "      <td>Malam</td>\n",
       "      <td>45</td>\n",
       "      <td>75</td>\n",
       "      <td>22</td>\n",
       "      <td>32</td>\n",
       "    </tr>\n",
       "  </tbody>\n",
       "</table>\n",
       "</div>"
      ],
      "text/plain": [
       "              wilayah      waktu  kelembapan_min  kelembapan_max  suhu_min  \\\n",
       "1768    Jakarta Pusat      Siang              60              90        24   \n",
       "6034    Jakarta Timur      Malam              75              95        24   \n",
       "2491    Jakarta Pusat  Dini Hari              40              85        24   \n",
       "6349  Jakarta Selatan       Pagi              70              95        23   \n",
       "3486    Jakarta Utara      Malam              45              75        22   \n",
       "\n",
       "      suhu_max  \n",
       "1768        34  \n",
       "6034        34  \n",
       "2491        34  \n",
       "6349        33  \n",
       "3486        32  "
      ]
     },
     "execution_count": 181,
     "metadata": {},
     "output_type": "execute_result"
    }
   ],
   "source": [
    "X_train.head()"
   ]
  },
  {
   "cell_type": "code",
   "execution_count": 190,
   "metadata": {},
   "outputs": [
    {
     "name": "stderr",
     "output_type": "stream",
     "text": [
      "D:\\python\\lib\\site-packages\\sklearn\\utils\\deprecation.py:87: FutureWarning: Function get_feature_names is deprecated; get_feature_names is deprecated in 1.0 and will be removed in 1.2. Please use get_feature_names_out instead.\n",
      "  warnings.warn(msg, category=FutureWarning)\n",
      "D:\\python\\lib\\site-packages\\sklearn\\utils\\deprecation.py:87: FutureWarning: Function get_feature_names is deprecated; get_feature_names is deprecated in 1.0 and will be removed in 1.2. Please use get_feature_names_out instead.\n",
      "  warnings.warn(msg, category=FutureWarning)\n"
     ]
    },
    {
     "data": {
      "text/html": [
       "<div>\n",
       "<style scoped>\n",
       "    .dataframe tbody tr th:only-of-type {\n",
       "        vertical-align: middle;\n",
       "    }\n",
       "\n",
       "    .dataframe tbody tr th {\n",
       "        vertical-align: top;\n",
       "    }\n",
       "\n",
       "    .dataframe thead th {\n",
       "        text-align: right;\n",
       "    }\n",
       "</style>\n",
       "<table border=\"1\" class=\"dataframe\">\n",
       "  <thead>\n",
       "    <tr style=\"text-align: right;\">\n",
       "      <th></th>\n",
       "      <th>1</th>\n",
       "      <th>kelembapan_min</th>\n",
       "      <th>kelembapan_max</th>\n",
       "      <th>suhu_min</th>\n",
       "      <th>suhu_max</th>\n",
       "      <th>kelembapan_min^2</th>\n",
       "      <th>kelembapan_min kelembapan_max</th>\n",
       "      <th>kelembapan_min suhu_min</th>\n",
       "      <th>kelembapan_min suhu_max</th>\n",
       "      <th>kelembapan_max^2</th>\n",
       "      <th>kelembapan_max suhu_min</th>\n",
       "      <th>kelembapan_max suhu_max</th>\n",
       "      <th>suhu_min^2</th>\n",
       "      <th>suhu_min suhu_max</th>\n",
       "      <th>suhu_max^2</th>\n",
       "      <th>wilayah</th>\n",
       "      <th>waktu</th>\n",
       "    </tr>\n",
       "  </thead>\n",
       "  <tbody>\n",
       "    <tr>\n",
       "      <th>0</th>\n",
       "      <td>1.0</td>\n",
       "      <td>60.0</td>\n",
       "      <td>90.0</td>\n",
       "      <td>24.0</td>\n",
       "      <td>34.0</td>\n",
       "      <td>3600.0</td>\n",
       "      <td>5400.0</td>\n",
       "      <td>1440.0</td>\n",
       "      <td>2040.0</td>\n",
       "      <td>8100.0</td>\n",
       "      <td>2160.0</td>\n",
       "      <td>3060.0</td>\n",
       "      <td>576.0</td>\n",
       "      <td>816.0</td>\n",
       "      <td>1156.0</td>\n",
       "      <td>Kepulauan Seribu</td>\n",
       "      <td>Siang</td>\n",
       "    </tr>\n",
       "    <tr>\n",
       "      <th>1</th>\n",
       "      <td>1.0</td>\n",
       "      <td>75.0</td>\n",
       "      <td>95.0</td>\n",
       "      <td>24.0</td>\n",
       "      <td>34.0</td>\n",
       "      <td>5625.0</td>\n",
       "      <td>7125.0</td>\n",
       "      <td>1800.0</td>\n",
       "      <td>2550.0</td>\n",
       "      <td>9025.0</td>\n",
       "      <td>2280.0</td>\n",
       "      <td>3230.0</td>\n",
       "      <td>576.0</td>\n",
       "      <td>816.0</td>\n",
       "      <td>1156.0</td>\n",
       "      <td>NaN</td>\n",
       "      <td>NaN</td>\n",
       "    </tr>\n",
       "    <tr>\n",
       "      <th>2</th>\n",
       "      <td>1.0</td>\n",
       "      <td>40.0</td>\n",
       "      <td>85.0</td>\n",
       "      <td>24.0</td>\n",
       "      <td>34.0</td>\n",
       "      <td>1600.0</td>\n",
       "      <td>3400.0</td>\n",
       "      <td>960.0</td>\n",
       "      <td>1360.0</td>\n",
       "      <td>7225.0</td>\n",
       "      <td>2040.0</td>\n",
       "      <td>2890.0</td>\n",
       "      <td>576.0</td>\n",
       "      <td>816.0</td>\n",
       "      <td>1156.0</td>\n",
       "      <td>Kepulauan Seribu</td>\n",
       "      <td>Malam</td>\n",
       "    </tr>\n",
       "    <tr>\n",
       "      <th>3</th>\n",
       "      <td>1.0</td>\n",
       "      <td>70.0</td>\n",
       "      <td>95.0</td>\n",
       "      <td>23.0</td>\n",
       "      <td>33.0</td>\n",
       "      <td>4900.0</td>\n",
       "      <td>6650.0</td>\n",
       "      <td>1610.0</td>\n",
       "      <td>2310.0</td>\n",
       "      <td>9025.0</td>\n",
       "      <td>2185.0</td>\n",
       "      <td>3135.0</td>\n",
       "      <td>529.0</td>\n",
       "      <td>759.0</td>\n",
       "      <td>1089.0</td>\n",
       "      <td>Kepulauan Seribu</td>\n",
       "      <td>Dini Hari</td>\n",
       "    </tr>\n",
       "    <tr>\n",
       "      <th>4</th>\n",
       "      <td>1.0</td>\n",
       "      <td>45.0</td>\n",
       "      <td>75.0</td>\n",
       "      <td>22.0</td>\n",
       "      <td>32.0</td>\n",
       "      <td>2025.0</td>\n",
       "      <td>3375.0</td>\n",
       "      <td>990.0</td>\n",
       "      <td>1440.0</td>\n",
       "      <td>5625.0</td>\n",
       "      <td>1650.0</td>\n",
       "      <td>2400.0</td>\n",
       "      <td>484.0</td>\n",
       "      <td>704.0</td>\n",
       "      <td>1024.0</td>\n",
       "      <td>Jakarta Utara</td>\n",
       "      <td>Siang</td>\n",
       "    </tr>\n",
       "  </tbody>\n",
       "</table>\n",
       "</div>"
      ],
      "text/plain": [
       "     1  kelembapan_min  kelembapan_max  suhu_min  suhu_max  kelembapan_min^2  \\\n",
       "0  1.0            60.0            90.0      24.0      34.0            3600.0   \n",
       "1  1.0            75.0            95.0      24.0      34.0            5625.0   \n",
       "2  1.0            40.0            85.0      24.0      34.0            1600.0   \n",
       "3  1.0            70.0            95.0      23.0      33.0            4900.0   \n",
       "4  1.0            45.0            75.0      22.0      32.0            2025.0   \n",
       "\n",
       "   kelembapan_min kelembapan_max  kelembapan_min suhu_min  \\\n",
       "0                         5400.0                   1440.0   \n",
       "1                         7125.0                   1800.0   \n",
       "2                         3400.0                    960.0   \n",
       "3                         6650.0                   1610.0   \n",
       "4                         3375.0                    990.0   \n",
       "\n",
       "   kelembapan_min suhu_max  kelembapan_max^2  kelembapan_max suhu_min  \\\n",
       "0                   2040.0            8100.0                   2160.0   \n",
       "1                   2550.0            9025.0                   2280.0   \n",
       "2                   1360.0            7225.0                   2040.0   \n",
       "3                   2310.0            9025.0                   2185.0   \n",
       "4                   1440.0            5625.0                   1650.0   \n",
       "\n",
       "   kelembapan_max suhu_max  suhu_min^2  suhu_min suhu_max  suhu_max^2  \\\n",
       "0                   3060.0       576.0              816.0      1156.0   \n",
       "1                   3230.0       576.0              816.0      1156.0   \n",
       "2                   2890.0       576.0              816.0      1156.0   \n",
       "3                   3135.0       529.0              759.0      1089.0   \n",
       "4                   2400.0       484.0              704.0      1024.0   \n",
       "\n",
       "            wilayah      waktu  \n",
       "0  Kepulauan Seribu      Siang  \n",
       "1               NaN        NaN  \n",
       "2  Kepulauan Seribu      Malam  \n",
       "3  Kepulauan Seribu  Dini Hari  \n",
       "4     Jakarta Utara      Siang  "
      ]
     },
     "execution_count": 190,
     "metadata": {},
     "output_type": "execute_result"
    }
   ],
   "source": [
    "from sklearn.preprocessing import PolynomialFeatures\n",
    "poly = PolynomialFeatures(degree=2)\n",
    "\n",
    "numeric = [\"kelembapan_min\", \"kelembapan_max\", \"suhu_min\", \"suhu_max\"]\n",
    "cat = [\"wilayah\", \"waktu\"]\n",
    "\n",
    "X_train_poly = poly.fit_transform(X_train[numeric])\n",
    "X_test_poly = poly.fit_transform(X_test[numeric])\n",
    "\n",
    "X_train_poly = pd.DataFrame(data=X_train_poly, columns=poly.get_feature_names(numeric))\n",
    "X_test_poly = pd.DataFrame(data=X_test_poly, columns=poly.get_feature_names(numeric))\n",
    "\n",
    "X_train_poly[cat] = X_train[cat]\n",
    "X_test_poly[cat] = X_test[cat]\n",
    "\n",
    "X_train_poly.head()"
   ]
  },
  {
   "cell_type": "code",
   "execution_count": 194,
   "metadata": {},
   "outputs": [
    {
     "data": {
      "text/plain": [
       "1                                   0\n",
       "kelembapan_min                      0\n",
       "kelembapan_max                      0\n",
       "suhu_min                            0\n",
       "suhu_max                            0\n",
       "kelembapan_min^2                    0\n",
       "kelembapan_min kelembapan_max       0\n",
       "kelembapan_min suhu_min             0\n",
       "kelembapan_min suhu_max             0\n",
       "kelembapan_max^2                    0\n",
       "kelembapan_max suhu_min             0\n",
       "kelembapan_max suhu_max             0\n",
       "suhu_min^2                          0\n",
       "suhu_min suhu_max                   0\n",
       "suhu_max^2                          0\n",
       "wilayah                          1326\n",
       "waktu                            1326\n",
       "dtype: int64"
      ]
     },
     "execution_count": 194,
     "metadata": {},
     "output_type": "execute_result"
    }
   ],
   "source": [
    "X_test_poly.isna().sum()\n",
    "X_train_poly.isna().sum()"
   ]
  },
  {
   "cell_type": "code",
   "execution_count": 195,
   "metadata": {},
   "outputs": [
    {
     "data": {
      "text/plain": [
       "((6718, 17), (1680, 17))"
      ]
     },
     "execution_count": 195,
     "metadata": {},
     "output_type": "execute_result"
    }
   ],
   "source": [
    "X_train_poly.shape, X_test_poly.shape"
   ]
  },
  {
   "cell_type": "code",
   "execution_count": 184,
   "metadata": {},
   "outputs": [],
   "source": [
    "X_train_poly = pd.get_dummies(X_train_poly, columns=[\"waktu\", \"wilayah\"])\n",
    "X_test_poly = pd.get_dummies(X_test_poly, columns=[\"waktu\", \"wilayah\"])"
   ]
  },
  {
   "cell_type": "code",
   "execution_count": 185,
   "metadata": {},
   "outputs": [
    {
     "data": {
      "text/html": [
       "<div>\n",
       "<style scoped>\n",
       "    .dataframe tbody tr th:only-of-type {\n",
       "        vertical-align: middle;\n",
       "    }\n",
       "\n",
       "    .dataframe tbody tr th {\n",
       "        vertical-align: top;\n",
       "    }\n",
       "\n",
       "    .dataframe thead th {\n",
       "        text-align: right;\n",
       "    }\n",
       "</style>\n",
       "<table border=\"1\" class=\"dataframe\">\n",
       "  <thead>\n",
       "    <tr style=\"text-align: right;\">\n",
       "      <th></th>\n",
       "      <th>1</th>\n",
       "      <th>kelembapan_min</th>\n",
       "      <th>kelembapan_max</th>\n",
       "      <th>suhu_min</th>\n",
       "      <th>suhu_max</th>\n",
       "      <th>kelembapan_min^2</th>\n",
       "      <th>kelembapan_min kelembapan_max</th>\n",
       "      <th>kelembapan_min suhu_min</th>\n",
       "      <th>kelembapan_min suhu_max</th>\n",
       "      <th>kelembapan_max^2</th>\n",
       "      <th>...</th>\n",
       "      <th>waktu_Dini Hari</th>\n",
       "      <th>waktu_Malam</th>\n",
       "      <th>waktu_Pagi</th>\n",
       "      <th>waktu_Siang</th>\n",
       "      <th>wilayah_Jakarta Barat</th>\n",
       "      <th>wilayah_Jakarta Pusat</th>\n",
       "      <th>wilayah_Jakarta Selatan</th>\n",
       "      <th>wilayah_Jakarta Timur</th>\n",
       "      <th>wilayah_Jakarta Utara</th>\n",
       "      <th>wilayah_Kepulauan Seribu</th>\n",
       "    </tr>\n",
       "  </thead>\n",
       "  <tbody>\n",
       "    <tr>\n",
       "      <th>0</th>\n",
       "      <td>1.0</td>\n",
       "      <td>70.0</td>\n",
       "      <td>90.0</td>\n",
       "      <td>24.0</td>\n",
       "      <td>31.0</td>\n",
       "      <td>4900.0</td>\n",
       "      <td>6300.0</td>\n",
       "      <td>1680.0</td>\n",
       "      <td>2170.0</td>\n",
       "      <td>8100.0</td>\n",
       "      <td>...</td>\n",
       "      <td>0</td>\n",
       "      <td>0</td>\n",
       "      <td>0</td>\n",
       "      <td>0</td>\n",
       "      <td>0</td>\n",
       "      <td>0</td>\n",
       "      <td>0</td>\n",
       "      <td>0</td>\n",
       "      <td>0</td>\n",
       "      <td>0</td>\n",
       "    </tr>\n",
       "    <tr>\n",
       "      <th>1</th>\n",
       "      <td>1.0</td>\n",
       "      <td>45.0</td>\n",
       "      <td>90.0</td>\n",
       "      <td>24.0</td>\n",
       "      <td>34.0</td>\n",
       "      <td>2025.0</td>\n",
       "      <td>4050.0</td>\n",
       "      <td>1080.0</td>\n",
       "      <td>1530.0</td>\n",
       "      <td>8100.0</td>\n",
       "      <td>...</td>\n",
       "      <td>0</td>\n",
       "      <td>0</td>\n",
       "      <td>1</td>\n",
       "      <td>0</td>\n",
       "      <td>0</td>\n",
       "      <td>0</td>\n",
       "      <td>0</td>\n",
       "      <td>0</td>\n",
       "      <td>0</td>\n",
       "      <td>1</td>\n",
       "    </tr>\n",
       "    <tr>\n",
       "      <th>2</th>\n",
       "      <td>1.0</td>\n",
       "      <td>55.0</td>\n",
       "      <td>85.0</td>\n",
       "      <td>23.0</td>\n",
       "      <td>33.0</td>\n",
       "      <td>3025.0</td>\n",
       "      <td>4675.0</td>\n",
       "      <td>1265.0</td>\n",
       "      <td>1815.0</td>\n",
       "      <td>7225.0</td>\n",
       "      <td>...</td>\n",
       "      <td>0</td>\n",
       "      <td>0</td>\n",
       "      <td>0</td>\n",
       "      <td>0</td>\n",
       "      <td>0</td>\n",
       "      <td>0</td>\n",
       "      <td>0</td>\n",
       "      <td>0</td>\n",
       "      <td>0</td>\n",
       "      <td>0</td>\n",
       "    </tr>\n",
       "    <tr>\n",
       "      <th>3</th>\n",
       "      <td>1.0</td>\n",
       "      <td>50.0</td>\n",
       "      <td>90.0</td>\n",
       "      <td>23.0</td>\n",
       "      <td>34.0</td>\n",
       "      <td>2500.0</td>\n",
       "      <td>4500.0</td>\n",
       "      <td>1150.0</td>\n",
       "      <td>1700.0</td>\n",
       "      <td>8100.0</td>\n",
       "      <td>...</td>\n",
       "      <td>0</td>\n",
       "      <td>0</td>\n",
       "      <td>0</td>\n",
       "      <td>0</td>\n",
       "      <td>0</td>\n",
       "      <td>0</td>\n",
       "      <td>0</td>\n",
       "      <td>0</td>\n",
       "      <td>0</td>\n",
       "      <td>0</td>\n",
       "    </tr>\n",
       "    <tr>\n",
       "      <th>4</th>\n",
       "      <td>1.0</td>\n",
       "      <td>55.0</td>\n",
       "      <td>90.0</td>\n",
       "      <td>24.0</td>\n",
       "      <td>33.0</td>\n",
       "      <td>3025.0</td>\n",
       "      <td>4950.0</td>\n",
       "      <td>1320.0</td>\n",
       "      <td>1815.0</td>\n",
       "      <td>8100.0</td>\n",
       "      <td>...</td>\n",
       "      <td>0</td>\n",
       "      <td>0</td>\n",
       "      <td>0</td>\n",
       "      <td>0</td>\n",
       "      <td>0</td>\n",
       "      <td>0</td>\n",
       "      <td>0</td>\n",
       "      <td>0</td>\n",
       "      <td>0</td>\n",
       "      <td>0</td>\n",
       "    </tr>\n",
       "  </tbody>\n",
       "</table>\n",
       "<p>5 rows × 25 columns</p>\n",
       "</div>"
      ],
      "text/plain": [
       "     1  kelembapan_min  kelembapan_max  suhu_min  suhu_max  kelembapan_min^2  \\\n",
       "0  1.0            70.0            90.0      24.0      31.0            4900.0   \n",
       "1  1.0            45.0            90.0      24.0      34.0            2025.0   \n",
       "2  1.0            55.0            85.0      23.0      33.0            3025.0   \n",
       "3  1.0            50.0            90.0      23.0      34.0            2500.0   \n",
       "4  1.0            55.0            90.0      24.0      33.0            3025.0   \n",
       "\n",
       "   kelembapan_min kelembapan_max  kelembapan_min suhu_min  \\\n",
       "0                         6300.0                   1680.0   \n",
       "1                         4050.0                   1080.0   \n",
       "2                         4675.0                   1265.0   \n",
       "3                         4500.0                   1150.0   \n",
       "4                         4950.0                   1320.0   \n",
       "\n",
       "   kelembapan_min suhu_max  kelembapan_max^2  ...  waktu_Dini Hari  \\\n",
       "0                   2170.0            8100.0  ...                0   \n",
       "1                   1530.0            8100.0  ...                0   \n",
       "2                   1815.0            7225.0  ...                0   \n",
       "3                   1700.0            8100.0  ...                0   \n",
       "4                   1815.0            8100.0  ...                0   \n",
       "\n",
       "   waktu_Malam  waktu_Pagi  waktu_Siang  wilayah_Jakarta Barat  \\\n",
       "0            0           0            0                      0   \n",
       "1            0           1            0                      0   \n",
       "2            0           0            0                      0   \n",
       "3            0           0            0                      0   \n",
       "4            0           0            0                      0   \n",
       "\n",
       "   wilayah_Jakarta Pusat  wilayah_Jakarta Selatan  wilayah_Jakarta Timur  \\\n",
       "0                      0                        0                      0   \n",
       "1                      0                        0                      0   \n",
       "2                      0                        0                      0   \n",
       "3                      0                        0                      0   \n",
       "4                      0                        0                      0   \n",
       "\n",
       "   wilayah_Jakarta Utara  wilayah_Kepulauan Seribu  \n",
       "0                      0                         0  \n",
       "1                      0                         1  \n",
       "2                      0                         0  \n",
       "3                      0                         0  \n",
       "4                      0                         0  \n",
       "\n",
       "[5 rows x 25 columns]"
      ]
     },
     "execution_count": 185,
     "metadata": {},
     "output_type": "execute_result"
    }
   ],
   "source": [
    "X_test_poly.head()"
   ]
  },
  {
   "cell_type": "code",
   "execution_count": 186,
   "metadata": {},
   "outputs": [],
   "source": [
    "from jcopml.tuning.space import Integer, Real\n",
    "\n",
    "parameters = {\n",
    "    'max_depth': Integer(low=1, high=10),\n",
    "    'learning_rate': Real(low=-2, high=0, prior='log-uniform'),\n",
    "    'n_estimators': Integer(low=100, high=200),\n",
    "    'subsample': Real(low=0.3, high=0.8, prior='uniform'),\n",
    "    'gamma': Integer(low=1, high=10),\n",
    "    'colsample_bytree': Real(low=0.1, high=1, prior='uniform'),\n",
    "    'reg_alpha': Real(low=-3, high=1, prior='log-uniform'),\n",
    "    'reg_lambda': Real(low=-3, high=1, prior='log-uniform')\n",
    "}"
   ]
  },
  {
   "cell_type": "code",
   "execution_count": null,
   "metadata": {},
   "outputs": [],
   "source": []
  },
  {
   "cell_type": "code",
   "execution_count": 187,
   "metadata": {},
   "outputs": [],
   "source": [
    "# from sklearn.preprocessing import PolynomialFeatures\n",
    "# poly = PolynomialFeatures(degree=2)\n",
    "\n",
    "# numeric = [\"kelembapan_min\", \"kelembapan_max\", \"suhu_min\", \"suhu_max\"]\n",
    "\n",
    "# X_train_poly = poly.fit_transform(X_train[numeric])\n",
    "# X_test_poly = poly.fit_transform(X_test[numeric])\n",
    "\n",
    "# X_train_numeric = pd.DataFrame(data=X_train_poly, columns=poly.get_feature_names(numeric))\n",
    "# X_test_numeric = pd.DataFrame(data=X_test_poly, columns=poly.get_feature_names(numeric))\n",
    "\n",
    "# X_test_numeric.head()"
   ]
  },
  {
   "cell_type": "code",
   "execution_count": 188,
   "metadata": {},
   "outputs": [
    {
     "data": {
      "text/plain": [
       "70    1392\n",
       "55    1057\n",
       "65    1001\n",
       "60     957\n",
       "75     678\n",
       "50     495\n",
       "45     479\n",
       "80     388\n",
       "40     157\n",
       "35      77\n",
       "85      37\n",
       "Name: kelembapan_min, dtype: int64"
      ]
     },
     "execution_count": 188,
     "metadata": {},
     "output_type": "execute_result"
    }
   ],
   "source": [
    "X_train.kelembapan_min.value_counts()"
   ]
  },
  {
   "cell_type": "code",
   "execution_count": 189,
   "metadata": {},
   "outputs": [
    {
     "name": "stderr",
     "output_type": "stream",
     "text": [
      "D:\\python\\lib\\site-packages\\sklearn\\utils\\deprecation.py:87: FutureWarning: Function get_feature_names is deprecated; get_feature_names is deprecated in 1.0 and will be removed in 1.2. Please use get_feature_names_out instead.\n",
      "  warnings.warn(msg, category=FutureWarning)\n",
      "D:\\python\\lib\\site-packages\\sklearn\\utils\\deprecation.py:87: FutureWarning: Function get_feature_names is deprecated; get_feature_names is deprecated in 1.0 and will be removed in 1.2. Please use get_feature_names_out instead.\n",
      "  warnings.warn(msg, category=FutureWarning)\n"
     ]
    },
    {
     "name": "stdout",
     "output_type": "stream",
     "text": [
      "Fitting 3 folds for each of 50 candidates, totalling 150 fits\n",
      "[15:27:08] WARNING: C:/Users/Administrator/workspace/xgboost-win64_release_1.5.1/src/learner.cc:1115: Starting in XGBoost 1.3.0, the default evaluation metric used with the objective 'multi:softprob' was changed from 'merror' to 'mlogloss'. Explicitly set eval_metric if you'd like to restore the old behavior.\n",
      "{'colsample_bytree': 0.8347886858974456, 'gamma': 1, 'learning_rate': 0.020018663891407017, 'max_depth': 6, 'n_estimators': 179, 'reg_alpha': 0.0014557961490251987, 'reg_lambda': 0.23097861492693586, 'subsample': 0.6387821809211413}\n",
      "[[643  97  20]\n",
      " [273 217  89]\n",
      " [106 145  90]] \n",
      "\n",
      "              precision    recall  f1-score   support\n",
      "\n",
      "           0       0.64      0.86      0.73      3036\n",
      "           1       0.52      0.42      0.46      2317\n",
      "           2       0.56      0.31      0.40      1365\n",
      "\n",
      "    accuracy                           0.60      6718\n",
      "   macro avg       0.57      0.53      0.53      6718\n",
      "weighted avg       0.58      0.60      0.57      6718\n",
      " \n",
      "\n",
      "              precision    recall  f1-score   support\n",
      "\n",
      "           0       0.63      0.85      0.72       760\n",
      "           1       0.47      0.37      0.42       579\n",
      "           2       0.45      0.26      0.33       341\n",
      "\n",
      "    accuracy                           0.57      1680\n",
      "   macro avg       0.52      0.49      0.49      1680\n",
      "weighted avg       0.54      0.57      0.54      1680\n",
      "\n"
     ]
    }
   ],
   "source": [
    "from sklearn.preprocessing import PolynomialFeatures\n",
    "poly = PolynomialFeatures(degree=2)\n",
    "\n",
    "numeric = [\"kelembapan_min\", \"kelembapan_max\", \"suhu_min\", \"suhu_max\"]\n",
    "\n",
    "X_train_poly = poly.fit_transform(X_train[numeric])\n",
    "X_test_poly = poly.fit_transform(X_test[numeric])\n",
    "\n",
    "X_train_numeric = pd.DataFrame(data=X_train_poly, columns=poly.get_feature_names(numeric))\n",
    "X_test_numeric = pd.DataFrame(data=X_test_poly, columns=poly.get_feature_names(numeric))\n",
    "\n",
    "X_test_numeric.head()\n",
    "\n",
    "\n",
    "\n",
    "from xgboost import XGBClassifier\n",
    "from sklearn.model_selection import RandomizedSearchCV\n",
    "from sklearn.metrics import confusion_matrix, classification_report\n",
    "\n",
    "XGB = XGBClassifier(n_jobs=-1, random_state=42, use_label_encoder=False)\n",
    "\n",
    "model = RandomizedSearchCV(XGB, parameters, cv=3, n_iter=50, n_jobs=-1, verbose=1, random_state=42)\n",
    "model.fit(X_train_poly, y_train)\n",
    "\n",
    "print(model.best_params_)\n",
    "\n",
    "y_pred = model.predict(X_test_poly)\n",
    "y_pred_train = model.predict(X_train_poly)\n",
    "\n",
    "print(confusion_matrix(y_test, y_pred), \"\\n\")\n",
    "print(classification_report(y_train, y_pred_train), \"\\n\")\n",
    "print(classification_report(y_test, y_pred))"
   ]
  },
  {
   "cell_type": "code",
   "execution_count": null,
   "metadata": {},
   "outputs": [],
   "source": []
  }
 ],
 "metadata": {
  "interpreter": {
   "hash": "4eaf1be304415beee96765ae99c3f893cc8312c7f1196698e6029668e9aeb3e5"
  },
  "kernelspec": {
   "display_name": "Python 3.10.2 64-bit",
   "language": "python",
   "name": "python3"
  },
  "language_info": {
   "codemirror_mode": {
    "name": "ipython",
    "version": 3
   },
   "file_extension": ".py",
   "mimetype": "text/x-python",
   "name": "python",
   "nbconvert_exporter": "python",
   "pygments_lexer": "ipython3",
   "version": "3.10.2"
  },
  "orig_nbformat": 4
 },
 "nbformat": 4,
 "nbformat_minor": 2
}
