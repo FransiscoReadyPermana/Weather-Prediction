{
 "cells": [
  {
   "cell_type": "markdown",
   "metadata": {},
   "source": [
    "# Import Package"
   ]
  },
  {
   "cell_type": "code",
   "execution_count": 1,
   "metadata": {},
   "outputs": [],
   "source": [
    "import pandas as pd\n",
    "import matplotlib.pyplot as plt\n",
    "import seaborn as sns\n",
    "from sklearn.model_selection import train_test_split\n",
    "from jcopml.feature_importance import mean_score_decrease"
   ]
  },
  {
   "cell_type": "markdown",
   "metadata": {},
   "source": [
    "# Import Data"
   ]
  },
  {
   "cell_type": "code",
   "execution_count": 2,
   "metadata": {},
   "outputs": [
    {
     "data": {
      "text/html": [
       "<div>\n",
       "<style scoped>\n",
       "    .dataframe tbody tr th:only-of-type {\n",
       "        vertical-align: middle;\n",
       "    }\n",
       "\n",
       "    .dataframe tbody tr th {\n",
       "        vertical-align: top;\n",
       "    }\n",
       "\n",
       "    .dataframe thead th {\n",
       "        text-align: right;\n",
       "    }\n",
       "</style>\n",
       "<table border=\"1\" class=\"dataframe\">\n",
       "  <thead>\n",
       "    <tr style=\"text-align: right;\">\n",
       "      <th></th>\n",
       "      <th>tanggal</th>\n",
       "      <th>wilayah</th>\n",
       "      <th>waktu</th>\n",
       "      <th>cuaca</th>\n",
       "      <th>kelembaban_persen</th>\n",
       "      <th>suhu_derajat_celcius</th>\n",
       "    </tr>\n",
       "  </thead>\n",
       "  <tbody>\n",
       "    <tr>\n",
       "      <th>0</th>\n",
       "      <td>2018-12-31</td>\n",
       "      <td>Kepulauan Seribu</td>\n",
       "      <td>Siang</td>\n",
       "      <td>Hujan Lokal</td>\n",
       "      <td>70 - 90</td>\n",
       "      <td>24 - 32</td>\n",
       "    </tr>\n",
       "    <tr>\n",
       "      <th>1</th>\n",
       "      <td>2018-12-31</td>\n",
       "      <td>Kepulauan Seribu</td>\n",
       "      <td>Pagi</td>\n",
       "      <td>Hujan Lokal</td>\n",
       "      <td>70 - 90</td>\n",
       "      <td>24 - 32</td>\n",
       "    </tr>\n",
       "    <tr>\n",
       "      <th>2</th>\n",
       "      <td>2018-12-31</td>\n",
       "      <td>Kepulauan Seribu</td>\n",
       "      <td>Malam</td>\n",
       "      <td>Hujan Lokal</td>\n",
       "      <td>70 - 90</td>\n",
       "      <td>24 - 32</td>\n",
       "    </tr>\n",
       "    <tr>\n",
       "      <th>3</th>\n",
       "      <td>2018-12-31</td>\n",
       "      <td>Kepulauan Seribu</td>\n",
       "      <td>Dini Hari</td>\n",
       "      <td>Hujan Ringan</td>\n",
       "      <td>70 - 90</td>\n",
       "      <td>24 - 32</td>\n",
       "    </tr>\n",
       "    <tr>\n",
       "      <th>4</th>\n",
       "      <td>2018-12-31</td>\n",
       "      <td>Jakarta Utara</td>\n",
       "      <td>Siang</td>\n",
       "      <td>Hujan Lokal</td>\n",
       "      <td>70 - 90</td>\n",
       "      <td>24 - 32</td>\n",
       "    </tr>\n",
       "  </tbody>\n",
       "</table>\n",
       "</div>"
      ],
      "text/plain": [
       "      tanggal           wilayah      waktu         cuaca kelembaban_persen  \\\n",
       "0  2018-12-31  Kepulauan Seribu      Siang   Hujan Lokal           70 - 90   \n",
       "1  2018-12-31  Kepulauan Seribu       Pagi   Hujan Lokal           70 - 90   \n",
       "2  2018-12-31  Kepulauan Seribu      Malam   Hujan Lokal           70 - 90   \n",
       "3  2018-12-31  Kepulauan Seribu  Dini Hari  Hujan Ringan           70 - 90   \n",
       "4  2018-12-31     Jakarta Utara      Siang   Hujan Lokal           70 - 90   \n",
       "\n",
       "  suhu_derajat_celcius  \n",
       "0              24 - 32  \n",
       "1              24 - 32  \n",
       "2              24 - 32  \n",
       "3              24 - 32  \n",
       "4              24 - 32  "
      ]
     },
     "execution_count": 2,
     "metadata": {},
     "output_type": "execute_result"
    }
   ],
   "source": [
    "df = pd.read_csv(\"data/dataset.csv\")\n",
    "df.head()"
   ]
  },
  {
   "cell_type": "markdown",
   "metadata": {},
   "source": [
    "mengambil dataset prakiraan cuaca Provinsi DKI Jakarta tahun 2018 dari website https://katalog.data.go.id/dataset/data-prakiraan-cuaca-wilayah-provinsi-dki-jakarta-tahun-2018"
   ]
  },
  {
   "attachments": {},
   "cell_type": "markdown",
   "metadata": {},
   "source": [
    "# Feature Engineering"
   ]
  },
  {
   "cell_type": "markdown",
   "metadata": {},
   "source": [
    "### Melihat Jumlah Baris dan Kolom"
   ]
  },
  {
   "cell_type": "code",
   "execution_count": 3,
   "metadata": {},
   "outputs": [
    {
     "data": {
      "text/plain": [
       "(8535, 6)"
      ]
     },
     "execution_count": 3,
     "metadata": {},
     "output_type": "execute_result"
    }
   ],
   "source": [
    "df.shape"
   ]
  },
  {
   "cell_type": "markdown",
   "metadata": {},
   "source": [
    "dataset terdiri dari 8535 baris dan 6 kolom"
   ]
  },
  {
   "cell_type": "markdown",
   "metadata": {},
   "source": [
    "### Melihat Missing Value"
   ]
  },
  {
   "cell_type": "code",
   "execution_count": 4,
   "metadata": {},
   "outputs": [
    {
     "data": {
      "text/plain": [
       "tanggal                 135\n",
       "wilayah                 135\n",
       "waktu                   135\n",
       "cuaca                   135\n",
       "kelembaban_persen       135\n",
       "suhu_derajat_celcius    135\n",
       "dtype: int64"
      ]
     },
     "execution_count": 4,
     "metadata": {},
     "output_type": "execute_result"
    }
   ],
   "source": [
    "df.isnull().sum()"
   ]
  },
  {
   "cell_type": "code",
   "execution_count": 5,
   "metadata": {},
   "outputs": [
    {
     "data": {
      "text/plain": [
       "tanggal                 0\n",
       "wilayah                 0\n",
       "waktu                   0\n",
       "cuaca                   0\n",
       "kelembaban_persen       0\n",
       "suhu_derajat_celcius    0\n",
       "dtype: int64"
      ]
     },
     "execution_count": 5,
     "metadata": {},
     "output_type": "execute_result"
    }
   ],
   "source": [
    "df.dropna(inplace=True)\n",
    "df.isnull().sum()"
   ]
  },
  {
   "cell_type": "markdown",
   "metadata": {},
   "source": [
    "membuang data yang kosong atau null"
   ]
  },
  {
   "cell_type": "markdown",
   "metadata": {},
   "source": [
    "#### Melihat Kembali Jumlah Baris dan Kolom"
   ]
  },
  {
   "cell_type": "code",
   "execution_count": 6,
   "metadata": {},
   "outputs": [
    {
     "data": {
      "text/plain": [
       "(8400, 6)"
      ]
     },
     "execution_count": 6,
     "metadata": {},
     "output_type": "execute_result"
    }
   ],
   "source": [
    "df.shape"
   ]
  },
  {
   "cell_type": "markdown",
   "metadata": {},
   "source": [
    "jumlah baris menjadi 8400 dan kolom tetap 6"
   ]
  },
  {
   "cell_type": "markdown",
   "metadata": {},
   "source": [
    "### Menggunakan Regex untuk mengelompokkan jenis Cuaca"
   ]
  },
  {
   "cell_type": "code",
   "execution_count": 7,
   "metadata": {},
   "outputs": [
    {
     "data": {
      "text/plain": [
       "array(['Hujan Lokal', 'Hujan Ringan', 'Berawan', 'Cerah Berawan', 'Cerah',\n",
       "       'Berawan Tebal', 'Hujan Sedang', 'Cerah Berawn', 'Cerang Berawan',\n",
       "       'Beawan', 'Berawan ', 'Hujan Petir', 'Hujan Lokal ',\n",
       "       'Cerah Berawan ', 'Cerah ', 'Cerah Berawah', 'Cerah  ', ' Berawan',\n",
       "       'Hujan', 'Hujan Petir ', 'Hujan Sedang ', 'Cerah berawan',\n",
       "       'Hujan Ringanl', 'Berawa', 'Hujang Sedang', 'Hujan Loka',\n",
       "       'Hujan Ringan '], dtype=object)"
      ]
     },
     "execution_count": 7,
     "metadata": {},
     "output_type": "execute_result"
    }
   ],
   "source": [
    "df[\"cuaca\"].unique()"
   ]
  },
  {
   "cell_type": "markdown",
   "metadata": {},
   "source": [
    "terdapat 27 jenis cuaca sehingga akan dikelompokkan jenis cuaca menjadi 3 yaitu Hujan, Cerah dan Berawan"
   ]
  },
  {
   "cell_type": "code",
   "execution_count": 8,
   "metadata": {},
   "outputs": [
    {
     "data": {
      "text/plain": [
       "Cerah                    3796\n",
       "Berawan                  2896\n",
       "Hujan                    1706\n",
       "Tidak Teridentifikasi       2\n",
       "Name: cuaca, dtype: int64"
      ]
     },
     "execution_count": 8,
     "metadata": {},
     "output_type": "execute_result"
    }
   ],
   "source": [
    "import re\n",
    "\n",
    "def cuaca(x):\n",
    "  if (re.findall(\"Cerah\", x)):\n",
    "    return 'Cerah'\n",
    "  elif (re.findall(\"Hujan\", x)):\n",
    "    return 'Hujan'\n",
    "  elif (re.findall(\"Berawan\", x)):\n",
    "    return 'Berawan'\n",
    "  else:\n",
    "    return 'Tidak Teridentifikasi'\n",
    "\n",
    "df[\"cuaca\"] = df['cuaca'].apply(cuaca)\n",
    "df[\"cuaca\"].value_counts()"
   ]
  },
  {
   "cell_type": "markdown",
   "metadata": {},
   "source": [
    "3796 data cuaca cerah<br>\n",
    "2896 data cuaca berawan<br>\n",
    "1706 data cuaca hujan<br>\n",
    "dan 2 data cuaca yang tidak teridentifikasi karena tidak termasuk jenis cuaca Hujan, Cerah maupun Berawan"
   ]
  },
  {
   "cell_type": "markdown",
   "metadata": {},
   "source": [
    "#### Membuang Data yang tidak sesuai atau tidak berhubungan"
   ]
  },
  {
   "cell_type": "code",
   "execution_count": 9,
   "metadata": {},
   "outputs": [
    {
     "data": {
      "text/plain": [
       "array(['Hujan', 'Berawan', 'Cerah'], dtype=object)"
      ]
     },
     "execution_count": 9,
     "metadata": {},
     "output_type": "execute_result"
    }
   ],
   "source": [
    "df.drop(df[df[\"cuaca\"] == \"Tidak Teridentifikasi\"].index, inplace=True)\n",
    "df[\"cuaca\"].unique()"
   ]
  },
  {
   "cell_type": "markdown",
   "metadata": {},
   "source": [
    "### Menggunakan Regex untuk mengelompokkan jenis Waktu"
   ]
  },
  {
   "cell_type": "code",
   "execution_count": 10,
   "metadata": {},
   "outputs": [
    {
     "data": {
      "text/plain": [
       "Siang        1758\n",
       "Pagi         1758\n",
       "Dini Hari    1758\n",
       "Malam        1757\n",
       "siang         342\n",
       "pagi          342\n",
       "malam         342\n",
       "dini hari     341\n",
       "Name: waktu, dtype: int64"
      ]
     },
     "execution_count": 10,
     "metadata": {},
     "output_type": "execute_result"
    }
   ],
   "source": [
    "df.waktu.value_counts()"
   ]
  },
  {
   "cell_type": "markdown",
   "metadata": {},
   "source": [
    "terdapat 8 jenis waktu pengambilan data cuaca sehingga akan dikelompokkan menjadi 4 waktu saja yaitu Siang, Pagi, Malam, dan Dini Hari"
   ]
  },
  {
   "cell_type": "code",
   "execution_count": 11,
   "metadata": {},
   "outputs": [
    {
     "data": {
      "text/plain": [
       "Siang        2100\n",
       "Pagi         2100\n",
       "Malam        2099\n",
       "Dini Hari    2099\n",
       "Name: waktu, dtype: int64"
      ]
     },
     "execution_count": 11,
     "metadata": {},
     "output_type": "execute_result"
    }
   ],
   "source": [
    "import re\n",
    "\n",
    "def cuaca(x):\n",
    "  if (re.findall(\"dini hari\", x)):\n",
    "    return 'Dini Hari'\n",
    "  elif (re.findall(\"siang\", x)):\n",
    "    return 'Siang'\n",
    "  elif (re.findall(\"pagi\", x)):\n",
    "    return 'Pagi'\n",
    "  elif (re.findall(\"malam\", x)):\n",
    "    return 'Malam'\n",
    "  else:\n",
    "    return x\n",
    "\n",
    "df[\"waktu\"] = df['waktu'].apply(cuaca)\n",
    "df[\"waktu\"].value_counts()"
   ]
  },
  {
   "cell_type": "markdown",
   "metadata": {},
   "source": [
    "Waktu Siang terdapat 2100 data<br>\n",
    "Waktu Pagi terdapat 2100 data<br>\n",
    "Waktu Malam terdapat 2100 data<br>\n",
    "Waktu Dini Hari terdapat 2100 data<br>"
   ]
  },
  {
   "cell_type": "markdown",
   "metadata": {},
   "source": [
    "membuang data cuaca yang tidak teridentifikasi sehingga tersisa 3 jenis cuaca yaitu Hujan, Berawan, dan Cerah"
   ]
  },
  {
   "cell_type": "markdown",
   "metadata": {},
   "source": [
    "### Split Data Kelembaban menjadi Kelembaban Minimal dan Maximal"
   ]
  },
  {
   "cell_type": "code",
   "execution_count": 12,
   "metadata": {},
   "outputs": [
    {
     "data": {
      "text/html": [
       "<div>\n",
       "<style scoped>\n",
       "    .dataframe tbody tr th:only-of-type {\n",
       "        vertical-align: middle;\n",
       "    }\n",
       "\n",
       "    .dataframe tbody tr th {\n",
       "        vertical-align: top;\n",
       "    }\n",
       "\n",
       "    .dataframe thead th {\n",
       "        text-align: right;\n",
       "    }\n",
       "</style>\n",
       "<table border=\"1\" class=\"dataframe\">\n",
       "  <thead>\n",
       "    <tr style=\"text-align: right;\">\n",
       "      <th></th>\n",
       "      <th>tanggal</th>\n",
       "      <th>wilayah</th>\n",
       "      <th>waktu</th>\n",
       "      <th>cuaca</th>\n",
       "      <th>kelembaban_persen</th>\n",
       "      <th>suhu_derajat_celcius</th>\n",
       "      <th>kelembaban_min</th>\n",
       "      <th>kelembaban_max</th>\n",
       "    </tr>\n",
       "  </thead>\n",
       "  <tbody>\n",
       "    <tr>\n",
       "      <th>0</th>\n",
       "      <td>2018-12-31</td>\n",
       "      <td>Kepulauan Seribu</td>\n",
       "      <td>Siang</td>\n",
       "      <td>Hujan</td>\n",
       "      <td>70 - 90</td>\n",
       "      <td>24 - 32</td>\n",
       "      <td>70</td>\n",
       "      <td>90</td>\n",
       "    </tr>\n",
       "    <tr>\n",
       "      <th>1</th>\n",
       "      <td>2018-12-31</td>\n",
       "      <td>Kepulauan Seribu</td>\n",
       "      <td>Pagi</td>\n",
       "      <td>Hujan</td>\n",
       "      <td>70 - 90</td>\n",
       "      <td>24 - 32</td>\n",
       "      <td>70</td>\n",
       "      <td>90</td>\n",
       "    </tr>\n",
       "    <tr>\n",
       "      <th>2</th>\n",
       "      <td>2018-12-31</td>\n",
       "      <td>Kepulauan Seribu</td>\n",
       "      <td>Malam</td>\n",
       "      <td>Hujan</td>\n",
       "      <td>70 - 90</td>\n",
       "      <td>24 - 32</td>\n",
       "      <td>70</td>\n",
       "      <td>90</td>\n",
       "    </tr>\n",
       "    <tr>\n",
       "      <th>3</th>\n",
       "      <td>2018-12-31</td>\n",
       "      <td>Kepulauan Seribu</td>\n",
       "      <td>Dini Hari</td>\n",
       "      <td>Hujan</td>\n",
       "      <td>70 - 90</td>\n",
       "      <td>24 - 32</td>\n",
       "      <td>70</td>\n",
       "      <td>90</td>\n",
       "    </tr>\n",
       "    <tr>\n",
       "      <th>4</th>\n",
       "      <td>2018-12-31</td>\n",
       "      <td>Jakarta Utara</td>\n",
       "      <td>Siang</td>\n",
       "      <td>Hujan</td>\n",
       "      <td>70 - 90</td>\n",
       "      <td>24 - 32</td>\n",
       "      <td>70</td>\n",
       "      <td>90</td>\n",
       "    </tr>\n",
       "  </tbody>\n",
       "</table>\n",
       "</div>"
      ],
      "text/plain": [
       "      tanggal           wilayah      waktu  cuaca kelembaban_persen  \\\n",
       "0  2018-12-31  Kepulauan Seribu      Siang  Hujan           70 - 90   \n",
       "1  2018-12-31  Kepulauan Seribu       Pagi  Hujan           70 - 90   \n",
       "2  2018-12-31  Kepulauan Seribu      Malam  Hujan           70 - 90   \n",
       "3  2018-12-31  Kepulauan Seribu  Dini Hari  Hujan           70 - 90   \n",
       "4  2018-12-31     Jakarta Utara      Siang  Hujan           70 - 90   \n",
       "\n",
       "  suhu_derajat_celcius kelembaban_min kelembaban_max  \n",
       "0              24 - 32             70             90  \n",
       "1              24 - 32             70             90  \n",
       "2              24 - 32             70             90  \n",
       "3              24 - 32             70             90  \n",
       "4              24 - 32             70             90  "
      ]
     },
     "execution_count": 12,
     "metadata": {},
     "output_type": "execute_result"
    }
   ],
   "source": [
    "df[\"kelembaban_min\"] = df['kelembaban_persen'].apply(lambda x: x.split(\"-\")[0])\n",
    "df[\"kelembaban_min\"] = [x.strip(' ') for x in df[\"kelembaban_min\"]]\n",
    "\n",
    "df[\"kelembaban_max\"] = df['kelembaban_persen'].apply(lambda x: x.split(\"-\")[1])\n",
    "df[\"kelembaban_max\"] = [x.strip(' ') for x in df[\"kelembaban_max\"]]\n",
    "\n",
    "df.head()"
   ]
  },
  {
   "cell_type": "markdown",
   "metadata": {},
   "source": [
    "membuat kolom kelembaban_min dengan mengambil nilai terkecil dari kolom kelembaban_persen<br>\n",
    "membuat kolom kelembaban_max dengan mengambil nilai terbesar dari kolom kelembaban_persen<br>\n",
    "<br>\n",
    "dengan split data pada kolom kelembaban_persen agar terbagi menjadi 2 bagian untuk bagian kiri untuk nilai minimal dan bagian kanan untuk nilai maksimal"
   ]
  },
  {
   "cell_type": "markdown",
   "metadata": {},
   "source": [
    "#### Melihat Masing Masing Data dari Kelembapan Minimal dan Maksimal"
   ]
  },
  {
   "cell_type": "code",
   "execution_count": 13,
   "metadata": {},
   "outputs": [
    {
     "name": "stdout",
     "output_type": "stream",
     "text": [
      "Kelembaban Min\n",
      " 70    1727\n",
      "55    1296\n",
      "65    1272\n",
      "60    1224\n",
      "75     839\n",
      "45     624\n",
      "50     600\n",
      "80     480\n",
      "40     192\n",
      "35      96\n",
      "85      48\n",
      "Name: kelembaban_min, dtype: int64 \n",
      "\n",
      "\n",
      "Kelembaban Min\n",
      " 95     3264\n",
      "90     2375\n",
      "85     1128\n",
      "100    1031\n",
      "80      504\n",
      "75       96\n",
      "Name: kelembaban_max, dtype: int64 \n",
      "\n"
     ]
    }
   ],
   "source": [
    "print('Kelembaban Min\\n', df['kelembaban_min'].value_counts(), '\\n\\n')\n",
    "print('Kelembaban Min\\n', df['kelembaban_max'].value_counts(), '\\n')"
   ]
  },
  {
   "cell_type": "markdown",
   "metadata": {},
   "source": [
    "### Split Data Suhu menjadi Suhu Minimal dan Maximal"
   ]
  },
  {
   "cell_type": "code",
   "execution_count": 14,
   "metadata": {},
   "outputs": [
    {
     "data": {
      "text/html": [
       "<div>\n",
       "<style scoped>\n",
       "    .dataframe tbody tr th:only-of-type {\n",
       "        vertical-align: middle;\n",
       "    }\n",
       "\n",
       "    .dataframe tbody tr th {\n",
       "        vertical-align: top;\n",
       "    }\n",
       "\n",
       "    .dataframe thead th {\n",
       "        text-align: right;\n",
       "    }\n",
       "</style>\n",
       "<table border=\"1\" class=\"dataframe\">\n",
       "  <thead>\n",
       "    <tr style=\"text-align: right;\">\n",
       "      <th></th>\n",
       "      <th>tanggal</th>\n",
       "      <th>wilayah</th>\n",
       "      <th>waktu</th>\n",
       "      <th>cuaca</th>\n",
       "      <th>kelembaban_persen</th>\n",
       "      <th>suhu_derajat_celcius</th>\n",
       "      <th>kelembaban_min</th>\n",
       "      <th>kelembaban_max</th>\n",
       "      <th>suhu_min</th>\n",
       "      <th>suhu_max</th>\n",
       "    </tr>\n",
       "  </thead>\n",
       "  <tbody>\n",
       "    <tr>\n",
       "      <th>0</th>\n",
       "      <td>2018-12-31</td>\n",
       "      <td>Kepulauan Seribu</td>\n",
       "      <td>Siang</td>\n",
       "      <td>Hujan</td>\n",
       "      <td>70 - 90</td>\n",
       "      <td>24 - 32</td>\n",
       "      <td>70</td>\n",
       "      <td>90</td>\n",
       "      <td>24</td>\n",
       "      <td>32</td>\n",
       "    </tr>\n",
       "    <tr>\n",
       "      <th>1</th>\n",
       "      <td>2018-12-31</td>\n",
       "      <td>Kepulauan Seribu</td>\n",
       "      <td>Pagi</td>\n",
       "      <td>Hujan</td>\n",
       "      <td>70 - 90</td>\n",
       "      <td>24 - 32</td>\n",
       "      <td>70</td>\n",
       "      <td>90</td>\n",
       "      <td>24</td>\n",
       "      <td>32</td>\n",
       "    </tr>\n",
       "    <tr>\n",
       "      <th>2</th>\n",
       "      <td>2018-12-31</td>\n",
       "      <td>Kepulauan Seribu</td>\n",
       "      <td>Malam</td>\n",
       "      <td>Hujan</td>\n",
       "      <td>70 - 90</td>\n",
       "      <td>24 - 32</td>\n",
       "      <td>70</td>\n",
       "      <td>90</td>\n",
       "      <td>24</td>\n",
       "      <td>32</td>\n",
       "    </tr>\n",
       "    <tr>\n",
       "      <th>3</th>\n",
       "      <td>2018-12-31</td>\n",
       "      <td>Kepulauan Seribu</td>\n",
       "      <td>Dini Hari</td>\n",
       "      <td>Hujan</td>\n",
       "      <td>70 - 90</td>\n",
       "      <td>24 - 32</td>\n",
       "      <td>70</td>\n",
       "      <td>90</td>\n",
       "      <td>24</td>\n",
       "      <td>32</td>\n",
       "    </tr>\n",
       "    <tr>\n",
       "      <th>4</th>\n",
       "      <td>2018-12-31</td>\n",
       "      <td>Jakarta Utara</td>\n",
       "      <td>Siang</td>\n",
       "      <td>Hujan</td>\n",
       "      <td>70 - 90</td>\n",
       "      <td>24 - 32</td>\n",
       "      <td>70</td>\n",
       "      <td>90</td>\n",
       "      <td>24</td>\n",
       "      <td>32</td>\n",
       "    </tr>\n",
       "  </tbody>\n",
       "</table>\n",
       "</div>"
      ],
      "text/plain": [
       "      tanggal           wilayah      waktu  cuaca kelembaban_persen  \\\n",
       "0  2018-12-31  Kepulauan Seribu      Siang  Hujan           70 - 90   \n",
       "1  2018-12-31  Kepulauan Seribu       Pagi  Hujan           70 - 90   \n",
       "2  2018-12-31  Kepulauan Seribu      Malam  Hujan           70 - 90   \n",
       "3  2018-12-31  Kepulauan Seribu  Dini Hari  Hujan           70 - 90   \n",
       "4  2018-12-31     Jakarta Utara      Siang  Hujan           70 - 90   \n",
       "\n",
       "  suhu_derajat_celcius kelembaban_min kelembaban_max suhu_min suhu_max  \n",
       "0              24 - 32             70             90       24       32  \n",
       "1              24 - 32             70             90       24       32  \n",
       "2              24 - 32             70             90       24       32  \n",
       "3              24 - 32             70             90       24       32  \n",
       "4              24 - 32             70             90       24       32  "
      ]
     },
     "execution_count": 14,
     "metadata": {},
     "output_type": "execute_result"
    }
   ],
   "source": [
    "df[\"suhu_min\"] = df.suhu_derajat_celcius.apply(lambda x: x.split(\"-\")[0])\n",
    "df[\"suhu_min\"] = [x.strip(' ') for x in df[\"suhu_min\"]]\n",
    "\n",
    "df[\"suhu_max\"] = df.suhu_derajat_celcius.apply(lambda x: x.split(\"-\")[1])\n",
    "df[\"suhu_max\"] = [x.strip(' ') for x in df[\"suhu_max\"]]\n",
    "\n",
    "df.head()"
   ]
  },
  {
   "cell_type": "markdown",
   "metadata": {},
   "source": [
    "membuat kolom suhu_min dengan mengambil nilai terkecil dari kolom suhu_derajat_celcius<br>\n",
    "membuat kolom suhu_max dengan mengambil nilai terbesar dari kolom suhu_derajat_celcius<br>\n",
    "<br>\n",
    "dengan split data pada kolom suhu_derajat_celcius agar terbagi menjadi 2 bagian untuk bagian kiri untuk nilai minimal dan bagian kanan untuk nilai maksimal"
   ]
  },
  {
   "cell_type": "markdown",
   "metadata": {},
   "source": [
    "#### Melihat Masing Masing Data dari Suhu Minimal dan Maksimal"
   ]
  },
  {
   "cell_type": "code",
   "execution_count": 15,
   "metadata": {},
   "outputs": [
    {
     "name": "stdout",
     "output_type": "stream",
     "text": [
      "Suhu Min\n",
      " 24    4102\n",
      "23    3072\n",
      "25     576\n",
      "22     552\n",
      "21      48\n",
      "20      24\n",
      "26      24\n",
      "Name: suhu_min, dtype: int64 \n",
      "\n",
      "Suhu Max\n",
      " 33    3431\n",
      "32    1991\n",
      "34    1440\n",
      "31     696\n",
      "30     360\n",
      "35     288\n",
      "29     120\n",
      "28      72\n",
      "Name: suhu_max, dtype: int64 \n",
      "\n"
     ]
    }
   ],
   "source": [
    "print('Suhu Min\\n', df['suhu_min'].value_counts(), '\\n')\n",
    "print('Suhu Max\\n', df['suhu_max'].value_counts(), '\\n')"
   ]
  },
  {
   "cell_type": "markdown",
   "metadata": {},
   "source": [
    "### Mengubah Tipe Data"
   ]
  },
  {
   "cell_type": "markdown",
   "metadata": {},
   "source": [
    "#### Melihat Tipe Data setiap Kolom"
   ]
  },
  {
   "cell_type": "code",
   "execution_count": 16,
   "metadata": {},
   "outputs": [
    {
     "data": {
      "text/plain": [
       "tanggal                 object\n",
       "wilayah                 object\n",
       "waktu                   object\n",
       "cuaca                   object\n",
       "kelembaban_persen       object\n",
       "suhu_derajat_celcius    object\n",
       "kelembaban_min          object\n",
       "kelembaban_max          object\n",
       "suhu_min                object\n",
       "suhu_max                object\n",
       "dtype: object"
      ]
     },
     "execution_count": 16,
     "metadata": {},
     "output_type": "execute_result"
    }
   ],
   "source": [
    "df.dtypes"
   ]
  },
  {
   "cell_type": "markdown",
   "metadata": {},
   "source": [
    "memperbaiki jenis tipe data sesuai dengan isi dari data pada kolom tersebut"
   ]
  },
  {
   "cell_type": "markdown",
   "metadata": {},
   "source": [
    "#### Mengubah Tipe data yang tidak sesuai"
   ]
  },
  {
   "cell_type": "code",
   "execution_count": 17,
   "metadata": {},
   "outputs": [
    {
     "data": {
      "text/plain": [
       "tanggal                 object\n",
       "wilayah                 object\n",
       "waktu                   object\n",
       "cuaca                   object\n",
       "kelembaban_persen       object\n",
       "suhu_derajat_celcius    object\n",
       "kelembaban_min           int32\n",
       "kelembaban_max           int32\n",
       "suhu_min                 int32\n",
       "suhu_max                 int32\n",
       "dtype: object"
      ]
     },
     "execution_count": 17,
     "metadata": {},
     "output_type": "execute_result"
    }
   ],
   "source": [
    "df[\"kelembaban_min\"] = df.kelembaban_min.astype(int)\n",
    "df[\"kelembaban_max\"] = df.kelembaban_max.astype(int)\n",
    "df[\"suhu_min\"] = df.suhu_min.astype(int)\n",
    "df[\"suhu_max\"] = df.suhu_max.astype(int)\n",
    "df.dtypes"
   ]
  },
  {
   "cell_type": "markdown",
   "metadata": {},
   "source": [
    "mengubah kolom kelembaban_min, kelembaban_max, suhu_min, dan suhu_max menjadi integer karena data pada kolom tersebut bersifat numerikal"
   ]
  },
  {
   "cell_type": "markdown",
   "metadata": {},
   "source": [
    "### Informasi Data"
   ]
  },
  {
   "cell_type": "markdown",
   "metadata": {},
   "source": [
    "#### Melihat informasi mengenai kolom"
   ]
  },
  {
   "cell_type": "code",
   "execution_count": 18,
   "metadata": {},
   "outputs": [
    {
     "name": "stdout",
     "output_type": "stream",
     "text": [
      "<class 'pandas.core.frame.DataFrame'>\n",
      "Int64Index: 8398 entries, 0 to 8399\n",
      "Data columns (total 10 columns):\n",
      " #   Column                Non-Null Count  Dtype \n",
      "---  ------                --------------  ----- \n",
      " 0   tanggal               8398 non-null   object\n",
      " 1   wilayah               8398 non-null   object\n",
      " 2   waktu                 8398 non-null   object\n",
      " 3   cuaca                 8398 non-null   object\n",
      " 4   kelembaban_persen     8398 non-null   object\n",
      " 5   suhu_derajat_celcius  8398 non-null   object\n",
      " 6   kelembaban_min        8398 non-null   int32 \n",
      " 7   kelembaban_max        8398 non-null   int32 \n",
      " 8   suhu_min              8398 non-null   int32 \n",
      " 9   suhu_max              8398 non-null   int32 \n",
      "dtypes: int32(4), object(6)\n",
      "memory usage: 590.5+ KB\n"
     ]
    }
   ],
   "source": [
    "df.info()"
   ]
  },
  {
   "cell_type": "code",
   "execution_count": 19,
   "metadata": {},
   "outputs": [
    {
     "data": {
      "text/html": [
       "<div>\n",
       "<style scoped>\n",
       "    .dataframe tbody tr th:only-of-type {\n",
       "        vertical-align: middle;\n",
       "    }\n",
       "\n",
       "    .dataframe tbody tr th {\n",
       "        vertical-align: top;\n",
       "    }\n",
       "\n",
       "    .dataframe thead th {\n",
       "        text-align: right;\n",
       "    }\n",
       "</style>\n",
       "<table border=\"1\" class=\"dataframe\">\n",
       "  <thead>\n",
       "    <tr style=\"text-align: right;\">\n",
       "      <th></th>\n",
       "      <th>tanggal</th>\n",
       "      <th>wilayah</th>\n",
       "      <th>waktu</th>\n",
       "      <th>cuaca</th>\n",
       "      <th>kelembaban_persen</th>\n",
       "      <th>suhu_derajat_celcius</th>\n",
       "      <th>kelembaban_min</th>\n",
       "      <th>kelembaban_max</th>\n",
       "      <th>suhu_min</th>\n",
       "      <th>suhu_max</th>\n",
       "    </tr>\n",
       "  </thead>\n",
       "  <tbody>\n",
       "    <tr>\n",
       "      <th>1106</th>\n",
       "      <td>2018-11-15</td>\n",
       "      <td>Kepulauan Seribu</td>\n",
       "      <td>Malam</td>\n",
       "      <td>Cerah</td>\n",
       "      <td>65 - 90</td>\n",
       "      <td>24 - 32</td>\n",
       "      <td>65</td>\n",
       "      <td>90</td>\n",
       "      <td>24</td>\n",
       "      <td>32</td>\n",
       "    </tr>\n",
       "    <tr>\n",
       "      <th>7145</th>\n",
       "      <td>2018-02-23</td>\n",
       "      <td>Jakarta Pusat</td>\n",
       "      <td>Pagi</td>\n",
       "      <td>Berawan</td>\n",
       "      <td>70 - 95</td>\n",
       "      <td>24 - 31</td>\n",
       "      <td>70</td>\n",
       "      <td>95</td>\n",
       "      <td>24</td>\n",
       "      <td>31</td>\n",
       "    </tr>\n",
       "    <tr>\n",
       "      <th>127</th>\n",
       "      <td>2018-12-26</td>\n",
       "      <td>Jakarta Utara</td>\n",
       "      <td>Dini Hari</td>\n",
       "      <td>Berawan</td>\n",
       "      <td>80 - 100</td>\n",
       "      <td>23 - 31</td>\n",
       "      <td>80</td>\n",
       "      <td>100</td>\n",
       "      <td>23</td>\n",
       "      <td>31</td>\n",
       "    </tr>\n",
       "    <tr>\n",
       "      <th>121</th>\n",
       "      <td>2018-12-26</td>\n",
       "      <td>Kepulauan Seribu</td>\n",
       "      <td>Pagi</td>\n",
       "      <td>Hujan</td>\n",
       "      <td>80 - 100</td>\n",
       "      <td>23 - 31</td>\n",
       "      <td>80</td>\n",
       "      <td>100</td>\n",
       "      <td>23</td>\n",
       "      <td>31</td>\n",
       "    </tr>\n",
       "    <tr>\n",
       "      <th>3585</th>\n",
       "      <td>2018-07-31</td>\n",
       "      <td>Jakarta Timur</td>\n",
       "      <td>Pagi</td>\n",
       "      <td>Cerah</td>\n",
       "      <td>55 - 85</td>\n",
       "      <td>23 - 33</td>\n",
       "      <td>55</td>\n",
       "      <td>85</td>\n",
       "      <td>23</td>\n",
       "      <td>33</td>\n",
       "    </tr>\n",
       "  </tbody>\n",
       "</table>\n",
       "</div>"
      ],
      "text/plain": [
       "         tanggal           wilayah      waktu    cuaca kelembaban_persen  \\\n",
       "1106  2018-11-15  Kepulauan Seribu      Malam    Cerah           65 - 90   \n",
       "7145  2018-02-23     Jakarta Pusat       Pagi  Berawan           70 - 95   \n",
       "127   2018-12-26     Jakarta Utara  Dini Hari  Berawan          80 - 100   \n",
       "121   2018-12-26  Kepulauan Seribu       Pagi    Hujan          80 - 100   \n",
       "3585  2018-07-31     Jakarta Timur       Pagi    Cerah          55 - 85    \n",
       "\n",
       "     suhu_derajat_celcius  kelembaban_min  kelembaban_max  suhu_min  suhu_max  \n",
       "1106              24 - 32              65              90        24        32  \n",
       "7145              24 - 31              70              95        24        31  \n",
       "127               23 - 31              80             100        23        31  \n",
       "121               23 - 31              80             100        23        31  \n",
       "3585              23 - 33              55              85        23        33  "
      ]
     },
     "execution_count": 19,
     "metadata": {},
     "output_type": "execute_result"
    }
   ],
   "source": [
    "df.sample(5)"
   ]
  },
  {
   "cell_type": "code",
   "execution_count": 20,
   "metadata": {},
   "outputs": [
    {
     "data": {
      "text/plain": [
       "Cerah      3796\n",
       "Berawan    2896\n",
       "Hujan      1706\n",
       "Name: cuaca, dtype: int64"
      ]
     },
     "execution_count": 20,
     "metadata": {},
     "output_type": "execute_result"
    }
   ],
   "source": [
    "df.cuaca.value_counts()"
   ]
  },
  {
   "cell_type": "markdown",
   "metadata": {},
   "source": [
    "#### Membagi data antara kolom numerikal dengan kategorikal"
   ]
  },
  {
   "cell_type": "code",
   "execution_count": 21,
   "metadata": {},
   "outputs": [],
   "source": [
    "numeric = ['kelembaban_min', 'kelembaban_max', 'suhu_min', 'suhu_max', 'kelembaban_persen', 'suhu_derajat_celcius']\n",
    "categoric = ['cuaca', 'waktu', 'wilayah', 'tanggal']"
   ]
  },
  {
   "cell_type": "markdown",
   "metadata": {},
   "source": [
    "#### Statistik kolom numerik"
   ]
  },
  {
   "cell_type": "code",
   "execution_count": 22,
   "metadata": {},
   "outputs": [
    {
     "data": {
      "text/html": [
       "<div>\n",
       "<style scoped>\n",
       "    .dataframe tbody tr th:only-of-type {\n",
       "        vertical-align: middle;\n",
       "    }\n",
       "\n",
       "    .dataframe tbody tr th {\n",
       "        vertical-align: top;\n",
       "    }\n",
       "\n",
       "    .dataframe thead th {\n",
       "        text-align: right;\n",
       "    }\n",
       "</style>\n",
       "<table border=\"1\" class=\"dataframe\">\n",
       "  <thead>\n",
       "    <tr style=\"text-align: right;\">\n",
       "      <th></th>\n",
       "      <th>kelembaban_min</th>\n",
       "      <th>kelembaban_max</th>\n",
       "      <th>suhu_min</th>\n",
       "      <th>suhu_max</th>\n",
       "    </tr>\n",
       "  </thead>\n",
       "  <tbody>\n",
       "    <tr>\n",
       "      <th>count</th>\n",
       "      <td>8398.000000</td>\n",
       "      <td>8398.000000</td>\n",
       "      <td>8398.000000</td>\n",
       "      <td>8398.000000</td>\n",
       "    </tr>\n",
       "    <tr>\n",
       "      <th>mean</th>\n",
       "      <td>62.254704</td>\n",
       "      <td>91.727792</td>\n",
       "      <td>23.548464</td>\n",
       "      <td>32.608597</td>\n",
       "    </tr>\n",
       "    <tr>\n",
       "      <th>std</th>\n",
       "      <td>10.592668</td>\n",
       "      <td>5.562658</td>\n",
       "      <td>0.775947</td>\n",
       "      <td>1.246190</td>\n",
       "    </tr>\n",
       "    <tr>\n",
       "      <th>min</th>\n",
       "      <td>35.000000</td>\n",
       "      <td>75.000000</td>\n",
       "      <td>20.000000</td>\n",
       "      <td>28.000000</td>\n",
       "    </tr>\n",
       "    <tr>\n",
       "      <th>25%</th>\n",
       "      <td>55.000000</td>\n",
       "      <td>90.000000</td>\n",
       "      <td>23.000000</td>\n",
       "      <td>32.000000</td>\n",
       "    </tr>\n",
       "    <tr>\n",
       "      <th>50%</th>\n",
       "      <td>65.000000</td>\n",
       "      <td>95.000000</td>\n",
       "      <td>24.000000</td>\n",
       "      <td>33.000000</td>\n",
       "    </tr>\n",
       "    <tr>\n",
       "      <th>75%</th>\n",
       "      <td>70.000000</td>\n",
       "      <td>95.000000</td>\n",
       "      <td>24.000000</td>\n",
       "      <td>33.000000</td>\n",
       "    </tr>\n",
       "    <tr>\n",
       "      <th>max</th>\n",
       "      <td>85.000000</td>\n",
       "      <td>100.000000</td>\n",
       "      <td>26.000000</td>\n",
       "      <td>35.000000</td>\n",
       "    </tr>\n",
       "  </tbody>\n",
       "</table>\n",
       "</div>"
      ],
      "text/plain": [
       "       kelembaban_min  kelembaban_max     suhu_min     suhu_max\n",
       "count     8398.000000     8398.000000  8398.000000  8398.000000\n",
       "mean        62.254704       91.727792    23.548464    32.608597\n",
       "std         10.592668        5.562658     0.775947     1.246190\n",
       "min         35.000000       75.000000    20.000000    28.000000\n",
       "25%         55.000000       90.000000    23.000000    32.000000\n",
       "50%         65.000000       95.000000    24.000000    33.000000\n",
       "75%         70.000000       95.000000    24.000000    33.000000\n",
       "max         85.000000      100.000000    26.000000    35.000000"
      ]
     },
     "execution_count": 22,
     "metadata": {},
     "output_type": "execute_result"
    }
   ],
   "source": [
    "df[numeric].describe()"
   ]
  },
  {
   "cell_type": "markdown",
   "metadata": {},
   "source": [
    "persebaran nilai pada data kelembaban_min, kelembaban_max, suhu_min, dan suhu_max sudah bagus dan tidak perlu dilakukan feature scaling<br>\n",
    "<br>\n",
    "kolom kelembaban_persen dan suhu_derajat_celcius akan di drop pada tahap selanjutnya karena sudah tergantikan oleh kolom kelembaban_min, kelembaban_max, suhu_min, dan suhu_max."
   ]
  },
  {
   "cell_type": "markdown",
   "metadata": {},
   "source": [
    "persebaran data yang simetrik distribusinya dilihat dari nilai mean dan median yang tidak berbeda jauh"
   ]
  },
  {
   "cell_type": "markdown",
   "metadata": {},
   "source": [
    "#### Statistik kolom kategorik"
   ]
  },
  {
   "cell_type": "code",
   "execution_count": 23,
   "metadata": {},
   "outputs": [
    {
     "data": {
      "text/html": [
       "<div>\n",
       "<style scoped>\n",
       "    .dataframe tbody tr th:only-of-type {\n",
       "        vertical-align: middle;\n",
       "    }\n",
       "\n",
       "    .dataframe tbody tr th {\n",
       "        vertical-align: top;\n",
       "    }\n",
       "\n",
       "    .dataframe thead th {\n",
       "        text-align: right;\n",
       "    }\n",
       "</style>\n",
       "<table border=\"1\" class=\"dataframe\">\n",
       "  <thead>\n",
       "    <tr style=\"text-align: right;\">\n",
       "      <th></th>\n",
       "      <th>cuaca</th>\n",
       "      <th>waktu</th>\n",
       "      <th>wilayah</th>\n",
       "      <th>tanggal</th>\n",
       "    </tr>\n",
       "  </thead>\n",
       "  <tbody>\n",
       "    <tr>\n",
       "      <th>count</th>\n",
       "      <td>8398</td>\n",
       "      <td>8398</td>\n",
       "      <td>8398</td>\n",
       "      <td>8398</td>\n",
       "    </tr>\n",
       "    <tr>\n",
       "      <th>unique</th>\n",
       "      <td>3</td>\n",
       "      <td>4</td>\n",
       "      <td>6</td>\n",
       "      <td>348</td>\n",
       "    </tr>\n",
       "    <tr>\n",
       "      <th>top</th>\n",
       "      <td>Cerah</td>\n",
       "      <td>Siang</td>\n",
       "      <td>Jakarta Utara</td>\n",
       "      <td>2018-01-02</td>\n",
       "    </tr>\n",
       "    <tr>\n",
       "      <th>freq</th>\n",
       "      <td>3796</td>\n",
       "      <td>2100</td>\n",
       "      <td>1400</td>\n",
       "      <td>48</td>\n",
       "    </tr>\n",
       "  </tbody>\n",
       "</table>\n",
       "</div>"
      ],
      "text/plain": [
       "        cuaca  waktu        wilayah     tanggal\n",
       "count    8398   8398           8398        8398\n",
       "unique      3      4              6         348\n",
       "top     Cerah  Siang  Jakarta Utara  2018-01-02\n",
       "freq     3796   2100           1400          48"
      ]
     },
     "execution_count": 23,
     "metadata": {},
     "output_type": "execute_result"
    }
   ],
   "source": [
    "df[categoric].describe()"
   ]
  },
  {
   "cell_type": "markdown",
   "metadata": {},
   "source": [
    "kolom cuaca, waktu, dan wilayah masih bersifat object / string maka selanjutnya akan dilakukan encode pada data kolom tersebut<br>\n",
    "<br>\n",
    "kolom tanggal akan di drop pada tahap selanjutnya karena tidak diperlukan pada proses menganalisis serta memproses data"
   ]
  },
  {
   "cell_type": "markdown",
   "metadata": {},
   "source": [
    "#### Melihat duplikasi data"
   ]
  },
  {
   "cell_type": "code",
   "execution_count": 24,
   "metadata": {},
   "outputs": [
    {
     "data": {
      "text/plain": [
       "0"
      ]
     },
     "execution_count": 24,
     "metadata": {},
     "output_type": "execute_result"
    }
   ],
   "source": [
    "df.duplicated().sum()"
   ]
  },
  {
   "cell_type": "markdown",
   "metadata": {},
   "source": [
    "tidak terdapat data yg duplikat"
   ]
  },
  {
   "cell_type": "markdown",
   "metadata": {},
   "source": [
    "### Membuang Kolom yang tidak diperlukan"
   ]
  },
  {
   "cell_type": "code",
   "execution_count": 25,
   "metadata": {},
   "outputs": [
    {
     "data": {
      "text/html": [
       "<div>\n",
       "<style scoped>\n",
       "    .dataframe tbody tr th:only-of-type {\n",
       "        vertical-align: middle;\n",
       "    }\n",
       "\n",
       "    .dataframe tbody tr th {\n",
       "        vertical-align: top;\n",
       "    }\n",
       "\n",
       "    .dataframe thead th {\n",
       "        text-align: right;\n",
       "    }\n",
       "</style>\n",
       "<table border=\"1\" class=\"dataframe\">\n",
       "  <thead>\n",
       "    <tr style=\"text-align: right;\">\n",
       "      <th></th>\n",
       "      <th>wilayah</th>\n",
       "      <th>waktu</th>\n",
       "      <th>cuaca</th>\n",
       "      <th>kelembaban_min</th>\n",
       "      <th>kelembaban_max</th>\n",
       "      <th>suhu_min</th>\n",
       "      <th>suhu_max</th>\n",
       "    </tr>\n",
       "  </thead>\n",
       "  <tbody>\n",
       "    <tr>\n",
       "      <th>0</th>\n",
       "      <td>Kepulauan Seribu</td>\n",
       "      <td>Siang</td>\n",
       "      <td>Hujan</td>\n",
       "      <td>70</td>\n",
       "      <td>90</td>\n",
       "      <td>24</td>\n",
       "      <td>32</td>\n",
       "    </tr>\n",
       "    <tr>\n",
       "      <th>1</th>\n",
       "      <td>Kepulauan Seribu</td>\n",
       "      <td>Pagi</td>\n",
       "      <td>Hujan</td>\n",
       "      <td>70</td>\n",
       "      <td>90</td>\n",
       "      <td>24</td>\n",
       "      <td>32</td>\n",
       "    </tr>\n",
       "    <tr>\n",
       "      <th>2</th>\n",
       "      <td>Kepulauan Seribu</td>\n",
       "      <td>Malam</td>\n",
       "      <td>Hujan</td>\n",
       "      <td>70</td>\n",
       "      <td>90</td>\n",
       "      <td>24</td>\n",
       "      <td>32</td>\n",
       "    </tr>\n",
       "    <tr>\n",
       "      <th>3</th>\n",
       "      <td>Kepulauan Seribu</td>\n",
       "      <td>Dini Hari</td>\n",
       "      <td>Hujan</td>\n",
       "      <td>70</td>\n",
       "      <td>90</td>\n",
       "      <td>24</td>\n",
       "      <td>32</td>\n",
       "    </tr>\n",
       "    <tr>\n",
       "      <th>4</th>\n",
       "      <td>Jakarta Utara</td>\n",
       "      <td>Siang</td>\n",
       "      <td>Hujan</td>\n",
       "      <td>70</td>\n",
       "      <td>90</td>\n",
       "      <td>24</td>\n",
       "      <td>32</td>\n",
       "    </tr>\n",
       "  </tbody>\n",
       "</table>\n",
       "</div>"
      ],
      "text/plain": [
       "            wilayah      waktu  cuaca  kelembaban_min  kelembaban_max  \\\n",
       "0  Kepulauan Seribu      Siang  Hujan              70              90   \n",
       "1  Kepulauan Seribu       Pagi  Hujan              70              90   \n",
       "2  Kepulauan Seribu      Malam  Hujan              70              90   \n",
       "3  Kepulauan Seribu  Dini Hari  Hujan              70              90   \n",
       "4     Jakarta Utara      Siang  Hujan              70              90   \n",
       "\n",
       "   suhu_min  suhu_max  \n",
       "0        24        32  \n",
       "1        24        32  \n",
       "2        24        32  \n",
       "3        24        32  \n",
       "4        24        32  "
      ]
     },
     "execution_count": 25,
     "metadata": {},
     "output_type": "execute_result"
    }
   ],
   "source": [
    "df.drop(columns=[\"kelembaban_persen\", \"suhu_derajat_celcius\", \"tanggal\"], inplace=True)\n",
    "df.head()"
   ]
  },
  {
   "cell_type": "markdown",
   "metadata": {},
   "source": [
    "membuang kolom yang tidak diperlukan seperti kelembaban_persen karena sudah digantikan oleh kolom kelembaban_min dan kelembaban_max<br><br>\n",
    "membuang kolom suhu_derajat_celcius karena sudah digantikan oleh suhu_min dan suhu_max<br><br>\n",
    "membuang kolom tanggal karena tidak diperlukan dalam proses menganalisis dan memproses data cuaca Provinsi DKI Jakarta tahun 2018"
   ]
  },
  {
   "cell_type": "code",
   "execution_count": 26,
   "metadata": {},
   "outputs": [
    {
     "name": "stderr",
     "output_type": "stream",
     "text": [
      "C:\\Users\\Toko Ferdi\\AppData\\Local\\Temp\\ipykernel_1664\\1134722465.py:1: FutureWarning: The default value of numeric_only in DataFrame.corr is deprecated. In a future version, it will default to False. Select only valid columns or specify the value of numeric_only to silence this warning.\n",
      "  df.corr()\n"
     ]
    },
    {
     "data": {
      "text/html": [
       "<div>\n",
       "<style scoped>\n",
       "    .dataframe tbody tr th:only-of-type {\n",
       "        vertical-align: middle;\n",
       "    }\n",
       "\n",
       "    .dataframe tbody tr th {\n",
       "        vertical-align: top;\n",
       "    }\n",
       "\n",
       "    .dataframe thead th {\n",
       "        text-align: right;\n",
       "    }\n",
       "</style>\n",
       "<table border=\"1\" class=\"dataframe\">\n",
       "  <thead>\n",
       "    <tr style=\"text-align: right;\">\n",
       "      <th></th>\n",
       "      <th>kelembaban_min</th>\n",
       "      <th>kelembaban_max</th>\n",
       "      <th>suhu_min</th>\n",
       "      <th>suhu_max</th>\n",
       "    </tr>\n",
       "  </thead>\n",
       "  <tbody>\n",
       "    <tr>\n",
       "      <th>kelembaban_min</th>\n",
       "      <td>1.000000</td>\n",
       "      <td>0.727868</td>\n",
       "      <td>0.064763</td>\n",
       "      <td>-0.596636</td>\n",
       "    </tr>\n",
       "    <tr>\n",
       "      <th>kelembaban_max</th>\n",
       "      <td>0.727868</td>\n",
       "      <td>1.000000</td>\n",
       "      <td>0.134416</td>\n",
       "      <td>-0.405276</td>\n",
       "    </tr>\n",
       "    <tr>\n",
       "      <th>suhu_min</th>\n",
       "      <td>0.064763</td>\n",
       "      <td>0.134416</td>\n",
       "      <td>1.000000</td>\n",
       "      <td>0.056628</td>\n",
       "    </tr>\n",
       "    <tr>\n",
       "      <th>suhu_max</th>\n",
       "      <td>-0.596636</td>\n",
       "      <td>-0.405276</td>\n",
       "      <td>0.056628</td>\n",
       "      <td>1.000000</td>\n",
       "    </tr>\n",
       "  </tbody>\n",
       "</table>\n",
       "</div>"
      ],
      "text/plain": [
       "                kelembaban_min  kelembaban_max  suhu_min  suhu_max\n",
       "kelembaban_min        1.000000        0.727868  0.064763 -0.596636\n",
       "kelembaban_max        0.727868        1.000000  0.134416 -0.405276\n",
       "suhu_min              0.064763        0.134416  1.000000  0.056628\n",
       "suhu_max             -0.596636       -0.405276  0.056628  1.000000"
      ]
     },
     "execution_count": 26,
     "metadata": {},
     "output_type": "execute_result"
    }
   ],
   "source": [
    "df.corr()"
   ]
  },
  {
   "cell_type": "code",
   "execution_count": 30,
   "metadata": {},
   "outputs": [
    {
     "name": "stdout",
     "output_type": "stream",
     "text": [
      "Nilai p-value kelembaban min\t: 0.0 \n",
      "Nilai p-value kelembaban max\t: 2.1609305216824744e-299 \n",
      "Nilai p-value suhu min\t\t: 2.187439334203349e-10 \n",
      "Nilai p-value suhu max\t\t: 6.202530690351495e-286\n"
     ]
    }
   ],
   "source": [
    "# Menggunakan Metode Statistik\n",
    "# Misalnya, menggunakan uji ANOVA\n",
    "import scipy.stats as stats\n",
    "\n",
    "grouped_data = df.groupby('cuaca')\n",
    "anova_result_kelembabanMin = stats.f_oneway(grouped_data.get_group('Cerah')['kelembaban_min'],\n",
    "                              grouped_data.get_group('Hujan')['kelembaban_min'],\n",
    "                              grouped_data.get_group('Berawan')['kelembaban_min'])\n",
    "anova_result_kelembabanMax = stats.f_oneway(grouped_data.get_group('Cerah')['kelembaban_max'],\n",
    "                              grouped_data.get_group('Hujan')['kelembaban_max'],\n",
    "                              grouped_data.get_group('Berawan')['kelembaban_max'])\n",
    "anova_result_suhuMin = stats.f_oneway(grouped_data.get_group('Cerah')['suhu_min'],\n",
    "                              grouped_data.get_group('Hujan')['suhu_min'],\n",
    "                              grouped_data.get_group('Berawan')['suhu_min'])\n",
    "anova_result_suhuMax = stats.f_oneway(grouped_data.get_group('Cerah')['suhu_max'],\n",
    "                              grouped_data.get_group('Hujan')['suhu_max'],\n",
    "                              grouped_data.get_group('Berawan')['suhu_max'])\n",
    "print('Nilai p-value kelembaban min\\t:', anova_result_kelembabanMin.pvalue, \n",
    "      '\\nNilai p-value kelembaban max\\t:', anova_result_kelembabanMax.pvalue, \n",
    "      '\\nNilai p-value suhu min\\t\\t:', anova_result_suhuMin.pvalue, \n",
    "      '\\nNilai p-value suhu max\\t\\t:', anova_result_suhuMax.pvalue)"
   ]
  },
  {
   "cell_type": "markdown",
   "metadata": {},
   "source": [
    "# Visualisasi Data"
   ]
  },
  {
   "cell_type": "code",
   "execution_count": 32,
   "metadata": {},
   "outputs": [
    {
     "data": {
      "text/plain": [
       "<AxesSubplot: xlabel='cuaca', ylabel='suhu_max'>"
      ]
     },
     "execution_count": 32,
     "metadata": {},
     "output_type": "execute_result"
    },
    {
     "data": {
      "image/png": "[encoded data removed]",
      "text/plain": [
       "<Figure size 1500x1000 with 4 Axes>"
      ]
     },
     "metadata": {},
     "output_type": "display_data"
    }
   ],
   "source": [
    "fig, axes = plt.subplots(2, 2, figsize=(15, 10))\n",
    "sns.violinplot(x='cuaca', y='kelembaban_min', data=df, ax=axes[0, 0])\n",
    "sns.violinplot(x='cuaca', y='kelembaban_max', data=df, ax=axes[0, 1])\n",
    "sns.violinplot(x='cuaca', y='suhu_min', data=df, ax=axes[1, 0])\n",
    "sns.violinplot(x='cuaca', y='suhu_max', data=df, ax=axes[1, 1])"
   ]
  },
  {
   "cell_type": "code",
   "execution_count": 42,
   "metadata": {},
   "outputs": [
    {
     "data": {
      "text/plain": [
       "Index(['wilayah', 'waktu', 'cuaca', 'kelembaban_min', 'kelembaban_max',\n",
       "       'suhu_min', 'suhu_max'],\n",
       "      dtype='object')"
      ]
     },
     "execution_count": 42,
     "metadata": {},
     "output_type": "execute_result"
    }
   ],
   "source": [
    "df.columns"
   ]
  },
  {
   "cell_type": "code",
   "execution_count": 41,
   "metadata": {},
   "outputs": [
    {
     "data": {
      "text/plain": [
       "<AxesSubplot: xlabel='cuaca'>"
      ]
     },
     "execution_count": 41,
     "metadata": {},
     "output_type": "execute_result"
    },
    {
     "data": {
      "image/png": "[encoded data removed]",
      "text/plain": [
       "<Figure size 1000x500 with 1 Axes>"
      ]
     },
     "metadata": {},
     "output_type": "display_data"
    }
   ],
   "source": [
    "df.groupby(['cuaca', 'waktu']).size().unstack().plot(kind='bar', figsize=(10, 5))"
   ]
  },
  {
   "cell_type": "code",
   "execution_count": 50,
   "metadata": {},
   "outputs": [
    {
     "data": {
      "text/plain": [
       "<AxesSubplot: xlabel='cuaca'>"
      ]
     },
     "execution_count": 50,
     "metadata": {},
     "output_type": "execute_result"
    },
    {
     "data": {
      "image/png": "[encoded data removed]",
      "text/plain": [
       "<Figure size 1000x500 with 1 Axes>"
      ]
     },
     "metadata": {},
     "output_type": "display_data"
    }
   ],
   "source": [
    "df.groupby(['cuaca', 'wilayah']).size().unstack().plot(kind='bar', figsize=(10, 5), ylim=(100))"
   ]
  },
  {
   "cell_type": "code",
   "execution_count": 31,
   "metadata": {},
   "outputs": [
    {
     "data": {
      "text/plain": [
       "<seaborn.axisgrid.PairGrid at 0x2890e4c5c10>"
      ]
     },
     "execution_count": 31,
     "metadata": {},
     "output_type": "execute_result"
    },
    {
     "data": {
      "image/png": "[encoded data removed]",
      "text/plain": [
       "<Figure size 1111.25x1000 with 14 Axes>"
      ]
     },
     "metadata": {},
     "output_type": "display_data"
    }
   ],
   "source": [
    "sns.pairplot(df, hue=\"cuaca\", corner=True)"
   ]
  },
  {
   "cell_type": "markdown",
   "metadata": {},
   "source": [
    "persebaran data cuaca Provinsi DKI Jakarta pada Tahun 2018"
   ]
  },
  {
   "cell_type": "markdown",
   "metadata": {},
   "source": [
    "# Splitting Data"
   ]
  },
  {
   "cell_type": "code",
   "execution_count": null,
   "metadata": {},
   "outputs": [
    {
     "data": {
      "text/plain": [
       "0    3796\n",
       "2    2896\n",
       "1    1706\n",
       "Name: cuaca, dtype: int64"
      ]
     },
     "execution_count": 30,
     "metadata": {},
     "output_type": "execute_result"
    }
   ],
   "source": [
    "X = df.drop(columns=[\"cuaca\"])\n",
    "y = df[\"cuaca\"]\n",
    "\n",
    "y.value_counts()"
   ]
  },
  {
   "cell_type": "code",
   "execution_count": null,
   "metadata": {},
   "outputs": [
    {
     "data": {
      "text/plain": [
       "(8398, 7)"
      ]
     },
     "execution_count": 31,
     "metadata": {},
     "output_type": "execute_result"
    }
   ],
   "source": [
    "df.shape"
   ]
  },
  {
   "cell_type": "code",
   "execution_count": null,
   "metadata": {},
   "outputs": [
    {
     "data": {
      "text/plain": [
       "((6718, 6), (1680, 6), (6718,), (1680,))"
      ]
     },
     "execution_count": 32,
     "metadata": {},
     "output_type": "execute_result"
    }
   ],
   "source": [
    "X_train, X_test, y_train, y_test = train_test_split(X, y, test_size=0.2, stratify=y, random_state=42)\n",
    "X_train.shape, X_test.shape, y_train.shape, y_test.shape"
   ]
  },
  {
   "cell_type": "code",
   "execution_count": null,
   "metadata": {},
   "outputs": [
    {
     "data": {
      "text/plain": [
       "0    760\n",
       "2    579\n",
       "1    341\n",
       "Name: cuaca, dtype: int64"
      ]
     },
     "execution_count": 33,
     "metadata": {},
     "output_type": "execute_result"
    }
   ],
   "source": [
    "y_train.value_counts()\n",
    "y_test.value_counts()"
   ]
  },
  {
   "cell_type": "markdown",
   "metadata": {},
   "source": [
    "membagi data berdasarkan data latih dan data uji dengan perbandingan data uji sebesar 20% dan data latih sebesar 80% dari total data dengan pembagian secara stratify<br>\n",
    "<br>\n",
    "membagi data menjadi fitur dan target, dimana variable y merupakan target yaitu kolom cuaca sedangkan variable x merupakan sisa kolom selain kolom cuaca<br>\n",
    "<br>\n",
    "total data latih 6718 data<br>\n",
    "total data uji 1688 data"
   ]
  },
  {
   "attachments": {},
   "cell_type": "markdown",
   "metadata": {},
   "source": [
    "# Preprocessing"
   ]
  },
  {
   "cell_type": "markdown",
   "metadata": {},
   "source": [
    "#### Melihat isi data latih"
   ]
  },
  {
   "cell_type": "code",
   "execution_count": null,
   "metadata": {},
   "outputs": [
    {
     "data": {
      "text/html": [
       "<div>\n",
       "<style scoped>\n",
       "    .dataframe tbody tr th:only-of-type {\n",
       "        vertical-align: middle;\n",
       "    }\n",
       "\n",
       "    .dataframe tbody tr th {\n",
       "        vertical-align: top;\n",
       "    }\n",
       "\n",
       "    .dataframe thead th {\n",
       "        text-align: right;\n",
       "    }\n",
       "</style>\n",
       "<table border=\"1\" class=\"dataframe\">\n",
       "  <thead>\n",
       "    <tr style=\"text-align: right;\">\n",
       "      <th></th>\n",
       "      <th>wilayah</th>\n",
       "      <th>waktu</th>\n",
       "      <th>kelembaban_min</th>\n",
       "      <th>kelembaban_max</th>\n",
       "      <th>suhu_min</th>\n",
       "      <th>suhu_max</th>\n",
       "    </tr>\n",
       "  </thead>\n",
       "  <tbody>\n",
       "    <tr>\n",
       "      <th>1832</th>\n",
       "      <td>Jakarta Timur</td>\n",
       "      <td>Siang</td>\n",
       "      <td>65</td>\n",
       "      <td>90</td>\n",
       "      <td>24</td>\n",
       "      <td>32</td>\n",
       "    </tr>\n",
       "    <tr>\n",
       "      <th>565</th>\n",
       "      <td>Jakarta Selatan</td>\n",
       "      <td>Pagi</td>\n",
       "      <td>70</td>\n",
       "      <td>95</td>\n",
       "      <td>23</td>\n",
       "      <td>32</td>\n",
       "    </tr>\n",
       "    <tr>\n",
       "      <th>2204</th>\n",
       "      <td>Jakarta Barat</td>\n",
       "      <td>Siang</td>\n",
       "      <td>40</td>\n",
       "      <td>75</td>\n",
       "      <td>23</td>\n",
       "      <td>34</td>\n",
       "    </tr>\n",
       "    <tr>\n",
       "      <th>1283</th>\n",
       "      <td>Jakarta Timur</td>\n",
       "      <td>Dini Hari</td>\n",
       "      <td>35</td>\n",
       "      <td>80</td>\n",
       "      <td>25</td>\n",
       "      <td>35</td>\n",
       "    </tr>\n",
       "    <tr>\n",
       "      <th>2724</th>\n",
       "      <td>Jakarta Selatan</td>\n",
       "      <td>Siang</td>\n",
       "      <td>60</td>\n",
       "      <td>95</td>\n",
       "      <td>24</td>\n",
       "      <td>33</td>\n",
       "    </tr>\n",
       "  </tbody>\n",
       "</table>\n",
       "</div>"
      ],
      "text/plain": [
       "              wilayah      waktu  kelembaban_min  kelembaban_max  suhu_min  \\\n",
       "1832    Jakarta Timur      Siang              65              90        24   \n",
       "565   Jakarta Selatan       Pagi              70              95        23   \n",
       "2204    Jakarta Barat      Siang              40              75        23   \n",
       "1283    Jakarta Timur  Dini Hari              35              80        25   \n",
       "2724  Jakarta Selatan      Siang              60              95        24   \n",
       "\n",
       "      suhu_max  \n",
       "1832        32  \n",
       "565         32  \n",
       "2204        34  \n",
       "1283        35  \n",
       "2724        33  "
      ]
     },
     "execution_count": 34,
     "metadata": {},
     "output_type": "execute_result"
    }
   ],
   "source": [
    "X_train.sample(5)"
   ]
  },
  {
   "cell_type": "markdown",
   "metadata": {},
   "source": [
    "### Feature Scaling Data"
   ]
  },
  {
   "cell_type": "markdown",
   "metadata": {},
   "source": [
    "#### menggunakan Polynomial Features pada kolom numerikal"
   ]
  },
  {
   "cell_type": "code",
   "execution_count": null,
   "metadata": {},
   "outputs": [],
   "source": [
    "from sklearn.preprocessing import PolynomialFeatures\n",
    "numeric = [\"kelembaban_min\", \"kelembaban_max\", \"suhu_min\", \"suhu_max\"]\n",
    "\n",
    "poly = PolynomialFeatures(degree=2, interaction_only=True)\n",
    "\n",
    "X_train[poly.get_feature_names_out(numeric)] = poly.fit_transform(X_train[numeric])\n",
    "X_test[poly.get_feature_names_out(numeric)] = poly.fit_transform(X_test[numeric])"
   ]
  },
  {
   "attachments": {},
   "cell_type": "markdown",
   "metadata": {},
   "source": [
    "### Encoding"
   ]
  },
  {
   "cell_type": "markdown",
   "metadata": {},
   "source": [
    "#### Mengubah Kolom waktu dan wilayah menggunakan one-hot encoder"
   ]
  },
  {
   "cell_type": "markdown",
   "metadata": {},
   "source": [
    "Mengubah Feature Categorical menjadi numercial,<br>\n",
    "Mengubah Cuaca menjadi 0<br>\n",
    "Mengubah Hujan menjadi 1<br>\n",
    "Mengubah Berawan menjadi 2"
   ]
  },
  {
   "cell_type": "code",
   "execution_count": null,
   "metadata": {},
   "outputs": [],
   "source": [
    "categoric = ['waktu', 'wilayah']\n",
    "\n",
    "mapping_cuaca = {\n",
    "    'Cerah': 0,\n",
    "    'Hujan': 1,\n",
    "    'Berawan': 2\n",
    "}\n",
    "\n",
    "X_train = pd.get_dummies(X_train, columns=categoric)\n",
    "X_test = pd.get_dummies(X_test, columns=categoric)\n",
    "\n",
    "y_train['cuaca'] = y_train['cuaca'].map(mapping_cuaca)\n",
    "y_test['cuaca'] = y_test['cuaca'].map(mapping_cuaca)"
   ]
  },
  {
   "cell_type": "code",
   "execution_count": null,
   "metadata": {},
   "outputs": [],
   "source": [
    "from imblearn.over_sampling import SMOTE \n",
    "sm = SMOTE(random_state=42)\n",
    "X_train, y_train = sm.fit_resample(X_train, y_train)\n",
    "X_test, y_test = sm.fit_resample(X_test, y_test)"
   ]
  },
  {
   "cell_type": "code",
   "execution_count": null,
   "metadata": {},
   "outputs": [
    {
     "data": {
      "text/plain": [
       "0    760\n",
       "1    760\n",
       "2    760\n",
       "Name: cuaca, dtype: int64"
      ]
     },
     "execution_count": 39,
     "metadata": {},
     "output_type": "execute_result"
    }
   ],
   "source": [
    "y_test.value_counts()"
   ]
  },
  {
   "cell_type": "code",
   "execution_count": null,
   "metadata": {},
   "outputs": [
    {
     "data": {
      "text/plain": [
       "0    3036\n",
       "2    3036\n",
       "1    3036\n",
       "Name: cuaca, dtype: int64"
      ]
     },
     "execution_count": 40,
     "metadata": {},
     "output_type": "execute_result"
    }
   ],
   "source": [
    "y_train.value_counts()"
   ]
  },
  {
   "cell_type": "code",
   "execution_count": null,
   "metadata": {},
   "outputs": [
    {
     "data": {
      "text/plain": [
       "(2280, 21)"
      ]
     },
     "execution_count": 41,
     "metadata": {},
     "output_type": "execute_result"
    }
   ],
   "source": [
    "X_test.shape"
   ]
  },
  {
   "cell_type": "code",
   "execution_count": null,
   "metadata": {},
   "outputs": [
    {
     "data": {
      "text/plain": [
       "(9108, 21)"
      ]
     },
     "execution_count": 42,
     "metadata": {},
     "output_type": "execute_result"
    }
   ],
   "source": [
    "X_train.shape"
   ]
  },
  {
   "cell_type": "markdown",
   "metadata": {},
   "source": [
    "# Proses Fitting Data (1)"
   ]
  },
  {
   "cell_type": "markdown",
   "metadata": {},
   "source": [
    "### XGB Classifier"
   ]
  },
  {
   "cell_type": "markdown",
   "metadata": {},
   "source": [
    "#### parameter yang akan di tuning"
   ]
  },
  {
   "cell_type": "code",
   "execution_count": null,
   "metadata": {},
   "outputs": [],
   "source": [
    "from jcopml.tuning.space import Integer, Real\n",
    "\n",
    "parameters = {\n",
    "    'max_depth': Integer(low=1, high=10),\n",
    "    'learning_rate': Real(low=-2, high=0, prior='log-uniform'),\n",
    "    'n_estimators': Integer(low=100, high=200),\n",
    "    'subsample': Real(low=0.3, high=0.8, prior='uniform'),\n",
    "    'gamma': Integer(low=1, high=10),\n",
    "    'colsample_bytree': Real(low=0.1, high=1, prior='uniform'),\n",
    "    'reg_alpha': Real(low=-3, high=1, prior='log-uniform'),\n",
    "    'reg_lambda': Real(low=-3, high=1, prior='log-uniform')\n",
    "}"
   ]
  },
  {
   "cell_type": "markdown",
   "metadata": {},
   "source": [
    "#### fitting menggunakan XGBClassifier dengan tuning menggunakan RandomizedSearchCV"
   ]
  },
  {
   "cell_type": "code",
   "execution_count": null,
   "metadata": {},
   "outputs": [
    {
     "name": "stderr",
     "output_type": "stream",
     "text": [
      "D:\\lib\\site-packages\\xgboost\\sklearn.py:1395: UserWarning: `use_label_encoder` is deprecated in 1.7.0.\n",
      "  warnings.warn(\"`use_label_encoder` is deprecated in 1.7.0.\")\n",
      "D:\\lib\\site-packages\\xgboost\\sklearn.py:1395: UserWarning: `use_label_encoder` is deprecated in 1.7.0.\n",
      "  warnings.warn(\"`use_label_encoder` is deprecated in 1.7.0.\")\n"
     ]
    },
    {
     "name": "stdout",
     "output_type": "stream",
     "text": [
      "Fitting 3 folds for each of 100 candidates, totalling 300 fits\n"
     ]
    },
    {
     "name": "stderr",
     "output_type": "stream",
     "text": [
      "D:\\lib\\site-packages\\xgboost\\sklearn.py:1395: UserWarning: `use_label_encoder` is deprecated in 1.7.0.\n",
      "  warnings.warn(\"`use_label_encoder` is deprecated in 1.7.0.\")\n"
     ]
    },
    {
     "name": "stdout",
     "output_type": "stream",
     "text": [
      "{'colsample_bytree': 0.770895526765897, 'gamma': 1, 'learning_rate': 0.13456034286213814, 'max_depth': 10, 'n_estimators': 140, 'reg_alpha': 0.02237625154136126, 'reg_lambda': 3.968163778862806, 'subsample': 0.6037776111467865}\n",
      "[[555  53 152]\n",
      " [ 30 599 131]\n",
      " [138 138 484]] \n",
      "\n",
      "              precision    recall  f1-score   support\n",
      "\n",
      "           0       0.83      0.82      0.83      3036\n",
      "           1       0.83      0.88      0.85      3036\n",
      "           2       0.76      0.73      0.75      3036\n",
      "\n",
      "    accuracy                           0.81      9108\n",
      "   macro avg       0.81      0.81      0.81      9108\n",
      "weighted avg       0.81      0.81      0.81      9108\n",
      " \n",
      "\n",
      "              precision    recall  f1-score   support\n",
      "\n",
      "           0       0.77      0.73      0.75       760\n",
      "           1       0.76      0.79      0.77       760\n",
      "           2       0.63      0.64      0.63       760\n",
      "\n",
      "    accuracy                           0.72      2280\n",
      "   macro avg       0.72      0.72      0.72      2280\n",
      "weighted avg       0.72      0.72      0.72      2280\n",
      "\n"
     ]
    }
   ],
   "source": [
    "from xgboost import XGBClassifier\n",
    "from sklearn.model_selection import RandomizedSearchCV\n",
    "from sklearn.metrics import confusion_matrix, classification_report\n",
    "\n",
    "XGB = XGBClassifier(n_jobs=-1, random_state=42, use_label_encoder=False)\n",
    "\n",
    "model = RandomizedSearchCV(XGB, parameters, cv=3, n_iter=100, n_jobs=-1, verbose=1, random_state=42)\n",
    "model.fit(X_train, y_train)\n",
    "\n",
    "print(model.best_params_)\n",
    "\n",
    "y_pred = model.predict(X_test)\n",
    "y_pred_train = model.predict(X_train)\n",
    "\n",
    "print(confusion_matrix(y_test, y_pred), \"\\n\")\n",
    "print(classification_report(y_train, y_pred_train), \"\\n\")\n",
    "print(classification_report(y_test, y_pred))"
   ]
  },
  {
   "cell_type": "code",
   "execution_count": null,
   "metadata": {},
   "outputs": [
    {
     "data": {
      "image/png": "[encoded data removed]",
      "text/plain": [
       "<Figure size 1080x360 with 1 Axes>"
      ]
     },
     "metadata": {
      "needs_background": "light"
     },
     "output_type": "display_data"
    }
   ],
   "source": [
    "df_imp = mean_score_decrease(X_train, y_train, model, plot=True, topk=10)"
   ]
  },
  {
   "cell_type": "code",
   "execution_count": null,
   "metadata": {},
   "outputs": [
    {
     "name": "stdout",
     "output_type": "stream",
     "text": [
      "Fitting 3 folds for each of 100 candidates, totalling 300 fits\n",
      "{'max_depth': 37, 'max_features': 0.6011211362125152, 'min_samples_leaf': 3, 'n_estimators': 145}\n",
      "[[525  65 170]\n",
      " [ 46 565 149]\n",
      " [136 152 472]] \n",
      "\n",
      "              precision    recall  f1-score   support\n",
      "\n",
      "           0       0.84      0.81      0.83      3036\n",
      "           1       0.83      0.88      0.86      3036\n",
      "           2       0.77      0.75      0.76      3036\n",
      "\n",
      "    accuracy                           0.82      9108\n",
      "   macro avg       0.82      0.82      0.82      9108\n",
      "weighted avg       0.82      0.82      0.82      9108\n",
      " \n",
      "\n",
      "              precision    recall  f1-score   support\n",
      "\n",
      "           0       0.74      0.69      0.72       760\n",
      "           1       0.72      0.74      0.73       760\n",
      "           2       0.60      0.62      0.61       760\n",
      "\n",
      "    accuracy                           0.69      2280\n",
      "   macro avg       0.69      0.69      0.69      2280\n",
      "weighted avg       0.69      0.69      0.69      2280\n",
      "\n"
     ]
    }
   ],
   "source": [
    "params = {'n_estimators': Integer(low=100, high=200),\n",
    "'max_depth': Integer(low=20, high=80),\n",
    "'max_features': Real(low=0.1, high=1, prior='uniform'),\n",
    "'min_samples_leaf': Integer(low=1, high=20)}\n",
    "\n",
    "from sklearn.ensemble import RandomForestClassifier\n",
    "from sklearn.model_selection import RandomizedSearchCV\n",
    "from sklearn.metrics import confusion_matrix, classification_report\n",
    "\n",
    "rfc = RandomForestClassifier(n_jobs=-1, random_state=42)\n",
    "\n",
    "from jcopml.tuning import random_search_params as rsp\n",
    "\n",
    "model = RandomizedSearchCV(rfc, params, cv=3, n_iter=100, n_jobs=-1, verbose=1, random_state=42)\n",
    "model.fit(X_train, y_train)\n",
    "\n",
    "print(model.best_params_)\n",
    "\n",
    "y_pred = model.predict(X_test)\n",
    "y_pred_train = model.predict(X_train)\n",
    "\n",
    "print(confusion_matrix(y_test, y_pred), \"\\n\")\n",
    "print(classification_report(y_train, y_pred_train), \"\\n\")\n",
    "print(classification_report(y_test, y_pred))"
   ]
  },
  {
   "cell_type": "code",
   "execution_count": null,
   "metadata": {},
   "outputs": [
    {
     "data": {
      "image/png": "[encoded data removed]",
      "text/plain": [
       "<Figure size 1080x360 with 1 Axes>"
      ]
     },
     "metadata": {
      "needs_background": "light"
     },
     "output_type": "display_data"
    }
   ],
   "source": [
    "df_imp = mean_score_decrease(X_train, y_train, model, plot=True, topk=10)"
   ]
  },
  {
   "cell_type": "markdown",
   "metadata": {},
   "source": [
    "# Reduksi Dimensi"
   ]
  },
  {
   "cell_type": "markdown",
   "metadata": {},
   "source": [
    "### Menggunakan PCA"
   ]
  },
  {
   "cell_type": "code",
   "execution_count": null,
   "metadata": {},
   "outputs": [
    {
     "data": {
      "text/plain": [
       "(9108,)"
      ]
     },
     "execution_count": 48,
     "metadata": {},
     "output_type": "execute_result"
    }
   ],
   "source": [
    "y_train.shape"
   ]
  },
  {
   "cell_type": "code",
   "execution_count": null,
   "metadata": {},
   "outputs": [],
   "source": [
    "from sklearn.decomposition import PCA\n",
    "pca = PCA(n_components=12)\n",
    "principalComponents = pca.fit_transform(X_train)\n",
    "principalComponentsTest = pca.fit_transform(X_test)"
   ]
  },
  {
   "cell_type": "code",
   "execution_count": null,
   "metadata": {},
   "outputs": [
    {
     "data": {
      "text/plain": [
       "(2280, 12)"
      ]
     },
     "execution_count": 50,
     "metadata": {},
     "output_type": "execute_result"
    }
   ],
   "source": [
    "principalComponentsTest.shape"
   ]
  },
  {
   "cell_type": "code",
   "execution_count": null,
   "metadata": {},
   "outputs": [
    {
     "data": {
      "text/plain": [
       "<Axes: >"
      ]
     },
     "execution_count": 51,
     "metadata": {},
     "output_type": "execute_result"
    },
    {
     "data": {
      "image/png": "[encoded data removed]",
      "text/plain": [
       "<Figure size 432x288 with 1 Axes>"
      ]
     },
     "metadata": {
      "needs_background": "light"
     },
     "output_type": "display_data"
    }
   ],
   "source": [
    "variance_ratio = pca.explained_variance_ratio_\n",
    "variance_ratio\n",
    "\n",
    "sns.lineplot(x=range(12), y=variance_ratio)"
   ]
  },
  {
   "cell_type": "code",
   "execution_count": null,
   "metadata": {},
   "outputs": [
    {
     "name": "stderr",
     "output_type": "stream",
     "text": [
      "D:\\lib\\site-packages\\xgboost\\sklearn.py:1395: UserWarning: `use_label_encoder` is deprecated in 1.7.0.\n",
      "  warnings.warn(\"`use_label_encoder` is deprecated in 1.7.0.\")\n",
      "D:\\lib\\site-packages\\xgboost\\sklearn.py:1395: UserWarning: `use_label_encoder` is deprecated in 1.7.0.\n",
      "  warnings.warn(\"`use_label_encoder` is deprecated in 1.7.0.\")\n"
     ]
    },
    {
     "name": "stdout",
     "output_type": "stream",
     "text": [
      "Fitting 3 folds for each of 100 candidates, totalling 300 fits\n"
     ]
    },
    {
     "name": "stderr",
     "output_type": "stream",
     "text": [
      "D:\\lib\\site-packages\\xgboost\\sklearn.py:1395: UserWarning: `use_label_encoder` is deprecated in 1.7.0.\n",
      "  warnings.warn(\"`use_label_encoder` is deprecated in 1.7.0.\")\n"
     ]
    },
    {
     "name": "stdout",
     "output_type": "stream",
     "text": [
      "{'colsample_bytree': 0.9174392973699884, 'gamma': 3, 'learning_rate': 0.22983221528155043, 'max_depth': 5, 'n_estimators': 143, 'reg_alpha': 0.061820520641258085, 'reg_lambda': 0.16276924772060908, 'subsample': 0.5963483619396968}\n",
      "[[406  99 255]\n",
      " [ 59 412 289]\n",
      " [125 258 377]] \n",
      "\n",
      "              precision    recall  f1-score   support\n",
      "\n",
      "           0       0.81      0.83      0.82      3036\n",
      "           1       0.83      0.87      0.85      3036\n",
      "           2       0.76      0.70      0.73      3036\n",
      "\n",
      "    accuracy                           0.80      9108\n",
      "   macro avg       0.80      0.80      0.80      9108\n",
      "weighted avg       0.80      0.80      0.80      9108\n",
      " \n",
      "\n",
      "              precision    recall  f1-score   support\n",
      "\n",
      "           0       0.69      0.53      0.60       760\n",
      "           1       0.54      0.54      0.54       760\n",
      "           2       0.41      0.50      0.45       760\n",
      "\n",
      "    accuracy                           0.52      2280\n",
      "   macro avg       0.54      0.52      0.53      2280\n",
      "weighted avg       0.54      0.52      0.53      2280\n",
      "\n"
     ]
    }
   ],
   "source": [
    "XGB = XGBClassifier(n_jobs=-1, random_state=42, use_label_encoder=False)\n",
    "\n",
    "model = RandomizedSearchCV(XGB, parameters, cv=3, n_iter=100, n_jobs=-1, verbose=1, random_state=42)\n",
    "model.fit(principalComponents, y_train)\n",
    "\n",
    "print(model.best_params_)\n",
    "y_pred = model.predict(principalComponentsTest)\n",
    "y_pred_train = model.predict(principalComponents)\n",
    "print(confusion_matrix(y_test, y_pred), \"\\n\")\n",
    "print(classification_report(y_train, y_pred_train), \"\\n\")\n",
    "print(classification_report(y_test, y_pred))"
   ]
  },
  {
   "cell_type": "code",
   "execution_count": null,
   "metadata": {},
   "outputs": [],
   "source": [
    "params = {'n_estimators': Integer(low=100, high=200),\n",
    "'max_depth': Integer(low=20, high=80),\n",
    "'max_features': Real(low=0.1, high=1, prior='uniform'),\n",
    "'min_samples_leaf': Integer(low=1, high=20)}"
   ]
  },
  {
   "cell_type": "code",
   "execution_count": null,
   "metadata": {},
   "outputs": [
    {
     "name": "stdout",
     "output_type": "stream",
     "text": [
      "Fitting 3 folds for each of 100 candidates, totalling 300 fits\n",
      "{'max_depth': 63, 'max_features': 0.9455490474077703, 'min_samples_leaf': 4, 'n_estimators': 113}\n",
      "[[449 107 204]\n",
      " [ 56 490 214]\n",
      " [135 318 307]] \n",
      "\n",
      "              precision    recall  f1-score   support\n",
      "\n",
      "           0       0.84      0.85      0.85      3036\n",
      "           1       0.86      0.88      0.87      3036\n",
      "           2       0.80      0.77      0.78      3036\n",
      "\n",
      "    accuracy                           0.83      9108\n",
      "   macro avg       0.83      0.83      0.83      9108\n",
      "weighted avg       0.83      0.83      0.83      9108\n",
      " \n",
      "\n",
      "              precision    recall  f1-score   support\n",
      "\n",
      "           0       0.70      0.59      0.64       760\n",
      "           1       0.54      0.64      0.59       760\n",
      "           2       0.42      0.40      0.41       760\n",
      "\n",
      "    accuracy                           0.55      2280\n",
      "   macro avg       0.55      0.55      0.55      2280\n",
      "weighted avg       0.55      0.55      0.55      2280\n",
      "\n"
     ]
    }
   ],
   "source": [
    "from sklearn.ensemble import RandomForestClassifier\n",
    "from sklearn.model_selection import RandomizedSearchCV\n",
    "from sklearn.metrics import confusion_matrix, classification_report\n",
    "\n",
    "rfc = RandomForestClassifier(n_jobs=-1, random_state=42)\n",
    "\n",
    "from jcopml.tuning import random_search_params as rsp\n",
    "\n",
    "model = RandomizedSearchCV(rfc, params, cv=3, n_iter=100, n_jobs=-1, verbose=1, random_state=42)\n",
    "model.fit(principalComponents, y_train)\n",
    "\n",
    "print(model.best_params_)\n",
    "\n",
    "y_pred = model.predict(principalComponentsTest)\n",
    "y_pred_train = model.predict(principalComponents)\n",
    "\n",
    "print(confusion_matrix(y_test, y_pred), \"\\n\")\n",
    "print(classification_report(y_train, y_pred_train), \"\\n\")\n",
    "print(classification_report(y_test, y_pred))"
   ]
  },
  {
   "cell_type": "code",
   "execution_count": null,
   "metadata": {},
   "outputs": [
    {
     "data": {
      "text/html": [
       "<div>\n",
       "<style scoped>\n",
       "    .dataframe tbody tr th:only-of-type {\n",
       "        vertical-align: middle;\n",
       "    }\n",
       "\n",
       "    .dataframe tbody tr th {\n",
       "        vertical-align: top;\n",
       "    }\n",
       "\n",
       "    .dataframe thead th {\n",
       "        text-align: right;\n",
       "    }\n",
       "</style>\n",
       "<table border=\"1\" class=\"dataframe\">\n",
       "  <thead>\n",
       "    <tr style=\"text-align: right;\">\n",
       "      <th></th>\n",
       "      <th>kelembaban_min</th>\n",
       "      <th>kelembaban_max</th>\n",
       "      <th>suhu_min</th>\n",
       "      <th>suhu_max</th>\n",
       "      <th>1</th>\n",
       "      <th>kelembaban_min kelembaban_max</th>\n",
       "      <th>kelembaban_min suhu_min</th>\n",
       "      <th>kelembaban_min suhu_max</th>\n",
       "      <th>kelembaban_max suhu_min</th>\n",
       "      <th>kelembaban_max suhu_max</th>\n",
       "      <th>...</th>\n",
       "      <th>waktu_Dini Hari</th>\n",
       "      <th>waktu_Malam</th>\n",
       "      <th>waktu_Pagi</th>\n",
       "      <th>waktu_Siang</th>\n",
       "      <th>wilayah_Jakarta Barat</th>\n",
       "      <th>wilayah_Jakarta Pusat</th>\n",
       "      <th>wilayah_Jakarta Selatan</th>\n",
       "      <th>wilayah_Jakarta Timur</th>\n",
       "      <th>wilayah_Jakarta Utara</th>\n",
       "      <th>wilayah_Kepulauan Seribu</th>\n",
       "    </tr>\n",
       "  </thead>\n",
       "  <tbody>\n",
       "    <tr>\n",
       "      <th>0</th>\n",
       "      <td>70.0</td>\n",
       "      <td>100.0</td>\n",
       "      <td>23.0</td>\n",
       "      <td>32.0</td>\n",
       "      <td>1.0</td>\n",
       "      <td>7000.0</td>\n",
       "      <td>1610.0</td>\n",
       "      <td>2240.0</td>\n",
       "      <td>2300.0</td>\n",
       "      <td>3200.0</td>\n",
       "      <td>...</td>\n",
       "      <td>1</td>\n",
       "      <td>0</td>\n",
       "      <td>0</td>\n",
       "      <td>0</td>\n",
       "      <td>0</td>\n",
       "      <td>1</td>\n",
       "      <td>0</td>\n",
       "      <td>0</td>\n",
       "      <td>0</td>\n",
       "      <td>0</td>\n",
       "    </tr>\n",
       "    <tr>\n",
       "      <th>1</th>\n",
       "      <td>60.0</td>\n",
       "      <td>95.0</td>\n",
       "      <td>24.0</td>\n",
       "      <td>33.0</td>\n",
       "      <td>1.0</td>\n",
       "      <td>5700.0</td>\n",
       "      <td>1440.0</td>\n",
       "      <td>1980.0</td>\n",
       "      <td>2280.0</td>\n",
       "      <td>3135.0</td>\n",
       "      <td>...</td>\n",
       "      <td>1</td>\n",
       "      <td>0</td>\n",
       "      <td>0</td>\n",
       "      <td>0</td>\n",
       "      <td>0</td>\n",
       "      <td>0</td>\n",
       "      <td>0</td>\n",
       "      <td>0</td>\n",
       "      <td>0</td>\n",
       "      <td>1</td>\n",
       "    </tr>\n",
       "    <tr>\n",
       "      <th>2</th>\n",
       "      <td>85.0</td>\n",
       "      <td>95.0</td>\n",
       "      <td>23.0</td>\n",
       "      <td>31.0</td>\n",
       "      <td>1.0</td>\n",
       "      <td>8075.0</td>\n",
       "      <td>1955.0</td>\n",
       "      <td>2635.0</td>\n",
       "      <td>2185.0</td>\n",
       "      <td>2945.0</td>\n",
       "      <td>...</td>\n",
       "      <td>0</td>\n",
       "      <td>0</td>\n",
       "      <td>1</td>\n",
       "      <td>0</td>\n",
       "      <td>1</td>\n",
       "      <td>0</td>\n",
       "      <td>0</td>\n",
       "      <td>0</td>\n",
       "      <td>0</td>\n",
       "      <td>0</td>\n",
       "    </tr>\n",
       "    <tr>\n",
       "      <th>3</th>\n",
       "      <td>70.0</td>\n",
       "      <td>90.0</td>\n",
       "      <td>23.0</td>\n",
       "      <td>32.0</td>\n",
       "      <td>1.0</td>\n",
       "      <td>6300.0</td>\n",
       "      <td>1610.0</td>\n",
       "      <td>2240.0</td>\n",
       "      <td>2070.0</td>\n",
       "      <td>2880.0</td>\n",
       "      <td>...</td>\n",
       "      <td>0</td>\n",
       "      <td>0</td>\n",
       "      <td>0</td>\n",
       "      <td>1</td>\n",
       "      <td>0</td>\n",
       "      <td>0</td>\n",
       "      <td>0</td>\n",
       "      <td>0</td>\n",
       "      <td>0</td>\n",
       "      <td>1</td>\n",
       "    </tr>\n",
       "    <tr>\n",
       "      <th>4</th>\n",
       "      <td>70.0</td>\n",
       "      <td>100.0</td>\n",
       "      <td>24.0</td>\n",
       "      <td>32.0</td>\n",
       "      <td>1.0</td>\n",
       "      <td>7000.0</td>\n",
       "      <td>1680.0</td>\n",
       "      <td>2240.0</td>\n",
       "      <td>2400.0</td>\n",
       "      <td>3200.0</td>\n",
       "      <td>...</td>\n",
       "      <td>0</td>\n",
       "      <td>1</td>\n",
       "      <td>0</td>\n",
       "      <td>0</td>\n",
       "      <td>1</td>\n",
       "      <td>0</td>\n",
       "      <td>0</td>\n",
       "      <td>0</td>\n",
       "      <td>0</td>\n",
       "      <td>0</td>\n",
       "    </tr>\n",
       "  </tbody>\n",
       "</table>\n",
       "<p>5 rows × 21 columns</p>\n",
       "</div>"
      ],
      "text/plain": [
       "   kelembaban_min  kelembaban_max  suhu_min  suhu_max    1  \\\n",
       "0            70.0           100.0      23.0      32.0  1.0   \n",
       "1            60.0            95.0      24.0      33.0  1.0   \n",
       "2            85.0            95.0      23.0      31.0  1.0   \n",
       "3            70.0            90.0      23.0      32.0  1.0   \n",
       "4            70.0           100.0      24.0      32.0  1.0   \n",
       "\n",
       "   kelembaban_min kelembaban_max  kelembaban_min suhu_min  \\\n",
       "0                         7000.0                   1610.0   \n",
       "1                         5700.0                   1440.0   \n",
       "2                         8075.0                   1955.0   \n",
       "3                         6300.0                   1610.0   \n",
       "4                         7000.0                   1680.0   \n",
       "\n",
       "   kelembaban_min suhu_max  kelembaban_max suhu_min  kelembaban_max suhu_max  \\\n",
       "0                   2240.0                   2300.0                   3200.0   \n",
       "1                   1980.0                   2280.0                   3135.0   \n",
       "2                   2635.0                   2185.0                   2945.0   \n",
       "3                   2240.0                   2070.0                   2880.0   \n",
       "4                   2240.0                   2400.0                   3200.0   \n",
       "\n",
       "   ...  waktu_Dini Hari  waktu_Malam  waktu_Pagi  waktu_Siang  \\\n",
       "0  ...                1            0           0            0   \n",
       "1  ...                1            0           0            0   \n",
       "2  ...                0            0           1            0   \n",
       "3  ...                0            0           0            1   \n",
       "4  ...                0            1           0            0   \n",
       "\n",
       "   wilayah_Jakarta Barat  wilayah_Jakarta Pusat  wilayah_Jakarta Selatan  \\\n",
       "0                      0                      1                        0   \n",
       "1                      0                      0                        0   \n",
       "2                      1                      0                        0   \n",
       "3                      0                      0                        0   \n",
       "4                      1                      0                        0   \n",
       "\n",
       "   wilayah_Jakarta Timur  wilayah_Jakarta Utara  wilayah_Kepulauan Seribu  \n",
       "0                      0                      0                         0  \n",
       "1                      0                      0                         1  \n",
       "2                      0                      0                         0  \n",
       "3                      0                      0                         1  \n",
       "4                      0                      0                         0  \n",
       "\n",
       "[5 rows x 21 columns]"
      ]
     },
     "execution_count": 56,
     "metadata": {},
     "output_type": "execute_result"
    }
   ],
   "source": [
    "X_train.head()"
   ]
  },
  {
   "cell_type": "markdown",
   "metadata": {},
   "source": [
    "# mencoba fititng dengan menggunakan pipeline dan column transmormer"
   ]
  },
  {
   "cell_type": "code",
   "execution_count": null,
   "metadata": {},
   "outputs": [
    {
     "data": {
      "text/plain": [
       "((6718, 6), (1680, 6), (6718,), (1680,))"
      ]
     },
     "execution_count": 57,
     "metadata": {},
     "output_type": "execute_result"
    }
   ],
   "source": [
    "X = df.drop(columns=[\"cuaca\"])\n",
    "y = df[\"cuaca\"]\n",
    "\n",
    "X_train, X_test, y_train, y_test = train_test_split(X, y, test_size=0.2, stratify=y, random_state=42)\n",
    "X_train.shape, X_test.shape, y_train.shape, y_test.shape"
   ]
  },
  {
   "cell_type": "code",
   "execution_count": null,
   "metadata": {},
   "outputs": [
    {
     "data": {
      "text/html": [
       "<div>\n",
       "<style scoped>\n",
       "    .dataframe tbody tr th:only-of-type {\n",
       "        vertical-align: middle;\n",
       "    }\n",
       "\n",
       "    .dataframe tbody tr th {\n",
       "        vertical-align: top;\n",
       "    }\n",
       "\n",
       "    .dataframe thead th {\n",
       "        text-align: right;\n",
       "    }\n",
       "</style>\n",
       "<table border=\"1\" class=\"dataframe\">\n",
       "  <thead>\n",
       "    <tr style=\"text-align: right;\">\n",
       "      <th></th>\n",
       "      <th>wilayah</th>\n",
       "      <th>waktu</th>\n",
       "      <th>kelembaban_min</th>\n",
       "      <th>kelembaban_max</th>\n",
       "      <th>suhu_min</th>\n",
       "      <th>suhu_max</th>\n",
       "    </tr>\n",
       "  </thead>\n",
       "  <tbody>\n",
       "    <tr>\n",
       "      <th>7315</th>\n",
       "      <td>Jakarta Pusat</td>\n",
       "      <td>Dini Hari</td>\n",
       "      <td>70</td>\n",
       "      <td>100</td>\n",
       "      <td>23</td>\n",
       "      <td>32</td>\n",
       "    </tr>\n",
       "    <tr>\n",
       "      <th>5883</th>\n",
       "      <td>Kepulauan Seribu</td>\n",
       "      <td>Dini Hari</td>\n",
       "      <td>60</td>\n",
       "      <td>95</td>\n",
       "      <td>24</td>\n",
       "      <td>33</td>\n",
       "    </tr>\n",
       "    <tr>\n",
       "      <th>7341</th>\n",
       "      <td>Jakarta Barat</td>\n",
       "      <td>Pagi</td>\n",
       "      <td>85</td>\n",
       "      <td>95</td>\n",
       "      <td>23</td>\n",
       "      <td>31</td>\n",
       "    </tr>\n",
       "    <tr>\n",
       "      <th>816</th>\n",
       "      <td>Kepulauan Seribu</td>\n",
       "      <td>Siang</td>\n",
       "      <td>70</td>\n",
       "      <td>90</td>\n",
       "      <td>23</td>\n",
       "      <td>32</td>\n",
       "    </tr>\n",
       "    <tr>\n",
       "      <th>478</th>\n",
       "      <td>Jakarta Barat</td>\n",
       "      <td>Malam</td>\n",
       "      <td>70</td>\n",
       "      <td>100</td>\n",
       "      <td>24</td>\n",
       "      <td>32</td>\n",
       "    </tr>\n",
       "  </tbody>\n",
       "</table>\n",
       "</div>"
      ],
      "text/plain": [
       "               wilayah      waktu  kelembaban_min  kelembaban_max  suhu_min  \\\n",
       "7315     Jakarta Pusat  Dini Hari              70             100        23   \n",
       "5883  Kepulauan Seribu  Dini Hari              60              95        24   \n",
       "7341     Jakarta Barat       Pagi              85              95        23   \n",
       "816   Kepulauan Seribu      Siang              70              90        23   \n",
       "478      Jakarta Barat      Malam              70             100        24   \n",
       "\n",
       "      suhu_max  \n",
       "7315        32  \n",
       "5883        33  \n",
       "7341        31  \n",
       "816         32  \n",
       "478         32  "
      ]
     },
     "execution_count": 58,
     "metadata": {},
     "output_type": "execute_result"
    }
   ],
   "source": [
    "X_train.head()"
   ]
  },
  {
   "cell_type": "code",
   "execution_count": null,
   "metadata": {},
   "outputs": [],
   "source": [
    "from jcopml.tuning.space import Integer, Real\n",
    "\n",
    "parameter = {'preprocessor__numeric__interaction_only': [True, False],\n",
    "'preprocessor__numeric__degree': Integer(low=1, high=3),\n",
    "'imbalance__k_neighbors': Integer(low=5, high=10),\n",
    "'imbalance__sampling_strategy': ['minority', 'majority', 'not minority', 'not majority'],\n",
    "'algo__max_depth': Integer(low=1, high=10),\n",
    "'algo__learning_rate': Real(low=-2, high=0, prior='log-uniform'),\n",
    "'algo__n_estimators': Integer(low=100, high=200),\n",
    "'algo__subsample': Real(low=0.3, high=0.8, prior='uniform'),\n",
    "'algo__gamma': Integer(low=1, high=10),\n",
    "'algo__colsample_bytree': Real(low=0.1, high=1, prior='uniform'),\n",
    "'algo__reg_alpha': Real(low=-3, high=1, prior='log-uniform'),\n",
    "'algo__reg_lambda': Real(low=-3, high=1, prior='log-uniform'),\n",
    "}"
   ]
  },
  {
   "cell_type": "code",
   "execution_count": null,
   "metadata": {},
   "outputs": [
    {
     "name": "stdout",
     "output_type": "stream",
     "text": [
      "Fitting 3 folds for each of 100 candidates, totalling 300 fits\n"
     ]
    },
    {
     "name": "stderr",
     "output_type": "stream",
     "text": [
      "D:\\lib\\site-packages\\sklearn\\model_selection\\_validation.py:378: FitFailedWarning: \n",
      "66 fits failed out of a total of 300.\n",
      "The score on these train-test partitions for these parameters will be set to nan.\n",
      "If these failures are not expected, you can try to debug them by setting error_score='raise'.\n",
      "\n",
      "Below are more details about the failures:\n",
      "--------------------------------------------------------------------------------\n",
      "5 fits failed with the following error:\n",
      "Traceback (most recent call last):\n",
      "  File \"D:\\lib\\site-packages\\sklearn\\model_selection\\_validation.py\", line 686, in _fit_and_score\n",
      "    estimator.fit(X_train, y_train, **fit_params)\n",
      "  File \"D:\\lib\\site-packages\\imblearn\\pipeline.py\", line 293, in fit\n",
      "    Xt, yt = self._fit(X, y, **fit_params_steps)\n",
      "  File \"D:\\lib\\site-packages\\imblearn\\pipeline.py\", line 250, in _fit\n",
      "    X, y, fitted_transformer = fit_resample_one_cached(\n",
      "  File \"D:\\lib\\site-packages\\joblib\\memory.py\", line 349, in __call__\n",
      "    return self.func(*args, **kwargs)\n",
      "  File \"D:\\lib\\site-packages\\imblearn\\pipeline.py\", line 422, in _fit_resample_one\n",
      "    X_res, y_res = sampler.fit_resample(X, y, **fit_params)\n",
      "  File \"D:\\lib\\site-packages\\imblearn\\base.py\", line 202, in fit_resample\n",
      "    self._validate_params()\n",
      "  File \"D:\\lib\\site-packages\\sklearn\\base.py\", line 600, in _validate_params\n",
      "    validate_parameter_constraints(\n",
      "  File \"D:\\lib\\site-packages\\sklearn\\utils\\_param_validation.py\", line 97, in validate_parameter_constraints\n",
      "    raise InvalidParameterError(\n",
      "sklearn.utils._param_validation.InvalidParameterError: The 'sampling_strategy' parameter of SMOTE must be a float in the range (0, 1], a str among {'not majority', 'all', 'minority', 'not minority', 'auto'}, an instance of 'collections.abc.Mapping' or a callable. Got 'majority' instead.\n",
      "\n",
      "--------------------------------------------------------------------------------\n",
      "15 fits failed with the following error:\n",
      "Traceback (most recent call last):\n",
      "  File \"D:\\lib\\site-packages\\sklearn\\model_selection\\_validation.py\", line 686, in _fit_and_score\n",
      "    estimator.fit(X_train, y_train, **fit_params)\n",
      "  File \"D:\\lib\\site-packages\\imblearn\\pipeline.py\", line 293, in fit\n",
      "    Xt, yt = self._fit(X, y, **fit_params_steps)\n",
      "  File \"D:\\lib\\site-packages\\imblearn\\pipeline.py\", line 250, in _fit\n",
      "    X, y, fitted_transformer = fit_resample_one_cached(\n",
      "  File \"D:\\lib\\site-packages\\joblib\\memory.py\", line 349, in __call__\n",
      "    return self.func(*args, **kwargs)\n",
      "  File \"D:\\lib\\site-packages\\imblearn\\pipeline.py\", line 422, in _fit_resample_one\n",
      "    X_res, y_res = sampler.fit_resample(X, y, **fit_params)\n",
      "  File \"D:\\lib\\site-packages\\imblearn\\base.py\", line 202, in fit_resample\n",
      "    self._validate_params()\n",
      "  File \"D:\\lib\\site-packages\\sklearn\\base.py\", line 600, in _validate_params\n",
      "    validate_parameter_constraints(\n",
      "  File \"D:\\lib\\site-packages\\sklearn\\utils\\_param_validation.py\", line 97, in validate_parameter_constraints\n",
      "    raise InvalidParameterError(\n",
      "sklearn.utils._param_validation.InvalidParameterError: The 'sampling_strategy' parameter of SMOTE must be a float in the range (0, 1], a str among {'not majority', 'auto', 'not minority', 'all', 'minority'}, an instance of 'collections.abc.Mapping' or a callable. Got 'majority' instead.\n",
      "\n",
      "--------------------------------------------------------------------------------\n",
      "4 fits failed with the following error:\n",
      "Traceback (most recent call last):\n",
      "  File \"D:\\lib\\site-packages\\sklearn\\model_selection\\_validation.py\", line 686, in _fit_and_score\n",
      "    estimator.fit(X_train, y_train, **fit_params)\n",
      "  File \"D:\\lib\\site-packages\\imblearn\\pipeline.py\", line 293, in fit\n",
      "    Xt, yt = self._fit(X, y, **fit_params_steps)\n",
      "  File \"D:\\lib\\site-packages\\imblearn\\pipeline.py\", line 250, in _fit\n",
      "    X, y, fitted_transformer = fit_resample_one_cached(\n",
      "  File \"D:\\lib\\site-packages\\joblib\\memory.py\", line 349, in __call__\n",
      "    return self.func(*args, **kwargs)\n",
      "  File \"D:\\lib\\site-packages\\imblearn\\pipeline.py\", line 422, in _fit_resample_one\n",
      "    X_res, y_res = sampler.fit_resample(X, y, **fit_params)\n",
      "  File \"D:\\lib\\site-packages\\imblearn\\base.py\", line 202, in fit_resample\n",
      "    self._validate_params()\n",
      "  File \"D:\\lib\\site-packages\\sklearn\\base.py\", line 600, in _validate_params\n",
      "    validate_parameter_constraints(\n",
      "  File \"D:\\lib\\site-packages\\sklearn\\utils\\_param_validation.py\", line 97, in validate_parameter_constraints\n",
      "    raise InvalidParameterError(\n",
      "sklearn.utils._param_validation.InvalidParameterError: The 'sampling_strategy' parameter of SMOTE must be a float in the range (0, 1], a str among {'auto', 'minority', 'all', 'not minority', 'not majority'}, an instance of 'collections.abc.Mapping' or a callable. Got 'majority' instead.\n",
      "\n",
      "--------------------------------------------------------------------------------\n",
      "1 fits failed with the following error:\n",
      "Traceback (most recent call last):\n",
      "  File \"D:\\lib\\site-packages\\sklearn\\model_selection\\_validation.py\", line 686, in _fit_and_score\n",
      "    estimator.fit(X_train, y_train, **fit_params)\n",
      "  File \"D:\\lib\\site-packages\\imblearn\\pipeline.py\", line 293, in fit\n",
      "    Xt, yt = self._fit(X, y, **fit_params_steps)\n",
      "  File \"D:\\lib\\site-packages\\imblearn\\pipeline.py\", line 250, in _fit\n",
      "    X, y, fitted_transformer = fit_resample_one_cached(\n",
      "  File \"D:\\lib\\site-packages\\joblib\\memory.py\", line 349, in __call__\n",
      "    return self.func(*args, **kwargs)\n",
      "  File \"D:\\lib\\site-packages\\imblearn\\pipeline.py\", line 422, in _fit_resample_one\n",
      "    X_res, y_res = sampler.fit_resample(X, y, **fit_params)\n",
      "  File \"D:\\lib\\site-packages\\imblearn\\base.py\", line 202, in fit_resample\n",
      "    self._validate_params()\n",
      "  File \"D:\\lib\\site-packages\\sklearn\\base.py\", line 600, in _validate_params\n",
      "    validate_parameter_constraints(\n",
      "  File \"D:\\lib\\site-packages\\sklearn\\utils\\_param_validation.py\", line 97, in validate_parameter_constraints\n",
      "    raise InvalidParameterError(\n",
      "sklearn.utils._param_validation.InvalidParameterError: The 'sampling_strategy' parameter of SMOTE must be a float in the range (0, 1], a str among {'minority', 'not majority', 'auto', 'not minority', 'all'}, an instance of 'collections.abc.Mapping' or a callable. Got 'majority' instead.\n",
      "\n",
      "--------------------------------------------------------------------------------\n",
      "5 fits failed with the following error:\n",
      "Traceback (most recent call last):\n",
      "  File \"D:\\lib\\site-packages\\sklearn\\model_selection\\_validation.py\", line 686, in _fit_and_score\n",
      "    estimator.fit(X_train, y_train, **fit_params)\n",
      "  File \"D:\\lib\\site-packages\\imblearn\\pipeline.py\", line 293, in fit\n",
      "    Xt, yt = self._fit(X, y, **fit_params_steps)\n",
      "  File \"D:\\lib\\site-packages\\imblearn\\pipeline.py\", line 250, in _fit\n",
      "    X, y, fitted_transformer = fit_resample_one_cached(\n",
      "  File \"D:\\lib\\site-packages\\joblib\\memory.py\", line 349, in __call__\n",
      "    return self.func(*args, **kwargs)\n",
      "  File \"D:\\lib\\site-packages\\imblearn\\pipeline.py\", line 422, in _fit_resample_one\n",
      "    X_res, y_res = sampler.fit_resample(X, y, **fit_params)\n",
      "  File \"D:\\lib\\site-packages\\imblearn\\base.py\", line 202, in fit_resample\n",
      "    self._validate_params()\n",
      "  File \"D:\\lib\\site-packages\\sklearn\\base.py\", line 600, in _validate_params\n",
      "    validate_parameter_constraints(\n",
      "  File \"D:\\lib\\site-packages\\sklearn\\utils\\_param_validation.py\", line 97, in validate_parameter_constraints\n",
      "    raise InvalidParameterError(\n",
      "sklearn.utils._param_validation.InvalidParameterError: The 'sampling_strategy' parameter of SMOTE must be a float in the range (0, 1], a str among {'not majority', 'auto', 'minority', 'not minority', 'all'}, an instance of 'collections.abc.Mapping' or a callable. Got 'majority' instead.\n",
      "\n",
      "--------------------------------------------------------------------------------\n",
      "9 fits failed with the following error:\n",
      "Traceback (most recent call last):\n",
      "  File \"D:\\lib\\site-packages\\sklearn\\model_selection\\_validation.py\", line 686, in _fit_and_score\n",
      "    estimator.fit(X_train, y_train, **fit_params)\n",
      "  File \"D:\\lib\\site-packages\\imblearn\\pipeline.py\", line 293, in fit\n",
      "    Xt, yt = self._fit(X, y, **fit_params_steps)\n",
      "  File \"D:\\lib\\site-packages\\imblearn\\pipeline.py\", line 250, in _fit\n",
      "    X, y, fitted_transformer = fit_resample_one_cached(\n",
      "  File \"D:\\lib\\site-packages\\joblib\\memory.py\", line 349, in __call__\n",
      "    return self.func(*args, **kwargs)\n",
      "  File \"D:\\lib\\site-packages\\imblearn\\pipeline.py\", line 422, in _fit_resample_one\n",
      "    X_res, y_res = sampler.fit_resample(X, y, **fit_params)\n",
      "  File \"D:\\lib\\site-packages\\imblearn\\base.py\", line 202, in fit_resample\n",
      "    self._validate_params()\n",
      "  File \"D:\\lib\\site-packages\\sklearn\\base.py\", line 600, in _validate_params\n",
      "    validate_parameter_constraints(\n",
      "  File \"D:\\lib\\site-packages\\sklearn\\utils\\_param_validation.py\", line 97, in validate_parameter_constraints\n",
      "    raise InvalidParameterError(\n",
      "sklearn.utils._param_validation.InvalidParameterError: The 'sampling_strategy' parameter of SMOTE must be a float in the range (0, 1], a str among {'auto', 'minority', 'all', 'not majority', 'not minority'}, an instance of 'collections.abc.Mapping' or a callable. Got 'majority' instead.\n",
      "\n",
      "--------------------------------------------------------------------------------\n",
      "6 fits failed with the following error:\n",
      "Traceback (most recent call last):\n",
      "  File \"D:\\lib\\site-packages\\sklearn\\model_selection\\_validation.py\", line 686, in _fit_and_score\n",
      "    estimator.fit(X_train, y_train, **fit_params)\n",
      "  File \"D:\\lib\\site-packages\\imblearn\\pipeline.py\", line 293, in fit\n",
      "    Xt, yt = self._fit(X, y, **fit_params_steps)\n",
      "  File \"D:\\lib\\site-packages\\imblearn\\pipeline.py\", line 250, in _fit\n",
      "    X, y, fitted_transformer = fit_resample_one_cached(\n",
      "  File \"D:\\lib\\site-packages\\joblib\\memory.py\", line 349, in __call__\n",
      "    return self.func(*args, **kwargs)\n",
      "  File \"D:\\lib\\site-packages\\imblearn\\pipeline.py\", line 422, in _fit_resample_one\n",
      "    X_res, y_res = sampler.fit_resample(X, y, **fit_params)\n",
      "  File \"D:\\lib\\site-packages\\imblearn\\base.py\", line 202, in fit_resample\n",
      "    self._validate_params()\n",
      "  File \"D:\\lib\\site-packages\\sklearn\\base.py\", line 600, in _validate_params\n",
      "    validate_parameter_constraints(\n",
      "  File \"D:\\lib\\site-packages\\sklearn\\utils\\_param_validation.py\", line 97, in validate_parameter_constraints\n",
      "    raise InvalidParameterError(\n",
      "sklearn.utils._param_validation.InvalidParameterError: The 'sampling_strategy' parameter of SMOTE must be a float in the range (0, 1], a str among {'all', 'minority', 'not minority', 'not majority', 'auto'}, an instance of 'collections.abc.Mapping' or a callable. Got 'majority' instead.\n",
      "\n",
      "--------------------------------------------------------------------------------\n",
      "12 fits failed with the following error:\n",
      "Traceback (most recent call last):\n",
      "  File \"D:\\lib\\site-packages\\sklearn\\model_selection\\_validation.py\", line 686, in _fit_and_score\n",
      "    estimator.fit(X_train, y_train, **fit_params)\n",
      "  File \"D:\\lib\\site-packages\\imblearn\\pipeline.py\", line 293, in fit\n",
      "    Xt, yt = self._fit(X, y, **fit_params_steps)\n",
      "  File \"D:\\lib\\site-packages\\imblearn\\pipeline.py\", line 250, in _fit\n",
      "    X, y, fitted_transformer = fit_resample_one_cached(\n",
      "  File \"D:\\lib\\site-packages\\joblib\\memory.py\", line 349, in __call__\n",
      "    return self.func(*args, **kwargs)\n",
      "  File \"D:\\lib\\site-packages\\imblearn\\pipeline.py\", line 422, in _fit_resample_one\n",
      "    X_res, y_res = sampler.fit_resample(X, y, **fit_params)\n",
      "  File \"D:\\lib\\site-packages\\imblearn\\base.py\", line 202, in fit_resample\n",
      "    self._validate_params()\n",
      "  File \"D:\\lib\\site-packages\\sklearn\\base.py\", line 600, in _validate_params\n",
      "    validate_parameter_constraints(\n",
      "  File \"D:\\lib\\site-packages\\sklearn\\utils\\_param_validation.py\", line 97, in validate_parameter_constraints\n",
      "    raise InvalidParameterError(\n",
      "sklearn.utils._param_validation.InvalidParameterError: The 'sampling_strategy' parameter of SMOTE must be a float in the range (0, 1], a str among {'auto', 'all', 'not majority', 'minority', 'not minority'}, an instance of 'collections.abc.Mapping' or a callable. Got 'majority' instead.\n",
      "\n",
      "--------------------------------------------------------------------------------\n",
      "6 fits failed with the following error:\n",
      "Traceback (most recent call last):\n",
      "  File \"D:\\lib\\site-packages\\sklearn\\model_selection\\_validation.py\", line 686, in _fit_and_score\n",
      "    estimator.fit(X_train, y_train, **fit_params)\n",
      "  File \"D:\\lib\\site-packages\\imblearn\\pipeline.py\", line 293, in fit\n",
      "    Xt, yt = self._fit(X, y, **fit_params_steps)\n",
      "  File \"D:\\lib\\site-packages\\imblearn\\pipeline.py\", line 250, in _fit\n",
      "    X, y, fitted_transformer = fit_resample_one_cached(\n",
      "  File \"D:\\lib\\site-packages\\joblib\\memory.py\", line 349, in __call__\n",
      "    return self.func(*args, **kwargs)\n",
      "  File \"D:\\lib\\site-packages\\imblearn\\pipeline.py\", line 422, in _fit_resample_one\n",
      "    X_res, y_res = sampler.fit_resample(X, y, **fit_params)\n",
      "  File \"D:\\lib\\site-packages\\imblearn\\base.py\", line 202, in fit_resample\n",
      "    self._validate_params()\n",
      "  File \"D:\\lib\\site-packages\\sklearn\\base.py\", line 600, in _validate_params\n",
      "    validate_parameter_constraints(\n",
      "  File \"D:\\lib\\site-packages\\sklearn\\utils\\_param_validation.py\", line 97, in validate_parameter_constraints\n",
      "    raise InvalidParameterError(\n",
      "sklearn.utils._param_validation.InvalidParameterError: The 'sampling_strategy' parameter of SMOTE must be a float in the range (0, 1], a str among {'all', 'not majority', 'not minority', 'minority', 'auto'}, an instance of 'collections.abc.Mapping' or a callable. Got 'majority' instead.\n",
      "\n",
      "--------------------------------------------------------------------------------\n",
      "3 fits failed with the following error:\n",
      "Traceback (most recent call last):\n",
      "  File \"D:\\lib\\site-packages\\sklearn\\model_selection\\_validation.py\", line 686, in _fit_and_score\n",
      "    estimator.fit(X_train, y_train, **fit_params)\n",
      "  File \"D:\\lib\\site-packages\\imblearn\\pipeline.py\", line 293, in fit\n",
      "    Xt, yt = self._fit(X, y, **fit_params_steps)\n",
      "  File \"D:\\lib\\site-packages\\imblearn\\pipeline.py\", line 250, in _fit\n",
      "    X, y, fitted_transformer = fit_resample_one_cached(\n",
      "  File \"D:\\lib\\site-packages\\joblib\\memory.py\", line 349, in __call__\n",
      "    return self.func(*args, **kwargs)\n",
      "  File \"D:\\lib\\site-packages\\imblearn\\pipeline.py\", line 422, in _fit_resample_one\n",
      "    X_res, y_res = sampler.fit_resample(X, y, **fit_params)\n",
      "  File \"D:\\lib\\site-packages\\imblearn\\base.py\", line 202, in fit_resample\n",
      "    self._validate_params()\n",
      "  File \"D:\\lib\\site-packages\\sklearn\\base.py\", line 600, in _validate_params\n",
      "    validate_parameter_constraints(\n",
      "  File \"D:\\lib\\site-packages\\sklearn\\utils\\_param_validation.py\", line 97, in validate_parameter_constraints\n",
      "    raise InvalidParameterError(\n",
      "sklearn.utils._param_validation.InvalidParameterError: The 'sampling_strategy' parameter of SMOTE must be a float in the range (0, 1], a str among {'not minority', 'not majority', 'minority', 'all', 'auto'}, an instance of 'collections.abc.Mapping' or a callable. Got 'majority' instead.\n",
      "\n",
      "  warnings.warn(some_fits_failed_message, FitFailedWarning)\n",
      "D:\\lib\\site-packages\\sklearn\\model_selection\\_search.py:952: UserWarning: One or more of the test scores are non-finite: [0.65704223 0.65629845        nan 0.65600077        nan 0.63798983\n",
      " 0.64989678 0.66121103 0.64796233 0.65034434 0.65347014 0.65034394\n",
      " 0.64185927 0.64096595 0.63947759 0.65183277 0.64811107 0.6460274\n",
      " 0.65391737 0.64230564 0.64617562        nan        nan 0.64290134\n",
      " 0.65689322        nan 0.65614911        nan        nan 0.66091354\n",
      " 0.65644759 0.65734052 0.65198204 0.659722          nan        nan\n",
      " 0.65034441 0.64513455 0.65778628        nan        nan 0.64781285\n",
      "        nan 0.65778668 0.6443901  0.63917971 0.63977521 0.65079064\n",
      " 0.65257742 0.64260339 0.65094044 0.64230723 0.65451194 0.64602807\n",
      "        nan 0.64364592 0.64275306 0.6507913  0.6528743  0.64215729\n",
      " 0.65614997 0.65019507 0.65272516        nan 0.65213059 0.65585089\n",
      "        nan 0.65480969 0.65614931        nan        nan 0.6443899\n",
      " 0.65138614 0.64141311 0.6396264  0.64260385 0.65242894 0.65242834\n",
      " 0.6543628  0.6570429  0.64215723        nan 0.64200782 0.65227893\n",
      "        nan 0.65317279 0.6412643         nan 0.6528739  0.64051972\n",
      " 0.65406524 0.6528743         nan 0.65302331 0.64170973 0.63679836\n",
      "        nan 0.64409361 0.65748926 0.65510691]\n",
      "  warnings.warn(\n"
     ]
    },
    {
     "name": "stdout",
     "output_type": "stream",
     "text": [
      "[13:19:14] WARNING: C:\\buildkite-agent\\builds\\buildkite-windows-cpu-autoscaling-group-i-07593ffd91cd9da33-1\\xgboost\\xgboost-ci-windows\\src\\learner.cc:767: \n",
      "Parameters: { \"max_features\", \"min_samples_leaf\" } are not used.\n",
      "\n",
      "{'algo__max_depth': 77, 'algo__max_features': 0.3741523922560337, 'algo__min_samples_leaf': 2, 'algo__n_estimators': 183, 'imbalance__k_neighbors': 8, 'imbalance__sampling_strategy': 'not minority', 'preprocessor__numeric__degree': 3, 'preprocessor__numeric__interaction_only': False}\n",
      "[[553  42 165]\n",
      " [ 45 183 113]\n",
      " [146  72 361]] \n",
      "\n",
      "              precision    recall  f1-score   support\n",
      "\n",
      "           0       0.86      0.87      0.86      3036\n",
      "           1       0.83      0.77      0.80      1365\n",
      "           2       0.78      0.80      0.79      2317\n",
      "\n",
      "    accuracy                           0.82      6718\n",
      "   macro avg       0.82      0.81      0.82      6718\n",
      "weighted avg       0.82      0.82      0.82      6718\n",
      " \n",
      "\n",
      "              precision    recall  f1-score   support\n",
      "\n",
      "           0       0.74      0.73      0.74       760\n",
      "           1       0.62      0.54      0.57       341\n",
      "           2       0.56      0.62      0.59       579\n",
      "\n",
      "    accuracy                           0.65      1680\n",
      "   macro avg       0.64      0.63      0.63      1680\n",
      "weighted avg       0.66      0.65      0.65      1680\n",
      "\n"
     ]
    }
   ],
   "source": [
    "from sklearn.pipeline import Pipeline\n",
    "from sklearn.compose import ColumnTransformer\n",
    "from sklearn.preprocessing import OneHotEncoder\n",
    "from sklearn.preprocessing import PolynomialFeatures\n",
    "from imblearn.pipeline import Pipeline as ImbPipeline\n",
    "from sklearn.metrics import confusion_matrix, classification_report\n",
    "from imblearn.over_sampling import SMOTE \n",
    "\n",
    "preprocessor = ColumnTransformer([\n",
    "    ('numeric', PolynomialFeatures(degree=2), [\"kelembaban_min\", \"kelembaban_max\", \"suhu_min\", \"suhu_max\"]),\n",
    "    ('categoric', OneHotEncoder(), [\"wilayah\", \"waktu\"]),\n",
    "])\n",
    "\n",
    "from xgboost import XGBClassifier\n",
    "pipeline = ImbPipeline([\n",
    "    ('preprocessor', preprocessor),\n",
    "    ('imbalance', SMOTE(random_state=42)),\n",
    "    ('algo', XGBClassifier(n_jobs=-1, random_state=42))\n",
    "])\n",
    "\n",
    "\n",
    "from sklearn.model_selection import RandomizedSearchCV\n",
    "\n",
    "model = RandomizedSearchCV(pipeline, parameter, cv=3, n_iter=100, n_jobs=-1, verbose=1, random_state=42)\n",
    "model.fit(X_train, y_train);\n",
    "\n",
    "print(model.best_params_);\n",
    "\n",
    "y_pred = model.predict(X_test)\n",
    "y_pred_train = model.predict(X_train)\n",
    "\n",
    "print(confusion_matrix(y_test, y_pred), \"\\n\")\n",
    "print(classification_report(y_train, y_pred_train), \"\\n\")\n",
    "print(classification_report(y_test, y_pred))"
   ]
  },
  {
   "cell_type": "code",
   "execution_count": null,
   "metadata": {},
   "outputs": [
    {
     "data": {
      "image/png": "[encoded data removed]",
      "text/plain": [
       "<Figure size 1080x360 with 1 Axes>"
      ]
     },
     "metadata": {
      "needs_background": "light"
     },
     "output_type": "display_data"
    }
   ],
   "source": [
    "df_imp = mean_score_decrease(X_train, y_train, model, plot=True, topk=10)"
   ]
  },
  {
   "cell_type": "code",
   "execution_count": null,
   "metadata": {},
   "outputs": [],
   "source": [
    "from jcopml.tuning.space import Integer, Real\n",
    "\n",
    "parameter = {'imbalance__k_neighbors': Integer(low=5, high=10),\n",
    "'imbalance__sampling_strategy': ['minority', 'majority', 'not minority', 'not majority'],\n",
    "'preprocessor__numeric__degree': Integer(low=1, high=3),\n",
    "'preprocessor__numeric__interaction_only': [True, False],\n",
    "'algo__n_estimators': Integer(low=100, high=200),\n",
    "'algo__max_depth': Integer(low=20, high=80),\n",
    "'algo__max_features': Real(low=0.1, high=1, prior='uniform'),\n",
    "'algo__min_samples_leaf': Integer(low=1, high=20)\n",
    "}"
   ]
  },
  {
   "cell_type": "code",
   "execution_count": null,
   "metadata": {},
   "outputs": [
    {
     "name": "stdout",
     "output_type": "stream",
     "text": [
      "Fitting 3 folds for each of 100 candidates, totalling 300 fits\n"
     ]
    },
    {
     "name": "stderr",
     "output_type": "stream",
     "text": [
      "D:\\lib\\site-packages\\sklearn\\model_selection\\_validation.py:378: FitFailedWarning: \n",
      "66 fits failed out of a total of 300.\n",
      "The score on these train-test partitions for these parameters will be set to nan.\n",
      "If these failures are not expected, you can try to debug them by setting error_score='raise'.\n",
      "\n",
      "Below are more details about the failures:\n",
      "--------------------------------------------------------------------------------\n",
      "7 fits failed with the following error:\n",
      "Traceback (most recent call last):\n",
      "  File \"D:\\lib\\site-packages\\sklearn\\model_selection\\_validation.py\", line 686, in _fit_and_score\n",
      "    estimator.fit(X_train, y_train, **fit_params)\n",
      "  File \"D:\\lib\\site-packages\\imblearn\\pipeline.py\", line 293, in fit\n",
      "    Xt, yt = self._fit(X, y, **fit_params_steps)\n",
      "  File \"D:\\lib\\site-packages\\imblearn\\pipeline.py\", line 250, in _fit\n",
      "    X, y, fitted_transformer = fit_resample_one_cached(\n",
      "  File \"D:\\lib\\site-packages\\joblib\\memory.py\", line 349, in __call__\n",
      "    return self.func(*args, **kwargs)\n",
      "  File \"D:\\lib\\site-packages\\imblearn\\pipeline.py\", line 422, in _fit_resample_one\n",
      "    X_res, y_res = sampler.fit_resample(X, y, **fit_params)\n",
      "  File \"D:\\lib\\site-packages\\imblearn\\base.py\", line 202, in fit_resample\n",
      "    self._validate_params()\n",
      "  File \"D:\\lib\\site-packages\\sklearn\\base.py\", line 600, in _validate_params\n",
      "    validate_parameter_constraints(\n",
      "  File \"D:\\lib\\site-packages\\sklearn\\utils\\_param_validation.py\", line 97, in validate_parameter_constraints\n",
      "    raise InvalidParameterError(\n",
      "sklearn.utils._param_validation.InvalidParameterError: The 'sampling_strategy' parameter of SMOTE must be a float in the range (0, 1], a str among {'not majority', 'all', 'minority', 'not minority', 'auto'}, an instance of 'collections.abc.Mapping' or a callable. Got 'majority' instead.\n",
      "\n",
      "--------------------------------------------------------------------------------\n",
      "13 fits failed with the following error:\n",
      "Traceback (most recent call last):\n",
      "  File \"D:\\lib\\site-packages\\sklearn\\model_selection\\_validation.py\", line 686, in _fit_and_score\n",
      "    estimator.fit(X_train, y_train, **fit_params)\n",
      "  File \"D:\\lib\\site-packages\\imblearn\\pipeline.py\", line 293, in fit\n",
      "    Xt, yt = self._fit(X, y, **fit_params_steps)\n",
      "  File \"D:\\lib\\site-packages\\imblearn\\pipeline.py\", line 250, in _fit\n",
      "    X, y, fitted_transformer = fit_resample_one_cached(\n",
      "  File \"D:\\lib\\site-packages\\joblib\\memory.py\", line 349, in __call__\n",
      "    return self.func(*args, **kwargs)\n",
      "  File \"D:\\lib\\site-packages\\imblearn\\pipeline.py\", line 422, in _fit_resample_one\n",
      "    X_res, y_res = sampler.fit_resample(X, y, **fit_params)\n",
      "  File \"D:\\lib\\site-packages\\imblearn\\base.py\", line 202, in fit_resample\n",
      "    self._validate_params()\n",
      "  File \"D:\\lib\\site-packages\\sklearn\\base.py\", line 600, in _validate_params\n",
      "    validate_parameter_constraints(\n",
      "  File \"D:\\lib\\site-packages\\sklearn\\utils\\_param_validation.py\", line 97, in validate_parameter_constraints\n",
      "    raise InvalidParameterError(\n",
      "sklearn.utils._param_validation.InvalidParameterError: The 'sampling_strategy' parameter of SMOTE must be a float in the range (0, 1], a str among {'minority', 'not majority', 'auto', 'not minority', 'all'}, an instance of 'collections.abc.Mapping' or a callable. Got 'majority' instead.\n",
      "\n",
      "--------------------------------------------------------------------------------\n",
      "4 fits failed with the following error:\n",
      "Traceback (most recent call last):\n",
      "  File \"D:\\lib\\site-packages\\sklearn\\model_selection\\_validation.py\", line 686, in _fit_and_score\n",
      "    estimator.fit(X_train, y_train, **fit_params)\n",
      "  File \"D:\\lib\\site-packages\\imblearn\\pipeline.py\", line 293, in fit\n",
      "    Xt, yt = self._fit(X, y, **fit_params_steps)\n",
      "  File \"D:\\lib\\site-packages\\imblearn\\pipeline.py\", line 250, in _fit\n",
      "    X, y, fitted_transformer = fit_resample_one_cached(\n",
      "  File \"D:\\lib\\site-packages\\joblib\\memory.py\", line 349, in __call__\n",
      "    return self.func(*args, **kwargs)\n",
      "  File \"D:\\lib\\site-packages\\imblearn\\pipeline.py\", line 422, in _fit_resample_one\n",
      "    X_res, y_res = sampler.fit_resample(X, y, **fit_params)\n",
      "  File \"D:\\lib\\site-packages\\imblearn\\base.py\", line 202, in fit_resample\n",
      "    self._validate_params()\n",
      "  File \"D:\\lib\\site-packages\\sklearn\\base.py\", line 600, in _validate_params\n",
      "    validate_parameter_constraints(\n",
      "  File \"D:\\lib\\site-packages\\sklearn\\utils\\_param_validation.py\", line 97, in validate_parameter_constraints\n",
      "    raise InvalidParameterError(\n",
      "sklearn.utils._param_validation.InvalidParameterError: The 'sampling_strategy' parameter of SMOTE must be a float in the range (0, 1], a str among {'auto', 'minority', 'all', 'not majority', 'not minority'}, an instance of 'collections.abc.Mapping' or a callable. Got 'majority' instead.\n",
      "\n",
      "--------------------------------------------------------------------------------\n",
      "5 fits failed with the following error:\n",
      "Traceback (most recent call last):\n",
      "  File \"D:\\lib\\site-packages\\sklearn\\model_selection\\_validation.py\", line 686, in _fit_and_score\n",
      "    estimator.fit(X_train, y_train, **fit_params)\n",
      "  File \"D:\\lib\\site-packages\\imblearn\\pipeline.py\", line 293, in fit\n",
      "    Xt, yt = self._fit(X, y, **fit_params_steps)\n",
      "  File \"D:\\lib\\site-packages\\imblearn\\pipeline.py\", line 250, in _fit\n",
      "    X, y, fitted_transformer = fit_resample_one_cached(\n",
      "  File \"D:\\lib\\site-packages\\joblib\\memory.py\", line 349, in __call__\n",
      "    return self.func(*args, **kwargs)\n",
      "  File \"D:\\lib\\site-packages\\imblearn\\pipeline.py\", line 422, in _fit_resample_one\n",
      "    X_res, y_res = sampler.fit_resample(X, y, **fit_params)\n",
      "  File \"D:\\lib\\site-packages\\imblearn\\base.py\", line 202, in fit_resample\n",
      "    self._validate_params()\n",
      "  File \"D:\\lib\\site-packages\\sklearn\\base.py\", line 600, in _validate_params\n",
      "    validate_parameter_constraints(\n",
      "  File \"D:\\lib\\site-packages\\sklearn\\utils\\_param_validation.py\", line 97, in validate_parameter_constraints\n",
      "    raise InvalidParameterError(\n",
      "sklearn.utils._param_validation.InvalidParameterError: The 'sampling_strategy' parameter of SMOTE must be a float in the range (0, 1], a str among {'all', 'not minority', 'auto', 'minority', 'not majority'}, an instance of 'collections.abc.Mapping' or a callable. Got 'majority' instead.\n",
      "\n",
      "--------------------------------------------------------------------------------\n",
      "4 fits failed with the following error:\n",
      "Traceback (most recent call last):\n",
      "  File \"D:\\lib\\site-packages\\sklearn\\model_selection\\_validation.py\", line 686, in _fit_and_score\n",
      "    estimator.fit(X_train, y_train, **fit_params)\n",
      "  File \"D:\\lib\\site-packages\\imblearn\\pipeline.py\", line 293, in fit\n",
      "    Xt, yt = self._fit(X, y, **fit_params_steps)\n",
      "  File \"D:\\lib\\site-packages\\imblearn\\pipeline.py\", line 250, in _fit\n",
      "    X, y, fitted_transformer = fit_resample_one_cached(\n",
      "  File \"D:\\lib\\site-packages\\joblib\\memory.py\", line 349, in __call__\n",
      "    return self.func(*args, **kwargs)\n",
      "  File \"D:\\lib\\site-packages\\imblearn\\pipeline.py\", line 422, in _fit_resample_one\n",
      "    X_res, y_res = sampler.fit_resample(X, y, **fit_params)\n",
      "  File \"D:\\lib\\site-packages\\imblearn\\base.py\", line 202, in fit_resample\n",
      "    self._validate_params()\n",
      "  File \"D:\\lib\\site-packages\\sklearn\\base.py\", line 600, in _validate_params\n",
      "    validate_parameter_constraints(\n",
      "  File \"D:\\lib\\site-packages\\sklearn\\utils\\_param_validation.py\", line 97, in validate_parameter_constraints\n",
      "    raise InvalidParameterError(\n",
      "sklearn.utils._param_validation.InvalidParameterError: The 'sampling_strategy' parameter of SMOTE must be a float in the range (0, 1], a str among {'auto', 'minority', 'all', 'not minority', 'not majority'}, an instance of 'collections.abc.Mapping' or a callable. Got 'majority' instead.\n",
      "\n",
      "--------------------------------------------------------------------------------\n",
      "5 fits failed with the following error:\n",
      "Traceback (most recent call last):\n",
      "  File \"D:\\lib\\site-packages\\sklearn\\model_selection\\_validation.py\", line 686, in _fit_and_score\n",
      "    estimator.fit(X_train, y_train, **fit_params)\n",
      "  File \"D:\\lib\\site-packages\\imblearn\\pipeline.py\", line 293, in fit\n",
      "    Xt, yt = self._fit(X, y, **fit_params_steps)\n",
      "  File \"D:\\lib\\site-packages\\imblearn\\pipeline.py\", line 250, in _fit\n",
      "    X, y, fitted_transformer = fit_resample_one_cached(\n",
      "  File \"D:\\lib\\site-packages\\joblib\\memory.py\", line 349, in __call__\n",
      "    return self.func(*args, **kwargs)\n",
      "  File \"D:\\lib\\site-packages\\imblearn\\pipeline.py\", line 422, in _fit_resample_one\n",
      "    X_res, y_res = sampler.fit_resample(X, y, **fit_params)\n",
      "  File \"D:\\lib\\site-packages\\imblearn\\base.py\", line 202, in fit_resample\n",
      "    self._validate_params()\n",
      "  File \"D:\\lib\\site-packages\\sklearn\\base.py\", line 600, in _validate_params\n",
      "    validate_parameter_constraints(\n",
      "  File \"D:\\lib\\site-packages\\sklearn\\utils\\_param_validation.py\", line 97, in validate_parameter_constraints\n",
      "    raise InvalidParameterError(\n",
      "sklearn.utils._param_validation.InvalidParameterError: The 'sampling_strategy' parameter of SMOTE must be a float in the range (0, 1], a str among {'not majority', 'auto', 'minority', 'not minority', 'all'}, an instance of 'collections.abc.Mapping' or a callable. Got 'majority' instead.\n",
      "\n",
      "--------------------------------------------------------------------------------\n",
      "6 fits failed with the following error:\n",
      "Traceback (most recent call last):\n",
      "  File \"D:\\lib\\site-packages\\sklearn\\model_selection\\_validation.py\", line 686, in _fit_and_score\n",
      "    estimator.fit(X_train, y_train, **fit_params)\n",
      "  File \"D:\\lib\\site-packages\\imblearn\\pipeline.py\", line 293, in fit\n",
      "    Xt, yt = self._fit(X, y, **fit_params_steps)\n",
      "  File \"D:\\lib\\site-packages\\imblearn\\pipeline.py\", line 250, in _fit\n",
      "    X, y, fitted_transformer = fit_resample_one_cached(\n",
      "  File \"D:\\lib\\site-packages\\joblib\\memory.py\", line 349, in __call__\n",
      "    return self.func(*args, **kwargs)\n",
      "  File \"D:\\lib\\site-packages\\imblearn\\pipeline.py\", line 422, in _fit_resample_one\n",
      "    X_res, y_res = sampler.fit_resample(X, y, **fit_params)\n",
      "  File \"D:\\lib\\site-packages\\imblearn\\base.py\", line 202, in fit_resample\n",
      "    self._validate_params()\n",
      "  File \"D:\\lib\\site-packages\\sklearn\\base.py\", line 600, in _validate_params\n",
      "    validate_parameter_constraints(\n",
      "  File \"D:\\lib\\site-packages\\sklearn\\utils\\_param_validation.py\", line 97, in validate_parameter_constraints\n",
      "    raise InvalidParameterError(\n",
      "sklearn.utils._param_validation.InvalidParameterError: The 'sampling_strategy' parameter of SMOTE must be a float in the range (0, 1], a str among {'all', 'not majority', 'not minority', 'minority', 'auto'}, an instance of 'collections.abc.Mapping' or a callable. Got 'majority' instead.\n",
      "\n",
      "--------------------------------------------------------------------------------\n",
      "6 fits failed with the following error:\n",
      "Traceback (most recent call last):\n",
      "  File \"D:\\lib\\site-packages\\sklearn\\model_selection\\_validation.py\", line 686, in _fit_and_score\n",
      "    estimator.fit(X_train, y_train, **fit_params)\n",
      "  File \"D:\\lib\\site-packages\\imblearn\\pipeline.py\", line 293, in fit\n",
      "    Xt, yt = self._fit(X, y, **fit_params_steps)\n",
      "  File \"D:\\lib\\site-packages\\imblearn\\pipeline.py\", line 250, in _fit\n",
      "    X, y, fitted_transformer = fit_resample_one_cached(\n",
      "  File \"D:\\lib\\site-packages\\joblib\\memory.py\", line 349, in __call__\n",
      "    return self.func(*args, **kwargs)\n",
      "  File \"D:\\lib\\site-packages\\imblearn\\pipeline.py\", line 422, in _fit_resample_one\n",
      "    X_res, y_res = sampler.fit_resample(X, y, **fit_params)\n",
      "  File \"D:\\lib\\site-packages\\imblearn\\base.py\", line 202, in fit_resample\n",
      "    self._validate_params()\n",
      "  File \"D:\\lib\\site-packages\\sklearn\\base.py\", line 600, in _validate_params\n",
      "    validate_parameter_constraints(\n",
      "  File \"D:\\lib\\site-packages\\sklearn\\utils\\_param_validation.py\", line 97, in validate_parameter_constraints\n",
      "    raise InvalidParameterError(\n",
      "sklearn.utils._param_validation.InvalidParameterError: The 'sampling_strategy' parameter of SMOTE must be a float in the range (0, 1], a str among {'auto', 'not minority', 'not majority', 'all', 'minority'}, an instance of 'collections.abc.Mapping' or a callable. Got 'majority' instead.\n",
      "\n",
      "--------------------------------------------------------------------------------\n",
      "6 fits failed with the following error:\n",
      "Traceback (most recent call last):\n",
      "  File \"D:\\lib\\site-packages\\sklearn\\model_selection\\_validation.py\", line 686, in _fit_and_score\n",
      "    estimator.fit(X_train, y_train, **fit_params)\n",
      "  File \"D:\\lib\\site-packages\\imblearn\\pipeline.py\", line 293, in fit\n",
      "    Xt, yt = self._fit(X, y, **fit_params_steps)\n",
      "  File \"D:\\lib\\site-packages\\imblearn\\pipeline.py\", line 250, in _fit\n",
      "    X, y, fitted_transformer = fit_resample_one_cached(\n",
      "  File \"D:\\lib\\site-packages\\joblib\\memory.py\", line 349, in __call__\n",
      "    return self.func(*args, **kwargs)\n",
      "  File \"D:\\lib\\site-packages\\imblearn\\pipeline.py\", line 422, in _fit_resample_one\n",
      "    X_res, y_res = sampler.fit_resample(X, y, **fit_params)\n",
      "  File \"D:\\lib\\site-packages\\imblearn\\base.py\", line 202, in fit_resample\n",
      "    self._validate_params()\n",
      "  File \"D:\\lib\\site-packages\\sklearn\\base.py\", line 600, in _validate_params\n",
      "    validate_parameter_constraints(\n",
      "  File \"D:\\lib\\site-packages\\sklearn\\utils\\_param_validation.py\", line 97, in validate_parameter_constraints\n",
      "    raise InvalidParameterError(\n",
      "sklearn.utils._param_validation.InvalidParameterError: The 'sampling_strategy' parameter of SMOTE must be a float in the range (0, 1], a str among {'all', 'minority', 'not minority', 'not majority', 'auto'}, an instance of 'collections.abc.Mapping' or a callable. Got 'majority' instead.\n",
      "\n",
      "--------------------------------------------------------------------------------\n",
      "6 fits failed with the following error:\n",
      "Traceback (most recent call last):\n",
      "  File \"D:\\lib\\site-packages\\sklearn\\model_selection\\_validation.py\", line 686, in _fit_and_score\n",
      "    estimator.fit(X_train, y_train, **fit_params)\n",
      "  File \"D:\\lib\\site-packages\\imblearn\\pipeline.py\", line 293, in fit\n",
      "    Xt, yt = self._fit(X, y, **fit_params_steps)\n",
      "  File \"D:\\lib\\site-packages\\imblearn\\pipeline.py\", line 250, in _fit\n",
      "    X, y, fitted_transformer = fit_resample_one_cached(\n",
      "  File \"D:\\lib\\site-packages\\joblib\\memory.py\", line 349, in __call__\n",
      "    return self.func(*args, **kwargs)\n",
      "  File \"D:\\lib\\site-packages\\imblearn\\pipeline.py\", line 422, in _fit_resample_one\n",
      "    X_res, y_res = sampler.fit_resample(X, y, **fit_params)\n",
      "  File \"D:\\lib\\site-packages\\imblearn\\base.py\", line 202, in fit_resample\n",
      "    self._validate_params()\n",
      "  File \"D:\\lib\\site-packages\\sklearn\\base.py\", line 600, in _validate_params\n",
      "    validate_parameter_constraints(\n",
      "  File \"D:\\lib\\site-packages\\sklearn\\utils\\_param_validation.py\", line 97, in validate_parameter_constraints\n",
      "    raise InvalidParameterError(\n",
      "sklearn.utils._param_validation.InvalidParameterError: The 'sampling_strategy' parameter of SMOTE must be a float in the range (0, 1], a str among {'auto', 'all', 'not majority', 'minority', 'not minority'}, an instance of 'collections.abc.Mapping' or a callable. Got 'majority' instead.\n",
      "\n",
      "--------------------------------------------------------------------------------\n",
      "4 fits failed with the following error:\n",
      "Traceback (most recent call last):\n",
      "  File \"D:\\lib\\site-packages\\sklearn\\model_selection\\_validation.py\", line 686, in _fit_and_score\n",
      "    estimator.fit(X_train, y_train, **fit_params)\n",
      "  File \"D:\\lib\\site-packages\\imblearn\\pipeline.py\", line 293, in fit\n",
      "    Xt, yt = self._fit(X, y, **fit_params_steps)\n",
      "  File \"D:\\lib\\site-packages\\imblearn\\pipeline.py\", line 250, in _fit\n",
      "    X, y, fitted_transformer = fit_resample_one_cached(\n",
      "  File \"D:\\lib\\site-packages\\joblib\\memory.py\", line 349, in __call__\n",
      "    return self.func(*args, **kwargs)\n",
      "  File \"D:\\lib\\site-packages\\imblearn\\pipeline.py\", line 422, in _fit_resample_one\n",
      "    X_res, y_res = sampler.fit_resample(X, y, **fit_params)\n",
      "  File \"D:\\lib\\site-packages\\imblearn\\base.py\", line 202, in fit_resample\n",
      "    self._validate_params()\n",
      "  File \"D:\\lib\\site-packages\\sklearn\\base.py\", line 600, in _validate_params\n",
      "    validate_parameter_constraints(\n",
      "  File \"D:\\lib\\site-packages\\sklearn\\utils\\_param_validation.py\", line 97, in validate_parameter_constraints\n",
      "    raise InvalidParameterError(\n",
      "sklearn.utils._param_validation.InvalidParameterError: The 'sampling_strategy' parameter of SMOTE must be a float in the range (0, 1], a str among {'not majority', 'auto', 'not minority', 'all', 'minority'}, an instance of 'collections.abc.Mapping' or a callable. Got 'majority' instead.\n",
      "\n",
      "  warnings.warn(some_fits_failed_message, FitFailedWarning)\n",
      "D:\\lib\\site-packages\\sklearn\\model_selection\\_search.py:952: UserWarning: One or more of the test scores are non-finite: [0.66686898 0.66865323        nan 0.67490655        nan 0.63441641\n",
      " 0.66984504 0.67401184 0.66002002 0.67520251 0.65987061 0.66031863\n",
      " 0.6396274  0.63144002 0.61938193 0.66136123 0.67416091 0.65570301\n",
      " 0.67356574 0.63947832 0.6439444         nan        nan 0.63620305\n",
      " 0.66954815        nan 0.63873315        nan        nan 0.68383639\n",
      " 0.67565007 0.66106375 0.62756917 0.67490615        nan        nan\n",
      " 0.67639538 0.63143889 0.66151004        nan        nan 0.64305101\n",
      "        nan 0.66299674 0.6338201  0.63888335 0.64290227 0.65466028\n",
      " 0.67237486 0.63590543 0.67505364 0.6423063  0.67311911 0.65049269\n",
      "        nan 0.60628263 0.63783949 0.65853212 0.65570202 0.63947872\n",
      " 0.6808596  0.67282182 0.64974804        nan 0.67386309 0.65361888\n",
      "        nan 0.66463551 0.67386469        nan        nan 0.65049455\n",
      " 0.66746202 0.65570361 0.63932845 0.63665107 0.66537789 0.66984417\n",
      " 0.6597236  0.6793717  0.63590603        nan 0.63307699 0.67178009\n",
      "        nan 0.66210435 0.63486244        nan 0.64602674 0.64677238\n",
      " 0.66031897 0.66463524        nan 0.67728757 0.6390313  0.6353092\n",
      "        nan 0.64453951 0.66553022 0.65019493]\n",
      "  warnings.warn(\n"
     ]
    },
    {
     "name": "stdout",
     "output_type": "stream",
     "text": [
      "{'algo__max_depth': 63, 'algo__max_features': 0.5030048481157825, 'algo__min_samples_leaf': 6, 'algo__n_estimators': 131, 'imbalance__k_neighbors': 8, 'imbalance__sampling_strategy': 'not minority', 'preprocessor__numeric__degree': 3, 'preprocessor__numeric__interaction_only': False}\n",
      "[[562  39 159]\n",
      " [ 45 175 121]\n",
      " [133  53 393]] \n",
      "\n",
      "              precision    recall  f1-score   support\n",
      "\n",
      "           0       0.83      0.82      0.82      3036\n",
      "           1       0.78      0.68      0.73      1365\n",
      "           2       0.70      0.76      0.73      2317\n",
      "\n",
      "    accuracy                           0.77      6718\n",
      "   macro avg       0.77      0.75      0.76      6718\n",
      "weighted avg       0.77      0.77      0.77      6718\n",
      " \n",
      "\n",
      "              precision    recall  f1-score   support\n",
      "\n",
      "           0       0.76      0.74      0.75       760\n",
      "           1       0.66      0.51      0.58       341\n",
      "           2       0.58      0.68      0.63       579\n",
      "\n",
      "    accuracy                           0.67      1680\n",
      "   macro avg       0.67      0.64      0.65      1680\n",
      "weighted avg       0.68      0.67      0.67      1680\n",
      "\n"
     ]
    }
   ],
   "source": [
    "from sklearn.pipeline import Pipeline\n",
    "from sklearn.compose import ColumnTransformer\n",
    "from sklearn.preprocessing import OneHotEncoder\n",
    "from sklearn.preprocessing import PolynomialFeatures\n",
    "from imblearn.pipeline import Pipeline as ImbPipeline\n",
    "from sklearn.metrics import confusion_matrix, classification_report\n",
    "from imblearn.over_sampling import SMOTE \n",
    "\n",
    "preprocessor = ColumnTransformer([\n",
    "    ('numeric', PolynomialFeatures(degree=2), [\"kelembaban_min\", \"kelembaban_max\", \"suhu_min\", \"suhu_max\"]),\n",
    "    ('categoric', OneHotEncoder(), [\"wilayah\", \"waktu\"]),\n",
    "])\n",
    "\n",
    "from sklearn.ensemble import RandomForestClassifier\n",
    "pipeline = ImbPipeline([\n",
    "    ('preprocessor', preprocessor),\n",
    "    ('imbalance', SMOTE(random_state=42)),\n",
    "    ('algo', RandomForestClassifier(n_jobs=-1, random_state=42))\n",
    "])\n",
    "\n",
    "from sklearn.model_selection import RandomizedSearchCV\n",
    "\n",
    "model = RandomizedSearchCV(pipeline, parameter, cv=3, n_iter=100, n_jobs=-1, verbose=1, random_state=42)\n",
    "model.fit(X_train, y_train)\n",
    "\n",
    "print(model.best_params_)\n",
    "\n",
    "y_pred = model.predict(X_test)\n",
    "y_pred_train = model.predict(X_train)\n",
    "\n",
    "print(confusion_matrix(y_test, y_pred), \"\\n\")\n",
    "print(classification_report(y_train, y_pred_train), \"\\n\")\n",
    "print(classification_report(y_test, y_pred))"
   ]
  },
  {
   "cell_type": "code",
   "execution_count": null,
   "metadata": {},
   "outputs": [
    {
     "data": {
      "image/png": "[encoded data removed]",
      "text/plain": [
       "<Figure size 1080x360 with 1 Axes>"
      ]
     },
     "metadata": {
      "needs_background": "light"
     },
     "output_type": "display_data"
    }
   ],
   "source": [
    "df_imp = mean_score_decrease(X_train, y_train, model, plot=True, topk=10)"
   ]
  }
 ],
 "metadata": {
  "interpreter": {
   "hash": "865d8b2eb28e274047ba64063dfb6a2aabf0dfec4905d304d7a76618dae6fdd4"
  },
  "kernelspec": {
   "display_name": "Python 3.10.2 64-bit",
   "language": "python",
   "name": "python3"
  },
  "language_info": {
   "codemirror_mode": {
    "name": "ipython",
    "version": 3
   },
   "file_extension": ".py",
   "mimetype": "text/x-python",
   "name": "python",
   "nbconvert_exporter": "python",
   "pygments_lexer": "ipython3",
   "version": "3.9.2rc1"
  },
  "orig_nbformat": 4
 },
 "nbformat": 4,
 "nbformat_minor": 2
}
