{
 "cells": [
  {
   "cell_type": "markdown",
   "metadata": {},
   "source": [
    "# Import Package"
   ]
  },
  {
   "cell_type": "code",
   "execution_count": 1,
   "metadata": {},
   "outputs": [],
   "source": [
    "import pandas as pd\n",
    "import matplotlib.pyplot as plt\n",
    "import seaborn as sns\n",
    "from sklearn.model_selection import train_test_split\n",
    "from jcopml.feature_importance import mean_score_decrease"
   ]
  },
  {
   "cell_type": "markdown",
   "metadata": {},
   "source": [
    "# Import Data"
   ]
  },
  {
   "cell_type": "code",
   "execution_count": 2,
   "metadata": {},
   "outputs": [
    {
     "data": {
      "text/html": [
       "<div>\n",
       "<style scoped>\n",
       "    .dataframe tbody tr th:only-of-type {\n",
       "        vertical-align: middle;\n",
       "    }\n",
       "\n",
       "    .dataframe tbody tr th {\n",
       "        vertical-align: top;\n",
       "    }\n",
       "\n",
       "    .dataframe thead th {\n",
       "        text-align: right;\n",
       "    }\n",
       "</style>\n",
       "<table border=\"1\" class=\"dataframe\">\n",
       "  <thead>\n",
       "    <tr style=\"text-align: right;\">\n",
       "      <th></th>\n",
       "      <th>tanggal</th>\n",
       "      <th>wilayah</th>\n",
       "      <th>waktu</th>\n",
       "      <th>cuaca</th>\n",
       "      <th>kelembaban_persen</th>\n",
       "      <th>suhu_derajat_celcius</th>\n",
       "    </tr>\n",
       "  </thead>\n",
       "  <tbody>\n",
       "    <tr>\n",
       "      <th>0</th>\n",
       "      <td>2018-12-31</td>\n",
       "      <td>Kepulauan Seribu</td>\n",
       "      <td>Siang</td>\n",
       "      <td>Hujan Lokal</td>\n",
       "      <td>70 - 90</td>\n",
       "      <td>24 - 32</td>\n",
       "    </tr>\n",
       "    <tr>\n",
       "      <th>1</th>\n",
       "      <td>2018-12-31</td>\n",
       "      <td>Kepulauan Seribu</td>\n",
       "      <td>Pagi</td>\n",
       "      <td>Hujan Lokal</td>\n",
       "      <td>70 - 90</td>\n",
       "      <td>24 - 32</td>\n",
       "    </tr>\n",
       "    <tr>\n",
       "      <th>2</th>\n",
       "      <td>2018-12-31</td>\n",
       "      <td>Kepulauan Seribu</td>\n",
       "      <td>Malam</td>\n",
       "      <td>Hujan Lokal</td>\n",
       "      <td>70 - 90</td>\n",
       "      <td>24 - 32</td>\n",
       "    </tr>\n",
       "    <tr>\n",
       "      <th>3</th>\n",
       "      <td>2018-12-31</td>\n",
       "      <td>Kepulauan Seribu</td>\n",
       "      <td>Dini Hari</td>\n",
       "      <td>Hujan Ringan</td>\n",
       "      <td>70 - 90</td>\n",
       "      <td>24 - 32</td>\n",
       "    </tr>\n",
       "    <tr>\n",
       "      <th>4</th>\n",
       "      <td>2018-12-31</td>\n",
       "      <td>Jakarta Utara</td>\n",
       "      <td>Siang</td>\n",
       "      <td>Hujan Lokal</td>\n",
       "      <td>70 - 90</td>\n",
       "      <td>24 - 32</td>\n",
       "    </tr>\n",
       "  </tbody>\n",
       "</table>\n",
       "</div>"
      ],
      "text/plain": [
       "      tanggal           wilayah      waktu         cuaca kelembaban_persen  \\\n",
       "0  2018-12-31  Kepulauan Seribu      Siang   Hujan Lokal           70 - 90   \n",
       "1  2018-12-31  Kepulauan Seribu       Pagi   Hujan Lokal           70 - 90   \n",
       "2  2018-12-31  Kepulauan Seribu      Malam   Hujan Lokal           70 - 90   \n",
       "3  2018-12-31  Kepulauan Seribu  Dini Hari  Hujan Ringan           70 - 90   \n",
       "4  2018-12-31     Jakarta Utara      Siang   Hujan Lokal           70 - 90   \n",
       "\n",
       "  suhu_derajat_celcius  \n",
       "0              24 - 32  \n",
       "1              24 - 32  \n",
       "2              24 - 32  \n",
       "3              24 - 32  \n",
       "4              24 - 32  "
      ]
     },
     "execution_count": 2,
     "metadata": {},
     "output_type": "execute_result"
    }
   ],
   "source": [
    "df = pd.read_csv(\"data/dataset.csv\")\n",
    "df.head()"
   ]
  },
  {
   "cell_type": "markdown",
   "metadata": {},
   "source": [
    "mengambil dataset prakiraan cuaca Provinsi DKI Jakarta tahun 2018 dari website https://katalog.data.go.id/dataset/data-prakiraan-cuaca-wilayah-provinsi-dki-jakarta-tahun-2018"
   ]
  },
  {
   "attachments": {},
   "cell_type": "markdown",
   "metadata": {},
   "source": [
    "# Feature Engineering"
   ]
  },
  {
   "cell_type": "markdown",
   "metadata": {},
   "source": [
    "### Melihat Jumlah Baris dan Kolom"
   ]
  },
  {
   "cell_type": "code",
   "execution_count": 3,
   "metadata": {},
   "outputs": [
    {
     "data": {
      "text/plain": [
       "(8535, 6)"
      ]
     },
     "execution_count": 3,
     "metadata": {},
     "output_type": "execute_result"
    }
   ],
   "source": [
    "df.shape"
   ]
  },
  {
   "cell_type": "markdown",
   "metadata": {},
   "source": [
    "dataset terdiri dari 8535 baris dan 6 kolom"
   ]
  },
  {
   "cell_type": "markdown",
   "metadata": {},
   "source": [
    "### Melihat Missing Value"
   ]
  },
  {
   "cell_type": "code",
   "execution_count": 4,
   "metadata": {},
   "outputs": [
    {
     "data": {
      "text/plain": [
       "tanggal                 135\n",
       "wilayah                 135\n",
       "waktu                   135\n",
       "cuaca                   135\n",
       "kelembaban_persen       135\n",
       "suhu_derajat_celcius    135\n",
       "dtype: int64"
      ]
     },
     "execution_count": 4,
     "metadata": {},
     "output_type": "execute_result"
    }
   ],
   "source": [
    "df.isnull().sum()"
   ]
  },
  {
   "cell_type": "code",
   "execution_count": 5,
   "metadata": {},
   "outputs": [
    {
     "data": {
      "text/plain": [
       "tanggal                 0\n",
       "wilayah                 0\n",
       "waktu                   0\n",
       "cuaca                   0\n",
       "kelembaban_persen       0\n",
       "suhu_derajat_celcius    0\n",
       "dtype: int64"
      ]
     },
     "execution_count": 5,
     "metadata": {},
     "output_type": "execute_result"
    }
   ],
   "source": [
    "df.dropna(inplace=True)\n",
    "df.isnull().sum()"
   ]
  },
  {
   "cell_type": "markdown",
   "metadata": {},
   "source": [
    "membuang data yang kosong atau null"
   ]
  },
  {
   "cell_type": "markdown",
   "metadata": {},
   "source": [
    "#### Melihat Kembali Jumlah Baris dan Kolom"
   ]
  },
  {
   "cell_type": "code",
   "execution_count": 6,
   "metadata": {},
   "outputs": [
    {
     "data": {
      "text/plain": [
       "(8400, 6)"
      ]
     },
     "execution_count": 6,
     "metadata": {},
     "output_type": "execute_result"
    }
   ],
   "source": [
    "df.shape"
   ]
  },
  {
   "cell_type": "markdown",
   "metadata": {},
   "source": [
    "jumlah baris menjadi 8400 dan kolom tetap 6"
   ]
  },
  {
   "cell_type": "markdown",
   "metadata": {},
   "source": [
    "### Menggunakan Regex untuk mengelompokkan jenis Cuaca"
   ]
  },
  {
   "cell_type": "code",
   "execution_count": 7,
   "metadata": {},
   "outputs": [
    {
     "data": {
      "text/plain": [
       "array(['Hujan Lokal', 'Hujan Ringan', 'Berawan', 'Cerah Berawan', 'Cerah',\n",
       "       'Berawan Tebal', 'Hujan Sedang', 'Cerah Berawn', 'Cerang Berawan',\n",
       "       'Beawan', 'Berawan ', 'Hujan Petir', 'Hujan Lokal ',\n",
       "       'Cerah Berawan ', 'Cerah ', 'Cerah Berawah', 'Cerah  ', ' Berawan',\n",
       "       'Hujan', 'Hujan Petir ', 'Hujan Sedang ', 'Cerah berawan',\n",
       "       'Hujan Ringanl', 'Berawa', 'Hujang Sedang', 'Hujan Loka',\n",
       "       'Hujan Ringan '], dtype=object)"
      ]
     },
     "execution_count": 7,
     "metadata": {},
     "output_type": "execute_result"
    }
   ],
   "source": [
    "df[\"cuaca\"].unique()"
   ]
  },
  {
   "cell_type": "markdown",
   "metadata": {},
   "source": [
    "terdapat 27 jenis cuaca sehingga akan dikelompokkan jenis cuaca menjadi 3 yaitu Hujan, Cerah dan Berawan"
   ]
  },
  {
   "cell_type": "code",
   "execution_count": 8,
   "metadata": {},
   "outputs": [
    {
     "data": {
      "text/plain": [
       "Cerah                    3796\n",
       "Berawan                  2896\n",
       "Hujan                    1706\n",
       "Tidak Teridentifikasi       2\n",
       "Name: cuaca, dtype: int64"
      ]
     },
     "execution_count": 8,
     "metadata": {},
     "output_type": "execute_result"
    }
   ],
   "source": [
    "import re\n",
    "\n",
    "def cuaca(x):\n",
    "  if (re.findall(\"Cerah\", x)):\n",
    "    return 'Cerah'\n",
    "  elif (re.findall(\"Hujan\", x)):\n",
    "    return 'Hujan'\n",
    "  elif (re.findall(\"Berawan\", x)):\n",
    "    return 'Berawan'\n",
    "  else:\n",
    "    return 'Tidak Teridentifikasi'\n",
    "\n",
    "df[\"cuaca\"] = df['cuaca'].apply(cuaca)\n",
    "df[\"cuaca\"].value_counts()"
   ]
  },
  {
   "cell_type": "markdown",
   "metadata": {},
   "source": [
    "3796 data cuaca cerah<br>\n",
    "2896 data cuaca berawan<br>\n",
    "1706 data cuaca hujan<br>\n",
    "dan 2 data cuaca yang tidak teridentifikasi karena tidak termasuk jenis cuaca Hujan, Cerah maupun Berawan"
   ]
  },
  {
   "cell_type": "markdown",
   "metadata": {},
   "source": [
    "#### Membuang Data yang tidak sesuai atau tidak berhubungan"
   ]
  },
  {
   "cell_type": "code",
   "execution_count": 9,
   "metadata": {},
   "outputs": [
    {
     "data": {
      "text/plain": [
       "array(['Hujan', 'Berawan', 'Cerah'], dtype=object)"
      ]
     },
     "execution_count": 9,
     "metadata": {},
     "output_type": "execute_result"
    }
   ],
   "source": [
    "df.drop(df[df[\"cuaca\"] == \"Tidak Teridentifikasi\"].index, inplace=True)\n",
    "df[\"cuaca\"].unique()"
   ]
  },
  {
   "cell_type": "markdown",
   "metadata": {},
   "source": [
    "### Menggunakan Regex untuk mengelompokkan jenis Waktu"
   ]
  },
  {
   "cell_type": "code",
   "execution_count": 10,
   "metadata": {},
   "outputs": [
    {
     "data": {
      "text/plain": [
       "Siang        1758\n",
       "Pagi         1758\n",
       "Dini Hari    1758\n",
       "Malam        1757\n",
       "siang         342\n",
       "pagi          342\n",
       "malam         342\n",
       "dini hari     341\n",
       "Name: waktu, dtype: int64"
      ]
     },
     "execution_count": 10,
     "metadata": {},
     "output_type": "execute_result"
    }
   ],
   "source": [
    "df.waktu.value_counts()"
   ]
  },
  {
   "cell_type": "markdown",
   "metadata": {},
   "source": [
    "terdapat 8 jenis waktu pengambilan data cuaca sehingga akan dikelompokkan menjadi 4 waktu saja yaitu Siang, Pagi, Malam, dan Dini Hari"
   ]
  },
  {
   "cell_type": "code",
   "execution_count": 11,
   "metadata": {},
   "outputs": [
    {
     "data": {
      "text/plain": [
       "Siang        2100\n",
       "Pagi         2100\n",
       "Malam        2099\n",
       "Dini Hari    2099\n",
       "Name: waktu, dtype: int64"
      ]
     },
     "execution_count": 11,
     "metadata": {},
     "output_type": "execute_result"
    }
   ],
   "source": [
    "import re\n",
    "\n",
    "def cuaca(x):\n",
    "  if (re.findall(\"dini hari\", x)):\n",
    "    return 'Dini Hari'\n",
    "  elif (re.findall(\"siang\", x)):\n",
    "    return 'Siang'\n",
    "  elif (re.findall(\"pagi\", x)):\n",
    "    return 'Pagi'\n",
    "  elif (re.findall(\"malam\", x)):\n",
    "    return 'Malam'\n",
    "  else:\n",
    "    return x\n",
    "\n",
    "df[\"waktu\"] = df['waktu'].apply(cuaca)\n",
    "df[\"waktu\"].value_counts()"
   ]
  },
  {
   "cell_type": "markdown",
   "metadata": {},
   "source": [
    "Waktu Siang terdapat 2100 data<br>\n",
    "Waktu Pagi terdapat 2100 data<br>\n",
    "Waktu Malam terdapat 2100 data<br>\n",
    "Waktu Dini Hari terdapat 2100 data<br>"
   ]
  },
  {
   "cell_type": "markdown",
   "metadata": {},
   "source": [
    "membuang data cuaca yang tidak teridentifikasi sehingga tersisa 3 jenis cuaca yaitu Hujan, Berawan, dan Cerah"
   ]
  },
  {
   "cell_type": "markdown",
   "metadata": {},
   "source": [
    "### Split Data Kelembaban menjadi Kelembaban Minimal dan Maximal"
   ]
  },
  {
   "cell_type": "code",
   "execution_count": 12,
   "metadata": {},
   "outputs": [
    {
     "data": {
      "text/html": [
       "<div>\n",
       "<style scoped>\n",
       "    .dataframe tbody tr th:only-of-type {\n",
       "        vertical-align: middle;\n",
       "    }\n",
       "\n",
       "    .dataframe tbody tr th {\n",
       "        vertical-align: top;\n",
       "    }\n",
       "\n",
       "    .dataframe thead th {\n",
       "        text-align: right;\n",
       "    }\n",
       "</style>\n",
       "<table border=\"1\" class=\"dataframe\">\n",
       "  <thead>\n",
       "    <tr style=\"text-align: right;\">\n",
       "      <th></th>\n",
       "      <th>tanggal</th>\n",
       "      <th>wilayah</th>\n",
       "      <th>waktu</th>\n",
       "      <th>cuaca</th>\n",
       "      <th>kelembaban_persen</th>\n",
       "      <th>suhu_derajat_celcius</th>\n",
       "      <th>kelembaban_min</th>\n",
       "      <th>kelembaban_max</th>\n",
       "    </tr>\n",
       "  </thead>\n",
       "  <tbody>\n",
       "    <tr>\n",
       "      <th>0</th>\n",
       "      <td>2018-12-31</td>\n",
       "      <td>Kepulauan Seribu</td>\n",
       "      <td>Siang</td>\n",
       "      <td>Hujan</td>\n",
       "      <td>70 - 90</td>\n",
       "      <td>24 - 32</td>\n",
       "      <td>70</td>\n",
       "      <td>90</td>\n",
       "    </tr>\n",
       "    <tr>\n",
       "      <th>1</th>\n",
       "      <td>2018-12-31</td>\n",
       "      <td>Kepulauan Seribu</td>\n",
       "      <td>Pagi</td>\n",
       "      <td>Hujan</td>\n",
       "      <td>70 - 90</td>\n",
       "      <td>24 - 32</td>\n",
       "      <td>70</td>\n",
       "      <td>90</td>\n",
       "    </tr>\n",
       "    <tr>\n",
       "      <th>2</th>\n",
       "      <td>2018-12-31</td>\n",
       "      <td>Kepulauan Seribu</td>\n",
       "      <td>Malam</td>\n",
       "      <td>Hujan</td>\n",
       "      <td>70 - 90</td>\n",
       "      <td>24 - 32</td>\n",
       "      <td>70</td>\n",
       "      <td>90</td>\n",
       "    </tr>\n",
       "    <tr>\n",
       "      <th>3</th>\n",
       "      <td>2018-12-31</td>\n",
       "      <td>Kepulauan Seribu</td>\n",
       "      <td>Dini Hari</td>\n",
       "      <td>Hujan</td>\n",
       "      <td>70 - 90</td>\n",
       "      <td>24 - 32</td>\n",
       "      <td>70</td>\n",
       "      <td>90</td>\n",
       "    </tr>\n",
       "    <tr>\n",
       "      <th>4</th>\n",
       "      <td>2018-12-31</td>\n",
       "      <td>Jakarta Utara</td>\n",
       "      <td>Siang</td>\n",
       "      <td>Hujan</td>\n",
       "      <td>70 - 90</td>\n",
       "      <td>24 - 32</td>\n",
       "      <td>70</td>\n",
       "      <td>90</td>\n",
       "    </tr>\n",
       "  </tbody>\n",
       "</table>\n",
       "</div>"
      ],
      "text/plain": [
       "      tanggal           wilayah      waktu  cuaca kelembaban_persen  \\\n",
       "0  2018-12-31  Kepulauan Seribu      Siang  Hujan           70 - 90   \n",
       "1  2018-12-31  Kepulauan Seribu       Pagi  Hujan           70 - 90   \n",
       "2  2018-12-31  Kepulauan Seribu      Malam  Hujan           70 - 90   \n",
       "3  2018-12-31  Kepulauan Seribu  Dini Hari  Hujan           70 - 90   \n",
       "4  2018-12-31     Jakarta Utara      Siang  Hujan           70 - 90   \n",
       "\n",
       "  suhu_derajat_celcius kelembaban_min kelembaban_max  \n",
       "0              24 - 32             70             90  \n",
       "1              24 - 32             70             90  \n",
       "2              24 - 32             70             90  \n",
       "3              24 - 32             70             90  \n",
       "4              24 - 32             70             90  "
      ]
     },
     "execution_count": 12,
     "metadata": {},
     "output_type": "execute_result"
    }
   ],
   "source": [
    "df[\"kelembaban_min\"] = df['kelembaban_persen'].apply(lambda x: x.split(\"-\")[0])\n",
    "df[\"kelembaban_min\"] = [x.strip(' ') for x in df[\"kelembaban_min\"]]\n",
    "\n",
    "df[\"kelembaban_max\"] = df['kelembaban_persen'].apply(lambda x: x.split(\"-\")[1])\n",
    "df[\"kelembaban_max\"] = [x.strip(' ') for x in df[\"kelembaban_max\"]]\n",
    "\n",
    "df.head()"
   ]
  },
  {
   "cell_type": "markdown",
   "metadata": {},
   "source": [
    "membuat kolom kelembaban_min dengan mengambil nilai terkecil dari kolom kelembaban_persen<br>\n",
    "membuat kolom kelembaban_max dengan mengambil nilai terbesar dari kolom kelembaban_persen<br>\n",
    "<br>\n",
    "dengan split data pada kolom kelembaban_persen agar terbagi menjadi 2 bagian untuk bagian kiri untuk nilai minimal dan bagian kanan untuk nilai maksimal"
   ]
  },
  {
   "cell_type": "markdown",
   "metadata": {},
   "source": [
    "#### Melihat Masing Masing Data dari Kelembapan Minimal dan Maksimal"
   ]
  },
  {
   "cell_type": "code",
   "execution_count": 13,
   "metadata": {},
   "outputs": [
    {
     "name": "stdout",
     "output_type": "stream",
     "text": [
      "Kelembaban Min\n",
      " 70    1727\n",
      "55    1296\n",
      "65    1272\n",
      "60    1224\n",
      "75     839\n",
      "45     624\n",
      "50     600\n",
      "80     480\n",
      "40     192\n",
      "35      96\n",
      "85      48\n",
      "Name: kelembaban_min, dtype: int64 \n",
      "\n",
      "\n",
      "Kelembaban Min\n",
      " 95     3264\n",
      "90     2375\n",
      "85     1128\n",
      "100    1031\n",
      "80      504\n",
      "75       96\n",
      "Name: kelembaban_max, dtype: int64 \n",
      "\n"
     ]
    }
   ],
   "source": [
    "print('Kelembaban Min\\n', df['kelembaban_min'].value_counts(), '\\n\\n')\n",
    "print('Kelembaban Min\\n', df['kelembaban_max'].value_counts(), '\\n')"
   ]
  },
  {
   "cell_type": "markdown",
   "metadata": {},
   "source": [
    "### Split Data Suhu menjadi Suhu Minimal dan Maximal"
   ]
  },
  {
   "cell_type": "code",
   "execution_count": 14,
   "metadata": {},
   "outputs": [
    {
     "data": {
      "text/html": [
       "<div>\n",
       "<style scoped>\n",
       "    .dataframe tbody tr th:only-of-type {\n",
       "        vertical-align: middle;\n",
       "    }\n",
       "\n",
       "    .dataframe tbody tr th {\n",
       "        vertical-align: top;\n",
       "    }\n",
       "\n",
       "    .dataframe thead th {\n",
       "        text-align: right;\n",
       "    }\n",
       "</style>\n",
       "<table border=\"1\" class=\"dataframe\">\n",
       "  <thead>\n",
       "    <tr style=\"text-align: right;\">\n",
       "      <th></th>\n",
       "      <th>tanggal</th>\n",
       "      <th>wilayah</th>\n",
       "      <th>waktu</th>\n",
       "      <th>cuaca</th>\n",
       "      <th>kelembaban_persen</th>\n",
       "      <th>suhu_derajat_celcius</th>\n",
       "      <th>kelembaban_min</th>\n",
       "      <th>kelembaban_max</th>\n",
       "      <th>suhu_min</th>\n",
       "      <th>suhu_max</th>\n",
       "    </tr>\n",
       "  </thead>\n",
       "  <tbody>\n",
       "    <tr>\n",
       "      <th>0</th>\n",
       "      <td>2018-12-31</td>\n",
       "      <td>Kepulauan Seribu</td>\n",
       "      <td>Siang</td>\n",
       "      <td>Hujan</td>\n",
       "      <td>70 - 90</td>\n",
       "      <td>24 - 32</td>\n",
       "      <td>70</td>\n",
       "      <td>90</td>\n",
       "      <td>24</td>\n",
       "      <td>32</td>\n",
       "    </tr>\n",
       "    <tr>\n",
       "      <th>1</th>\n",
       "      <td>2018-12-31</td>\n",
       "      <td>Kepulauan Seribu</td>\n",
       "      <td>Pagi</td>\n",
       "      <td>Hujan</td>\n",
       "      <td>70 - 90</td>\n",
       "      <td>24 - 32</td>\n",
       "      <td>70</td>\n",
       "      <td>90</td>\n",
       "      <td>24</td>\n",
       "      <td>32</td>\n",
       "    </tr>\n",
       "    <tr>\n",
       "      <th>2</th>\n",
       "      <td>2018-12-31</td>\n",
       "      <td>Kepulauan Seribu</td>\n",
       "      <td>Malam</td>\n",
       "      <td>Hujan</td>\n",
       "      <td>70 - 90</td>\n",
       "      <td>24 - 32</td>\n",
       "      <td>70</td>\n",
       "      <td>90</td>\n",
       "      <td>24</td>\n",
       "      <td>32</td>\n",
       "    </tr>\n",
       "    <tr>\n",
       "      <th>3</th>\n",
       "      <td>2018-12-31</td>\n",
       "      <td>Kepulauan Seribu</td>\n",
       "      <td>Dini Hari</td>\n",
       "      <td>Hujan</td>\n",
       "      <td>70 - 90</td>\n",
       "      <td>24 - 32</td>\n",
       "      <td>70</td>\n",
       "      <td>90</td>\n",
       "      <td>24</td>\n",
       "      <td>32</td>\n",
       "    </tr>\n",
       "    <tr>\n",
       "      <th>4</th>\n",
       "      <td>2018-12-31</td>\n",
       "      <td>Jakarta Utara</td>\n",
       "      <td>Siang</td>\n",
       "      <td>Hujan</td>\n",
       "      <td>70 - 90</td>\n",
       "      <td>24 - 32</td>\n",
       "      <td>70</td>\n",
       "      <td>90</td>\n",
       "      <td>24</td>\n",
       "      <td>32</td>\n",
       "    </tr>\n",
       "  </tbody>\n",
       "</table>\n",
       "</div>"
      ],
      "text/plain": [
       "      tanggal           wilayah      waktu  cuaca kelembaban_persen  \\\n",
       "0  2018-12-31  Kepulauan Seribu      Siang  Hujan           70 - 90   \n",
       "1  2018-12-31  Kepulauan Seribu       Pagi  Hujan           70 - 90   \n",
       "2  2018-12-31  Kepulauan Seribu      Malam  Hujan           70 - 90   \n",
       "3  2018-12-31  Kepulauan Seribu  Dini Hari  Hujan           70 - 90   \n",
       "4  2018-12-31     Jakarta Utara      Siang  Hujan           70 - 90   \n",
       "\n",
       "  suhu_derajat_celcius kelembaban_min kelembaban_max suhu_min suhu_max  \n",
       "0              24 - 32             70             90       24       32  \n",
       "1              24 - 32             70             90       24       32  \n",
       "2              24 - 32             70             90       24       32  \n",
       "3              24 - 32             70             90       24       32  \n",
       "4              24 - 32             70             90       24       32  "
      ]
     },
     "execution_count": 14,
     "metadata": {},
     "output_type": "execute_result"
    }
   ],
   "source": [
    "df[\"suhu_min\"] = df.suhu_derajat_celcius.apply(lambda x: x.split(\"-\")[0])\n",
    "df[\"suhu_min\"] = [x.strip(' ') for x in df[\"suhu_min\"]]\n",
    "\n",
    "df[\"suhu_max\"] = df.suhu_derajat_celcius.apply(lambda x: x.split(\"-\")[1])\n",
    "df[\"suhu_max\"] = [x.strip(' ') for x in df[\"suhu_max\"]]\n",
    "\n",
    "df.head()"
   ]
  },
  {
   "cell_type": "markdown",
   "metadata": {},
   "source": [
    "membuat kolom suhu_min dengan mengambil nilai terkecil dari kolom suhu_derajat_celcius<br>\n",
    "membuat kolom suhu_max dengan mengambil nilai terbesar dari kolom suhu_derajat_celcius<br>\n",
    "<br>\n",
    "dengan split data pada kolom suhu_derajat_celcius agar terbagi menjadi 2 bagian untuk bagian kiri untuk nilai minimal dan bagian kanan untuk nilai maksimal"
   ]
  },
  {
   "cell_type": "markdown",
   "metadata": {},
   "source": [
    "#### Melihat Masing Masing Data dari Suhu Minimal dan Maksimal"
   ]
  },
  {
   "cell_type": "code",
   "execution_count": 15,
   "metadata": {},
   "outputs": [
    {
     "name": "stdout",
     "output_type": "stream",
     "text": [
      "Suhu Min\n",
      " 24    4102\n",
      "23    3072\n",
      "25     576\n",
      "22     552\n",
      "21      48\n",
      "20      24\n",
      "26      24\n",
      "Name: suhu_min, dtype: int64 \n",
      "\n",
      "Suhu Max\n",
      " 33    3431\n",
      "32    1991\n",
      "34    1440\n",
      "31     696\n",
      "30     360\n",
      "35     288\n",
      "29     120\n",
      "28      72\n",
      "Name: suhu_max, dtype: int64 \n",
      "\n"
     ]
    }
   ],
   "source": [
    "print('Suhu Min\\n', df['suhu_min'].value_counts(), '\\n')\n",
    "print('Suhu Max\\n', df['suhu_max'].value_counts(), '\\n')"
   ]
  },
  {
   "cell_type": "markdown",
   "metadata": {},
   "source": [
    "### Mengubah Tipe Data"
   ]
  },
  {
   "cell_type": "markdown",
   "metadata": {},
   "source": [
    "#### Melihat Tipe Data setiap Kolom"
   ]
  },
  {
   "cell_type": "code",
   "execution_count": 16,
   "metadata": {},
   "outputs": [
    {
     "data": {
      "text/plain": [
       "tanggal                 object\n",
       "wilayah                 object\n",
       "waktu                   object\n",
       "cuaca                   object\n",
       "kelembaban_persen       object\n",
       "suhu_derajat_celcius    object\n",
       "kelembaban_min          object\n",
       "kelembaban_max          object\n",
       "suhu_min                object\n",
       "suhu_max                object\n",
       "dtype: object"
      ]
     },
     "execution_count": 16,
     "metadata": {},
     "output_type": "execute_result"
    }
   ],
   "source": [
    "df.dtypes"
   ]
  },
  {
   "cell_type": "markdown",
   "metadata": {},
   "source": [
    "memperbaiki jenis tipe data sesuai dengan isi dari data pada kolom tersebut"
   ]
  },
  {
   "cell_type": "markdown",
   "metadata": {},
   "source": [
    "#### Mengubah Tipe data yang tidak sesuai"
   ]
  },
  {
   "cell_type": "code",
   "execution_count": 17,
   "metadata": {},
   "outputs": [
    {
     "data": {
      "text/plain": [
       "tanggal                 object\n",
       "wilayah                 object\n",
       "waktu                   object\n",
       "cuaca                   object\n",
       "kelembaban_persen       object\n",
       "suhu_derajat_celcius    object\n",
       "kelembaban_min           int32\n",
       "kelembaban_max           int32\n",
       "suhu_min                 int32\n",
       "suhu_max                 int32\n",
       "dtype: object"
      ]
     },
     "execution_count": 17,
     "metadata": {},
     "output_type": "execute_result"
    }
   ],
   "source": [
    "df[\"kelembaban_min\"] = df.kelembaban_min.astype(int)\n",
    "df[\"kelembaban_max\"] = df.kelembaban_max.astype(int)\n",
    "df[\"suhu_min\"] = df.suhu_min.astype(int)\n",
    "df[\"suhu_max\"] = df.suhu_max.astype(int)\n",
    "df.dtypes"
   ]
  },
  {
   "cell_type": "markdown",
   "metadata": {},
   "source": [
    "mengubah kolom kelembaban_min, kelembaban_max, suhu_min, dan suhu_max menjadi integer karena data pada kolom tersebut bersifat numerikal"
   ]
  },
  {
   "cell_type": "markdown",
   "metadata": {},
   "source": [
    "### Informasi Data"
   ]
  },
  {
   "cell_type": "markdown",
   "metadata": {},
   "source": [
    "#### Melihat informasi mengenai kolom"
   ]
  },
  {
   "cell_type": "code",
   "execution_count": 18,
   "metadata": {},
   "outputs": [
    {
     "name": "stdout",
     "output_type": "stream",
     "text": [
      "<class 'pandas.core.frame.DataFrame'>\n",
      "Int64Index: 8398 entries, 0 to 8399\n",
      "Data columns (total 10 columns):\n",
      " #   Column                Non-Null Count  Dtype \n",
      "---  ------                --------------  ----- \n",
      " 0   tanggal               8398 non-null   object\n",
      " 1   wilayah               8398 non-null   object\n",
      " 2   waktu                 8398 non-null   object\n",
      " 3   cuaca                 8398 non-null   object\n",
      " 4   kelembaban_persen     8398 non-null   object\n",
      " 5   suhu_derajat_celcius  8398 non-null   object\n",
      " 6   kelembaban_min        8398 non-null   int32 \n",
      " 7   kelembaban_max        8398 non-null   int32 \n",
      " 8   suhu_min              8398 non-null   int32 \n",
      " 9   suhu_max              8398 non-null   int32 \n",
      "dtypes: int32(4), object(6)\n",
      "memory usage: 590.5+ KB\n"
     ]
    }
   ],
   "source": [
    "df.info()"
   ]
  },
  {
   "cell_type": "code",
   "execution_count": 19,
   "metadata": {},
   "outputs": [
    {
     "data": {
      "text/html": [
       "<div>\n",
       "<style scoped>\n",
       "    .dataframe tbody tr th:only-of-type {\n",
       "        vertical-align: middle;\n",
       "    }\n",
       "\n",
       "    .dataframe tbody tr th {\n",
       "        vertical-align: top;\n",
       "    }\n",
       "\n",
       "    .dataframe thead th {\n",
       "        text-align: right;\n",
       "    }\n",
       "</style>\n",
       "<table border=\"1\" class=\"dataframe\">\n",
       "  <thead>\n",
       "    <tr style=\"text-align: right;\">\n",
       "      <th></th>\n",
       "      <th>tanggal</th>\n",
       "      <th>wilayah</th>\n",
       "      <th>waktu</th>\n",
       "      <th>cuaca</th>\n",
       "      <th>kelembaban_persen</th>\n",
       "      <th>suhu_derajat_celcius</th>\n",
       "      <th>kelembaban_min</th>\n",
       "      <th>kelembaban_max</th>\n",
       "      <th>suhu_min</th>\n",
       "      <th>suhu_max</th>\n",
       "    </tr>\n",
       "  </thead>\n",
       "  <tbody>\n",
       "    <tr>\n",
       "      <th>373</th>\n",
       "      <td>2018-12-16</td>\n",
       "      <td>Jakarta Selatan</td>\n",
       "      <td>Pagi</td>\n",
       "      <td>Berawan</td>\n",
       "      <td>55 - 85</td>\n",
       "      <td>25 - 33</td>\n",
       "      <td>55</td>\n",
       "      <td>85</td>\n",
       "      <td>25</td>\n",
       "      <td>33</td>\n",
       "    </tr>\n",
       "    <tr>\n",
       "      <th>2569</th>\n",
       "      <td>2018-09-13</td>\n",
       "      <td>Kepulauan Seribu</td>\n",
       "      <td>Pagi</td>\n",
       "      <td>Cerah</td>\n",
       "      <td>50 - 80</td>\n",
       "      <td>23 - 35</td>\n",
       "      <td>50</td>\n",
       "      <td>80</td>\n",
       "      <td>23</td>\n",
       "      <td>35</td>\n",
       "    </tr>\n",
       "    <tr>\n",
       "      <th>154</th>\n",
       "      <td>2018-12-25</td>\n",
       "      <td>Jakarta Timur</td>\n",
       "      <td>Malam</td>\n",
       "      <td>Hujan</td>\n",
       "      <td>70 - 95</td>\n",
       "      <td>24 - 31</td>\n",
       "      <td>70</td>\n",
       "      <td>95</td>\n",
       "      <td>24</td>\n",
       "      <td>31</td>\n",
       "    </tr>\n",
       "    <tr>\n",
       "      <th>6068</th>\n",
       "      <td>2018-04-15</td>\n",
       "      <td>Jakarta Barat</td>\n",
       "      <td>Siang</td>\n",
       "      <td>Cerah</td>\n",
       "      <td>75-95</td>\n",
       "      <td>24-33</td>\n",
       "      <td>75</td>\n",
       "      <td>95</td>\n",
       "      <td>24</td>\n",
       "      <td>33</td>\n",
       "    </tr>\n",
       "    <tr>\n",
       "      <th>2807</th>\n",
       "      <td>2018-09-04</td>\n",
       "      <td>Jakarta Barat</td>\n",
       "      <td>Dini Hari</td>\n",
       "      <td>Cerah</td>\n",
       "      <td>45 - 90</td>\n",
       "      <td>23 - 33</td>\n",
       "      <td>45</td>\n",
       "      <td>90</td>\n",
       "      <td>23</td>\n",
       "      <td>33</td>\n",
       "    </tr>\n",
       "  </tbody>\n",
       "</table>\n",
       "</div>"
      ],
      "text/plain": [
       "         tanggal           wilayah      waktu    cuaca kelembaban_persen  \\\n",
       "373   2018-12-16   Jakarta Selatan       Pagi  Berawan           55 - 85   \n",
       "2569  2018-09-13  Kepulauan Seribu       Pagi    Cerah           50 - 80   \n",
       "154   2018-12-25     Jakarta Timur      Malam    Hujan           70 - 95   \n",
       "6068  2018-04-15     Jakarta Barat      Siang    Cerah             75-95   \n",
       "2807  2018-09-04     Jakarta Barat  Dini Hari    Cerah           45 - 90   \n",
       "\n",
       "     suhu_derajat_celcius  kelembaban_min  kelembaban_max  suhu_min  suhu_max  \n",
       "373               25 - 33              55              85        25        33  \n",
       "2569              23 - 35              50              80        23        35  \n",
       "154               24 - 31              70              95        24        31  \n",
       "6068                24-33              75              95        24        33  \n",
       "2807              23 - 33              45              90        23        33  "
      ]
     },
     "execution_count": 19,
     "metadata": {},
     "output_type": "execute_result"
    }
   ],
   "source": [
    "df.sample(5)"
   ]
  },
  {
   "cell_type": "code",
   "execution_count": 20,
   "metadata": {},
   "outputs": [
    {
     "data": {
      "text/plain": [
       "Cerah      3796\n",
       "Berawan    2896\n",
       "Hujan      1706\n",
       "Name: cuaca, dtype: int64"
      ]
     },
     "execution_count": 20,
     "metadata": {},
     "output_type": "execute_result"
    }
   ],
   "source": [
    "df.cuaca.value_counts()"
   ]
  },
  {
   "cell_type": "markdown",
   "metadata": {},
   "source": [
    "#### Membagi data antara kolom numerikal dengan kategorikal"
   ]
  },
  {
   "cell_type": "code",
   "execution_count": 21,
   "metadata": {},
   "outputs": [],
   "source": [
    "numeric = ['kelembaban_min', 'kelembaban_max', 'suhu_min', 'suhu_max', 'kelembaban_persen', 'suhu_derajat_celcius']\n",
    "categoric = ['cuaca', 'waktu', 'wilayah', 'tanggal']"
   ]
  },
  {
   "cell_type": "markdown",
   "metadata": {},
   "source": [
    "#### Statistik kolom numerik"
   ]
  },
  {
   "cell_type": "code",
   "execution_count": 22,
   "metadata": {},
   "outputs": [
    {
     "data": {
      "text/html": [
       "<div>\n",
       "<style scoped>\n",
       "    .dataframe tbody tr th:only-of-type {\n",
       "        vertical-align: middle;\n",
       "    }\n",
       "\n",
       "    .dataframe tbody tr th {\n",
       "        vertical-align: top;\n",
       "    }\n",
       "\n",
       "    .dataframe thead th {\n",
       "        text-align: right;\n",
       "    }\n",
       "</style>\n",
       "<table border=\"1\" class=\"dataframe\">\n",
       "  <thead>\n",
       "    <tr style=\"text-align: right;\">\n",
       "      <th></th>\n",
       "      <th>kelembaban_min</th>\n",
       "      <th>kelembaban_max</th>\n",
       "      <th>suhu_min</th>\n",
       "      <th>suhu_max</th>\n",
       "    </tr>\n",
       "  </thead>\n",
       "  <tbody>\n",
       "    <tr>\n",
       "      <th>count</th>\n",
       "      <td>8398.000000</td>\n",
       "      <td>8398.000000</td>\n",
       "      <td>8398.000000</td>\n",
       "      <td>8398.000000</td>\n",
       "    </tr>\n",
       "    <tr>\n",
       "      <th>mean</th>\n",
       "      <td>62.254704</td>\n",
       "      <td>91.727792</td>\n",
       "      <td>23.548464</td>\n",
       "      <td>32.608597</td>\n",
       "    </tr>\n",
       "    <tr>\n",
       "      <th>std</th>\n",
       "      <td>10.592668</td>\n",
       "      <td>5.562658</td>\n",
       "      <td>0.775947</td>\n",
       "      <td>1.246190</td>\n",
       "    </tr>\n",
       "    <tr>\n",
       "      <th>min</th>\n",
       "      <td>35.000000</td>\n",
       "      <td>75.000000</td>\n",
       "      <td>20.000000</td>\n",
       "      <td>28.000000</td>\n",
       "    </tr>\n",
       "    <tr>\n",
       "      <th>25%</th>\n",
       "      <td>55.000000</td>\n",
       "      <td>90.000000</td>\n",
       "      <td>23.000000</td>\n",
       "      <td>32.000000</td>\n",
       "    </tr>\n",
       "    <tr>\n",
       "      <th>50%</th>\n",
       "      <td>65.000000</td>\n",
       "      <td>95.000000</td>\n",
       "      <td>24.000000</td>\n",
       "      <td>33.000000</td>\n",
       "    </tr>\n",
       "    <tr>\n",
       "      <th>75%</th>\n",
       "      <td>70.000000</td>\n",
       "      <td>95.000000</td>\n",
       "      <td>24.000000</td>\n",
       "      <td>33.000000</td>\n",
       "    </tr>\n",
       "    <tr>\n",
       "      <th>max</th>\n",
       "      <td>85.000000</td>\n",
       "      <td>100.000000</td>\n",
       "      <td>26.000000</td>\n",
       "      <td>35.000000</td>\n",
       "    </tr>\n",
       "  </tbody>\n",
       "</table>\n",
       "</div>"
      ],
      "text/plain": [
       "       kelembaban_min  kelembaban_max     suhu_min     suhu_max\n",
       "count     8398.000000     8398.000000  8398.000000  8398.000000\n",
       "mean        62.254704       91.727792    23.548464    32.608597\n",
       "std         10.592668        5.562658     0.775947     1.246190\n",
       "min         35.000000       75.000000    20.000000    28.000000\n",
       "25%         55.000000       90.000000    23.000000    32.000000\n",
       "50%         65.000000       95.000000    24.000000    33.000000\n",
       "75%         70.000000       95.000000    24.000000    33.000000\n",
       "max         85.000000      100.000000    26.000000    35.000000"
      ]
     },
     "execution_count": 22,
     "metadata": {},
     "output_type": "execute_result"
    }
   ],
   "source": [
    "df[numeric].describe()"
   ]
  },
  {
   "cell_type": "markdown",
   "metadata": {},
   "source": [
    "persebaran nilai pada data kelembaban_min, kelembaban_max, suhu_min, dan suhu_max sudah bagus dan tidak perlu dilakukan feature scaling<br>\n",
    "<br>\n",
    "kolom kelembaban_persen dan suhu_derajat_celcius akan di drop pada tahap selanjutnya karena sudah tergantikan oleh kolom kelembaban_min, kelembaban_max, suhu_min, dan suhu_max."
   ]
  },
  {
   "cell_type": "markdown",
   "metadata": {},
   "source": [
    "persebaran data yang simetrik distribusinya dilihat dari nilai mean dan median yang tidak berbeda jauh"
   ]
  },
  {
   "cell_type": "markdown",
   "metadata": {},
   "source": [
    "#### Statistik kolom kategorik"
   ]
  },
  {
   "cell_type": "code",
   "execution_count": 23,
   "metadata": {},
   "outputs": [
    {
     "data": {
      "text/html": [
       "<div>\n",
       "<style scoped>\n",
       "    .dataframe tbody tr th:only-of-type {\n",
       "        vertical-align: middle;\n",
       "    }\n",
       "\n",
       "    .dataframe tbody tr th {\n",
       "        vertical-align: top;\n",
       "    }\n",
       "\n",
       "    .dataframe thead th {\n",
       "        text-align: right;\n",
       "    }\n",
       "</style>\n",
       "<table border=\"1\" class=\"dataframe\">\n",
       "  <thead>\n",
       "    <tr style=\"text-align: right;\">\n",
       "      <th></th>\n",
       "      <th>cuaca</th>\n",
       "      <th>waktu</th>\n",
       "      <th>wilayah</th>\n",
       "      <th>tanggal</th>\n",
       "    </tr>\n",
       "  </thead>\n",
       "  <tbody>\n",
       "    <tr>\n",
       "      <th>count</th>\n",
       "      <td>8398</td>\n",
       "      <td>8398</td>\n",
       "      <td>8398</td>\n",
       "      <td>8398</td>\n",
       "    </tr>\n",
       "    <tr>\n",
       "      <th>unique</th>\n",
       "      <td>3</td>\n",
       "      <td>4</td>\n",
       "      <td>6</td>\n",
       "      <td>348</td>\n",
       "    </tr>\n",
       "    <tr>\n",
       "      <th>top</th>\n",
       "      <td>Cerah</td>\n",
       "      <td>Siang</td>\n",
       "      <td>Jakarta Utara</td>\n",
       "      <td>2018-01-02</td>\n",
       "    </tr>\n",
       "    <tr>\n",
       "      <th>freq</th>\n",
       "      <td>3796</td>\n",
       "      <td>2100</td>\n",
       "      <td>1400</td>\n",
       "      <td>48</td>\n",
       "    </tr>\n",
       "  </tbody>\n",
       "</table>\n",
       "</div>"
      ],
      "text/plain": [
       "        cuaca  waktu        wilayah     tanggal\n",
       "count    8398   8398           8398        8398\n",
       "unique      3      4              6         348\n",
       "top     Cerah  Siang  Jakarta Utara  2018-01-02\n",
       "freq     3796   2100           1400          48"
      ]
     },
     "execution_count": 23,
     "metadata": {},
     "output_type": "execute_result"
    }
   ],
   "source": [
    "df[categoric].describe()"
   ]
  },
  {
   "cell_type": "markdown",
   "metadata": {},
   "source": [
    "kolom cuaca, waktu, dan wilayah masih bersifat object / string maka selanjutnya akan dilakukan encode pada data kolom tersebut<br>\n",
    "<br>\n",
    "kolom tanggal akan di drop pada tahap selanjutnya karena tidak diperlukan pada proses menganalisis serta memproses data"
   ]
  },
  {
   "cell_type": "markdown",
   "metadata": {},
   "source": [
    "#### Melihat duplikasi data"
   ]
  },
  {
   "cell_type": "code",
   "execution_count": 24,
   "metadata": {},
   "outputs": [
    {
     "data": {
      "text/plain": [
       "0"
      ]
     },
     "execution_count": 24,
     "metadata": {},
     "output_type": "execute_result"
    }
   ],
   "source": [
    "df.duplicated().sum()"
   ]
  },
  {
   "cell_type": "markdown",
   "metadata": {},
   "source": [
    "tidak terdapat data yg duplikat"
   ]
  },
  {
   "cell_type": "markdown",
   "metadata": {},
   "source": [
    "### Membuang Kolom yang tidak diperlukan"
   ]
  },
  {
   "cell_type": "code",
   "execution_count": 25,
   "metadata": {},
   "outputs": [],
   "source": [
    "df.drop(columns=[\"kelembaban_persen\", \"suhu_derajat_celcius\", \"tanggal\"], inplace=True)"
   ]
  },
  {
   "cell_type": "markdown",
   "metadata": {},
   "source": [
    "membuang kolom yang tidak diperlukan seperti kelembaban_persen karena sudah digantikan oleh kolom kelembaban_min dan kelembaban_max<br><br>\n",
    "membuang kolom suhu_derajat_celcius karena sudah digantikan oleh suhu_min dan suhu_max<br><br>\n",
    "membuang kolom tanggal karena tidak diperlukan dalam proses menganalisis dan memproses data cuaca Provinsi DKI Jakarta tahun 2018"
   ]
  },
  {
   "cell_type": "code",
   "execution_count": 26,
   "metadata": {},
   "outputs": [
    {
     "name": "stderr",
     "output_type": "stream",
     "text": [
      "C:\\Users\\Jayy\\AppData\\Local\\Temp\\ipykernel_21672\\1134722465.py:1: FutureWarning: The default value of numeric_only in DataFrame.corr is deprecated. In a future version, it will default to False. Select only valid columns or specify the value of numeric_only to silence this warning.\n",
      "  df.corr()\n"
     ]
    },
    {
     "data": {
      "text/html": [
       "<div>\n",
       "<style scoped>\n",
       "    .dataframe tbody tr th:only-of-type {\n",
       "        vertical-align: middle;\n",
       "    }\n",
       "\n",
       "    .dataframe tbody tr th {\n",
       "        vertical-align: top;\n",
       "    }\n",
       "\n",
       "    .dataframe thead th {\n",
       "        text-align: right;\n",
       "    }\n",
       "</style>\n",
       "<table border=\"1\" class=\"dataframe\">\n",
       "  <thead>\n",
       "    <tr style=\"text-align: right;\">\n",
       "      <th></th>\n",
       "      <th>kelembaban_min</th>\n",
       "      <th>kelembaban_max</th>\n",
       "      <th>suhu_min</th>\n",
       "      <th>suhu_max</th>\n",
       "    </tr>\n",
       "  </thead>\n",
       "  <tbody>\n",
       "    <tr>\n",
       "      <th>kelembaban_min</th>\n",
       "      <td>1.000000</td>\n",
       "      <td>0.727868</td>\n",
       "      <td>0.064763</td>\n",
       "      <td>-0.596636</td>\n",
       "    </tr>\n",
       "    <tr>\n",
       "      <th>kelembaban_max</th>\n",
       "      <td>0.727868</td>\n",
       "      <td>1.000000</td>\n",
       "      <td>0.134416</td>\n",
       "      <td>-0.405276</td>\n",
       "    </tr>\n",
       "    <tr>\n",
       "      <th>suhu_min</th>\n",
       "      <td>0.064763</td>\n",
       "      <td>0.134416</td>\n",
       "      <td>1.000000</td>\n",
       "      <td>0.056628</td>\n",
       "    </tr>\n",
       "    <tr>\n",
       "      <th>suhu_max</th>\n",
       "      <td>-0.596636</td>\n",
       "      <td>-0.405276</td>\n",
       "      <td>0.056628</td>\n",
       "      <td>1.000000</td>\n",
       "    </tr>\n",
       "  </tbody>\n",
       "</table>\n",
       "</div>"
      ],
      "text/plain": [
       "                kelembaban_min  kelembaban_max  suhu_min  suhu_max\n",
       "kelembaban_min        1.000000        0.727868  0.064763 -0.596636\n",
       "kelembaban_max        0.727868        1.000000  0.134416 -0.405276\n",
       "suhu_min              0.064763        0.134416  1.000000  0.056628\n",
       "suhu_max             -0.596636       -0.405276  0.056628  1.000000"
      ]
     },
     "execution_count": 26,
     "metadata": {},
     "output_type": "execute_result"
    }
   ],
   "source": [
    "df.corr()"
   ]
  },
  {
   "cell_type": "markdown",
   "metadata": {},
   "source": [
    "#### Mengubah Kolom cuaca menggunakan label encoding"
   ]
  },
  {
   "cell_type": "code",
   "execution_count": 27,
   "metadata": {},
   "outputs": [
    {
     "data": {
      "text/html": [
       "<div>\n",
       "<style scoped>\n",
       "    .dataframe tbody tr th:only-of-type {\n",
       "        vertical-align: middle;\n",
       "    }\n",
       "\n",
       "    .dataframe tbody tr th {\n",
       "        vertical-align: top;\n",
       "    }\n",
       "\n",
       "    .dataframe thead th {\n",
       "        text-align: right;\n",
       "    }\n",
       "</style>\n",
       "<table border=\"1\" class=\"dataframe\">\n",
       "  <thead>\n",
       "    <tr style=\"text-align: right;\">\n",
       "      <th></th>\n",
       "      <th>wilayah</th>\n",
       "      <th>waktu</th>\n",
       "      <th>cuaca</th>\n",
       "      <th>kelembaban_min</th>\n",
       "      <th>kelembaban_max</th>\n",
       "      <th>suhu_min</th>\n",
       "      <th>suhu_max</th>\n",
       "    </tr>\n",
       "  </thead>\n",
       "  <tbody>\n",
       "    <tr>\n",
       "      <th>0</th>\n",
       "      <td>Kepulauan Seribu</td>\n",
       "      <td>Siang</td>\n",
       "      <td>1</td>\n",
       "      <td>70</td>\n",
       "      <td>90</td>\n",
       "      <td>24</td>\n",
       "      <td>32</td>\n",
       "    </tr>\n",
       "    <tr>\n",
       "      <th>1</th>\n",
       "      <td>Kepulauan Seribu</td>\n",
       "      <td>Pagi</td>\n",
       "      <td>1</td>\n",
       "      <td>70</td>\n",
       "      <td>90</td>\n",
       "      <td>24</td>\n",
       "      <td>32</td>\n",
       "    </tr>\n",
       "    <tr>\n",
       "      <th>2</th>\n",
       "      <td>Kepulauan Seribu</td>\n",
       "      <td>Malam</td>\n",
       "      <td>1</td>\n",
       "      <td>70</td>\n",
       "      <td>90</td>\n",
       "      <td>24</td>\n",
       "      <td>32</td>\n",
       "    </tr>\n",
       "    <tr>\n",
       "      <th>3</th>\n",
       "      <td>Kepulauan Seribu</td>\n",
       "      <td>Dini Hari</td>\n",
       "      <td>1</td>\n",
       "      <td>70</td>\n",
       "      <td>90</td>\n",
       "      <td>24</td>\n",
       "      <td>32</td>\n",
       "    </tr>\n",
       "    <tr>\n",
       "      <th>4</th>\n",
       "      <td>Jakarta Utara</td>\n",
       "      <td>Siang</td>\n",
       "      <td>1</td>\n",
       "      <td>70</td>\n",
       "      <td>90</td>\n",
       "      <td>24</td>\n",
       "      <td>32</td>\n",
       "    </tr>\n",
       "  </tbody>\n",
       "</table>\n",
       "</div>"
      ],
      "text/plain": [
       "            wilayah      waktu  cuaca  kelembaban_min  kelembaban_max  \\\n",
       "0  Kepulauan Seribu      Siang      1              70              90   \n",
       "1  Kepulauan Seribu       Pagi      1              70              90   \n",
       "2  Kepulauan Seribu      Malam      1              70              90   \n",
       "3  Kepulauan Seribu  Dini Hari      1              70              90   \n",
       "4     Jakarta Utara      Siang      1              70              90   \n",
       "\n",
       "   suhu_min  suhu_max  \n",
       "0        24        32  \n",
       "1        24        32  \n",
       "2        24        32  \n",
       "3        24        32  \n",
       "4        24        32  "
      ]
     },
     "execution_count": 27,
     "metadata": {},
     "output_type": "execute_result"
    }
   ],
   "source": [
    "mapping_cuaca = {\n",
    "    'Cerah': 0,\n",
    "    'Hujan': 1,\n",
    "    'Berawan': 2\n",
    "}\n",
    "\n",
    "df['cuaca'] = df['cuaca'].map(mapping_cuaca)\n",
    "df.head()"
   ]
  },
  {
   "cell_type": "markdown",
   "metadata": {},
   "source": [
    "Mengubah Feature Categorical menjadi numercial,<br>\n",
    "Mengubah Cuaca menjadi 0<br>\n",
    "Mengubah Hujan menjadi 1<br>\n",
    "Mengubah Berawan menjadi 2"
   ]
  },
  {
   "cell_type": "code",
   "execution_count": 28,
   "metadata": {},
   "outputs": [
    {
     "data": {
      "text/plain": [
       "0    3796\n",
       "2    2896\n",
       "1    1706\n",
       "Name: cuaca, dtype: int64"
      ]
     },
     "execution_count": 28,
     "metadata": {},
     "output_type": "execute_result"
    }
   ],
   "source": [
    "df[\"cuaca\"].value_counts()"
   ]
  },
  {
   "cell_type": "markdown",
   "metadata": {},
   "source": [
    "# Visualisasi Data"
   ]
  },
  {
   "cell_type": "code",
   "execution_count": 29,
   "metadata": {},
   "outputs": [
    {
     "data": {
      "text/plain": [
       "<seaborn.axisgrid.PairGrid at 0x26c71bc5b80>"
      ]
     },
     "execution_count": 29,
     "metadata": {},
     "output_type": "execute_result"
    },
    {
     "data": {
      "image/png": "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",
      "text/plain": [
       "<Figure size 762.375x720 with 14 Axes>"
      ]
     },
     "metadata": {
      "needs_background": "light"
     },
     "output_type": "display_data"
    }
   ],
   "source": [
    "sns.pairplot(df, hue=\"cuaca\", corner=True)"
   ]
  },
  {
   "cell_type": "markdown",
   "metadata": {},
   "source": [
    "persebaran data cuaca Provinsi DKI Jakarta pada Tahun 2018"
   ]
  },
  {
   "cell_type": "markdown",
   "metadata": {},
   "source": [
    "# Splitting Data"
   ]
  },
  {
   "cell_type": "code",
   "execution_count": 30,
   "metadata": {},
   "outputs": [
    {
     "data": {
      "text/plain": [
       "0    3796\n",
       "2    2896\n",
       "1    1706\n",
       "Name: cuaca, dtype: int64"
      ]
     },
     "execution_count": 30,
     "metadata": {},
     "output_type": "execute_result"
    }
   ],
   "source": [
    "X = df.drop(columns=[\"cuaca\"])\n",
    "y = df[\"cuaca\"]\n",
    "\n",
    "y.value_counts()"
   ]
  },
  {
   "cell_type": "code",
   "execution_count": 31,
   "metadata": {},
   "outputs": [
    {
     "data": {
      "text/plain": [
       "(8398, 7)"
      ]
     },
     "execution_count": 31,
     "metadata": {},
     "output_type": "execute_result"
    }
   ],
   "source": [
    "df.shape"
   ]
  },
  {
   "cell_type": "code",
   "execution_count": 32,
   "metadata": {},
   "outputs": [
    {
     "data": {
      "text/plain": [
       "((6718, 6), (1680, 6), (6718,), (1680,))"
      ]
     },
     "execution_count": 32,
     "metadata": {},
     "output_type": "execute_result"
    }
   ],
   "source": [
    "X_train, X_test, y_train, y_test = train_test_split(X, y, test_size=0.2, stratify=y, random_state=42)\n",
    "X_train.shape, X_test.shape, y_train.shape, y_test.shape"
   ]
  },
  {
   "cell_type": "code",
   "execution_count": 33,
   "metadata": {},
   "outputs": [
    {
     "data": {
      "text/plain": [
       "0    760\n",
       "2    579\n",
       "1    341\n",
       "Name: cuaca, dtype: int64"
      ]
     },
     "execution_count": 33,
     "metadata": {},
     "output_type": "execute_result"
    }
   ],
   "source": [
    "y_train.value_counts()\n",
    "y_test.value_counts()"
   ]
  },
  {
   "cell_type": "markdown",
   "metadata": {},
   "source": [
    "membagi data berdasarkan data latih dan data uji dengan perbandingan data uji sebesar 20% dan data latih sebesar 80% dari total data dengan pembagian secara stratify<br>\n",
    "<br>\n",
    "membagi data menjadi fitur dan target, dimana variable y merupakan target yaitu kolom cuaca sedangkan variable x merupakan sisa kolom selain kolom cuaca<br>\n",
    "<br>\n",
    "total data latih 6718 data<br>\n",
    "total data uji 1688 data"
   ]
  },
  {
   "attachments": {},
   "cell_type": "markdown",
   "metadata": {},
   "source": [
    "# Preprocessing"
   ]
  },
  {
   "cell_type": "markdown",
   "metadata": {},
   "source": [
    "#### Melihat isi data latih"
   ]
  },
  {
   "cell_type": "code",
   "execution_count": 34,
   "metadata": {},
   "outputs": [
    {
     "data": {
      "text/html": [
       "<div>\n",
       "<style scoped>\n",
       "    .dataframe tbody tr th:only-of-type {\n",
       "        vertical-align: middle;\n",
       "    }\n",
       "\n",
       "    .dataframe tbody tr th {\n",
       "        vertical-align: top;\n",
       "    }\n",
       "\n",
       "    .dataframe thead th {\n",
       "        text-align: right;\n",
       "    }\n",
       "</style>\n",
       "<table border=\"1\" class=\"dataframe\">\n",
       "  <thead>\n",
       "    <tr style=\"text-align: right;\">\n",
       "      <th></th>\n",
       "      <th>wilayah</th>\n",
       "      <th>waktu</th>\n",
       "      <th>kelembaban_min</th>\n",
       "      <th>kelembaban_max</th>\n",
       "      <th>suhu_min</th>\n",
       "      <th>suhu_max</th>\n",
       "    </tr>\n",
       "  </thead>\n",
       "  <tbody>\n",
       "    <tr>\n",
       "      <th>1832</th>\n",
       "      <td>Jakarta Timur</td>\n",
       "      <td>Siang</td>\n",
       "      <td>65</td>\n",
       "      <td>90</td>\n",
       "      <td>24</td>\n",
       "      <td>32</td>\n",
       "    </tr>\n",
       "    <tr>\n",
       "      <th>565</th>\n",
       "      <td>Jakarta Selatan</td>\n",
       "      <td>Pagi</td>\n",
       "      <td>70</td>\n",
       "      <td>95</td>\n",
       "      <td>23</td>\n",
       "      <td>32</td>\n",
       "    </tr>\n",
       "    <tr>\n",
       "      <th>2204</th>\n",
       "      <td>Jakarta Barat</td>\n",
       "      <td>Siang</td>\n",
       "      <td>40</td>\n",
       "      <td>75</td>\n",
       "      <td>23</td>\n",
       "      <td>34</td>\n",
       "    </tr>\n",
       "    <tr>\n",
       "      <th>1283</th>\n",
       "      <td>Jakarta Timur</td>\n",
       "      <td>Dini Hari</td>\n",
       "      <td>35</td>\n",
       "      <td>80</td>\n",
       "      <td>25</td>\n",
       "      <td>35</td>\n",
       "    </tr>\n",
       "    <tr>\n",
       "      <th>2724</th>\n",
       "      <td>Jakarta Selatan</td>\n",
       "      <td>Siang</td>\n",
       "      <td>60</td>\n",
       "      <td>95</td>\n",
       "      <td>24</td>\n",
       "      <td>33</td>\n",
       "    </tr>\n",
       "  </tbody>\n",
       "</table>\n",
       "</div>"
      ],
      "text/plain": [
       "              wilayah      waktu  kelembaban_min  kelembaban_max  suhu_min  \\\n",
       "1832    Jakarta Timur      Siang              65              90        24   \n",
       "565   Jakarta Selatan       Pagi              70              95        23   \n",
       "2204    Jakarta Barat      Siang              40              75        23   \n",
       "1283    Jakarta Timur  Dini Hari              35              80        25   \n",
       "2724  Jakarta Selatan      Siang              60              95        24   \n",
       "\n",
       "      suhu_max  \n",
       "1832        32  \n",
       "565         32  \n",
       "2204        34  \n",
       "1283        35  \n",
       "2724        33  "
      ]
     },
     "execution_count": 34,
     "metadata": {},
     "output_type": "execute_result"
    }
   ],
   "source": [
    "X_train.sample(5)"
   ]
  },
  {
   "cell_type": "markdown",
   "metadata": {},
   "source": [
    "### Feature Scaling Data"
   ]
  },
  {
   "cell_type": "markdown",
   "metadata": {},
   "source": [
    "#### menggunakan Polynomial Features pada kolom numerikal"
   ]
  },
  {
   "cell_type": "code",
   "execution_count": 36,
   "metadata": {},
   "outputs": [],
   "source": [
    "from sklearn.preprocessing import PolynomialFeatures\n",
    "numeric = [\"kelembaban_min\", \"kelembaban_max\", \"suhu_min\", \"suhu_max\"]\n",
    "\n",
    "poly = PolynomialFeatures(degree=2, interaction_only=True)\n",
    "\n",
    "X_train[poly.get_feature_names_out(numeric)] = poly.fit_transform(X_train[numeric])\n",
    "X_test[poly.get_feature_names_out(numeric)] = poly.fit_transform(X_test[numeric])"
   ]
  },
  {
   "attachments": {},
   "cell_type": "markdown",
   "metadata": {},
   "source": [
    "### Encoding"
   ]
  },
  {
   "cell_type": "markdown",
   "metadata": {},
   "source": [
    "#### Mengubah Kolom waktu dan wilayah menggunakan one-hot encoder"
   ]
  },
  {
   "cell_type": "code",
   "execution_count": 37,
   "metadata": {},
   "outputs": [],
   "source": [
    "categoric = ['waktu', 'wilayah']\n",
    "\n",
    "X_train = pd.get_dummies(X_train, columns=categoric)\n",
    "X_test = pd.get_dummies(X_test, columns=categoric)"
   ]
  },
  {
   "cell_type": "code",
   "execution_count": 38,
   "metadata": {},
   "outputs": [],
   "source": [
    "from imblearn.over_sampling import SMOTE \n",
    "sm = SMOTE(random_state=42)\n",
    "X_train, y_train = sm.fit_resample(X_train, y_train)\n",
    "X_test, y_test = sm.fit_resample(X_test, y_test)"
   ]
  },
  {
   "cell_type": "code",
   "execution_count": 39,
   "metadata": {},
   "outputs": [
    {
     "data": {
      "text/plain": [
       "0    760\n",
       "1    760\n",
       "2    760\n",
       "Name: cuaca, dtype: int64"
      ]
     },
     "execution_count": 39,
     "metadata": {},
     "output_type": "execute_result"
    }
   ],
   "source": [
    "y_test.value_counts()"
   ]
  },
  {
   "cell_type": "code",
   "execution_count": 40,
   "metadata": {},
   "outputs": [
    {
     "data": {
      "text/plain": [
       "0    3036\n",
       "2    3036\n",
       "1    3036\n",
       "Name: cuaca, dtype: int64"
      ]
     },
     "execution_count": 40,
     "metadata": {},
     "output_type": "execute_result"
    }
   ],
   "source": [
    "y_train.value_counts()"
   ]
  },
  {
   "cell_type": "code",
   "execution_count": 41,
   "metadata": {},
   "outputs": [
    {
     "data": {
      "text/plain": [
       "(2280, 21)"
      ]
     },
     "execution_count": 41,
     "metadata": {},
     "output_type": "execute_result"
    }
   ],
   "source": [
    "X_test.shape"
   ]
  },
  {
   "cell_type": "code",
   "execution_count": 42,
   "metadata": {},
   "outputs": [
    {
     "data": {
      "text/plain": [
       "(9108, 21)"
      ]
     },
     "execution_count": 42,
     "metadata": {},
     "output_type": "execute_result"
    }
   ],
   "source": [
    "X_train.shape"
   ]
  },
  {
   "cell_type": "markdown",
   "metadata": {},
   "source": [
    "# Proses Fitting Data (1)"
   ]
  },
  {
   "cell_type": "markdown",
   "metadata": {},
   "source": [
    "### XGB Classifier"
   ]
  },
  {
   "cell_type": "markdown",
   "metadata": {},
   "source": [
    "#### parameter yang akan di tuning"
   ]
  },
  {
   "cell_type": "code",
   "execution_count": 43,
   "metadata": {},
   "outputs": [],
   "source": [
    "from jcopml.tuning.space import Integer, Real\n",
    "\n",
    "parameters = {\n",
    "    'max_depth': Integer(low=1, high=10),\n",
    "    'learning_rate': Real(low=-2, high=0, prior='log-uniform'),\n",
    "    'n_estimators': Integer(low=100, high=200),\n",
    "    'subsample': Real(low=0.3, high=0.8, prior='uniform'),\n",
    "    'gamma': Integer(low=1, high=10),\n",
    "    'colsample_bytree': Real(low=0.1, high=1, prior='uniform'),\n",
    "    'reg_alpha': Real(low=-3, high=1, prior='log-uniform'),\n",
    "    'reg_lambda': Real(low=-3, high=1, prior='log-uniform')\n",
    "}"
   ]
  },
  {
   "cell_type": "markdown",
   "metadata": {},
   "source": [
    "#### fitting menggunakan XGBClassifier dengan tuning menggunakan RandomizedSearchCV"
   ]
  },
  {
   "cell_type": "code",
   "execution_count": 44,
   "metadata": {},
   "outputs": [
    {
     "name": "stderr",
     "output_type": "stream",
     "text": [
      "D:\\lib\\site-packages\\xgboost\\sklearn.py:1395: UserWarning: `use_label_encoder` is deprecated in 1.7.0.\n",
      "  warnings.warn(\"`use_label_encoder` is deprecated in 1.7.0.\")\n",
      "D:\\lib\\site-packages\\xgboost\\sklearn.py:1395: UserWarning: `use_label_encoder` is deprecated in 1.7.0.\n",
      "  warnings.warn(\"`use_label_encoder` is deprecated in 1.7.0.\")\n"
     ]
    },
    {
     "name": "stdout",
     "output_type": "stream",
     "text": [
      "Fitting 3 folds for each of 100 candidates, totalling 300 fits\n"
     ]
    },
    {
     "name": "stderr",
     "output_type": "stream",
     "text": [
      "D:\\lib\\site-packages\\xgboost\\sklearn.py:1395: UserWarning: `use_label_encoder` is deprecated in 1.7.0.\n",
      "  warnings.warn(\"`use_label_encoder` is deprecated in 1.7.0.\")\n"
     ]
    },
    {
     "name": "stdout",
     "output_type": "stream",
     "text": [
      "{'colsample_bytree': 0.770895526765897, 'gamma': 1, 'learning_rate': 0.13456034286213814, 'max_depth': 10, 'n_estimators': 140, 'reg_alpha': 0.02237625154136126, 'reg_lambda': 3.968163778862806, 'subsample': 0.6037776111467865}\n",
      "[[555  53 152]\n",
      " [ 30 599 131]\n",
      " [138 138 484]] \n",
      "\n",
      "              precision    recall  f1-score   support\n",
      "\n",
      "           0       0.83      0.82      0.83      3036\n",
      "           1       0.83      0.88      0.85      3036\n",
      "           2       0.76      0.73      0.75      3036\n",
      "\n",
      "    accuracy                           0.81      9108\n",
      "   macro avg       0.81      0.81      0.81      9108\n",
      "weighted avg       0.81      0.81      0.81      9108\n",
      " \n",
      "\n",
      "              precision    recall  f1-score   support\n",
      "\n",
      "           0       0.77      0.73      0.75       760\n",
      "           1       0.76      0.79      0.77       760\n",
      "           2       0.63      0.64      0.63       760\n",
      "\n",
      "    accuracy                           0.72      2280\n",
      "   macro avg       0.72      0.72      0.72      2280\n",
      "weighted avg       0.72      0.72      0.72      2280\n",
      "\n"
     ]
    }
   ],
   "source": [
    "from xgboost import XGBClassifier\n",
    "from sklearn.model_selection import RandomizedSearchCV\n",
    "from sklearn.metrics import confusion_matrix, classification_report\n",
    "\n",
    "XGB = XGBClassifier(n_jobs=-1, random_state=42, use_label_encoder=False)\n",
    "\n",
    "model = RandomizedSearchCV(XGB, parameters, cv=3, n_iter=100, n_jobs=-1, verbose=1, random_state=42)\n",
    "model.fit(X_train, y_train)\n",
    "\n",
    "print(model.best_params_)\n",
    "\n",
    "y_pred = model.predict(X_test)\n",
    "y_pred_train = model.predict(X_train)\n",
    "\n",
    "print(confusion_matrix(y_test, y_pred), \"\\n\")\n",
    "print(classification_report(y_train, y_pred_train), \"\\n\")\n",
    "print(classification_report(y_test, y_pred))"
   ]
  },
  {
   "cell_type": "code",
   "execution_count": 45,
   "metadata": {},
   "outputs": [
    {
     "data": {
      "image/png": "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",
      "text/plain": [
       "<Figure size 1080x360 with 1 Axes>"
      ]
     },
     "metadata": {
      "needs_background": "light"
     },
     "output_type": "display_data"
    }
   ],
   "source": [
    "df_imp = mean_score_decrease(X_train, y_train, model, plot=True, topk=10)"
   ]
  },
  {
   "cell_type": "code",
   "execution_count": 46,
   "metadata": {},
   "outputs": [
    {
     "name": "stdout",
     "output_type": "stream",
     "text": [
      "Fitting 3 folds for each of 100 candidates, totalling 300 fits\n",
      "{'max_depth': 37, 'max_features': 0.6011211362125152, 'min_samples_leaf': 3, 'n_estimators': 145}\n",
      "[[525  65 170]\n",
      " [ 46 565 149]\n",
      " [136 152 472]] \n",
      "\n",
      "              precision    recall  f1-score   support\n",
      "\n",
      "           0       0.84      0.81      0.83      3036\n",
      "           1       0.83      0.88      0.86      3036\n",
      "           2       0.77      0.75      0.76      3036\n",
      "\n",
      "    accuracy                           0.82      9108\n",
      "   macro avg       0.82      0.82      0.82      9108\n",
      "weighted avg       0.82      0.82      0.82      9108\n",
      " \n",
      "\n",
      "              precision    recall  f1-score   support\n",
      "\n",
      "           0       0.74      0.69      0.72       760\n",
      "           1       0.72      0.74      0.73       760\n",
      "           2       0.60      0.62      0.61       760\n",
      "\n",
      "    accuracy                           0.69      2280\n",
      "   macro avg       0.69      0.69      0.69      2280\n",
      "weighted avg       0.69      0.69      0.69      2280\n",
      "\n"
     ]
    }
   ],
   "source": [
    "params = {'n_estimators': Integer(low=100, high=200),\n",
    "'max_depth': Integer(low=20, high=80),\n",
    "'max_features': Real(low=0.1, high=1, prior='uniform'),\n",
    "'min_samples_leaf': Integer(low=1, high=20)}\n",
    "\n",
    "from sklearn.ensemble import RandomForestClassifier\n",
    "from sklearn.model_selection import RandomizedSearchCV\n",
    "from sklearn.metrics import confusion_matrix, classification_report\n",
    "\n",
    "rfc = RandomForestClassifier(n_jobs=-1, random_state=42)\n",
    "\n",
    "from jcopml.tuning import random_search_params as rsp\n",
    "\n",
    "model = RandomizedSearchCV(rfc, params, cv=3, n_iter=100, n_jobs=-1, verbose=1, random_state=42)\n",
    "model.fit(X_train, y_train)\n",
    "\n",
    "print(model.best_params_)\n",
    "\n",
    "y_pred = model.predict(X_test)\n",
    "y_pred_train = model.predict(X_train)\n",
    "\n",
    "print(confusion_matrix(y_test, y_pred), \"\\n\")\n",
    "print(classification_report(y_train, y_pred_train), \"\\n\")\n",
    "print(classification_report(y_test, y_pred))"
   ]
  },
  {
   "cell_type": "code",
   "execution_count": 47,
   "metadata": {},
   "outputs": [
    {
     "data": {
      "image/png": "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",
      "text/plain": [
       "<Figure size 1080x360 with 1 Axes>"
      ]
     },
     "metadata": {
      "needs_background": "light"
     },
     "output_type": "display_data"
    }
   ],
   "source": [
    "df_imp = mean_score_decrease(X_train, y_train, model, plot=True, topk=10)"
   ]
  },
  {
   "cell_type": "markdown",
   "metadata": {},
   "source": [
    "# Reduksi Dimensi"
   ]
  },
  {
   "cell_type": "markdown",
   "metadata": {},
   "source": [
    "### Menggunakan PCA"
   ]
  },
  {
   "cell_type": "code",
   "execution_count": 48,
   "metadata": {},
   "outputs": [
    {
     "data": {
      "text/plain": [
       "(9108,)"
      ]
     },
     "execution_count": 48,
     "metadata": {},
     "output_type": "execute_result"
    }
   ],
   "source": [
    "y_train.shape"
   ]
  },
  {
   "cell_type": "code",
   "execution_count": 49,
   "metadata": {},
   "outputs": [],
   "source": [
    "from sklearn.decomposition import PCA\n",
    "pca = PCA(n_components=12)\n",
    "principalComponents = pca.fit_transform(X_train)\n",
    "principalComponentsTest = pca.fit_transform(X_test)"
   ]
  },
  {
   "cell_type": "code",
   "execution_count": 50,
   "metadata": {},
   "outputs": [
    {
     "data": {
      "text/plain": [
       "(2280, 12)"
      ]
     },
     "execution_count": 50,
     "metadata": {},
     "output_type": "execute_result"
    }
   ],
   "source": [
    "principalComponentsTest.shape"
   ]
  },
  {
   "cell_type": "code",
   "execution_count": 51,
   "metadata": {},
   "outputs": [
    {
     "data": {
      "text/plain": [
       "<Axes: >"
      ]
     },
     "execution_count": 51,
     "metadata": {},
     "output_type": "execute_result"
    },
    {
     "data": {
      "image/png": "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",
      "text/plain": [
       "<Figure size 432x288 with 1 Axes>"
      ]
     },
     "metadata": {
      "needs_background": "light"
     },
     "output_type": "display_data"
    }
   ],
   "source": [
    "variance_ratio = pca.explained_variance_ratio_\n",
    "variance_ratio\n",
    "\n",
    "sns.lineplot(x=range(12), y=variance_ratio)"
   ]
  },
  {
   "cell_type": "code",
   "execution_count": 52,
   "metadata": {},
   "outputs": [
    {
     "name": "stderr",
     "output_type": "stream",
     "text": [
      "D:\\lib\\site-packages\\xgboost\\sklearn.py:1395: UserWarning: `use_label_encoder` is deprecated in 1.7.0.\n",
      "  warnings.warn(\"`use_label_encoder` is deprecated in 1.7.0.\")\n",
      "D:\\lib\\site-packages\\xgboost\\sklearn.py:1395: UserWarning: `use_label_encoder` is deprecated in 1.7.0.\n",
      "  warnings.warn(\"`use_label_encoder` is deprecated in 1.7.0.\")\n"
     ]
    },
    {
     "name": "stdout",
     "output_type": "stream",
     "text": [
      "Fitting 3 folds for each of 100 candidates, totalling 300 fits\n"
     ]
    },
    {
     "name": "stderr",
     "output_type": "stream",
     "text": [
      "D:\\lib\\site-packages\\xgboost\\sklearn.py:1395: UserWarning: `use_label_encoder` is deprecated in 1.7.0.\n",
      "  warnings.warn(\"`use_label_encoder` is deprecated in 1.7.0.\")\n"
     ]
    },
    {
     "name": "stdout",
     "output_type": "stream",
     "text": [
      "{'colsample_bytree': 0.9174392973699884, 'gamma': 3, 'learning_rate': 0.22983221528155043, 'max_depth': 5, 'n_estimators': 143, 'reg_alpha': 0.061820520641258085, 'reg_lambda': 0.16276924772060908, 'subsample': 0.5963483619396968}\n",
      "[[406  99 255]\n",
      " [ 59 412 289]\n",
      " [125 258 377]] \n",
      "\n",
      "              precision    recall  f1-score   support\n",
      "\n",
      "           0       0.81      0.83      0.82      3036\n",
      "           1       0.83      0.87      0.85      3036\n",
      "           2       0.76      0.70      0.73      3036\n",
      "\n",
      "    accuracy                           0.80      9108\n",
      "   macro avg       0.80      0.80      0.80      9108\n",
      "weighted avg       0.80      0.80      0.80      9108\n",
      " \n",
      "\n",
      "              precision    recall  f1-score   support\n",
      "\n",
      "           0       0.69      0.53      0.60       760\n",
      "           1       0.54      0.54      0.54       760\n",
      "           2       0.41      0.50      0.45       760\n",
      "\n",
      "    accuracy                           0.52      2280\n",
      "   macro avg       0.54      0.52      0.53      2280\n",
      "weighted avg       0.54      0.52      0.53      2280\n",
      "\n"
     ]
    }
   ],
   "source": [
    "XGB = XGBClassifier(n_jobs=-1, random_state=42, use_label_encoder=False)\n",
    "\n",
    "model = RandomizedSearchCV(XGB, parameters, cv=3, n_iter=100, n_jobs=-1, verbose=1, random_state=42)\n",
    "model.fit(principalComponents, y_train)\n",
    "\n",
    "print(model.best_params_)\n",
    "y_pred = model.predict(principalComponentsTest)\n",
    "y_pred_train = model.predict(principalComponents)\n",
    "print(confusion_matrix(y_test, y_pred), \"\\n\")\n",
    "print(classification_report(y_train, y_pred_train), \"\\n\")\n",
    "print(classification_report(y_test, y_pred))"
   ]
  },
  {
   "cell_type": "code",
   "execution_count": 54,
   "metadata": {},
   "outputs": [],
   "source": [
    "params = {'n_estimators': Integer(low=100, high=200),\n",
    "'max_depth': Integer(low=20, high=80),\n",
    "'max_features': Real(low=0.1, high=1, prior='uniform'),\n",
    "'min_samples_leaf': Integer(low=1, high=20)}"
   ]
  },
  {
   "cell_type": "code",
   "execution_count": 55,
   "metadata": {},
   "outputs": [
    {
     "name": "stdout",
     "output_type": "stream",
     "text": [
      "Fitting 3 folds for each of 100 candidates, totalling 300 fits\n",
      "{'max_depth': 63, 'max_features': 0.9455490474077703, 'min_samples_leaf': 4, 'n_estimators': 113}\n",
      "[[449 107 204]\n",
      " [ 56 490 214]\n",
      " [135 318 307]] \n",
      "\n",
      "              precision    recall  f1-score   support\n",
      "\n",
      "           0       0.84      0.85      0.85      3036\n",
      "           1       0.86      0.88      0.87      3036\n",
      "           2       0.80      0.77      0.78      3036\n",
      "\n",
      "    accuracy                           0.83      9108\n",
      "   macro avg       0.83      0.83      0.83      9108\n",
      "weighted avg       0.83      0.83      0.83      9108\n",
      " \n",
      "\n",
      "              precision    recall  f1-score   support\n",
      "\n",
      "           0       0.70      0.59      0.64       760\n",
      "           1       0.54      0.64      0.59       760\n",
      "           2       0.42      0.40      0.41       760\n",
      "\n",
      "    accuracy                           0.55      2280\n",
      "   macro avg       0.55      0.55      0.55      2280\n",
      "weighted avg       0.55      0.55      0.55      2280\n",
      "\n"
     ]
    }
   ],
   "source": [
    "from sklearn.ensemble import RandomForestClassifier\n",
    "from sklearn.model_selection import RandomizedSearchCV\n",
    "from sklearn.metrics import confusion_matrix, classification_report\n",
    "\n",
    "rfc = RandomForestClassifier(n_jobs=-1, random_state=42)\n",
    "\n",
    "from jcopml.tuning import random_search_params as rsp\n",
    "\n",
    "model = RandomizedSearchCV(rfc, params, cv=3, n_iter=100, n_jobs=-1, verbose=1, random_state=42)\n",
    "model.fit(principalComponents, y_train)\n",
    "\n",
    "print(model.best_params_)\n",
    "\n",
    "y_pred = model.predict(principalComponentsTest)\n",
    "y_pred_train = model.predict(principalComponents)\n",
    "\n",
    "print(confusion_matrix(y_test, y_pred), \"\\n\")\n",
    "print(classification_report(y_train, y_pred_train), \"\\n\")\n",
    "print(classification_report(y_test, y_pred))"
   ]
  },
  {
   "cell_type": "code",
   "execution_count": 56,
   "metadata": {},
   "outputs": [
    {
     "data": {
      "text/html": [
       "<div>\n",
       "<style scoped>\n",
       "    .dataframe tbody tr th:only-of-type {\n",
       "        vertical-align: middle;\n",
       "    }\n",
       "\n",
       "    .dataframe tbody tr th {\n",
       "        vertical-align: top;\n",
       "    }\n",
       "\n",
       "    .dataframe thead th {\n",
       "        text-align: right;\n",
       "    }\n",
       "</style>\n",
       "<table border=\"1\" class=\"dataframe\">\n",
       "  <thead>\n",
       "    <tr style=\"text-align: right;\">\n",
       "      <th></th>\n",
       "      <th>kelembaban_min</th>\n",
       "      <th>kelembaban_max</th>\n",
       "      <th>suhu_min</th>\n",
       "      <th>suhu_max</th>\n",
       "      <th>1</th>\n",
       "      <th>kelembaban_min kelembaban_max</th>\n",
       "      <th>kelembaban_min suhu_min</th>\n",
       "      <th>kelembaban_min suhu_max</th>\n",
       "      <th>kelembaban_max suhu_min</th>\n",
       "      <th>kelembaban_max suhu_max</th>\n",
       "      <th>...</th>\n",
       "      <th>waktu_Dini Hari</th>\n",
       "      <th>waktu_Malam</th>\n",
       "      <th>waktu_Pagi</th>\n",
       "      <th>waktu_Siang</th>\n",
       "      <th>wilayah_Jakarta Barat</th>\n",
       "      <th>wilayah_Jakarta Pusat</th>\n",
       "      <th>wilayah_Jakarta Selatan</th>\n",
       "      <th>wilayah_Jakarta Timur</th>\n",
       "      <th>wilayah_Jakarta Utara</th>\n",
       "      <th>wilayah_Kepulauan Seribu</th>\n",
       "    </tr>\n",
       "  </thead>\n",
       "  <tbody>\n",
       "    <tr>\n",
       "      <th>0</th>\n",
       "      <td>70.0</td>\n",
       "      <td>100.0</td>\n",
       "      <td>23.0</td>\n",
       "      <td>32.0</td>\n",
       "      <td>1.0</td>\n",
       "      <td>7000.0</td>\n",
       "      <td>1610.0</td>\n",
       "      <td>2240.0</td>\n",
       "      <td>2300.0</td>\n",
       "      <td>3200.0</td>\n",
       "      <td>...</td>\n",
       "      <td>1</td>\n",
       "      <td>0</td>\n",
       "      <td>0</td>\n",
       "      <td>0</td>\n",
       "      <td>0</td>\n",
       "      <td>1</td>\n",
       "      <td>0</td>\n",
       "      <td>0</td>\n",
       "      <td>0</td>\n",
       "      <td>0</td>\n",
       "    </tr>\n",
       "    <tr>\n",
       "      <th>1</th>\n",
       "      <td>60.0</td>\n",
       "      <td>95.0</td>\n",
       "      <td>24.0</td>\n",
       "      <td>33.0</td>\n",
       "      <td>1.0</td>\n",
       "      <td>5700.0</td>\n",
       "      <td>1440.0</td>\n",
       "      <td>1980.0</td>\n",
       "      <td>2280.0</td>\n",
       "      <td>3135.0</td>\n",
       "      <td>...</td>\n",
       "      <td>1</td>\n",
       "      <td>0</td>\n",
       "      <td>0</td>\n",
       "      <td>0</td>\n",
       "      <td>0</td>\n",
       "      <td>0</td>\n",
       "      <td>0</td>\n",
       "      <td>0</td>\n",
       "      <td>0</td>\n",
       "      <td>1</td>\n",
       "    </tr>\n",
       "    <tr>\n",
       "      <th>2</th>\n",
       "      <td>85.0</td>\n",
       "      <td>95.0</td>\n",
       "      <td>23.0</td>\n",
       "      <td>31.0</td>\n",
       "      <td>1.0</td>\n",
       "      <td>8075.0</td>\n",
       "      <td>1955.0</td>\n",
       "      <td>2635.0</td>\n",
       "      <td>2185.0</td>\n",
       "      <td>2945.0</td>\n",
       "      <td>...</td>\n",
       "      <td>0</td>\n",
       "      <td>0</td>\n",
       "      <td>1</td>\n",
       "      <td>0</td>\n",
       "      <td>1</td>\n",
       "      <td>0</td>\n",
       "      <td>0</td>\n",
       "      <td>0</td>\n",
       "      <td>0</td>\n",
       "      <td>0</td>\n",
       "    </tr>\n",
       "    <tr>\n",
       "      <th>3</th>\n",
       "      <td>70.0</td>\n",
       "      <td>90.0</td>\n",
       "      <td>23.0</td>\n",
       "      <td>32.0</td>\n",
       "      <td>1.0</td>\n",
       "      <td>6300.0</td>\n",
       "      <td>1610.0</td>\n",
       "      <td>2240.0</td>\n",
       "      <td>2070.0</td>\n",
       "      <td>2880.0</td>\n",
       "      <td>...</td>\n",
       "      <td>0</td>\n",
       "      <td>0</td>\n",
       "      <td>0</td>\n",
       "      <td>1</td>\n",
       "      <td>0</td>\n",
       "      <td>0</td>\n",
       "      <td>0</td>\n",
       "      <td>0</td>\n",
       "      <td>0</td>\n",
       "      <td>1</td>\n",
       "    </tr>\n",
       "    <tr>\n",
       "      <th>4</th>\n",
       "      <td>70.0</td>\n",
       "      <td>100.0</td>\n",
       "      <td>24.0</td>\n",
       "      <td>32.0</td>\n",
       "      <td>1.0</td>\n",
       "      <td>7000.0</td>\n",
       "      <td>1680.0</td>\n",
       "      <td>2240.0</td>\n",
       "      <td>2400.0</td>\n",
       "      <td>3200.0</td>\n",
       "      <td>...</td>\n",
       "      <td>0</td>\n",
       "      <td>1</td>\n",
       "      <td>0</td>\n",
       "      <td>0</td>\n",
       "      <td>1</td>\n",
       "      <td>0</td>\n",
       "      <td>0</td>\n",
       "      <td>0</td>\n",
       "      <td>0</td>\n",
       "      <td>0</td>\n",
       "    </tr>\n",
       "  </tbody>\n",
       "</table>\n",
       "<p>5 rows × 21 columns</p>\n",
       "</div>"
      ],
      "text/plain": [
       "   kelembaban_min  kelembaban_max  suhu_min  suhu_max    1  \\\n",
       "0            70.0           100.0      23.0      32.0  1.0   \n",
       "1            60.0            95.0      24.0      33.0  1.0   \n",
       "2            85.0            95.0      23.0      31.0  1.0   \n",
       "3            70.0            90.0      23.0      32.0  1.0   \n",
       "4            70.0           100.0      24.0      32.0  1.0   \n",
       "\n",
       "   kelembaban_min kelembaban_max  kelembaban_min suhu_min  \\\n",
       "0                         7000.0                   1610.0   \n",
       "1                         5700.0                   1440.0   \n",
       "2                         8075.0                   1955.0   \n",
       "3                         6300.0                   1610.0   \n",
       "4                         7000.0                   1680.0   \n",
       "\n",
       "   kelembaban_min suhu_max  kelembaban_max suhu_min  kelembaban_max suhu_max  \\\n",
       "0                   2240.0                   2300.0                   3200.0   \n",
       "1                   1980.0                   2280.0                   3135.0   \n",
       "2                   2635.0                   2185.0                   2945.0   \n",
       "3                   2240.0                   2070.0                   2880.0   \n",
       "4                   2240.0                   2400.0                   3200.0   \n",
       "\n",
       "   ...  waktu_Dini Hari  waktu_Malam  waktu_Pagi  waktu_Siang  \\\n",
       "0  ...                1            0           0            0   \n",
       "1  ...                1            0           0            0   \n",
       "2  ...                0            0           1            0   \n",
       "3  ...                0            0           0            1   \n",
       "4  ...                0            1           0            0   \n",
       "\n",
       "   wilayah_Jakarta Barat  wilayah_Jakarta Pusat  wilayah_Jakarta Selatan  \\\n",
       "0                      0                      1                        0   \n",
       "1                      0                      0                        0   \n",
       "2                      1                      0                        0   \n",
       "3                      0                      0                        0   \n",
       "4                      1                      0                        0   \n",
       "\n",
       "   wilayah_Jakarta Timur  wilayah_Jakarta Utara  wilayah_Kepulauan Seribu  \n",
       "0                      0                      0                         0  \n",
       "1                      0                      0                         1  \n",
       "2                      0                      0                         0  \n",
       "3                      0                      0                         1  \n",
       "4                      0                      0                         0  \n",
       "\n",
       "[5 rows x 21 columns]"
      ]
     },
     "execution_count": 56,
     "metadata": {},
     "output_type": "execute_result"
    }
   ],
   "source": [
    "X_train.head()"
   ]
  },
  {
   "cell_type": "markdown",
   "metadata": {},
   "source": [
    "# mencoba fititng dengan menggunakan pipeline dan column transmormer"
   ]
  },
  {
   "cell_type": "code",
   "execution_count": 57,
   "metadata": {},
   "outputs": [
    {
     "data": {
      "text/plain": [
       "((6718, 6), (1680, 6), (6718,), (1680,))"
      ]
     },
     "execution_count": 57,
     "metadata": {},
     "output_type": "execute_result"
    }
   ],
   "source": [
    "X = df.drop(columns=[\"cuaca\"])\n",
    "y = df[\"cuaca\"]\n",
    "\n",
    "X_train, X_test, y_train, y_test = train_test_split(X, y, test_size=0.2, stratify=y, random_state=42)\n",
    "X_train.shape, X_test.shape, y_train.shape, y_test.shape"
   ]
  },
  {
   "cell_type": "code",
   "execution_count": 58,
   "metadata": {},
   "outputs": [
    {
     "data": {
      "text/html": [
       "<div>\n",
       "<style scoped>\n",
       "    .dataframe tbody tr th:only-of-type {\n",
       "        vertical-align: middle;\n",
       "    }\n",
       "\n",
       "    .dataframe tbody tr th {\n",
       "        vertical-align: top;\n",
       "    }\n",
       "\n",
       "    .dataframe thead th {\n",
       "        text-align: right;\n",
       "    }\n",
       "</style>\n",
       "<table border=\"1\" class=\"dataframe\">\n",
       "  <thead>\n",
       "    <tr style=\"text-align: right;\">\n",
       "      <th></th>\n",
       "      <th>wilayah</th>\n",
       "      <th>waktu</th>\n",
       "      <th>kelembaban_min</th>\n",
       "      <th>kelembaban_max</th>\n",
       "      <th>suhu_min</th>\n",
       "      <th>suhu_max</th>\n",
       "    </tr>\n",
       "  </thead>\n",
       "  <tbody>\n",
       "    <tr>\n",
       "      <th>7315</th>\n",
       "      <td>Jakarta Pusat</td>\n",
       "      <td>Dini Hari</td>\n",
       "      <td>70</td>\n",
       "      <td>100</td>\n",
       "      <td>23</td>\n",
       "      <td>32</td>\n",
       "    </tr>\n",
       "    <tr>\n",
       "      <th>5883</th>\n",
       "      <td>Kepulauan Seribu</td>\n",
       "      <td>Dini Hari</td>\n",
       "      <td>60</td>\n",
       "      <td>95</td>\n",
       "      <td>24</td>\n",
       "      <td>33</td>\n",
       "    </tr>\n",
       "    <tr>\n",
       "      <th>7341</th>\n",
       "      <td>Jakarta Barat</td>\n",
       "      <td>Pagi</td>\n",
       "      <td>85</td>\n",
       "      <td>95</td>\n",
       "      <td>23</td>\n",
       "      <td>31</td>\n",
       "    </tr>\n",
       "    <tr>\n",
       "      <th>816</th>\n",
       "      <td>Kepulauan Seribu</td>\n",
       "      <td>Siang</td>\n",
       "      <td>70</td>\n",
       "      <td>90</td>\n",
       "      <td>23</td>\n",
       "      <td>32</td>\n",
       "    </tr>\n",
       "    <tr>\n",
       "      <th>478</th>\n",
       "      <td>Jakarta Barat</td>\n",
       "      <td>Malam</td>\n",
       "      <td>70</td>\n",
       "      <td>100</td>\n",
       "      <td>24</td>\n",
       "      <td>32</td>\n",
       "    </tr>\n",
       "  </tbody>\n",
       "</table>\n",
       "</div>"
      ],
      "text/plain": [
       "               wilayah      waktu  kelembaban_min  kelembaban_max  suhu_min  \\\n",
       "7315     Jakarta Pusat  Dini Hari              70             100        23   \n",
       "5883  Kepulauan Seribu  Dini Hari              60              95        24   \n",
       "7341     Jakarta Barat       Pagi              85              95        23   \n",
       "816   Kepulauan Seribu      Siang              70              90        23   \n",
       "478      Jakarta Barat      Malam              70             100        24   \n",
       "\n",
       "      suhu_max  \n",
       "7315        32  \n",
       "5883        33  \n",
       "7341        31  \n",
       "816         32  \n",
       "478         32  "
      ]
     },
     "execution_count": 58,
     "metadata": {},
     "output_type": "execute_result"
    }
   ],
   "source": [
    "X_train.head()"
   ]
  },
  {
   "cell_type": "code",
   "execution_count": 59,
   "metadata": {},
   "outputs": [],
   "source": [
    "from jcopml.tuning.space import Integer, Real\n",
    "\n",
    "parameter = {'preprocessor__numeric__interaction_only': [True, False],\n",
    "'preprocessor__numeric__degree': Integer(low=1, high=3),\n",
    "'imbalance__k_neighbors': Integer(low=5, high=10),\n",
    "'imbalance__sampling_strategy': ['minority', 'majority', 'not minority', 'not majority'],\n",
    "'algo__max_depth': Integer(low=1, high=10),\n",
    "'algo__learning_rate': Real(low=-2, high=0, prior='log-uniform'),\n",
    "'algo__n_estimators': Integer(low=100, high=200),\n",
    "'algo__subsample': Real(low=0.3, high=0.8, prior='uniform'),\n",
    "'algo__gamma': Integer(low=1, high=10),\n",
    "'algo__colsample_bytree': Real(low=0.1, high=1, prior='uniform'),\n",
    "'algo__reg_alpha': Real(low=-3, high=1, prior='log-uniform'),\n",
    "'algo__reg_lambda': Real(low=-3, high=1, prior='log-uniform'),\n",
    "}"
   ]
  },
  {
   "cell_type": "code",
   "execution_count": 65,
   "metadata": {},
   "outputs": [
    {
     "name": "stdout",
     "output_type": "stream",
     "text": [
      "Fitting 3 folds for each of 100 candidates, totalling 300 fits\n"
     ]
    },
    {
     "name": "stderr",
     "output_type": "stream",
     "text": [
      "D:\\lib\\site-packages\\sklearn\\model_selection\\_validation.py:378: FitFailedWarning: \n",
      "66 fits failed out of a total of 300.\n",
      "The score on these train-test partitions for these parameters will be set to nan.\n",
      "If these failures are not expected, you can try to debug them by setting error_score='raise'.\n",
      "\n",
      "Below are more details about the failures:\n",
      "--------------------------------------------------------------------------------\n",
      "5 fits failed with the following error:\n",
      "Traceback (most recent call last):\n",
      "  File \"D:\\lib\\site-packages\\sklearn\\model_selection\\_validation.py\", line 686, in _fit_and_score\n",
      "    estimator.fit(X_train, y_train, **fit_params)\n",
      "  File \"D:\\lib\\site-packages\\imblearn\\pipeline.py\", line 293, in fit\n",
      "    Xt, yt = self._fit(X, y, **fit_params_steps)\n",
      "  File \"D:\\lib\\site-packages\\imblearn\\pipeline.py\", line 250, in _fit\n",
      "    X, y, fitted_transformer = fit_resample_one_cached(\n",
      "  File \"D:\\lib\\site-packages\\joblib\\memory.py\", line 349, in __call__\n",
      "    return self.func(*args, **kwargs)\n",
      "  File \"D:\\lib\\site-packages\\imblearn\\pipeline.py\", line 422, in _fit_resample_one\n",
      "    X_res, y_res = sampler.fit_resample(X, y, **fit_params)\n",
      "  File \"D:\\lib\\site-packages\\imblearn\\base.py\", line 202, in fit_resample\n",
      "    self._validate_params()\n",
      "  File \"D:\\lib\\site-packages\\sklearn\\base.py\", line 600, in _validate_params\n",
      "    validate_parameter_constraints(\n",
      "  File \"D:\\lib\\site-packages\\sklearn\\utils\\_param_validation.py\", line 97, in validate_parameter_constraints\n",
      "    raise InvalidParameterError(\n",
      "sklearn.utils._param_validation.InvalidParameterError: The 'sampling_strategy' parameter of SMOTE must be a float in the range (0, 1], a str among {'not majority', 'all', 'minority', 'not minority', 'auto'}, an instance of 'collections.abc.Mapping' or a callable. Got 'majority' instead.\n",
      "\n",
      "--------------------------------------------------------------------------------\n",
      "15 fits failed with the following error:\n",
      "Traceback (most recent call last):\n",
      "  File \"D:\\lib\\site-packages\\sklearn\\model_selection\\_validation.py\", line 686, in _fit_and_score\n",
      "    estimator.fit(X_train, y_train, **fit_params)\n",
      "  File \"D:\\lib\\site-packages\\imblearn\\pipeline.py\", line 293, in fit\n",
      "    Xt, yt = self._fit(X, y, **fit_params_steps)\n",
      "  File \"D:\\lib\\site-packages\\imblearn\\pipeline.py\", line 250, in _fit\n",
      "    X, y, fitted_transformer = fit_resample_one_cached(\n",
      "  File \"D:\\lib\\site-packages\\joblib\\memory.py\", line 349, in __call__\n",
      "    return self.func(*args, **kwargs)\n",
      "  File \"D:\\lib\\site-packages\\imblearn\\pipeline.py\", line 422, in _fit_resample_one\n",
      "    X_res, y_res = sampler.fit_resample(X, y, **fit_params)\n",
      "  File \"D:\\lib\\site-packages\\imblearn\\base.py\", line 202, in fit_resample\n",
      "    self._validate_params()\n",
      "  File \"D:\\lib\\site-packages\\sklearn\\base.py\", line 600, in _validate_params\n",
      "    validate_parameter_constraints(\n",
      "  File \"D:\\lib\\site-packages\\sklearn\\utils\\_param_validation.py\", line 97, in validate_parameter_constraints\n",
      "    raise InvalidParameterError(\n",
      "sklearn.utils._param_validation.InvalidParameterError: The 'sampling_strategy' parameter of SMOTE must be a float in the range (0, 1], a str among {'not majority', 'auto', 'not minority', 'all', 'minority'}, an instance of 'collections.abc.Mapping' or a callable. Got 'majority' instead.\n",
      "\n",
      "--------------------------------------------------------------------------------\n",
      "4 fits failed with the following error:\n",
      "Traceback (most recent call last):\n",
      "  File \"D:\\lib\\site-packages\\sklearn\\model_selection\\_validation.py\", line 686, in _fit_and_score\n",
      "    estimator.fit(X_train, y_train, **fit_params)\n",
      "  File \"D:\\lib\\site-packages\\imblearn\\pipeline.py\", line 293, in fit\n",
      "    Xt, yt = self._fit(X, y, **fit_params_steps)\n",
      "  File \"D:\\lib\\site-packages\\imblearn\\pipeline.py\", line 250, in _fit\n",
      "    X, y, fitted_transformer = fit_resample_one_cached(\n",
      "  File \"D:\\lib\\site-packages\\joblib\\memory.py\", line 349, in __call__\n",
      "    return self.func(*args, **kwargs)\n",
      "  File \"D:\\lib\\site-packages\\imblearn\\pipeline.py\", line 422, in _fit_resample_one\n",
      "    X_res, y_res = sampler.fit_resample(X, y, **fit_params)\n",
      "  File \"D:\\lib\\site-packages\\imblearn\\base.py\", line 202, in fit_resample\n",
      "    self._validate_params()\n",
      "  File \"D:\\lib\\site-packages\\sklearn\\base.py\", line 600, in _validate_params\n",
      "    validate_parameter_constraints(\n",
      "  File \"D:\\lib\\site-packages\\sklearn\\utils\\_param_validation.py\", line 97, in validate_parameter_constraints\n",
      "    raise InvalidParameterError(\n",
      "sklearn.utils._param_validation.InvalidParameterError: The 'sampling_strategy' parameter of SMOTE must be a float in the range (0, 1], a str among {'auto', 'minority', 'all', 'not minority', 'not majority'}, an instance of 'collections.abc.Mapping' or a callable. Got 'majority' instead.\n",
      "\n",
      "--------------------------------------------------------------------------------\n",
      "1 fits failed with the following error:\n",
      "Traceback (most recent call last):\n",
      "  File \"D:\\lib\\site-packages\\sklearn\\model_selection\\_validation.py\", line 686, in _fit_and_score\n",
      "    estimator.fit(X_train, y_train, **fit_params)\n",
      "  File \"D:\\lib\\site-packages\\imblearn\\pipeline.py\", line 293, in fit\n",
      "    Xt, yt = self._fit(X, y, **fit_params_steps)\n",
      "  File \"D:\\lib\\site-packages\\imblearn\\pipeline.py\", line 250, in _fit\n",
      "    X, y, fitted_transformer = fit_resample_one_cached(\n",
      "  File \"D:\\lib\\site-packages\\joblib\\memory.py\", line 349, in __call__\n",
      "    return self.func(*args, **kwargs)\n",
      "  File \"D:\\lib\\site-packages\\imblearn\\pipeline.py\", line 422, in _fit_resample_one\n",
      "    X_res, y_res = sampler.fit_resample(X, y, **fit_params)\n",
      "  File \"D:\\lib\\site-packages\\imblearn\\base.py\", line 202, in fit_resample\n",
      "    self._validate_params()\n",
      "  File \"D:\\lib\\site-packages\\sklearn\\base.py\", line 600, in _validate_params\n",
      "    validate_parameter_constraints(\n",
      "  File \"D:\\lib\\site-packages\\sklearn\\utils\\_param_validation.py\", line 97, in validate_parameter_constraints\n",
      "    raise InvalidParameterError(\n",
      "sklearn.utils._param_validation.InvalidParameterError: The 'sampling_strategy' parameter of SMOTE must be a float in the range (0, 1], a str among {'minority', 'not majority', 'auto', 'not minority', 'all'}, an instance of 'collections.abc.Mapping' or a callable. Got 'majority' instead.\n",
      "\n",
      "--------------------------------------------------------------------------------\n",
      "5 fits failed with the following error:\n",
      "Traceback (most recent call last):\n",
      "  File \"D:\\lib\\site-packages\\sklearn\\model_selection\\_validation.py\", line 686, in _fit_and_score\n",
      "    estimator.fit(X_train, y_train, **fit_params)\n",
      "  File \"D:\\lib\\site-packages\\imblearn\\pipeline.py\", line 293, in fit\n",
      "    Xt, yt = self._fit(X, y, **fit_params_steps)\n",
      "  File \"D:\\lib\\site-packages\\imblearn\\pipeline.py\", line 250, in _fit\n",
      "    X, y, fitted_transformer = fit_resample_one_cached(\n",
      "  File \"D:\\lib\\site-packages\\joblib\\memory.py\", line 349, in __call__\n",
      "    return self.func(*args, **kwargs)\n",
      "  File \"D:\\lib\\site-packages\\imblearn\\pipeline.py\", line 422, in _fit_resample_one\n",
      "    X_res, y_res = sampler.fit_resample(X, y, **fit_params)\n",
      "  File \"D:\\lib\\site-packages\\imblearn\\base.py\", line 202, in fit_resample\n",
      "    self._validate_params()\n",
      "  File \"D:\\lib\\site-packages\\sklearn\\base.py\", line 600, in _validate_params\n",
      "    validate_parameter_constraints(\n",
      "  File \"D:\\lib\\site-packages\\sklearn\\utils\\_param_validation.py\", line 97, in validate_parameter_constraints\n",
      "    raise InvalidParameterError(\n",
      "sklearn.utils._param_validation.InvalidParameterError: The 'sampling_strategy' parameter of SMOTE must be a float in the range (0, 1], a str among {'not majority', 'auto', 'minority', 'not minority', 'all'}, an instance of 'collections.abc.Mapping' or a callable. Got 'majority' instead.\n",
      "\n",
      "--------------------------------------------------------------------------------\n",
      "9 fits failed with the following error:\n",
      "Traceback (most recent call last):\n",
      "  File \"D:\\lib\\site-packages\\sklearn\\model_selection\\_validation.py\", line 686, in _fit_and_score\n",
      "    estimator.fit(X_train, y_train, **fit_params)\n",
      "  File \"D:\\lib\\site-packages\\imblearn\\pipeline.py\", line 293, in fit\n",
      "    Xt, yt = self._fit(X, y, **fit_params_steps)\n",
      "  File \"D:\\lib\\site-packages\\imblearn\\pipeline.py\", line 250, in _fit\n",
      "    X, y, fitted_transformer = fit_resample_one_cached(\n",
      "  File \"D:\\lib\\site-packages\\joblib\\memory.py\", line 349, in __call__\n",
      "    return self.func(*args, **kwargs)\n",
      "  File \"D:\\lib\\site-packages\\imblearn\\pipeline.py\", line 422, in _fit_resample_one\n",
      "    X_res, y_res = sampler.fit_resample(X, y, **fit_params)\n",
      "  File \"D:\\lib\\site-packages\\imblearn\\base.py\", line 202, in fit_resample\n",
      "    self._validate_params()\n",
      "  File \"D:\\lib\\site-packages\\sklearn\\base.py\", line 600, in _validate_params\n",
      "    validate_parameter_constraints(\n",
      "  File \"D:\\lib\\site-packages\\sklearn\\utils\\_param_validation.py\", line 97, in validate_parameter_constraints\n",
      "    raise InvalidParameterError(\n",
      "sklearn.utils._param_validation.InvalidParameterError: The 'sampling_strategy' parameter of SMOTE must be a float in the range (0, 1], a str among {'auto', 'minority', 'all', 'not majority', 'not minority'}, an instance of 'collections.abc.Mapping' or a callable. Got 'majority' instead.\n",
      "\n",
      "--------------------------------------------------------------------------------\n",
      "6 fits failed with the following error:\n",
      "Traceback (most recent call last):\n",
      "  File \"D:\\lib\\site-packages\\sklearn\\model_selection\\_validation.py\", line 686, in _fit_and_score\n",
      "    estimator.fit(X_train, y_train, **fit_params)\n",
      "  File \"D:\\lib\\site-packages\\imblearn\\pipeline.py\", line 293, in fit\n",
      "    Xt, yt = self._fit(X, y, **fit_params_steps)\n",
      "  File \"D:\\lib\\site-packages\\imblearn\\pipeline.py\", line 250, in _fit\n",
      "    X, y, fitted_transformer = fit_resample_one_cached(\n",
      "  File \"D:\\lib\\site-packages\\joblib\\memory.py\", line 349, in __call__\n",
      "    return self.func(*args, **kwargs)\n",
      "  File \"D:\\lib\\site-packages\\imblearn\\pipeline.py\", line 422, in _fit_resample_one\n",
      "    X_res, y_res = sampler.fit_resample(X, y, **fit_params)\n",
      "  File \"D:\\lib\\site-packages\\imblearn\\base.py\", line 202, in fit_resample\n",
      "    self._validate_params()\n",
      "  File \"D:\\lib\\site-packages\\sklearn\\base.py\", line 600, in _validate_params\n",
      "    validate_parameter_constraints(\n",
      "  File \"D:\\lib\\site-packages\\sklearn\\utils\\_param_validation.py\", line 97, in validate_parameter_constraints\n",
      "    raise InvalidParameterError(\n",
      "sklearn.utils._param_validation.InvalidParameterError: The 'sampling_strategy' parameter of SMOTE must be a float in the range (0, 1], a str among {'all', 'minority', 'not minority', 'not majority', 'auto'}, an instance of 'collections.abc.Mapping' or a callable. Got 'majority' instead.\n",
      "\n",
      "--------------------------------------------------------------------------------\n",
      "12 fits failed with the following error:\n",
      "Traceback (most recent call last):\n",
      "  File \"D:\\lib\\site-packages\\sklearn\\model_selection\\_validation.py\", line 686, in _fit_and_score\n",
      "    estimator.fit(X_train, y_train, **fit_params)\n",
      "  File \"D:\\lib\\site-packages\\imblearn\\pipeline.py\", line 293, in fit\n",
      "    Xt, yt = self._fit(X, y, **fit_params_steps)\n",
      "  File \"D:\\lib\\site-packages\\imblearn\\pipeline.py\", line 250, in _fit\n",
      "    X, y, fitted_transformer = fit_resample_one_cached(\n",
      "  File \"D:\\lib\\site-packages\\joblib\\memory.py\", line 349, in __call__\n",
      "    return self.func(*args, **kwargs)\n",
      "  File \"D:\\lib\\site-packages\\imblearn\\pipeline.py\", line 422, in _fit_resample_one\n",
      "    X_res, y_res = sampler.fit_resample(X, y, **fit_params)\n",
      "  File \"D:\\lib\\site-packages\\imblearn\\base.py\", line 202, in fit_resample\n",
      "    self._validate_params()\n",
      "  File \"D:\\lib\\site-packages\\sklearn\\base.py\", line 600, in _validate_params\n",
      "    validate_parameter_constraints(\n",
      "  File \"D:\\lib\\site-packages\\sklearn\\utils\\_param_validation.py\", line 97, in validate_parameter_constraints\n",
      "    raise InvalidParameterError(\n",
      "sklearn.utils._param_validation.InvalidParameterError: The 'sampling_strategy' parameter of SMOTE must be a float in the range (0, 1], a str among {'auto', 'all', 'not majority', 'minority', 'not minority'}, an instance of 'collections.abc.Mapping' or a callable. Got 'majority' instead.\n",
      "\n",
      "--------------------------------------------------------------------------------\n",
      "6 fits failed with the following error:\n",
      "Traceback (most recent call last):\n",
      "  File \"D:\\lib\\site-packages\\sklearn\\model_selection\\_validation.py\", line 686, in _fit_and_score\n",
      "    estimator.fit(X_train, y_train, **fit_params)\n",
      "  File \"D:\\lib\\site-packages\\imblearn\\pipeline.py\", line 293, in fit\n",
      "    Xt, yt = self._fit(X, y, **fit_params_steps)\n",
      "  File \"D:\\lib\\site-packages\\imblearn\\pipeline.py\", line 250, in _fit\n",
      "    X, y, fitted_transformer = fit_resample_one_cached(\n",
      "  File \"D:\\lib\\site-packages\\joblib\\memory.py\", line 349, in __call__\n",
      "    return self.func(*args, **kwargs)\n",
      "  File \"D:\\lib\\site-packages\\imblearn\\pipeline.py\", line 422, in _fit_resample_one\n",
      "    X_res, y_res = sampler.fit_resample(X, y, **fit_params)\n",
      "  File \"D:\\lib\\site-packages\\imblearn\\base.py\", line 202, in fit_resample\n",
      "    self._validate_params()\n",
      "  File \"D:\\lib\\site-packages\\sklearn\\base.py\", line 600, in _validate_params\n",
      "    validate_parameter_constraints(\n",
      "  File \"D:\\lib\\site-packages\\sklearn\\utils\\_param_validation.py\", line 97, in validate_parameter_constraints\n",
      "    raise InvalidParameterError(\n",
      "sklearn.utils._param_validation.InvalidParameterError: The 'sampling_strategy' parameter of SMOTE must be a float in the range (0, 1], a str among {'all', 'not majority', 'not minority', 'minority', 'auto'}, an instance of 'collections.abc.Mapping' or a callable. Got 'majority' instead.\n",
      "\n",
      "--------------------------------------------------------------------------------\n",
      "3 fits failed with the following error:\n",
      "Traceback (most recent call last):\n",
      "  File \"D:\\lib\\site-packages\\sklearn\\model_selection\\_validation.py\", line 686, in _fit_and_score\n",
      "    estimator.fit(X_train, y_train, **fit_params)\n",
      "  File \"D:\\lib\\site-packages\\imblearn\\pipeline.py\", line 293, in fit\n",
      "    Xt, yt = self._fit(X, y, **fit_params_steps)\n",
      "  File \"D:\\lib\\site-packages\\imblearn\\pipeline.py\", line 250, in _fit\n",
      "    X, y, fitted_transformer = fit_resample_one_cached(\n",
      "  File \"D:\\lib\\site-packages\\joblib\\memory.py\", line 349, in __call__\n",
      "    return self.func(*args, **kwargs)\n",
      "  File \"D:\\lib\\site-packages\\imblearn\\pipeline.py\", line 422, in _fit_resample_one\n",
      "    X_res, y_res = sampler.fit_resample(X, y, **fit_params)\n",
      "  File \"D:\\lib\\site-packages\\imblearn\\base.py\", line 202, in fit_resample\n",
      "    self._validate_params()\n",
      "  File \"D:\\lib\\site-packages\\sklearn\\base.py\", line 600, in _validate_params\n",
      "    validate_parameter_constraints(\n",
      "  File \"D:\\lib\\site-packages\\sklearn\\utils\\_param_validation.py\", line 97, in validate_parameter_constraints\n",
      "    raise InvalidParameterError(\n",
      "sklearn.utils._param_validation.InvalidParameterError: The 'sampling_strategy' parameter of SMOTE must be a float in the range (0, 1], a str among {'not minority', 'not majority', 'minority', 'all', 'auto'}, an instance of 'collections.abc.Mapping' or a callable. Got 'majority' instead.\n",
      "\n",
      "  warnings.warn(some_fits_failed_message, FitFailedWarning)\n",
      "D:\\lib\\site-packages\\sklearn\\model_selection\\_search.py:952: UserWarning: One or more of the test scores are non-finite: [0.65704223 0.65629845        nan 0.65600077        nan 0.63798983\n",
      " 0.64989678 0.66121103 0.64796233 0.65034434 0.65347014 0.65034394\n",
      " 0.64185927 0.64096595 0.63947759 0.65183277 0.64811107 0.6460274\n",
      " 0.65391737 0.64230564 0.64617562        nan        nan 0.64290134\n",
      " 0.65689322        nan 0.65614911        nan        nan 0.66091354\n",
      " 0.65644759 0.65734052 0.65198204 0.659722          nan        nan\n",
      " 0.65034441 0.64513455 0.65778628        nan        nan 0.64781285\n",
      "        nan 0.65778668 0.6443901  0.63917971 0.63977521 0.65079064\n",
      " 0.65257742 0.64260339 0.65094044 0.64230723 0.65451194 0.64602807\n",
      "        nan 0.64364592 0.64275306 0.6507913  0.6528743  0.64215729\n",
      " 0.65614997 0.65019507 0.65272516        nan 0.65213059 0.65585089\n",
      "        nan 0.65480969 0.65614931        nan        nan 0.6443899\n",
      " 0.65138614 0.64141311 0.6396264  0.64260385 0.65242894 0.65242834\n",
      " 0.6543628  0.6570429  0.64215723        nan 0.64200782 0.65227893\n",
      "        nan 0.65317279 0.6412643         nan 0.6528739  0.64051972\n",
      " 0.65406524 0.6528743         nan 0.65302331 0.64170973 0.63679836\n",
      "        nan 0.64409361 0.65748926 0.65510691]\n",
      "  warnings.warn(\n"
     ]
    },
    {
     "name": "stdout",
     "output_type": "stream",
     "text": [
      "[13:19:14] WARNING: C:\\buildkite-agent\\builds\\buildkite-windows-cpu-autoscaling-group-i-07593ffd91cd9da33-1\\xgboost\\xgboost-ci-windows\\src\\learner.cc:767: \n",
      "Parameters: { \"max_features\", \"min_samples_leaf\" } are not used.\n",
      "\n",
      "{'algo__max_depth': 77, 'algo__max_features': 0.3741523922560337, 'algo__min_samples_leaf': 2, 'algo__n_estimators': 183, 'imbalance__k_neighbors': 8, 'imbalance__sampling_strategy': 'not minority', 'preprocessor__numeric__degree': 3, 'preprocessor__numeric__interaction_only': False}\n",
      "[[553  42 165]\n",
      " [ 45 183 113]\n",
      " [146  72 361]] \n",
      "\n",
      "              precision    recall  f1-score   support\n",
      "\n",
      "           0       0.86      0.87      0.86      3036\n",
      "           1       0.83      0.77      0.80      1365\n",
      "           2       0.78      0.80      0.79      2317\n",
      "\n",
      "    accuracy                           0.82      6718\n",
      "   macro avg       0.82      0.81      0.82      6718\n",
      "weighted avg       0.82      0.82      0.82      6718\n",
      " \n",
      "\n",
      "              precision    recall  f1-score   support\n",
      "\n",
      "           0       0.74      0.73      0.74       760\n",
      "           1       0.62      0.54      0.57       341\n",
      "           2       0.56      0.62      0.59       579\n",
      "\n",
      "    accuracy                           0.65      1680\n",
      "   macro avg       0.64      0.63      0.63      1680\n",
      "weighted avg       0.66      0.65      0.65      1680\n",
      "\n"
     ]
    }
   ],
   "source": [
    "from sklearn.pipeline import Pipeline\n",
    "from sklearn.compose import ColumnTransformer\n",
    "from sklearn.preprocessing import OneHotEncoder\n",
    "from sklearn.preprocessing import PolynomialFeatures\n",
    "from imblearn.pipeline import Pipeline as ImbPipeline\n",
    "from sklearn.metrics import confusion_matrix, classification_report\n",
    "from imblearn.over_sampling import SMOTE \n",
    "\n",
    "preprocessor = ColumnTransformer([\n",
    "    ('numeric', PolynomialFeatures(degree=2), [\"kelembaban_min\", \"kelembaban_max\", \"suhu_min\", \"suhu_max\"]),\n",
    "    ('categoric', OneHotEncoder(), [\"wilayah\", \"waktu\"]),\n",
    "])\n",
    "\n",
    "from xgboost import XGBClassifier\n",
    "pipeline = ImbPipeline([\n",
    "    ('preprocessor', preprocessor),\n",
    "    ('imbalance', SMOTE(random_state=42)),\n",
    "    ('algo', XGBClassifier(n_jobs=-1, random_state=42))\n",
    "])\n",
    "\n",
    "\n",
    "from sklearn.model_selection import RandomizedSearchCV\n",
    "\n",
    "model = RandomizedSearchCV(pipeline, parameter, cv=3, n_iter=100, n_jobs=-1, verbose=1, random_state=42)\n",
    "model.fit(X_train, y_train);\n",
    "\n",
    "print(model.best_params_);\n",
    "\n",
    "y_pred = model.predict(X_test)\n",
    "y_pred_train = model.predict(X_train)\n",
    "\n",
    "print(confusion_matrix(y_test, y_pred), \"\\n\")\n",
    "print(classification_report(y_train, y_pred_train), \"\\n\")\n",
    "print(classification_report(y_test, y_pred))"
   ]
  },
  {
   "cell_type": "code",
   "execution_count": 61,
   "metadata": {},
   "outputs": [
    {
     "data": {
      "image/png": "iVBORw0KGgoAAAANSUhEUgAAA34AAAF8CAYAAACQfmk2AAAAOXRFWHRTb2Z0d2FyZQBNYXRwbG90bGliIHZlcnNpb24zLjcuMSwgaHR0cHM6Ly9tYXRwbG90bGliLm9yZy/bCgiHAAAACXBIWXMAAAsTAAALEwEAmpwYAAA1SUlEQVR4nO3de7xt9bz/8de73b1ItPE73ZFLjogtznFphy6iwgmh7E2US5TcImrJyf2eSCptHUfHXRTJZbsetFOKiCQqHJStC90/vz++Y2W22pe1teaae4/1ej4e87HWHGPMOT9rrbHmHO/x/Y7vN1WFJEmSJKm/Vht1AZIkSZKk4TL4SZIkSVLPGfwkSZIkqecMfpIkSZLUcwY/SZIkSeo5g58kSZIk9ZzBT5IkSZJ6zuAnSVqmJCcmqSTHL2HdW7t1XxxFbRMleWCSzyf5Q5Jrk/w2yaeTbD7q2iZKMrf73VWSm5NcmeTcJO9NsuWo65Mk9YvBT5I0GZcAT0uy3viCJKsDzwZ+O7KqBiSZDXwNuBp4AnBfYB/gV8Adh/i6a97Op7g/8C/Ag4E3dF/PS7L97a1tWZKsMcznlyStXAx+kqTJOBf4JfC0gWVPAK4FFk7cOMlzkpzftbr9IsnLkqw2sP7grnXrmiSXJTkuyZ0G1s9PcnWSxyb5SbfdN5bTEvYIYEPgOVV1VlVdXFXfrKpXVdV5A8/9L0k+luTyJH9Lck6SHQbW75/kwiTXd1+fP+FnqyQvTvKZJNcAb+qW75bkrO5n/nWSIycZCv9YVX+oqgur6tPAXOBs4IQkswZed5nPn2TNJG9K8psk1yW5KMlLu3XjrYu7JvlhkuuBndO8Ksmvkvw9yXlJ9p7w874lyQXd+ouTvC3J2gPrN+1aWa/ofp8/T7LXwPqNk5yc5C/d7dQkW03i9yJJmkIGP0nSZB0PPHfg/nOBjwA1uFEXlN4EHAbcD3g58GrgRQOb3QwcRGvteiawHXDUhNdbC3hN9zr/BtwJOGYZ9f2B9rm2Z5IsaYOuxfKbwBbAk4AHAEcMrH8y8H7gPcC/Au8FPpBktwlPdThwWvf4o5PsDHyse+z9u5r37H4PK6SqbgLeDdwD2LarazLPv4DWAnsw7fe+L7B4wtO/FXgdrTX0B8B/dtu9GNgaeDPwoSRPGHjMNd3r3Y/2N9wLOHRg/QeAdYEdutoOGn/dJOsC36CdINie9nf8PfDVbp0kabpUlTdv3rx587bUG3Ai8EVaa9rfga2AuwPXAZuNrx/Y/rfAPhOe4yDg/GW8xi7d863W3Z9PC5T3GdjmWd02WcbzHAncAPwF+ArwWmDzgfXPB64CNlrK478LnLCEn/87A/cLOGrCNt8CXj9h2ZNo3U6XWC+tZa+WVAstmBXwtMk8f/c3KWCX5bzWfwwsW6/7ez5qwrbvAU5bxu/4BcCFA/fPBQ5fyrbPpbUUZ2DZLODy8Z/Nmzdv3rxNz231JaZBSZImqKq/JPks7WB+MbCwqn472LjWXWe3Ka3V6IMDD1+dFlDGt3sMrTXvfsAGtDCwJi1Q/q7b7LqqumDgOX7XbbMhcMVSajw0ybuAxwAPp7VmHZpk96r6Gq0F7dyq+vNSfsz7ASdMWPYdYPcJyxZNuP8QYLskrx5YthqwTvcz/X4pr7c047+r8dbU5T3/trRW1G8s53kH694aWBv4cpLBVts1gItvKSTZkxbc7wWsT/tbzRrY/r3AMUl2oV1j+dmqOmug7i2BqyY0wq4L3HM5tUqSppDBT5K0Ik6gdSm8mtaVc6LxSwheAHxvSU+QNsLmqcCHu+e4nDagycdpwW7cjRMeOh5OlnmZQlVdDnwS+GSS19Cul3s9LZT8s2rC/Wsm3F+NNjDLJ5fw2D/9E6+3dff1oil+/sG6x3+Pu3HbAXpuAEjycODk7rVfRgv8uwPvGN+wqo5PcjqwK/A44HtJ3lxVY91rnEPrHjrREsO7JGk4DH6SpBXxNeB6YCPgcxNXVtX/JfkdcM+q+uhSnmMOLeC9rNr1bCR54jCKrarrk/yKNmomtBC4T5KNltLq9zPaIDGDU1c8Ejh/OS/1I+C+VXXh7a25G9DlINpopOdM5vmTnEMLWTsAX57kS51P6zq7eVV9fSnbPAK4rKreOPBat5kao6ouBY4Fju1aJQ8Exrq6nwH8uaoWT7IuSdIQGPwkSZNWVZVkG9o1W9ctZbPDgaOSLKYNgLIGrUVv46p6M+2ar9WAg5J8htYl86DbW1sXHveitVD9gtZdcjdaS9Th3Wb/DRwCfD7JIcBltEFcrqqqbwBvp7UUnkW7RnAX2rWFT1nOyx8BfDHJb4BP0For/xXYrqpetZzH3jVtaoz1gW1oLWvbAruOB+PlPX9V/SLJJ4DjkhxIC1ybAFtU1UlLetGquirJO4B3dIPhfKur4eHAzVV1bPd73DjJs4D/BXamBblbJHkv8KVu2zt2v7PxoPwx4BW03/dhtJbFTYE9gGOq6pfL+d1IkqaIo3pKklZIVV1VVVcuY/1xtOsA9wF+DHwb2A/4dbf+XFqL0MG0gPA8Wji4vc6ndUF9B61l74fA3t1zv6l77Wtoo0teCnwB+AmtG2N16z8HvIQWvs7v6nxRVX1hWS9cVafTprfYoXvdH9IC5mTmOPwp7RrAs2kB72xgm6r61go+/7NpwfZ9wM9pg9JssJzXfj2tZe4VXR1nAP/BP/5WX6CF4ffQBnHZkdt28V2NNiLr+d3j/w+Y1z3+b8CjaV1WP9nVtYB2neZfllObJGkKpWriZQuSJEmSpD6xxU+SJEmSes7gJ0mSJEk9Z/CTJEmSpJ4z+EmSJElSzxn8JEmSJKnnejOP30YbbVRbbLHFqMuQJEmSpJE466yz/lxVs5e0rjfBb4sttmDRokWjLkOSJEmSRiLJb5a2zq6ekiRJktRzBj9JkiRJ6jmDnyRJkiT1nMFPkiRJknrO4CdJkiRJPWfwkyRJkqSeM/hJkiRJUs8Z/CRJkiSp5wx+kiRJktRzBj9JkiRJ6jmDnyRJkiT1nMFPyzQ2NkaS5d7GxsZGXaokSZKkpUhVjbqGKTFnzpxatGjRqMvovblz5wKwcOHCkdYhSZIk6daSnFVVc5a0zhY/SZIkSeo5g58kSZIk9ZzBT5IkSZJ6bvVRF9B36du1cIsXA/36uaq7blGSJEnqK1v8JEmSJKnnDH6SJEmS1HMGP0mSJEnqOYOfJEmSJPWcg7to2U48ERYsuO3yHXa49f1582D+/OmoSJIkSdIKMvhp2ebPN9BJkiRJqzi7ekqSJElSzxn8JE3K2NgYSZZ7GxsbG3WpkiRJmiBVNeoapsScOXNq0aJFoy7jNvo00XlfOYH7P2du93tb6D4uSZK0UkhyVlXNWdI6W/wkSZIkqecMfpIkSZLUc47qKU2jXnX9XbwY6NnPhF1/JUlSP9niJ0mSJEk9Z/CTJEmSpJ4z+EmSJElSz3mNn6TJOfFEWLDgtst32OHW9+fNg/nzp6MiSZIkTZLBT9LkzJ9voJMkSVpF2dVTkiRJknrO4CdJkiRJPWfwkyRJkqSeM/hJkiRJUs8Z/CRJkiSp5wx+kiRJktRzBj9JkiRJ6jmDnyRJkiT13FCDX5JdklyQ5MIkhyxh/cFJzk9ybpKvJdl8YN28JL/sbvOGWackSZIk9dnQgl+SWcDRwOOBrYFnJNl6wmZnA3OqahvgU8DbusfeGTgceBiwHXB4kg2HVaskSZIk9dkwW/y2Ay6sqouq6nrgZGCPwQ2q6htV9bfu7veBTbrvdwbOqKorquovwBnALkOsVZIkSZJ6a5jBb2PgkoH7l3bLlmZf4Ev/5GMlSZIkSUux+qgLAEiyNzAH2H4FH7cfsB/AZpttNoTKJEmSJGnVN8wWv8uATQfub9Itu5UkjwMOBXavqutW5LFVdWxVzamqObNnz56ywiVJkiSpT4YZ/M4EtkqyZZI1gb2AUwY3SLIt8CFa6PvjwKrTgZ2SbNgN6rJTt0ySJEmStIKG1tWzqm5McgAtsM0CTqiqnyY5AlhUVacAbwfWBz6ZBOC3VbV7VV2R5I208AhwRFVdMaxaJUmSJKnPhnqNX1WdBpw2YdlhA98/bhmPPQE4YXjVSZIkSdLMMNQJ3CVJkiRJo2fwkyRJkqSeM/hJkiRJUs8Z/CRJkiSp5wx+kiRJktRzBj9JkiRJ6jmDnyRJkiT1nMFPkiRJknrO4CdJkiRJPWfwkyRJkqSeM/hJkiRJUs8Z/CRJkiSp5wx+kiRJktRzBj9JkiRJ6jmDnyRJkiT1nMFPkiRJknrO4CdJkiRJPWfwkyRJkqSeM/hJkiRJUs8Z/CRJkiSp5wx+kiRJktRzBj9JkiRJ6jmDnyRJkiT1nMFPkiRJknrO4CdJkiRJPWfwkyRJkqSeM/hJkiRJUs8Z/CRJkiSp5wx+kiRJktRzBj9JkiRJ6jmDnyRJkiT1nMFPkiRJknrO4CdJkiRJPWfwkyRJkqSeM/hJkiRJUs8Z/CRJkiSp5wx+kiRJktRzBj9JkiRJ6jmDnyRJkiT1nMFPkiRJknrO4CdJkiRJPWfwkyRJkqSeM/hJkiRJUs8Z/CRJkiSp5wx+kiRJktRzBj9JkiRJ6jmDnyRJkiT13FCDX5JdklyQ5MIkhyxh/aOT/CjJjUn2nLDupiTndLdThlmnJEmSJPXZ6sN64iSzgKOBHYFLgTOTnFJV5w9s9ltgPvCKJTzF36vqQcOqT5IkSZJmiqEFP2A74MKqugggycnAHsAtwa+qLu7W3TzEOiRJkiRpRhtmV8+NgUsG7l/aLZustZMsSvL9JE+a0sokSZIkaQYZZovf7bV5VV2W5B7A15OcV1W/GtwgyX7AfgCbbbbZKGqUJEmSpJXeMFv8LgM2Hbi/SbdsUqrqsu7rRcBCYNslbHNsVc2pqjmzZ8++fdVKkiRJUk8NM/idCWyVZMskawJ7AZManTPJhknW6r7fCHgEA9cGSpIkSZImb2jBr6puBA4ATgd+Bnyiqn6a5IgkuwMkeWiSS4GnAh9K8tPu4fcDFiX5MfAN4C0TRgOVJEmSJE3SUK/xq6rTgNMmLDts4PszaV1AJz7ue8ADhlmbJEmSJM0UQ53AXZIkSZI0epMOfkk2T/K47vt1ktxheGVJkiRJkqbKpIJfkucDnwI+1C3aBPjckGqSJEmSJE2hybb4vZg2suaVAFX1S+CuwypKkiRJkjR1Jhv8rquq68fvJFkdqOGUJEmSJEmaSpMNft9M8lpgnSQ7Ap8EvjC8siRJkiRJU2Wywe8Q4E/AecD+tCkaXjesoiRJkiRJU2ey8/itA5xQVR8GSDKrW/a3YRUmSZIkSZoak23x+xot6I1bB/jq1JcjSZIkSZpqkw1+a1fV1eN3uu/XHU5JkqSV2djYGEmWexsbGxt1qZIkqTPZ4HdNkgeP30nyEODvwylJkrQyGxsbo6puuW2//fZsv/32t1pWVQa/GcITAZK0apjsNX4HAZ9M8jsgwN2Bpw+rKEmStGoYGxu7VaibO3cuAAsXLhxJPZKkJZtU8KuqM5PcF7hPt+iCqrpheGVJkiRJkqbKZFv8AB4KbNE95sFJqKqPDqUqSeq59Kk1ZPFioGc/E1Bdy5UkSX0wqeCX5CTgnsA5wE3d4gIMfpIkSZK0kptsi98cYOuqqmEWI0nSTNO3ltI+tgDb+iupDyY7qudPaAO6SJIkSZJWMZNt8dsIOD/JD4HrxhdW1e5DqUqStPI68URYsOC2y3fY4db3582D+fOnoyJJkrQckw1+Y8MsQpK0Cpk/30AnSdIqZrLTOXxz2IVIkqRVkC3AkrRKmOyong8HjgLuB6wJzAKuqao7DrE2SZK0srMFWJJWCZMd3OX9wDOAXwLrAM8Djh5WUZIkSZKkqTPZ4EdVXQjMqqqbquojwC7DK0uSJEmSNFUmO7jL35KsCZyT5G3A71mB0ChJkiRJGp3Jhrd9um0PAK4BNgWeMqyiJEmSJElTZ7LB70lVdW1VXVlVb6iqg4EnDrMwSZIkSdLUmGzwm7eEZfOnsA5JkiRJ0pAs8xq/JM8AngncI8kpA6vuAFwxzMIkSZIkSVNjeYO7fI82kMtGwDsHll8FnDusoiRJkiRJU2eZwa+qfpPkUuDaqvrmNNUkSZIkSZpCy73Gr6puAm5OssE01CNJkiRJmmKTncfvauC8JGfQpnMAoKpeOpSqJEmSJElTZrLB7zPdTZIkSZK0iplU8KuqBUnWBO7dLbqgqm4YXlmSJEmSpKkyqeCXZC6wALgYCLBpknlV9a2hVSZJkiRJmhKT7er5TmCnqroAIMm9gY8DDxlWYZIkSZKkqbHcUT07a4yHPoCq+gWwxnBKkiRJkiRNpcm2+C1KchzwX939ZwGLhlOSJEmSJGkqTTb4vRB4MTA+fcO3gQ8MpSJJkiRJ0pSaVFfPqroOeD/wBuBw4OhumSRJksTY2BhJlnsbGxsbdanSjDTZUT2fABwD/Io2queWSfavqi8NszhJkiStGsbGxm4V6ubOnQvAwoULR1KPpFtbkVE9d6iqCwGS3BM4FTD4SZIkSdJKbrLB76rx0Ne5CLhqCPVIkiTNSOlby9jixUC/fq7qWjGlVdGKjOp5GvAJoICnAmcmeQpAVX1mSPVJkiRJkm6nyQa/tYH/A7bv7v8JWAfYjRYEDX6SJEmStJKaVPCrqucMuxBJkiStwk48ERYsuO3yHXa49f1582D+/OmoSNKAyY7quSXwEmCLwcdU1e7DKUuSJEmrlPnzDXTSSmxS8/gBnwMuBo6ijfA5flumJLskuSDJhUkOWcL6Ryf5UZIbk+w5Yd28JL/sbvMmWackSZIkaYLJXuN3bVW9b0WeOMks4GhgR+BS2mAwp1TV+QOb/RaYD7xiwmPvTJsofg7tGsKzusf+ZUVqkCRJkiRNPvi9N8nhwFeA68YXVtWPlvGY7YALq+oigCQnA3sAtwS/qrq4W3fzhMfuDJxRVVd0688AdgE+Psl6JUmSJEmdyQa/BwD7AI8BxkNadfeXZmPgkoH7lwIPm+TrLemxG0/ysZIkSZKkAZMNfk8F7lFV1w+zmBWVZD9gP4DNNttsxNVIkiRJ0sppsoO7/AS40wo+92XApgP3N+mWTdljq+rYqppTVXNmz569guVJkiRJ0sww2Ra/OwE/T3Imt77Gb1nTOZwJbNVNBXEZsBfwzEm+3unAm5Js2N3fCXjNJB8rSZIkSRow2eB3+Io+cVXdmOQAWoibBZxQVT9NcgSwqKpOSfJQ4LPAhsBuSd5QVfevqiuSvJEWHgGOGB/oRZIkSZK0YiYV/Krqm//Mk1fVacBpE5YdNvD9mbRunEt67AnACf/M60qSJEmS/mGZwS/Jd6rqkUmuoo3iecsqoKrqjkOtTpIkSZJ0uy1zcJeqemT39Q5VdceB2x0MfZIkSZImGhsbI8lyb2NjY6MudUaZ7DV+kiRJkrRcY2Njtwp1c+fOBWDhwoUjqUfNZKdzkCRJkiStomzxkyRJklYi6VvL2OLFQL9+rupaMVcltvhJkiRJUs8Z/CRJkiSp5+zqKUmSJGnqnHgiLFhw2+U77HDr+/Pmwfz501GRMPhJkiRJmkrz5xvoVkJ29ZQkSZKknjP4SZIkSVLPGfwkSZIkqecMfpIkSZLUcwY/SZIkSeo5g58kSZIk9ZzBT5IkSZJ6zuAnSZIkST1n8JMkSZKknjP4SZIkSVLPGfwkSZIkqecMfpIkSZLUcwY/SZIkSeo5g58kSZIk9ZzBT5IkSZJ6zuAnSZIkST1n8JMkSZKknjP4SZIkSVLPGfwkSZIkqecMfpIkSZLUcwY/SZIkSeo5g58kSZIk9ZzBT5IkSZJ6zuAnSZIkST1n8JMkSZKknjP4SZIkSVLPGfwkSZIkqecMfpIkSZLUcwY/SZIkSeo5g58kSZIk9ZzBT5IkSZJ6zuAnSZIkST1n8JMkSZKknjP4SZIkSVLPGfwkSZIkqecMfpIkSZLUcwY/SZIkSeo5g58kSZIk9dxQg1+SXZJckOTCJIcsYf1aSf6nW/+DJFt0y7dI8vck53S3Y4ZZpyRJkiT12erDeuIks4CjgR2BS4Ezk5xSVecPbLYv8JequleSvYC3Ak/v1v2qqh40rPokSZIkaaYYZovfdsCFVXVRVV0PnAzsMWGbPYAF3fefAh6bJEOsSZIkSZJmnGEGv42BSwbuX9otW+I2VXUj8FfgLt26LZOcneSbSR41xDolSZIkqdeG1tXzdvo9sFlVXZ7kIcDnkty/qq4c3CjJfsB+AJttttkIypQkSZKkld8wW/wuAzYduL9Jt2yJ2yRZHdgAuLyqrquqywGq6izgV8C9J75AVR1bVXOqas7s2bOH8CNIkiRJ0qpvmMHvTGCrJFsmWRPYCzhlwjanAPO67/cEvl5VlWR2NzgMSe4BbAVcNMRaJUmSJKm3htbVs6puTHIAcDowCzihqn6a5AhgUVWdAhwPnJTkQuAKWjgEeDRwRJIbgJuBF1TVFcOqVZIkSZL6bKjX+FXVacBpE5YdNvD9tcBTl/C4TwOfHmZtkiRJkjRTDHUCd0mSJEnS6Bn8JEmSJKnnDH6SJEmS1HMGP0mSJEnqOYOfJEmSJPWcwU+SJEmSes7gJ0mSJEk9Z/CTJEmSpJ4z+EmSJElSzxn8JEmSJKnnDH6SJEmS1HMGP0mSJEnqOYOfJEmSJPWcwU+SJEmSes7gJ0mSJEk9Z/CTJEmSpJ4z+EmSJElSzxn8JEmSJKnnDH6SJEmS1HMGP0mSJEnqOYOfJEmSJPWcwU+SJEmSes7gJ0mSJEk9Z/CTJEmSpJ4z+EmSJElSzxn8JEmSJKnnDH6SJEmS1HMGP0mSJEnqOYOfJEmSJPWcwU+SJEmSes7gJ0mSJEk9Z/CTJEmSpJ4z+EmSJElSzxn8JEmSJKnnDH6SJEmS1HMGP0mSJEnqOYOfJEmSJPWcwU+SJEmSes7gJ0mSJEk9Z/CTJEmSpJ4z+EmSJElSzxn8JEmSJKnnDH6SJEmS1HMGP0mSJEnqOYOfJEmSJPWcwU+SJEmSes7gJ0mSJEk9N9Tgl2SXJBckuTDJIUtYv1aS/+nW/yDJFgPrXtMtvyDJzsOsU5IkSZL6bGjBL8ks4Gjg8cDWwDOSbD1hs32Bv1TVvYB3A2/tHrs1sBdwf2AX4APd80mSJEmSVtAwW/y2Ay6sqouq6nrgZGCPCdvsASzovv8U8Ngk6ZafXFXXVdWvgQu755MkSZIkraBhBr+NgUsG7l/aLVviNlV1I/BX4C6TfKwkSZIkaRJWH3UBt0eS/YD9urtXJ7lglPXMIBsBfx51EVMloy5g1darfQHcH24H9wUN6tX+4L5wu7gvaJz7wvTYfGkrhhn8LgM2Hbi/SbdsSdtcmmR1YAPg8kk+lqo6Fjh2CmvWJCRZVFVzRl2HRs99QePcFzTI/UHj3Bc0zn1h9IbZ1fNMYKskWyZZkzZYyykTtjkFmNd9vyfw9aqqbvle3aifWwJbAT8cYq2SJEmS1FtDa/GrqhuTHACcDswCTqiqnyY5AlhUVacAxwMnJbkQuIIWDum2+wRwPnAj8OKqumlYtUqSJElSnw31Gr+qOg04bcKywwa+vxZ46lIeeyRw5DDr0z/N7rUa576gce4LGuT+oHHuCxrnvjBiaT0rJUmSJEl9Ncxr/CRJkiRJKwGDnyRJkiT1nMFPkiRJknrO4CdpmZLcadQ1SJKklU+a2+SJJCvx/OYzl8FPtzLxH9V/3JktyfbAgUnuO+paNHpJNhl1DVo5JLlbN0evZiiPD5RknWpuTvKIJE9JshVAVZX7yMrH4Kdb6f5RH55k/ySblMO+znQ3A5sCT0xyn1EXo9FIsmaS2cDpSbYZdT0anSSzktwD+C/gDqOuR6PTHS9sl2TPJLOX1Oqj/kqyAe0z4UFJ7gecCDwPeHmSfcDwtzLyn1QAjL9hJ5lL++d9LPDZJDsmWXt0lWkUksxNskZVfRs4HtgSeHKSzUdcmkagqq6vqj8Bp9PN/5pkdT/QZ47xv3VV3VRVFwG/ob0vLLWrl/ppfF/ojhc+CrwIeAewc5I1RleZplNV/RX4DHAc8EZg96raFTgLeEiSvbvtbEBYifhGPcN1Z2zomunvA7wC2LuqngYsAF4IPDrJOiMsU0M2GO6T/AvwdOADXfj7X+DjwF7AAePdODQzJHlwkq8keSHwb8Du3aqb/UCfOboz99snOSbJK4G7AvcZX1dVN4+2Qg3beNfebl94EPAqYLeqegzwc+DxwOPsAjxzVNV7gKOAXYGtu8WfAM4DHpVk/mgq09IY/GawLsx9MMnG3aKHAVvR/oGpqvcDXwVeDsz17H4/JVkP2DfJvZLsDjwL+BBwA/DuLvx9B/gucCfgzyMrVqPwB+A04BpgTeCwJB8EPp/kxR7kzSh/AC4BbgTuDRyX5G1JPp1knvtCfyXZEPhykvW7RQ8BHgU8tLv/TuAy4CnATh4v9NdAi+8aSVarqgXA64Ejkvx71xL4KVrL3w9HWKqWIJ6wndm6ERtnAw+vqpOSPAt4DPDNqvpot81Lge9W1Vmjq1TDlOSJtBbey4H7dGd0twFeAGwOnAo8k9YafPHICtXQJUn3998MmFVVvx5Y92Bgf+CDwD2BP3bdgdVDA/vC3YHVqup3A+ueSesFcCiwM7CwqhaNqFRNg25wpzvS9oWfJDkQ2AV4d1V9pevm+Srgs1V1/ihr1XAMvCfsDjwRWB94VVVdmmQ/2ufDy6rqW0lmVdVNIy1Yt7H6qAvQaFXV4iQPoZ2puamqPtZdq/GoJGtV1Yer6n2jrlNDtxj4Ca371gOAc4HzaQd1L6Wd1X2Boa//ug/1JwJHAr/ozu7Oq6prgKJd13VBVZ0zwjI1Dbp9YQ/glcDfknwd+EhV/R/wM+CKqjqP1q1LPdW16tzcHdy/Anhrkm2q6r1JrqVdArBGVZ1Ke99QT3XvCU8ADgeeBpwAfCnJPlV1bJK1aD3JHgFcOcpatWQGvxlo4IzNhrT/468l2ZfWrW+1ruVvTeCRSU6rqstGXLKm2PgHeff9U4G7ADsBewD/leTAqvpGki2BN9Gu5/LM3QzQfWAfSevyvQPwEeDEJM+uqrOT/JE20usvRlimpkE3eMehtH1hf1oAXDPJu4DfAVt07xGXVNWNo6pTw9MdL9zcHS8srqp3JLke+FaSR1fVh7rjhZck+QHtZIDXe/ZU1zDwYFpvoPvTTgZ+jTYY4J5VdVSSz1XV4hGWqWWwq+cMleTJwEHAesBru24ajwHeBhxdVR9JsrGhr3+SPBB4C7BnVV2T5BDgsi7wrwY8GzgM+DTtus+ndmf4NQMkuRewAa0L+OHAf9D2hb/TuvbNqqrfj65CTZckOwDX0k4MHQq8jjaQw0LaNV3XVNUfRlagpkWS3YADaNP7vKSqLkzyEto+sVNVnZtk06q6ZKSFaqjSpmzYEjgDuDttSpdndS3B59J6Du1aVVePrkotj4O7zCADF+SuSbte62W0oHdMkidW1deB1wCvSPIvhr5+qqof0wZn+J/umow7ALO6dTdX1Ym0s3l3APY39PXbwPvChkk2rKoLgbNpI/Sd1F3XdSKtlW9DQ19/De4LAFX1DdoADU8Cjqyqr9FOAmwLXG/o668J+8LBtME7zqP1DNquqo4C3g58O8n6hr5+604K7wbsXFU3AH8CLgW2TfJwYBHwakPfys8WvxkmyY605vkHVNW+3bKnAf9J+6f9bJI7V9UVo6xTU6/7IF9tvMtmkk/RRu78FXA97ZqdvwMBzvN6vpljQg+AQ6vq9LTpG7YDfkTrAvxqB3jqv4HWnRuBl1bVr7peAQ+lDdP+fOD13TQv6rGuq++GwA5V9dJu2WHAHODNVfW/STavqt+MrkoNW5LVq+rGJHcDvkTrCXIarfHgAbQBAfevqtNGWKYmyeA3Awxc07cNcDKtm84DgK8A76yqv3UjtL2F9ob+p3LH6JXxfaD7/pZgn+RY4Hm06Rv+RhuxbW3awf9vR1Wvhm/gfWFN4GPAm2kjdb6V1uL7S1rg2wk4pqpOGVmxGqoJ131/Bng1sCdwX9pJwetoI/jtCrylqr4wsmI1VAP7wsOATwKnA48D3l9V7+y2OZJ2rPA04Mpu+3jc0D9J7g/sCHyvqn7YjQexRlUdk+TOtO6/d6+qn4+0UE2awW+GSPIo2lnck6rqi0keTxuC+4/Ae7rwd3e77vTPhND3Ylorzm+AD1fVJUmOBjatqt27bdasqutHV7GmyzJ6ALwROKiqvjS+P3hg129Lad05nHaS8B1V9f0kd6yqK90X+i3JdsA+wFeq6gtJHgu8EPhOtQm7SXKvrlu4eqw7VnwQbX7fd9HeDx4MPN3jxVWT1/jNHDcCc2kTrkIbhenLwBbAK7v+238aSWUaqoHQN5/25n04sDdtSO6HV9WLgVlJPtN1B3V0vh4buHZnG+C9tIm4753k9UnWrapPAEcAH+q69twI/9iP1B8D+8LDgI/SWvR2S/JygKp6A63ldyzJBsBV3XL3hX57IK2V597dPvJt4APAzmnTOUC7REA9M/Ce8MAkD6XN4fxmYF9gDdq8fXOA53bHjVrF2OI3A6Qbuj/Jv9G6dB1RVSd2A3vsCFxcTrbaa2nzsj0WGAPm0brwnQ1sDRxeVWd2A/r8bunPor6wB4DG2bqjJUnyXNoovm+qqoXd8cJc4PKq+tFIi9NQpJtwPcmuwLuBz9H2gT1qYN7WJAcC21XVs0ZSqG4X0/oM0IW+1bqL8ecDr0myf1XdUFWnGfr6Z/ysXff9HWnXaPyYNkH7E6rqsbQ5ubYG9kiyjqFvRrEHgMbZuqNbjLfiVNUJwOeBVyXZqTteOMPQ1z9JNgLoQt+DaHP37kIbD2J92ty+DxvfvqreC2zZnUDUKsYJ3GeIgfD3rSQvABYkOZU2f5vNvj0z0L1z66o6P22Onbt1qzdPsi1tHp7zgA9W1d9HVKqm2fhJoCRPAj6W5GddD4Cv0U4GXlxOwDxjVNWHk9xEO7N/Vte6823aFC+Xd9v4GdFz49dtDhwr3FxVR3ctfYckWeRo3/3SnehZDfhakm9X1QG0E8R7A5sBb6yquyR5O3B62lzPZwOb0+b2dDTXVZBdPXtkMhfcD3T7dMqGnuu69p5MO3v3DWABcAxtCocDgHWBvavqJyMrUiMx8D7waODDwLuq6kOjrkvTa3w/6L5/MfAEWlffr4y2Mk2XJJsDi6vqrxMGAhv8fvNyyobeSbJB93f/F1pL/2er6hXduoNog769PMnOtMtEXtpdFjKLNqfrn0dVu/55Br+eSbIDbfj1LwDnV9XiJWwzPifLarSTue4EPZM2RP9dafNurU17096e1qVrHnAJMKucnH3GGgh/O9BOCvw79gCYESYc1A+Gv4OA3YE9PTHYf93gTa8Ffkfr+XHlxH0DbukxNKu6OWC16kuyHu3E8Iur6rdJ/h/wQ+Dkqnplkp1oc3ZeRLtU5IVV9cPRVayp4jV+PZLk34F3ABsArwP2SrLJhG1mdaHvTrQ3/PWmvVANVdfSdyhtP9gbuBS4M3AB8K/A7lX1Z0Nfvw1e57kkA126vgE8qKouNfT1W5LNu7P8Nb5/dPvB+PfvAZ5j6OuvwfeF7jPgB8BsYN+06TpqYJt0+8cGwEu7sKAeqKpraCd51k3y1Kr6PW2qp72SvLFr9f8vYC3gMENff3iNX08kuS9tAvaDq+qbSXanddshyanV5msbH7FpA9pF24dX1dUjLFvDcUl3W0AbpOFU2iS7n+mu5Vk4wto0TboDuGX2AOgO6lavqivsAdBvXevOwcDvktyqdafbV8Zbd35j605/dX/rfwe2rqrjquq/k1wHPBLYO8lJVXXVQM+gDWifIYd0YUH9cS/accJWafO1fixtlN//TbJWVb2Kdqw4qUuJtGqwxa8HurNzG9Iutn0eQFWdApwCPIJ/jNp4U9fS9xng0KpaOJqKNUxdy81xtHl39qS1+r2pW3d8VTlC3wxgDwDZuqOlWJ82uvdzuvufoQ3k81zg+V0IGH9f+Cwt9H1nNKVqKk3oCbIe7e/7euCNSfbtWv4eAeyT5H4DJ4QMfT1h8FtFjf/zdh/Sa1ebquHZwFpJ3gBQVacCnwS+WVV/T7I2rU/3mG/i/VdVP6ZN3/EBYHGSLUZakKbNhB4AL6IN6rMt8MQkm3bbTOwB8B17APTLeOtOkvETgv8N/C9txL69k9yh22b1gX3hVOBMW3f6YfBAP8mdk9yp68a3Py3g79sd1C8ELgROq6rrk6wDfBSPF3ql+39/WNqUXufQxgK4nDa376uSvKCqLgM2r6qflSM8946Du6yCxpvck+wGvBz4A+2D+p1JHgq8DLi0a6af+NjNy9G5Zpwka1TVDaOuQ8PXHeg9HDgO+FFV7dMtfwJtyP4fAMd3J4PuBHya1u3bg7se6gZp+CDwn1X1kW7/OBR4EvDfwPu7A/070Vp+DnNf6Icks4FHdd38d6G1/N8BeHVVfbnrCv5xWu+gxwH7V9UZ3WPXB/5fVf1yROVrCNKm53gvrSfQ/sB1wPuAJ9OmcPkEbaCv39vdu59s8VsFdaHvccARtK4ZPwHe3l2Qeybtn/geSe49/pjB6zdGUbNGy9DXb/YAENi6o9vYDdg1yYtoJ4lfROsJ8LYkT6o2sNOjaK3A+wyEvllVdbWhr1+63h53ol0CcAHwROBG2qiubwHOArbpLhcx9PWULX6rqK6177fApsArgVcBXwHeXVVj3chtfx1ljZKGzx4AAlt3dFvddZrPoo3WeJeqenK3fE/aNb1vq6qTR1iipkl3cudQ2jHjh4ErgX1oPUOeDLwU2N73gP4z+K1i0ibOrO4i/PVoZ2mPq6ovJTmaNu/KfYCLvRhXmhm6HgBvB/4DeCatN8CRVfX6JA8HXgG8tqp+0W1/y9xt6ockz6V10foR7UDu5cD9gdfQum9+LslWtNEbf1FV3+0e5wiePZXk/1XV75M8i3aQfxLwiaq6IclewOHA3HJqnxmh6xHyUNp1/5+lDQr47qr6WZLNquq3Iy1Q08LpHFZySe4C3K2qzk/yROCpwIZJxoDzaN11tkjyJNrZ3W2r6tejqlfSSKxDG8hna2BH4N+AryS5qesBsO9gDwBDXy/9D+0zfTvg6qo6Fzg3yQ3AYUnW7lp3bnVG39DXT0nuAHw4yaLuPWAt2rW/Nyf5VFWdnGShoW/m6D4DvtodS76QNqDLg2jvGZeNsDRNI1v8VmJJVgfeCtwEfId2du7VtKF2/w14M7ARMBfYnjZAw2e7xzrnitRz9gDQOFt3NPi53703bEvr3vf9qnprN33DI4CFVfVftvzPXEnWpfUIWKeqvjXqejR9DH4ruST3oHXTWh9YXFUv7ZY/DzgQeGRV/TXJXarqcgOf1F9L6wEAjNF6APwncDHwe+ApwFur6qejqVbTpWvd+Tgw3rrzXNpB//eAT3Xh7+5V9YeRFqqhS5u/8+qqOrcLf/8KvBE4o6qOSvJ84Hu+L2icx40zi6N6rqTGR2erqotorX5XAvftBmug2gTdP6F17aKqLu+++s8r9VDXA+C1wPwkuwNvoLXqnAW8iXZ91w9p7wlHAJ8dP7gbHO1R/TDhb/o3Wvh/YJJXV9UJtGv9Hgs8vdvmj9NboabLwKi+W9K6fJ+S5IFdN96fAV8EDkxycFV92NCnQR43ziy2+K2EBkbpeyDtA/2PQGhdO/8CnAtcRJtzadfuWg5JPWcPAA2ydUfjupNBY8DjgafRruF6WlX9JG0ux51pXX9/MLoqJY2awW8l1Q3N/gbafEsbAkfRwt4YbfCGs4CTq+q0EZUoaZpMuHZnc9oULvcGDq02dydJPg68r9ocfuqpgRODW9JG7NwJ2KOqfpxkTVqLz6uAD1TVu0ZYqqZJkgcBJwLPqKqfdctOAjYDvkWb7/cZXsslya6eK6EkD6B16Xo87VqdObRBXe4HvB74Nu3aHUOf1HODPQC64fgX0+Zo+xXw5CR7JdmONhHzNSMsVdOg2xd2Bz5N+zx4J/DxJP9aVdfTrvH8PPDd0VWpaXYdcA7w6CSHJTkDKNq+cB5tcnZDnyRb/FYGAwd2418f1K3aCHgbsB/wHOABtA/671bVjaOpVtJ0sweAxtm6o4mSrE9r6X0m8A7g57QTQVdW1cdHWJqklYwtfiuH8Yv0N+4GcDi/qs6hTbQ5VlWLaGf3zwf+auiTZg57AGgCW3d0K1V1dVW9nzZdx2eA9YCX4IA+kiYw+I1Qknt1EyvfnGRX4AzgeOCjSe4K/BV4b5KnAC8ATuwCoaSeGhihb/yE0CzaQA0PAJ5Ba/3/M2203wcDBzh4x4xyCbAImEcb2flAWrfOL1fVJ6rq66MsTiN1U5KHAO+nXf/7tVEXJGnlYlfPEUqyDe3M7RHAXWjXbFwGPAt4dFU9JsnrgLvRRmk7ZVS1Spoe45MqJ9kE+AOwWlVdn+Q1wE+r6pQkB9MGdznGk0EzU5I1u/3iocBHgAM90FeS9YC7VtWvHdVX0kQGvxFJMquqbuqu1zgd+GVVPbIbkvtm4Fjgq1X1PwMf8L6JSz2V5F7A9lV1fNcD4J20efnWAl4K7EkbzfPlwFuAZ1fV90dVr0ar+6x4EPAB4E1V9fnRViRJWtmtPuoCZqIuwN3UBbpzkuwIfD/JS6rqqG6bPwObA3QjtTnJptRv6wIfTrIprQfAC/lHD4CTux4AdwZ2AF5h6JvZus+QnwN72bojSZoMW/xGJMljgacAX6qqL3bdPr9P67LzeeBdwMFV9ZURlilpGtgDQJIkDZuDu4xAd3D3DuBPwMuTHEQbje2htEFcXkcbme0rAwM8SOqhiT0AaNMzPLjrAXBTF+7sASBJkm4Xu3pOk4E5+sa7cb2tqj6e5DG0+XcOpM3NtTWwSVWdDR7cSX3XvS88FnhKkvEeAA+ndf++L60HwG7AwSMtVJIkrdLs6jmNkuwCLKDNx7cJsHVV3ZBke9qcOz+oqrd329qNS5oBuh4A4128t+++vpd2Euhc2lD9B1bV2b4vSJKkf5bBb5p0Z+5fSxuB7WzgGOCuwFOq6rokOwBXVNWPR1impGkwoQfAvWnDrw/2APgRrQfAvWg9ABymX5Ik3S4GvyFLshqwHm1C1fsCL6+q7yRZG3gfcB9gx/HrdiTNDPYAkCRJ08nBXYZkYFCW1avqKuAQ2gAu2yfZqqqupc3NdRHwwBGVKWkEuh4AzwT2AHYBvgN8LslaVfVN4GjglhF9DX2SJOn2ssVviJI8AXgucDnwZdp0DUcCPwc+V1UXeCZfmjnsASBJkkbFFr8h6a7ZG+tu1wOHVNXvgHcC2wJPTbKuoU/qP3sASJKkUbPFb4okmQ08Cvh8NyfXXsCvgdm0QV2eWVUXJ1kfuBuwXlWdO7qKJU0newBIkqRRssVv6uwG7ArsmWQWsA5wEvBKYPcu9O0CHAFcYuiTZg57AEiSpFFzAvep83FgLeARwHVV9ZEkOwJ3q6o/d6Hv3cDBXr8j9dvEHgC0Vv4DgM2BBwNP6za9GDiU1gPgbyMoVZIkzRAGv9tpvGtWVf09yUeAvYHHJylgX+C4JJ8GNqQN5PClUdYraVrsBvw7sEaST/GPHgC/p/UAGD8ZtBOt9c+TQZIkaagMfrfDwCTMj6Gd0b+pqo7rxnHYEbixqp7VbbthVf1lhOVKmj72AJAkSSsVg9/t0IW+XYE3AYcBxya5M3Ai7Xf7lCQb0A4C/zqyQiVNC3sASJKklZXB75+QZFY3cudawDOAJwPbAL8CTq2qa5Mc321+Tjdgg4M2SD1mDwBJkrQyM/itgCTrV9XVXeh7JPBUYDEwH3g08NyquiTJ04HfVNUxo6tW0nSyB4AkSVqZOZ3DJCVZFzgtybxu0V+AP9ImYX498MpuHq6H0Q76bOGTZoBu+hYm9AAIAz0AgOOBM+l6AFTVzaOqV5IkzUy2+E1SVf0tybuAw5JcC5wP3LWqjuyGbj82ydeB7YHXVNUPRlmvpOGyB4AkSVqVGPxWQFV9LskNwJHAj4E1k+wMfB3YBLgUeFFVnTl+vc8Iy5U0JAM9AI6vqgX8owfAn4BjgO0m9AB47uiqlSRJMvitsKo6NclNwPuAuwDfoQ3Zvi5wQlWd2W1n6JN6yh4AkiRpVRPzyT+nG7nvrbSDuq+Ouh5J0y/JExjoAUAbyOVK4NnABcB37QEgSZJWBga/2yHJk2gj+O0M/L6qbhxtRZKmWzcZ+3gPgMP4Rw+AI8d7AEiSJI2awe92SjK7qv406jokjY49ACRJ0srO4CdJU8AeAJIkaWVm8JOkKWIPAEmStLIy+EmSJElSz6026gIkSZIkScNl8JMkSZKknjP4SZIkSVLPGfwkSZIkqecMfpIkSZLUcwY/SZIkSeo5g58kSZIk9dz/B54PK6MvQcvMAAAAAElFTkSuQmCC",
      "text/plain": [
       "<Figure size 1080x360 with 1 Axes>"
      ]
     },
     "metadata": {
      "needs_background": "light"
     },
     "output_type": "display_data"
    }
   ],
   "source": [
    "df_imp = mean_score_decrease(X_train, y_train, model, plot=True, topk=10)"
   ]
  },
  {
   "cell_type": "code",
   "execution_count": 62,
   "metadata": {},
   "outputs": [],
   "source": [
    "from jcopml.tuning.space import Integer, Real\n",
    "\n",
    "parameter = {'imbalance__k_neighbors': Integer(low=5, high=10),\n",
    "'imbalance__sampling_strategy': ['minority', 'majority', 'not minority', 'not majority'],\n",
    "'preprocessor__numeric__degree': Integer(low=1, high=3),\n",
    "'preprocessor__numeric__interaction_only': [True, False],\n",
    "'algo__n_estimators': Integer(low=100, high=200),\n",
    "'algo__max_depth': Integer(low=20, high=80),\n",
    "'algo__max_features': Real(low=0.1, high=1, prior='uniform'),\n",
    "'algo__min_samples_leaf': Integer(low=1, high=20)\n",
    "}"
   ]
  },
  {
   "cell_type": "code",
   "execution_count": 63,
   "metadata": {},
   "outputs": [
    {
     "name": "stdout",
     "output_type": "stream",
     "text": [
      "Fitting 3 folds for each of 100 candidates, totalling 300 fits\n"
     ]
    },
    {
     "name": "stderr",
     "output_type": "stream",
     "text": [
      "D:\\lib\\site-packages\\sklearn\\model_selection\\_validation.py:378: FitFailedWarning: \n",
      "66 fits failed out of a total of 300.\n",
      "The score on these train-test partitions for these parameters will be set to nan.\n",
      "If these failures are not expected, you can try to debug them by setting error_score='raise'.\n",
      "\n",
      "Below are more details about the failures:\n",
      "--------------------------------------------------------------------------------\n",
      "7 fits failed with the following error:\n",
      "Traceback (most recent call last):\n",
      "  File \"D:\\lib\\site-packages\\sklearn\\model_selection\\_validation.py\", line 686, in _fit_and_score\n",
      "    estimator.fit(X_train, y_train, **fit_params)\n",
      "  File \"D:\\lib\\site-packages\\imblearn\\pipeline.py\", line 293, in fit\n",
      "    Xt, yt = self._fit(X, y, **fit_params_steps)\n",
      "  File \"D:\\lib\\site-packages\\imblearn\\pipeline.py\", line 250, in _fit\n",
      "    X, y, fitted_transformer = fit_resample_one_cached(\n",
      "  File \"D:\\lib\\site-packages\\joblib\\memory.py\", line 349, in __call__\n",
      "    return self.func(*args, **kwargs)\n",
      "  File \"D:\\lib\\site-packages\\imblearn\\pipeline.py\", line 422, in _fit_resample_one\n",
      "    X_res, y_res = sampler.fit_resample(X, y, **fit_params)\n",
      "  File \"D:\\lib\\site-packages\\imblearn\\base.py\", line 202, in fit_resample\n",
      "    self._validate_params()\n",
      "  File \"D:\\lib\\site-packages\\sklearn\\base.py\", line 600, in _validate_params\n",
      "    validate_parameter_constraints(\n",
      "  File \"D:\\lib\\site-packages\\sklearn\\utils\\_param_validation.py\", line 97, in validate_parameter_constraints\n",
      "    raise InvalidParameterError(\n",
      "sklearn.utils._param_validation.InvalidParameterError: The 'sampling_strategy' parameter of SMOTE must be a float in the range (0, 1], a str among {'not majority', 'all', 'minority', 'not minority', 'auto'}, an instance of 'collections.abc.Mapping' or a callable. Got 'majority' instead.\n",
      "\n",
      "--------------------------------------------------------------------------------\n",
      "13 fits failed with the following error:\n",
      "Traceback (most recent call last):\n",
      "  File \"D:\\lib\\site-packages\\sklearn\\model_selection\\_validation.py\", line 686, in _fit_and_score\n",
      "    estimator.fit(X_train, y_train, **fit_params)\n",
      "  File \"D:\\lib\\site-packages\\imblearn\\pipeline.py\", line 293, in fit\n",
      "    Xt, yt = self._fit(X, y, **fit_params_steps)\n",
      "  File \"D:\\lib\\site-packages\\imblearn\\pipeline.py\", line 250, in _fit\n",
      "    X, y, fitted_transformer = fit_resample_one_cached(\n",
      "  File \"D:\\lib\\site-packages\\joblib\\memory.py\", line 349, in __call__\n",
      "    return self.func(*args, **kwargs)\n",
      "  File \"D:\\lib\\site-packages\\imblearn\\pipeline.py\", line 422, in _fit_resample_one\n",
      "    X_res, y_res = sampler.fit_resample(X, y, **fit_params)\n",
      "  File \"D:\\lib\\site-packages\\imblearn\\base.py\", line 202, in fit_resample\n",
      "    self._validate_params()\n",
      "  File \"D:\\lib\\site-packages\\sklearn\\base.py\", line 600, in _validate_params\n",
      "    validate_parameter_constraints(\n",
      "  File \"D:\\lib\\site-packages\\sklearn\\utils\\_param_validation.py\", line 97, in validate_parameter_constraints\n",
      "    raise InvalidParameterError(\n",
      "sklearn.utils._param_validation.InvalidParameterError: The 'sampling_strategy' parameter of SMOTE must be a float in the range (0, 1], a str among {'minority', 'not majority', 'auto', 'not minority', 'all'}, an instance of 'collections.abc.Mapping' or a callable. Got 'majority' instead.\n",
      "\n",
      "--------------------------------------------------------------------------------\n",
      "4 fits failed with the following error:\n",
      "Traceback (most recent call last):\n",
      "  File \"D:\\lib\\site-packages\\sklearn\\model_selection\\_validation.py\", line 686, in _fit_and_score\n",
      "    estimator.fit(X_train, y_train, **fit_params)\n",
      "  File \"D:\\lib\\site-packages\\imblearn\\pipeline.py\", line 293, in fit\n",
      "    Xt, yt = self._fit(X, y, **fit_params_steps)\n",
      "  File \"D:\\lib\\site-packages\\imblearn\\pipeline.py\", line 250, in _fit\n",
      "    X, y, fitted_transformer = fit_resample_one_cached(\n",
      "  File \"D:\\lib\\site-packages\\joblib\\memory.py\", line 349, in __call__\n",
      "    return self.func(*args, **kwargs)\n",
      "  File \"D:\\lib\\site-packages\\imblearn\\pipeline.py\", line 422, in _fit_resample_one\n",
      "    X_res, y_res = sampler.fit_resample(X, y, **fit_params)\n",
      "  File \"D:\\lib\\site-packages\\imblearn\\base.py\", line 202, in fit_resample\n",
      "    self._validate_params()\n",
      "  File \"D:\\lib\\site-packages\\sklearn\\base.py\", line 600, in _validate_params\n",
      "    validate_parameter_constraints(\n",
      "  File \"D:\\lib\\site-packages\\sklearn\\utils\\_param_validation.py\", line 97, in validate_parameter_constraints\n",
      "    raise InvalidParameterError(\n",
      "sklearn.utils._param_validation.InvalidParameterError: The 'sampling_strategy' parameter of SMOTE must be a float in the range (0, 1], a str among {'auto', 'minority', 'all', 'not majority', 'not minority'}, an instance of 'collections.abc.Mapping' or a callable. Got 'majority' instead.\n",
      "\n",
      "--------------------------------------------------------------------------------\n",
      "5 fits failed with the following error:\n",
      "Traceback (most recent call last):\n",
      "  File \"D:\\lib\\site-packages\\sklearn\\model_selection\\_validation.py\", line 686, in _fit_and_score\n",
      "    estimator.fit(X_train, y_train, **fit_params)\n",
      "  File \"D:\\lib\\site-packages\\imblearn\\pipeline.py\", line 293, in fit\n",
      "    Xt, yt = self._fit(X, y, **fit_params_steps)\n",
      "  File \"D:\\lib\\site-packages\\imblearn\\pipeline.py\", line 250, in _fit\n",
      "    X, y, fitted_transformer = fit_resample_one_cached(\n",
      "  File \"D:\\lib\\site-packages\\joblib\\memory.py\", line 349, in __call__\n",
      "    return self.func(*args, **kwargs)\n",
      "  File \"D:\\lib\\site-packages\\imblearn\\pipeline.py\", line 422, in _fit_resample_one\n",
      "    X_res, y_res = sampler.fit_resample(X, y, **fit_params)\n",
      "  File \"D:\\lib\\site-packages\\imblearn\\base.py\", line 202, in fit_resample\n",
      "    self._validate_params()\n",
      "  File \"D:\\lib\\site-packages\\sklearn\\base.py\", line 600, in _validate_params\n",
      "    validate_parameter_constraints(\n",
      "  File \"D:\\lib\\site-packages\\sklearn\\utils\\_param_validation.py\", line 97, in validate_parameter_constraints\n",
      "    raise InvalidParameterError(\n",
      "sklearn.utils._param_validation.InvalidParameterError: The 'sampling_strategy' parameter of SMOTE must be a float in the range (0, 1], a str among {'all', 'not minority', 'auto', 'minority', 'not majority'}, an instance of 'collections.abc.Mapping' or a callable. Got 'majority' instead.\n",
      "\n",
      "--------------------------------------------------------------------------------\n",
      "4 fits failed with the following error:\n",
      "Traceback (most recent call last):\n",
      "  File \"D:\\lib\\site-packages\\sklearn\\model_selection\\_validation.py\", line 686, in _fit_and_score\n",
      "    estimator.fit(X_train, y_train, **fit_params)\n",
      "  File \"D:\\lib\\site-packages\\imblearn\\pipeline.py\", line 293, in fit\n",
      "    Xt, yt = self._fit(X, y, **fit_params_steps)\n",
      "  File \"D:\\lib\\site-packages\\imblearn\\pipeline.py\", line 250, in _fit\n",
      "    X, y, fitted_transformer = fit_resample_one_cached(\n",
      "  File \"D:\\lib\\site-packages\\joblib\\memory.py\", line 349, in __call__\n",
      "    return self.func(*args, **kwargs)\n",
      "  File \"D:\\lib\\site-packages\\imblearn\\pipeline.py\", line 422, in _fit_resample_one\n",
      "    X_res, y_res = sampler.fit_resample(X, y, **fit_params)\n",
      "  File \"D:\\lib\\site-packages\\imblearn\\base.py\", line 202, in fit_resample\n",
      "    self._validate_params()\n",
      "  File \"D:\\lib\\site-packages\\sklearn\\base.py\", line 600, in _validate_params\n",
      "    validate_parameter_constraints(\n",
      "  File \"D:\\lib\\site-packages\\sklearn\\utils\\_param_validation.py\", line 97, in validate_parameter_constraints\n",
      "    raise InvalidParameterError(\n",
      "sklearn.utils._param_validation.InvalidParameterError: The 'sampling_strategy' parameter of SMOTE must be a float in the range (0, 1], a str among {'auto', 'minority', 'all', 'not minority', 'not majority'}, an instance of 'collections.abc.Mapping' or a callable. Got 'majority' instead.\n",
      "\n",
      "--------------------------------------------------------------------------------\n",
      "5 fits failed with the following error:\n",
      "Traceback (most recent call last):\n",
      "  File \"D:\\lib\\site-packages\\sklearn\\model_selection\\_validation.py\", line 686, in _fit_and_score\n",
      "    estimator.fit(X_train, y_train, **fit_params)\n",
      "  File \"D:\\lib\\site-packages\\imblearn\\pipeline.py\", line 293, in fit\n",
      "    Xt, yt = self._fit(X, y, **fit_params_steps)\n",
      "  File \"D:\\lib\\site-packages\\imblearn\\pipeline.py\", line 250, in _fit\n",
      "    X, y, fitted_transformer = fit_resample_one_cached(\n",
      "  File \"D:\\lib\\site-packages\\joblib\\memory.py\", line 349, in __call__\n",
      "    return self.func(*args, **kwargs)\n",
      "  File \"D:\\lib\\site-packages\\imblearn\\pipeline.py\", line 422, in _fit_resample_one\n",
      "    X_res, y_res = sampler.fit_resample(X, y, **fit_params)\n",
      "  File \"D:\\lib\\site-packages\\imblearn\\base.py\", line 202, in fit_resample\n",
      "    self._validate_params()\n",
      "  File \"D:\\lib\\site-packages\\sklearn\\base.py\", line 600, in _validate_params\n",
      "    validate_parameter_constraints(\n",
      "  File \"D:\\lib\\site-packages\\sklearn\\utils\\_param_validation.py\", line 97, in validate_parameter_constraints\n",
      "    raise InvalidParameterError(\n",
      "sklearn.utils._param_validation.InvalidParameterError: The 'sampling_strategy' parameter of SMOTE must be a float in the range (0, 1], a str among {'not majority', 'auto', 'minority', 'not minority', 'all'}, an instance of 'collections.abc.Mapping' or a callable. Got 'majority' instead.\n",
      "\n",
      "--------------------------------------------------------------------------------\n",
      "6 fits failed with the following error:\n",
      "Traceback (most recent call last):\n",
      "  File \"D:\\lib\\site-packages\\sklearn\\model_selection\\_validation.py\", line 686, in _fit_and_score\n",
      "    estimator.fit(X_train, y_train, **fit_params)\n",
      "  File \"D:\\lib\\site-packages\\imblearn\\pipeline.py\", line 293, in fit\n",
      "    Xt, yt = self._fit(X, y, **fit_params_steps)\n",
      "  File \"D:\\lib\\site-packages\\imblearn\\pipeline.py\", line 250, in _fit\n",
      "    X, y, fitted_transformer = fit_resample_one_cached(\n",
      "  File \"D:\\lib\\site-packages\\joblib\\memory.py\", line 349, in __call__\n",
      "    return self.func(*args, **kwargs)\n",
      "  File \"D:\\lib\\site-packages\\imblearn\\pipeline.py\", line 422, in _fit_resample_one\n",
      "    X_res, y_res = sampler.fit_resample(X, y, **fit_params)\n",
      "  File \"D:\\lib\\site-packages\\imblearn\\base.py\", line 202, in fit_resample\n",
      "    self._validate_params()\n",
      "  File \"D:\\lib\\site-packages\\sklearn\\base.py\", line 600, in _validate_params\n",
      "    validate_parameter_constraints(\n",
      "  File \"D:\\lib\\site-packages\\sklearn\\utils\\_param_validation.py\", line 97, in validate_parameter_constraints\n",
      "    raise InvalidParameterError(\n",
      "sklearn.utils._param_validation.InvalidParameterError: The 'sampling_strategy' parameter of SMOTE must be a float in the range (0, 1], a str among {'all', 'not majority', 'not minority', 'minority', 'auto'}, an instance of 'collections.abc.Mapping' or a callable. Got 'majority' instead.\n",
      "\n",
      "--------------------------------------------------------------------------------\n",
      "6 fits failed with the following error:\n",
      "Traceback (most recent call last):\n",
      "  File \"D:\\lib\\site-packages\\sklearn\\model_selection\\_validation.py\", line 686, in _fit_and_score\n",
      "    estimator.fit(X_train, y_train, **fit_params)\n",
      "  File \"D:\\lib\\site-packages\\imblearn\\pipeline.py\", line 293, in fit\n",
      "    Xt, yt = self._fit(X, y, **fit_params_steps)\n",
      "  File \"D:\\lib\\site-packages\\imblearn\\pipeline.py\", line 250, in _fit\n",
      "    X, y, fitted_transformer = fit_resample_one_cached(\n",
      "  File \"D:\\lib\\site-packages\\joblib\\memory.py\", line 349, in __call__\n",
      "    return self.func(*args, **kwargs)\n",
      "  File \"D:\\lib\\site-packages\\imblearn\\pipeline.py\", line 422, in _fit_resample_one\n",
      "    X_res, y_res = sampler.fit_resample(X, y, **fit_params)\n",
      "  File \"D:\\lib\\site-packages\\imblearn\\base.py\", line 202, in fit_resample\n",
      "    self._validate_params()\n",
      "  File \"D:\\lib\\site-packages\\sklearn\\base.py\", line 600, in _validate_params\n",
      "    validate_parameter_constraints(\n",
      "  File \"D:\\lib\\site-packages\\sklearn\\utils\\_param_validation.py\", line 97, in validate_parameter_constraints\n",
      "    raise InvalidParameterError(\n",
      "sklearn.utils._param_validation.InvalidParameterError: The 'sampling_strategy' parameter of SMOTE must be a float in the range (0, 1], a str among {'auto', 'not minority', 'not majority', 'all', 'minority'}, an instance of 'collections.abc.Mapping' or a callable. Got 'majority' instead.\n",
      "\n",
      "--------------------------------------------------------------------------------\n",
      "6 fits failed with the following error:\n",
      "Traceback (most recent call last):\n",
      "  File \"D:\\lib\\site-packages\\sklearn\\model_selection\\_validation.py\", line 686, in _fit_and_score\n",
      "    estimator.fit(X_train, y_train, **fit_params)\n",
      "  File \"D:\\lib\\site-packages\\imblearn\\pipeline.py\", line 293, in fit\n",
      "    Xt, yt = self._fit(X, y, **fit_params_steps)\n",
      "  File \"D:\\lib\\site-packages\\imblearn\\pipeline.py\", line 250, in _fit\n",
      "    X, y, fitted_transformer = fit_resample_one_cached(\n",
      "  File \"D:\\lib\\site-packages\\joblib\\memory.py\", line 349, in __call__\n",
      "    return self.func(*args, **kwargs)\n",
      "  File \"D:\\lib\\site-packages\\imblearn\\pipeline.py\", line 422, in _fit_resample_one\n",
      "    X_res, y_res = sampler.fit_resample(X, y, **fit_params)\n",
      "  File \"D:\\lib\\site-packages\\imblearn\\base.py\", line 202, in fit_resample\n",
      "    self._validate_params()\n",
      "  File \"D:\\lib\\site-packages\\sklearn\\base.py\", line 600, in _validate_params\n",
      "    validate_parameter_constraints(\n",
      "  File \"D:\\lib\\site-packages\\sklearn\\utils\\_param_validation.py\", line 97, in validate_parameter_constraints\n",
      "    raise InvalidParameterError(\n",
      "sklearn.utils._param_validation.InvalidParameterError: The 'sampling_strategy' parameter of SMOTE must be a float in the range (0, 1], a str among {'all', 'minority', 'not minority', 'not majority', 'auto'}, an instance of 'collections.abc.Mapping' or a callable. Got 'majority' instead.\n",
      "\n",
      "--------------------------------------------------------------------------------\n",
      "6 fits failed with the following error:\n",
      "Traceback (most recent call last):\n",
      "  File \"D:\\lib\\site-packages\\sklearn\\model_selection\\_validation.py\", line 686, in _fit_and_score\n",
      "    estimator.fit(X_train, y_train, **fit_params)\n",
      "  File \"D:\\lib\\site-packages\\imblearn\\pipeline.py\", line 293, in fit\n",
      "    Xt, yt = self._fit(X, y, **fit_params_steps)\n",
      "  File \"D:\\lib\\site-packages\\imblearn\\pipeline.py\", line 250, in _fit\n",
      "    X, y, fitted_transformer = fit_resample_one_cached(\n",
      "  File \"D:\\lib\\site-packages\\joblib\\memory.py\", line 349, in __call__\n",
      "    return self.func(*args, **kwargs)\n",
      "  File \"D:\\lib\\site-packages\\imblearn\\pipeline.py\", line 422, in _fit_resample_one\n",
      "    X_res, y_res = sampler.fit_resample(X, y, **fit_params)\n",
      "  File \"D:\\lib\\site-packages\\imblearn\\base.py\", line 202, in fit_resample\n",
      "    self._validate_params()\n",
      "  File \"D:\\lib\\site-packages\\sklearn\\base.py\", line 600, in _validate_params\n",
      "    validate_parameter_constraints(\n",
      "  File \"D:\\lib\\site-packages\\sklearn\\utils\\_param_validation.py\", line 97, in validate_parameter_constraints\n",
      "    raise InvalidParameterError(\n",
      "sklearn.utils._param_validation.InvalidParameterError: The 'sampling_strategy' parameter of SMOTE must be a float in the range (0, 1], a str among {'auto', 'all', 'not majority', 'minority', 'not minority'}, an instance of 'collections.abc.Mapping' or a callable. Got 'majority' instead.\n",
      "\n",
      "--------------------------------------------------------------------------------\n",
      "4 fits failed with the following error:\n",
      "Traceback (most recent call last):\n",
      "  File \"D:\\lib\\site-packages\\sklearn\\model_selection\\_validation.py\", line 686, in _fit_and_score\n",
      "    estimator.fit(X_train, y_train, **fit_params)\n",
      "  File \"D:\\lib\\site-packages\\imblearn\\pipeline.py\", line 293, in fit\n",
      "    Xt, yt = self._fit(X, y, **fit_params_steps)\n",
      "  File \"D:\\lib\\site-packages\\imblearn\\pipeline.py\", line 250, in _fit\n",
      "    X, y, fitted_transformer = fit_resample_one_cached(\n",
      "  File \"D:\\lib\\site-packages\\joblib\\memory.py\", line 349, in __call__\n",
      "    return self.func(*args, **kwargs)\n",
      "  File \"D:\\lib\\site-packages\\imblearn\\pipeline.py\", line 422, in _fit_resample_one\n",
      "    X_res, y_res = sampler.fit_resample(X, y, **fit_params)\n",
      "  File \"D:\\lib\\site-packages\\imblearn\\base.py\", line 202, in fit_resample\n",
      "    self._validate_params()\n",
      "  File \"D:\\lib\\site-packages\\sklearn\\base.py\", line 600, in _validate_params\n",
      "    validate_parameter_constraints(\n",
      "  File \"D:\\lib\\site-packages\\sklearn\\utils\\_param_validation.py\", line 97, in validate_parameter_constraints\n",
      "    raise InvalidParameterError(\n",
      "sklearn.utils._param_validation.InvalidParameterError: The 'sampling_strategy' parameter of SMOTE must be a float in the range (0, 1], a str among {'not majority', 'auto', 'not minority', 'all', 'minority'}, an instance of 'collections.abc.Mapping' or a callable. Got 'majority' instead.\n",
      "\n",
      "  warnings.warn(some_fits_failed_message, FitFailedWarning)\n",
      "D:\\lib\\site-packages\\sklearn\\model_selection\\_search.py:952: UserWarning: One or more of the test scores are non-finite: [0.66686898 0.66865323        nan 0.67490655        nan 0.63441641\n",
      " 0.66984504 0.67401184 0.66002002 0.67520251 0.65987061 0.66031863\n",
      " 0.6396274  0.63144002 0.61938193 0.66136123 0.67416091 0.65570301\n",
      " 0.67356574 0.63947832 0.6439444         nan        nan 0.63620305\n",
      " 0.66954815        nan 0.63873315        nan        nan 0.68383639\n",
      " 0.67565007 0.66106375 0.62756917 0.67490615        nan        nan\n",
      " 0.67639538 0.63143889 0.66151004        nan        nan 0.64305101\n",
      "        nan 0.66299674 0.6338201  0.63888335 0.64290227 0.65466028\n",
      " 0.67237486 0.63590543 0.67505364 0.6423063  0.67311911 0.65049269\n",
      "        nan 0.60628263 0.63783949 0.65853212 0.65570202 0.63947872\n",
      " 0.6808596  0.67282182 0.64974804        nan 0.67386309 0.65361888\n",
      "        nan 0.66463551 0.67386469        nan        nan 0.65049455\n",
      " 0.66746202 0.65570361 0.63932845 0.63665107 0.66537789 0.66984417\n",
      " 0.6597236  0.6793717  0.63590603        nan 0.63307699 0.67178009\n",
      "        nan 0.66210435 0.63486244        nan 0.64602674 0.64677238\n",
      " 0.66031897 0.66463524        nan 0.67728757 0.6390313  0.6353092\n",
      "        nan 0.64453951 0.66553022 0.65019493]\n",
      "  warnings.warn(\n"
     ]
    },
    {
     "name": "stdout",
     "output_type": "stream",
     "text": [
      "{'algo__max_depth': 63, 'algo__max_features': 0.5030048481157825, 'algo__min_samples_leaf': 6, 'algo__n_estimators': 131, 'imbalance__k_neighbors': 8, 'imbalance__sampling_strategy': 'not minority', 'preprocessor__numeric__degree': 3, 'preprocessor__numeric__interaction_only': False}\n",
      "[[562  39 159]\n",
      " [ 45 175 121]\n",
      " [133  53 393]] \n",
      "\n",
      "              precision    recall  f1-score   support\n",
      "\n",
      "           0       0.83      0.82      0.82      3036\n",
      "           1       0.78      0.68      0.73      1365\n",
      "           2       0.70      0.76      0.73      2317\n",
      "\n",
      "    accuracy                           0.77      6718\n",
      "   macro avg       0.77      0.75      0.76      6718\n",
      "weighted avg       0.77      0.77      0.77      6718\n",
      " \n",
      "\n",
      "              precision    recall  f1-score   support\n",
      "\n",
      "           0       0.76      0.74      0.75       760\n",
      "           1       0.66      0.51      0.58       341\n",
      "           2       0.58      0.68      0.63       579\n",
      "\n",
      "    accuracy                           0.67      1680\n",
      "   macro avg       0.67      0.64      0.65      1680\n",
      "weighted avg       0.68      0.67      0.67      1680\n",
      "\n"
     ]
    }
   ],
   "source": [
    "from sklearn.pipeline import Pipeline\n",
    "from sklearn.compose import ColumnTransformer\n",
    "from sklearn.preprocessing import OneHotEncoder\n",
    "from sklearn.preprocessing import PolynomialFeatures\n",
    "from imblearn.pipeline import Pipeline as ImbPipeline\n",
    "from sklearn.metrics import confusion_matrix, classification_report\n",
    "from imblearn.over_sampling import SMOTE \n",
    "\n",
    "preprocessor = ColumnTransformer([\n",
    "    ('numeric', PolynomialFeatures(degree=2), [\"kelembaban_min\", \"kelembaban_max\", \"suhu_min\", \"suhu_max\"]),\n",
    "    ('categoric', OneHotEncoder(), [\"wilayah\", \"waktu\"]),\n",
    "])\n",
    "\n",
    "from sklearn.ensemble import RandomForestClassifier\n",
    "pipeline = ImbPipeline([\n",
    "    ('preprocessor', preprocessor),\n",
    "    ('imbalance', SMOTE(random_state=42)),\n",
    "    ('algo', RandomForestClassifier(n_jobs=-1, random_state=42))\n",
    "])\n",
    "\n",
    "from sklearn.model_selection import RandomizedSearchCV\n",
    "\n",
    "model = RandomizedSearchCV(pipeline, parameter, cv=3, n_iter=100, n_jobs=-1, verbose=1, random_state=42)\n",
    "model.fit(X_train, y_train)\n",
    "\n",
    "print(model.best_params_)\n",
    "\n",
    "y_pred = model.predict(X_test)\n",
    "y_pred_train = model.predict(X_train)\n",
    "\n",
    "print(confusion_matrix(y_test, y_pred), \"\\n\")\n",
    "print(classification_report(y_train, y_pred_train), \"\\n\")\n",
    "print(classification_report(y_test, y_pred))"
   ]
  },
  {
   "cell_type": "code",
<<<<<<< HEAD:Project/Final.ipynb
   "execution_count": 64,
   "metadata": {},
   "outputs": [
    {
     "data": {
      "image/png": "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",
      "text/plain": [
       "<Figure size 1080x360 with 1 Axes>"
      ]
     },
     "metadata": {
      "needs_background": "light"
     },
     "output_type": "display_data"
    }
   ],
   "source": [
    "df_imp = mean_score_decrease(X_train, y_train, model, plot=True, topk=10)"
   ]
=======
   "execution_count": 1,
   "metadata": {},
   "outputs": [
    {
     "name": "stdout",
     "output_type": "stream",
     "text": [
      "0\n",
      "1\n",
      "2\n",
      "3\n"
     ]
    }
   ],
   "source": [
    "x = '1234'\n",
    "\n",
    "for i in range(len(x)):\n",
    "  print(i)\n"
   ]
  },
  {
   "cell_type": "code",
   "execution_count": null,
   "metadata": {},
   "outputs": [],
   "source": []
>>>>>>> e0be2f370e5cd868dfe435a5f8e8684fcb2e7325:Jakarta/Final.ipynb
  }
 ],
 "metadata": {
  "kernelspec": {
   "display_name": "Python 3.10.1 64-bit",
   "language": "python",
   "name": "python3"
  },
  "language_info": {
   "codemirror_mode": {
    "name": "ipython",
    "version": 3
   },
   "file_extension": ".py",
   "mimetype": "text/x-python",
   "name": "python",
   "nbconvert_exporter": "python",
   "pygments_lexer": "ipython3",
<<<<<<< HEAD:Project/Final.ipynb
   "version": "3.9.1"
=======
   "version": "3.10.1"
>>>>>>> e0be2f370e5cd868dfe435a5f8e8684fcb2e7325:Jakarta/Final.ipynb
  },
  "orig_nbformat": 4,
  "vscode": {
   "interpreter": {
    "hash": "8c7b6d6b8795746797002317ff44b439eafbd00de021c7e54e85ffe1424cd03a"
   }
  }
 },
 "nbformat": 4,
 "nbformat_minor": 2
}
