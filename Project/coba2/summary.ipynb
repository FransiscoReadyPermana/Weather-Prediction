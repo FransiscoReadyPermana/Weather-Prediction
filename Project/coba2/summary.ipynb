{
 "cells": [
  {
   "cell_type": "markdown",
   "metadata": {},
   "source": [
    "# Summary\n",
    "### here is the summary from what i already made in Final.ipynb <br>\n",
    "### i want to compare which algoritm is better betwen XGB and RF"
   ]
  },
  {
   "cell_type": "markdown",
   "metadata": {},
   "source": [
    "##### i tried several ways to make a best model and here are the result:"
   ]
  },
  {
   "cell_type": "markdown",
   "metadata": {},
   "source": [
    "## here is the result XGB\n",
    "\n",
    "normal XGB\n",
    "<img src=\"https://cdn.discordapp.com/attachments/969207152679993414/978890846298583111/unknown.png\">"
   ]
  },
  {
   "cell_type": "markdown",
   "metadata": {},
   "source": [
    "XGB with pca\n",
    "<img src=\"https://cdn.discordapp.com/attachments/969207152679993414/978891059365036042/unknown.png\">"
   ]
  },
  {
   "cell_type": "markdown",
   "metadata": {},
   "source": [
    "XGB with pipeline and column transformer\n",
    "<img src=\"https://cdn.discordapp.com/attachments/969207152679993414/978891282644606986/unknown.png\">"
   ]
  },
  {
   "cell_type": "markdown",
   "metadata": {},
   "source": [
    "# here is the result RF <br>"
   ]
  },
  {
   "cell_type": "markdown",
   "metadata": {},
   "source": [
    "normal RF\n",
    "\n",
    "<img src=\"https://cdn.discordapp.com/attachments/969207152679993414/978890949323288626/unknown.png\">"
   ]
  },
  {
   "cell_type": "markdown",
   "metadata": {},
   "source": [
    "RF with pca\n",
    "\n",
    "<img src=\"https://cdn.discordapp.com/attachments/969207152679993414/978891132387880970/unknown.png\">"
   ]
  },
  {
   "cell_type": "markdown",
   "metadata": {},
   "source": [
    "rf with pipeline and column tranformer\n",
    "\n",
    "<img src=\"https://cdn.discordapp.com/attachments/969207152679993414/978893464995504218/unknown.png\">"
   ]
  },
  {
   "cell_type": "markdown",
   "metadata": {},
   "source": [
    "based on what im already tried, the normal one has a best score. <br> that is 0.70 testing xgb and 0.83 for training xgb. 0.68 for testing RF and 0.83 traning."
   ]
  },
  {
   "cell_type": "markdown",
   "metadata": {},
   "source": [
    "i think is good but its a little overfit"
   ]
  },
  {
   "cell_type": "markdown",
   "metadata": {},
   "source": [
    "the pipeline method has a lower score but lower overfit. <br> the score is  0.68 for testing xgb and 0.78 training xgb. 0.68 for testing RF and 0.76 for training. "
   ]
  },
  {
   "cell_type": "markdown",
   "metadata": {},
   "source": [
    "based on the score XGB is better that RF but XGB need more time to training the data than RF"
   ]
  },
  {
   "cell_type": "markdown",
   "metadata": {},
   "source": [
    "### so the conclusion is both algorithm are good for this data. but RF i think RF is better because time training is much more faster than XGB even though the score is lower than XGB"
   ]
  }
 ],
 "metadata": {
  "language_info": {
   "name": "python"
  },
  "orig_nbformat": 4
 },
 "nbformat": 4,
 "nbformat_minor": 2
}
